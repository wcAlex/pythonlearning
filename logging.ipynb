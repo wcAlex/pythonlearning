{
 "cells": [
  {
   "cell_type": "markdown",
   "metadata": {
    "slideshow": {
     "slide_type": "slide"
    }
   },
   "source": [
    "# Logging"
   ]
  },
  {
   "cell_type": "markdown",
   "metadata": {
    "slideshow": {
     "slide_type": "subslide"
    }
   },
   "source": [
    "# Logging\n",
    "* Logging is a means of tracking events that happen when some software runs\n",
    "* We add logging calls to our code to indicate that certain events have occurred\n",
    "* Events have an importance which we, the developer, ascribe to the event; the importance can also be called the level or severity\n",
    "* There are set of convenience functions for simple logging usage: debug(), info(), warning(), error(), and critical()\n",
    "* When should we use logging? When we do use logging, which states should we use?\n",
    "* Python provides a standard and configurable logging facility. You can set up the collection\n",
    "of loggers &amp; handlers separately from their actual *use* in your program"
   ]
  },
  {
   "cell_type": "markdown",
   "metadata": {
    "slideshow": {
     "slide_type": "subslide"
    }
   },
   "source": [
    "![alt-text](data/img/loggingLevels.png \"Logging Levels\")"
   ]
  },
  {
   "cell_type": "code",
   "execution_count": 1,
   "metadata": {},
   "outputs": [],
   "source": [
    "import logging"
   ]
  },
  {
   "cell_type": "code",
   "execution_count": 2,
   "metadata": {},
   "outputs": [
    {
     "data": {
      "text/plain": [
       "50"
      ]
     },
     "execution_count": 2,
     "metadata": {},
     "output_type": "execute_result"
    }
   ],
   "source": [
    "logging.CRITICAL"
   ]
  },
  {
   "cell_type": "code",
   "execution_count": 3,
   "metadata": {},
   "outputs": [
    {
     "data": {
      "text/plain": [
       "10"
      ]
     },
     "execution_count": 3,
     "metadata": {},
     "output_type": "execute_result"
    }
   ],
   "source": [
    "logging.DEBUG"
   ]
  },
  {
   "cell_type": "code",
   "execution_count": 9,
   "metadata": {
    "slideshow": {
     "slide_type": "subslide"
    }
   },
   "outputs": [
    {
     "name": "stderr",
     "output_type": "stream",
     "text": [
      "WARNING:root:Watch out!\n",
      "ERROR:root:Watch out!\n",
      "CRITICAL:root:Watch out!\n",
      "CRITICAL:root:Watch out (2)!\n",
      "CRITICAL:root:Another error\n"
     ]
    }
   ],
   "source": [
    "import logging\n",
    "\n",
    "logging.warning('Watch out!')\n",
    "logging.error('Watch out!')\n",
    "logging.fatal('Watch out!')\n",
    "logging.critical('Watch out (2)!')\n",
    "logging.info('not important')\n",
    "logging.debug('debugme')\n",
    "logging.log(logging.CRITICAL, 'Another error')"
   ]
  },
  {
   "cell_type": "code",
   "execution_count": 10,
   "metadata": {},
   "outputs": [
    {
     "name": "stderr",
     "output_type": "stream",
     "text": [
      "WARNING:__main__:Watch out!\n"
     ]
    }
   ],
   "source": [
    "import logging\n",
    "log = logging.getLogger(__name__)\n",
    "log.warning('Watch out!')"
   ]
  },
  {
   "cell_type": "code",
   "execution_count": 11,
   "metadata": {},
   "outputs": [
    {
     "name": "stderr",
     "output_type": "stream",
     "text": [
      "WARNING:my.package.and.module:Another messasge\n"
     ]
    }
   ],
   "source": [
    "log2 = logging.getLogger('my.package.and.module')\n",
    "log2.warning('Another messasge')"
   ]
  },
  {
   "cell_type": "code",
   "execution_count": 12,
   "metadata": {},
   "outputs": [],
   "source": [
    "import os"
   ]
  },
  {
   "cell_type": "code",
   "execution_count": 13,
   "metadata": {
    "slideshow": {
     "slide_type": "subslide"
    }
   },
   "outputs": [],
   "source": [
    "#import logging\n",
    "from importlib import reload\n",
    "\n",
    "reload(logging)\n",
    "logging.basicConfig(filename='example.log',\n",
    "                    filemode='w',\n",
    "                    level=logging.DEBUG)\n",
    "\n",
    "log = logging.getLogger(os.getlogin())      # rick446 => root\n",
    "log1 = logging.getLogger('example.detail')  # example.detail => example => root\n",
    "\n",
    "log1.debug('This message should go to the log file')\n",
    "log.info('So should this')\n",
    "log.warning('And this, too')"
   ]
  },
  {
   "cell_type": "code",
   "execution_count": 14,
   "metadata": {
    "slideshow": {
     "slide_type": "subslide"
    }
   },
   "outputs": [
    {
     "name": "stdout",
     "output_type": "stream",
     "text": [
      "DEBUG:example.detail:This message should go to the log file\n",
      "INFO:rick446:So should this\n",
      "WARNING:rick446:And this, too\n"
     ]
    }
   ],
   "source": [
    "with open('example.log', 'r') as f:\n",
    "    for line in f:\n",
    "        print(line, end='')"
   ]
  },
  {
   "cell_type": "code",
   "execution_count": 16,
   "metadata": {},
   "outputs": [
    {
     "name": "stdout",
     "output_type": "stream",
     "text": [
      "DEBUG:example.detail:This message should go to the log file\r\n",
      "INFO:rick446:So should this\r\n",
      "WARNING:rick446:And this, too\r\n"
     ]
    }
   ],
   "source": [
    "!cat example.log"
   ]
  },
  {
   "cell_type": "code",
   "execution_count": 17,
   "metadata": {},
   "outputs": [
    {
     "data": {
      "text/plain": [
       "{50: 'CRITICAL',\n",
       " 40: 'ERROR',\n",
       " 30: 'WARNING',\n",
       " 20: 'INFO',\n",
       " 10: 'DEBUG',\n",
       " 0: 'NOTSET'}"
      ]
     },
     "execution_count": 17,
     "metadata": {},
     "output_type": "execute_result"
    }
   ],
   "source": [
    "logging._levelToName"
   ]
  },
  {
   "cell_type": "code",
   "execution_count": 18,
   "metadata": {},
   "outputs": [],
   "source": [
    "# same example but with more detailed logging configuration\n",
    "# ...instead of basicConfig\n",
    "#import logging\n",
    "# from importlib import reload\n",
    "#reload(logging)\n",
    "logger = logging.getLogger()  # root logger\n",
    "fhandler = logging.FileHandler(filename='example2.log', mode='w')\n",
    "shandler = logging.StreamHandler()\n",
    "formatter = logging.Formatter('%(asctime)s - %(name)s:%(levelname)s - %(message)s')\n",
    "fhandler.setFormatter(formatter)\n",
    "logger.addHandler(fhandler)\n",
    "logger.addHandler(shandler)\n",
    "logger.setLevel(logging.DEBUG)"
   ]
  },
  {
   "cell_type": "code",
   "execution_count": 19,
   "metadata": {},
   "outputs": [
    {
     "name": "stderr",
     "output_type": "stream",
     "text": [
      "This message should go to the log file\n",
      "So should this\n",
      "And this, too\n"
     ]
    }
   ],
   "source": [
    "logging.debug('This message should go to the log file')\n",
    "logging.info('So should this')\n",
    "logging.warning('And this, too')"
   ]
  },
  {
   "cell_type": "code",
   "execution_count": 20,
   "metadata": {},
   "outputs": [
    {
     "name": "stdout",
     "output_type": "stream",
     "text": [
      "2020-06-10 13:14:58,250 - root:DEBUG - This message should go to the log file\n",
      "2020-06-10 13:14:58,251 - root:INFO - So should this\n",
      "2020-06-10 13:14:58,253 - root:WARNING - And this, too\n"
     ]
    }
   ],
   "source": [
    "with open('example2.log', 'r') as f:\n",
    "    for line in f:\n",
    "        print(line, end='')"
   ]
  },
  {
   "cell_type": "code",
   "execution_count": 21,
   "metadata": {},
   "outputs": [
    {
     "name": "stdout",
     "output_type": "stream",
     "text": [
      "Overwriting data/logging-examples/logargv.py\n"
     ]
    }
   ],
   "source": [
    "%%file data/logging-examples/logargv.py\n",
    "import logging\n",
    "import sys\n",
    "\n",
    "\n",
    "if len(sys.argv) > 1:\n",
    "    level_name = sys.argv[1]\n",
    "    level = getattr(logging, level_name.upper(), logging.NOTSET)\n",
    "    logging.basicConfig(level=level)\n",
    "\n",
    "logging.debug('This is a debug message')\n",
    "logging.info('This is an info message')\n",
    "logging.warning('This is a warning message')\n",
    "logging.error('This is an error message')\n",
    "logging.critical('This is a critical error message')"
   ]
  },
  {
   "cell_type": "code",
   "execution_count": 22,
   "metadata": {},
   "outputs": [
    {
     "name": "stdout",
     "output_type": "stream",
     "text": [
      "DEBUG:root:This is a debug message\r\n",
      "INFO:root:This is an info message\r\n",
      "WARNING:root:This is a warning message\r\n",
      "ERROR:root:This is an error message\r\n",
      "CRITICAL:root:This is a critical error message\r\n"
     ]
    }
   ],
   "source": [
    "!python data/logging-examples/logargv.py DEBUG"
   ]
  },
  {
   "cell_type": "code",
   "execution_count": 23,
   "metadata": {},
   "outputs": [
    {
     "name": "stdout",
     "output_type": "stream",
     "text": [
      "CRITICAL:root:This is a critical error message\r\n"
     ]
    }
   ],
   "source": [
    "!python data/logging-examples/logargv.py FATAL"
   ]
  },
  {
   "cell_type": "code",
   "execution_count": 24,
   "metadata": {
    "slideshow": {
     "slide_type": "subslide"
    }
   },
   "outputs": [
    {
     "name": "stderr",
     "output_type": "stream",
     "text": [
      "WARNING:module1:This message comes from one module\n",
      "WARNING:module2:And this message comes from another module\n"
     ]
    }
   ],
   "source": [
    "from importlib import reload\n",
    "import logging\n",
    "logging = reload(logging)\n",
    "\n",
    "logging.basicConfig(level=logging.WARNING)\n",
    "\n",
    "logger1 = logging.getLogger('module1')\n",
    "logger2 = logging.getLogger('module2')\n",
    "\n",
    "logger1.warning('This message comes from one module')\n",
    "logger2.warning('And this message comes from another module')"
   ]
  },
  {
   "cell_type": "code",
   "execution_count": 25,
   "metadata": {
    "slideshow": {
     "slide_type": "subslide"
    }
   },
   "outputs": [],
   "source": [
    "logger2.setLevel(logging.CRITICAL)\n",
    "logger2.warning('We will not see this...')"
   ]
  },
  {
   "cell_type": "code",
   "execution_count": 26,
   "metadata": {
    "scrolled": true
   },
   "outputs": [
    {
     "name": "stderr",
     "output_type": "stream",
     "text": [
      "WARNING:module1:This is 'foo' formatting in 0x7F\n"
     ]
    }
   ],
   "source": [
    "logger1.warning('This is %r formatting in 0x%X', 'foo', 127)"
   ]
  },
  {
   "cell_type": "code",
   "execution_count": 27,
   "metadata": {},
   "outputs": [],
   "source": [
    "logger1.addHandler(logging.StreamHandler())"
   ]
  },
  {
   "cell_type": "code",
   "execution_count": 28,
   "metadata": {},
   "outputs": [
    {
     "name": "stderr",
     "output_type": "stream",
     "text": [
      "Duplicated!\n",
      "WARNING:module1:Duplicated!\n"
     ]
    }
   ],
   "source": [
    "logger1.warning('Duplicated!')"
   ]
  },
  {
   "cell_type": "code",
   "execution_count": 29,
   "metadata": {},
   "outputs": [],
   "source": [
    "logger1.propagate = False"
   ]
  },
  {
   "cell_type": "code",
   "execution_count": 31,
   "metadata": {},
   "outputs": [
    {
     "name": "stderr",
     "output_type": "stream",
     "text": [
      "(not) Duplicated!\n"
     ]
    }
   ],
   "source": [
    "logger1.warning('(not) Duplicated!')"
   ]
  },
  {
   "cell_type": "markdown",
   "metadata": {},
   "source": [
    "Example logging config YAML file\n",
    "\n",
    "```yaml\n",
    "version: 1\n",
    "disable_existing_loggers: False\n",
    "root:\n",
    "  level: DEBUG\n",
    "  handlers: [stream]\n",
    "loggers:\n",
    "  eht.app:\n",
    "    propagate: true\n",
    "  mwatch:\n",
    "    level: WARN\n",
    "  eht.push:\n",
    "    level: INFO\n",
    "  eventlet.wsgi:\n",
    "    level: INFO\n",
    "  EngineIO:\n",
    "    level: WARN\n",
    "  PIL:\n",
    "    level: WARN\n",
    "handlers:\n",
    "  stream:\n",
    "    class: logging.StreamHandler\n",
    "    formatter: default\n",
    "formatters:\n",
    "  default:\n",
    "    format: '%(asctime)s %(levelname)s: %(name)s: %(message)s'\n",
    "    datefmt: '%Y-%m-%d,%H:%M:%S'\n",
    "\n",
    "\n",
    "```"
   ]
  },
  {
   "cell_type": "markdown",
   "metadata": {},
   "source": [
    "Formatter available attributes: https://docs.python.org/3/library/logging.html#logrecord-attributes"
   ]
  },
  {
   "cell_type": "code",
   "execution_count": null,
   "metadata": {},
   "outputs": [],
   "source": []
  },
  {
   "cell_type": "code",
   "execution_count": 32,
   "metadata": {},
   "outputs": [],
   "source": [
    "logconfig = '''\n",
    "version: 1\n",
    "disable_existing_loggers: False\n",
    "root:\n",
    "  level: DEBUG\n",
    "  handlers: [stream]\n",
    "loggers:\n",
    "  eht.app:\n",
    "    propagate: true\n",
    "  mwatch:\n",
    "    level: WARN\n",
    "  eht.push:\n",
    "    level: INFO\n",
    "  eventlet.wsgi:\n",
    "    level: INFO\n",
    "  EngineIO:\n",
    "    level: WARN\n",
    "  PIL:\n",
    "    level: WARN\n",
    "handlers:\n",
    "  stream:\n",
    "    class: logging.StreamHandler\n",
    "    formatter: default\n",
    "formatters:\n",
    "  default:\n",
    "    format: '%(asctime)s %(levelname)s: %(name)s: %(message)s'\n",
    "    datefmt: '%Y-%m-%d,%H:%M:%S'\n",
    "'''"
   ]
  },
  {
   "cell_type": "code",
   "execution_count": 33,
   "metadata": {},
   "outputs": [
    {
     "name": "stdout",
     "output_type": "stream",
     "text": [
      "Looking in links: /Users/rick446/src/wheelhouse\n",
      "Requirement already satisfied: pyyaml in /Users/rick446/.virtualenvs/py37/lib/python3.7/site-packages (5.1.1)\n",
      "\u001b[33mYou are using pip version 19.0.3, however version 20.2b1 is available.\n",
      "You should consider upgrading via the 'pip install --upgrade pip' command.\u001b[0m\n"
     ]
    }
   ],
   "source": [
    "!pip3 install pyyaml"
   ]
  },
  {
   "cell_type": "code",
   "execution_count": 34,
   "metadata": {},
   "outputs": [],
   "source": [
    "import yaml"
   ]
  },
  {
   "cell_type": "code",
   "execution_count": 35,
   "metadata": {},
   "outputs": [],
   "source": [
    "import logging.config"
   ]
  },
  {
   "cell_type": "code",
   "execution_count": 36,
   "metadata": {},
   "outputs": [
    {
     "data": {
      "text/plain": [
       "{'version': 1,\n",
       " 'disable_existing_loggers': False,\n",
       " 'root': {'level': 'DEBUG', 'handlers': ['stream']},\n",
       " 'loggers': {'eht.app': {'propagate': True},\n",
       "  'mwatch': {'level': 'WARN'},\n",
       "  'eht.push': {'level': 'INFO'},\n",
       "  'eventlet.wsgi': {'level': 'INFO'},\n",
       "  'EngineIO': {'level': 'WARN'},\n",
       "  'PIL': {'level': 'WARN'}},\n",
       " 'handlers': {'stream': {'class': 'logging.StreamHandler',\n",
       "   'formatter': 'default'}},\n",
       " 'formatters': {'default': {'format': '%(asctime)s %(levelname)s: %(name)s: %(message)s',\n",
       "   'datefmt': '%Y-%m-%d,%H:%M:%S'}}}"
      ]
     },
     "execution_count": 36,
     "metadata": {},
     "output_type": "execute_result"
    }
   ],
   "source": [
    "yaml.safe_load(logconfig)"
   ]
  },
  {
   "cell_type": "code",
   "execution_count": 37,
   "metadata": {},
   "outputs": [],
   "source": [
    "logging.config.dictConfig(yaml.safe_load(logconfig))"
   ]
  },
  {
   "cell_type": "code",
   "execution_count": null,
   "metadata": {},
   "outputs": [],
   "source": [
    "logging.handlers."
   ]
  },
  {
   "cell_type": "code",
   "execution_count": null,
   "metadata": {},
   "outputs": [],
   "source": [
    "# There is also logging.config.fileConfig, which uses an .ini syntax"
   ]
  },
  {
   "cell_type": "markdown",
   "metadata": {},
   "source": [
    "# Lab\n",
    "\n",
    "Open [Logging lab][logging-lab]\n",
    "\n",
    "[logging-lab]: ./logging-lab.ipynb"
   ]
  }
 ],
 "metadata": {
  "kernelspec": {
   "display_name": "Python 3",
   "language": "python",
   "name": "python3"
  },
  "language_info": {
   "codemirror_mode": {
    "name": "ipython",
    "version": 3
   },
   "file_extension": ".py",
   "mimetype": "text/x-python",
   "name": "python",
   "nbconvert_exporter": "python",
   "pygments_lexer": "ipython3",
   "version": "3.7.6"
  }
 },
 "nbformat": 4,
 "nbformat_minor": 1
}
