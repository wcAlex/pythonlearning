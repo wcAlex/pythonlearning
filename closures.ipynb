{
 "cells": [
  {
   "cell_type": "markdown",
   "metadata": {
    "slideshow": {
     "slide_type": "slide"
    }
   },
   "source": [
    "# Functional Closures and Decorators\n",
    "\n",
    "Sometimes we may have \"cross-cutting\" concerns: functionality which is not related to the \"core\" functionality of a function:\n",
    "\n",
    "- logging\n",
    "- authentication\n",
    "- locking\n",
    "- entry of the function into a global registry\n",
    "\n",
    "Python has a syntax that uses two features of the language (scoping and first-class functions) to enable such operations to be separated from the core function.\n",
    "\n",
    "First, though, let's see if you can guess what the following code prints:"
   ]
  },
  {
   "cell_type": "code",
   "execution_count": null,
   "metadata": {},
   "outputs": [],
   "source": [
    "a = 5\n",
    "b = 12\n",
    "def foo():\n",
    "    a = 10\n",
    "    b = 15\n",
    "    print(f'1 => a={a}, b={b}')  # '1 => a={}, b={}'.format(a, b)   Py 3.5+\n",
    "    def bar():\n",
    "        a = 20\n",
    "        print(f'2 => a={a}, b={b}')\n",
    "    bar()\n",
    "    print(f'3 => a={a}, b={b}')\n",
    "foo()\n",
    "print(f'4 => a={a}')\n",
    "print(f'5 => b={b}')"
   ]
  },
  {
   "cell_type": "markdown",
   "metadata": {
    "slideshow": {
     "slide_type": "subslide"
    }
   },
   "source": [
    "##  LEGB\n",
    "* In order to understand closures, let's review the Python scoping rules: LEGB\n",
    "  * L = local\n",
    "  * E = enclosing (i.e. `nonlocal`)\n",
    "  * G = global (i.e. `global`)\n",
    "  * B = builtin (e.g., len() function)\n",
    "  \n",
    "```python\n",
    "a = 'global scope'\n",
    "\n",
    "def outer_func():\n",
    "    b = 'local to outer_func()'\n",
    "    def inner_func():\n",
    "        c = 'local to inner_func()'\n",
    "        print(b, 'enclosing/nonlocal scope')\n",
    "        print(a, 'global scope')\n",
    "```\n",
    "                \n",
    "* When a function references a name that is not local, Python first attempts to resolve that name in the enclosing scope\n",
    "* A *closure* is a nested function which \"remembers\" a value or values from the enclosing lexical scope even when the program flow is no longer in the enclosing scope"
   ]
  },
  {
   "cell_type": "markdown",
   "metadata": {},
   "source": [
    "# Closures"
   ]
  },
  {
   "cell_type": "code",
   "execution_count": 1,
   "metadata": {
    "slideshow": {
     "slide_type": "subslide"
    }
   },
   "outputs": [],
   "source": [
    "def make_adder(x):\n",
    "    \n",
    "    def adder(y):\n",
    "        return x + y # Python uses LEGB to find 'x'\n",
    "    \n",
    "    return adder"
   ]
  },
  {
   "cell_type": "code",
   "execution_count": 2,
   "metadata": {
    "slideshow": {
     "slide_type": "subslide"
    }
   },
   "outputs": [
    {
     "data": {
      "text/plain": [
       "<function __main__.make_adder.<locals>.adder(y)>"
      ]
     },
     "execution_count": 2,
     "metadata": {},
     "output_type": "execute_result"
    }
   ],
   "source": [
    "add39 = make_adder(x=39)\n",
    "add39"
   ]
  },
  {
   "cell_type": "code",
   "execution_count": 3,
   "metadata": {},
   "outputs": [
    {
     "data": {
      "text/plain": [
       "49"
      ]
     },
     "execution_count": 3,
     "metadata": {},
     "output_type": "execute_result"
    }
   ],
   "source": [
    "add39(10)"
   ]
  },
  {
   "cell_type": "code",
   "execution_count": 4,
   "metadata": {},
   "outputs": [
    {
     "data": {
      "text/plain": [
       "22"
      ]
     },
     "execution_count": 4,
     "metadata": {},
     "output_type": "execute_result"
    }
   ],
   "source": [
    "add12 = make_adder(12)\n",
    "add12(10)"
   ]
  },
  {
   "cell_type": "code",
   "execution_count": 5,
   "metadata": {},
   "outputs": [
    {
     "data": {
      "text/plain": [
       "49"
      ]
     },
     "execution_count": 5,
     "metadata": {},
     "output_type": "execute_result"
    }
   ],
   "source": [
    "add39(10)"
   ]
  },
  {
   "cell_type": "code",
   "execution_count": 6,
   "metadata": {},
   "outputs": [],
   "source": [
    "cell = add39.__closure__[0]"
   ]
  },
  {
   "cell_type": "code",
   "execution_count": 7,
   "metadata": {
    "scrolled": true
   },
   "outputs": [
    {
     "data": {
      "text/plain": [
       "39"
      ]
     },
     "execution_count": 7,
     "metadata": {},
     "output_type": "execute_result"
    }
   ],
   "source": [
    "cell.cell_contents"
   ]
  },
  {
   "cell_type": "code",
   "execution_count": 8,
   "metadata": {},
   "outputs": [
    {
     "data": {
      "text/plain": [
       "49"
      ]
     },
     "execution_count": 8,
     "metadata": {},
     "output_type": "execute_result"
    }
   ],
   "source": [
    "x = make_adder(39)\n",
    "x(10)"
   ]
  },
  {
   "cell_type": "code",
   "execution_count": 9,
   "metadata": {},
   "outputs": [
    {
     "data": {
      "text/plain": [
       "49"
      ]
     },
     "execution_count": 9,
     "metadata": {},
     "output_type": "execute_result"
    }
   ],
   "source": [
    "make_adder(39)(10)  # like add(39, 10)    "
   ]
  },
  {
   "cell_type": "code",
   "execution_count": 10,
   "metadata": {},
   "outputs": [],
   "source": [
    "add6 = make_adder(6)"
   ]
  },
  {
   "cell_type": "code",
   "execution_count": 11,
   "metadata": {},
   "outputs": [
    {
     "name": "stdout",
     "output_type": "stream",
     "text": [
      "16 49\n"
     ]
    }
   ],
   "source": [
    "print(add6(10), add39(10))"
   ]
  },
  {
   "cell_type": "code",
   "execution_count": 12,
   "metadata": {},
   "outputs": [
    {
     "data": {
      "text/plain": [
       "'<function make_adder.<locals>.adder at 0x10c9d3940>'"
      ]
     },
     "execution_count": 12,
     "metadata": {},
     "output_type": "execute_result"
    }
   ],
   "source": [
    "# let's use repr so we can see the address of the function\n",
    "# we could use print(\"%X\") as well...\n",
    "#type(add39)\n",
    "repr(add39)"
   ]
  },
  {
   "cell_type": "code",
   "execution_count": 13,
   "metadata": {},
   "outputs": [
    {
     "data": {
      "text/plain": [
       "'<function make_adder.<locals>.adder at 0x10c9fc280>'"
      ]
     },
     "execution_count": 13,
     "metadata": {},
     "output_type": "execute_result"
    }
   ],
   "source": [
    "repr(add6)"
   ]
  },
  {
   "cell_type": "markdown",
   "metadata": {
    "collapsed": true,
    "slideshow": {
     "slide_type": "subslide"
    }
   },
   "source": [
    "* One case where closures are frequently used is in building function wrappers\n",
    "* Suppose we want to log each invocation of a function:"
   ]
  },
  {
   "cell_type": "code",
   "execution_count": 14,
   "metadata": {
    "slideshow": {
     "slide_type": "-"
    }
   },
   "outputs": [],
   "source": [
    "def logging(function):\n",
    "    print('Wrapping {}'.format(function))\n",
    "    def wrapper(*args, **kwargs):\n",
    "        print('Calling %r(%r, %r)' % (function, args, kwargs))\n",
    "        return function(*args, **kwargs)\n",
    "    return wrapper"
   ]
  },
  {
   "cell_type": "code",
   "execution_count": 15,
   "metadata": {
    "slideshow": {
     "slide_type": "-"
    }
   },
   "outputs": [
    {
     "name": "stdout",
     "output_type": "stream",
     "text": [
      "Wrapping <function myprinter at 0x10c9fc310>\n"
     ]
    }
   ],
   "source": [
    "def myprinter(x):\n",
    "    print('The value of x is', x)\n",
    "\n",
    "logging_myprinter = logging(myprinter)"
   ]
  },
  {
   "cell_type": "code",
   "execution_count": 16,
   "metadata": {},
   "outputs": [
    {
     "name": "stdout",
     "output_type": "stream",
     "text": [
      "The value of x is 42\n"
     ]
    }
   ],
   "source": [
    "myprinter(42)"
   ]
  },
  {
   "cell_type": "code",
   "execution_count": 17,
   "metadata": {},
   "outputs": [
    {
     "name": "stdout",
     "output_type": "stream",
     "text": [
      "Calling <function myprinter at 0x10c9fc310>((42,), {})\n",
      "The value of x is 42\n"
     ]
    }
   ],
   "source": [
    "logging_myprinter(42)"
   ]
  },
  {
   "cell_type": "code",
   "execution_count": 18,
   "metadata": {
    "slideshow": {
     "slide_type": "-"
    }
   },
   "outputs": [
    {
     "data": {
      "text/plain": [
       "<function __main__.logging.<locals>.wrapper(*args, **kwargs)>"
      ]
     },
     "execution_count": 18,
     "metadata": {},
     "output_type": "execute_result"
    }
   ],
   "source": [
    "logging_myprinter"
   ]
  },
  {
   "cell_type": "code",
   "execution_count": 19,
   "metadata": {},
   "outputs": [
    {
     "name": "stdout",
     "output_type": "stream",
     "text": [
      "Calling <function myprinter at 0x10c9fc310>((5,), {})\n",
      "The value of x is 5\n"
     ]
    }
   ],
   "source": [
    "logging_myprinter(5)"
   ]
  },
  {
   "cell_type": "code",
   "execution_count": 20,
   "metadata": {
    "slideshow": {
     "slide_type": "subslide"
    }
   },
   "outputs": [
    {
     "data": {
      "text/plain": [
       "<function __main__.myprinter(x)>"
      ]
     },
     "execution_count": 20,
     "metadata": {},
     "output_type": "execute_result"
    }
   ],
   "source": [
    "logging_myprinter.__closure__[0].cell_contents"
   ]
  },
  {
   "cell_type": "code",
   "execution_count": 21,
   "metadata": {},
   "outputs": [
    {
     "name": "stdout",
     "output_type": "stream",
     "text": [
      "Wrapping <function myprinter at 0x10c9fc310>\n"
     ]
    }
   ],
   "source": [
    "myprinter = logging(myprinter)"
   ]
  },
  {
   "cell_type": "code",
   "execution_count": 22,
   "metadata": {},
   "outputs": [
    {
     "name": "stdout",
     "output_type": "stream",
     "text": [
      "Calling <function myprinter at 0x10c9fc310>((5,), {})\n",
      "The value of x is 5\n"
     ]
    }
   ],
   "source": [
    "myprinter(5)"
   ]
  },
  {
   "cell_type": "code",
   "execution_count": 23,
   "metadata": {},
   "outputs": [
    {
     "name": "stdout",
     "output_type": "stream",
     "text": [
      "Calling <function myprinter at 0x10c9fc310>((22,), {})\n",
      "The value of x is 22\n"
     ]
    }
   ],
   "source": [
    "myprinter(22)"
   ]
  },
  {
   "cell_type": "markdown",
   "metadata": {
    "slideshow": {
     "slide_type": "subslide"
    }
   },
   "source": [
    "## Decorators\n",
    "* Wrapper functions are so common, that Python has its own term for it–a *decorator*.\n",
    "* Why might you want to use a decorator?\n",
    "  * sometimes you want to modify a function’s behavior without explicitly modifying the function, e.g., pre/post actions, debugging, etc. \n",
    "  * suppose we have a set of tasks that need to be performed by many different functions, e.g.,\n",
    "   * access control\n",
    "   * cleanup\n",
    "   * error handling\n",
    "   * logging\n",
    " * ...in other words, there is some boilerplate code that needs to be executed before or after  every invocation of the function\n"
   ]
  },
  {
   "cell_type": "markdown",
   "metadata": {
    "slideshow": {
     "slide_type": "subslide"
    }
   },
   "source": [
    "## Decorators build on topics we already know...\n",
    "* nested functions\n",
    "* variable positional args (`*args`)\n",
    "* variable keyword args (`**kwargs`)\n",
    "* functions are objects (actually everything in Python is an object)"
   ]
  },
  {
   "cell_type": "code",
   "execution_count": 24,
   "metadata": {},
   "outputs": [],
   "source": [
    "def document_it(func):\n",
    "    # below is a nested, or inner function\n",
    "    def wrapper(*args, **kwargs):\n",
    "        print('Running function: {}'.format(func.__name__))\n",
    "        print('Positional arguments: {}'.format(args))\n",
    "        print('Keyword arguments: {}'.format(kwargs))\n",
    "        # here we invoke the function passed in as an argument\n",
    "        result = func(*args, **kwargs)\n",
    "        print('Result: {}'.format(result))\n",
    "        return result\n",
    "    \n",
    "    # document_it() is returning a reference to the inner function\n",
    "    return wrapper"
   ]
  },
  {
   "cell_type": "code",
   "execution_count": 25,
   "metadata": {},
   "outputs": [
    {
     "name": "stdout",
     "output_type": "stream",
     "text": [
      "Running plain old add_ints()\n",
      "8\n"
     ]
    }
   ],
   "source": [
    "def add_ints(a, b):\n",
    "    return a + b\n",
    "\n",
    "print('Running plain old add_ints()')\n",
    "print(add_ints(3, 5))"
   ]
  },
  {
   "cell_type": "code",
   "execution_count": 26,
   "metadata": {},
   "outputs": [
    {
     "name": "stdout",
     "output_type": "stream",
     "text": [
      "Running cooler add_ints()\n",
      "Running function: add_ints\n",
      "Positional arguments: (3, 5)\n",
      "Keyword arguments: {}\n",
      "Result: 8\n"
     ]
    },
    {
     "data": {
      "text/plain": [
       "8"
      ]
     },
     "execution_count": 26,
     "metadata": {},
     "output_type": "execute_result"
    }
   ],
   "source": [
    "# manual decorator assignment\n",
    "cooler_add_ints = document_it(add_ints) \n",
    "\n",
    "print('Running cooler add_ints()')\n",
    "cooler_add_ints(3, 5)"
   ]
  },
  {
   "cell_type": "code",
   "execution_count": 27,
   "metadata": {},
   "outputs": [],
   "source": [
    "def add_ints(a, b):\n",
    "    return a + b\n",
    "add_ints = document_it(add_ints)"
   ]
  },
  {
   "cell_type": "code",
   "execution_count": 28,
   "metadata": {},
   "outputs": [
    {
     "name": "stdout",
     "output_type": "stream",
     "text": [
      "Running function: add_ints\n",
      "Positional arguments: (5, 8)\n",
      "Keyword arguments: {}\n",
      "Result: 13\n"
     ]
    },
    {
     "data": {
      "text/plain": [
       "13"
      ]
     },
     "execution_count": 28,
     "metadata": {},
     "output_type": "execute_result"
    }
   ],
   "source": [
    "add_ints(5, 8)"
   ]
  },
  {
   "cell_type": "code",
   "execution_count": 29,
   "metadata": {},
   "outputs": [],
   "source": [
    "# decorator shorthand for what we did above\n",
    "@document_it\n",
    "def add_ints(a, b):\n",
    "    return a + b"
   ]
  },
  {
   "cell_type": "code",
   "execution_count": 30,
   "metadata": {},
   "outputs": [
    {
     "name": "stdout",
     "output_type": "stream",
     "text": [
      "Running function: add_ints\n",
      "Positional arguments: (4,)\n",
      "Keyword arguments: {'b': 7}\n",
      "Result: 11\n"
     ]
    },
    {
     "data": {
      "text/plain": [
       "11"
      ]
     },
     "execution_count": 30,
     "metadata": {},
     "output_type": "execute_result"
    }
   ],
   "source": [
    "add_ints(4, b=7)"
   ]
  },
  {
   "cell_type": "code",
   "execution_count": 31,
   "metadata": {},
   "outputs": [
    {
     "data": {
      "text/plain": [
       "<function __main__.document_it.<locals>.wrapper(*args, **kwargs)>"
      ]
     },
     "execution_count": 31,
     "metadata": {},
     "output_type": "execute_result"
    }
   ],
   "source": [
    "add_ints"
   ]
  },
  {
   "cell_type": "markdown",
   "metadata": {},
   "source": [
    "Not all decorators wrap. "
   ]
  },
  {
   "cell_type": "code",
   "execution_count": 32,
   "metadata": {},
   "outputs": [],
   "source": [
    "# Flask-like routing\n",
    "\n",
    "routes = {}  # map url => python function\n",
    "\n",
    "\n",
    "def route(path):   # \"decorator factory\" (returns a decorator)\n",
    "    print(f'Build route({path})')\n",
    "    def decorator(function):   # decorator (takes a single function as input)\n",
    "        print(f'Call decorator({path})({function})')\n",
    "        routes[path] = function\n",
    "        # (no wrapping going on here)\n",
    "        return function\n",
    "    return decorator"
   ]
  },
  {
   "cell_type": "code",
   "execution_count": 33,
   "metadata": {},
   "outputs": [
    {
     "name": "stdout",
     "output_type": "stream",
     "text": [
      "Build route(/)\n",
      "Call decorator(/)(<function get_home at 0x10c9fc670>)\n",
      "Build route(/about)\n",
      "Call decorator(/about)(<function get_about at 0x10c9fcee0>)\n",
      "Build route(/error)\n",
      "Build route(/other_error)\n",
      "Call decorator(/other_error)(<function get_error at 0x10ca0f3a0>)\n",
      "Call decorator(/error)(<function get_error at 0x10ca0f3a0>)\n"
     ]
    }
   ],
   "source": [
    "@route('/')\n",
    "# @route('/foo')\n",
    "def get_home():\n",
    "    return 'Welcome'\n",
    "\n",
    "@route('/about')\n",
    "def get_about():\n",
    "    return 'About us'\n",
    "\n",
    "@route('/error')\n",
    "@route('/other_error')\n",
    "def get_error():\n",
    "    return '404'\n",
    "\n",
    "# route_error_decorator = route('/error')\n",
    "# route_other_error_decorator = route('/other_error')\n",
    "# def get_error():\n",
    "#     return '404'\n",
    "# get_error = route_other_error_decorator(get_error)\n",
    "# get_error = route_error_decorator(get_error)"
   ]
  },
  {
   "cell_type": "code",
   "execution_count": 34,
   "metadata": {},
   "outputs": [
    {
     "data": {
      "text/plain": [
       "{'/': <function __main__.get_home()>,\n",
       " '/about': <function __main__.get_about()>,\n",
       " '/other_error': <function __main__.get_error()>,\n",
       " '/error': <function __main__.get_error()>}"
      ]
     },
     "execution_count": 34,
     "metadata": {},
     "output_type": "execute_result"
    }
   ],
   "source": [
    "routes"
   ]
  },
  {
   "cell_type": "code",
   "execution_count": 35,
   "metadata": {},
   "outputs": [],
   "source": [
    "def run_request(routes, url):\n",
    "    function_to_call = routes[url]\n",
    "    return function_to_call()"
   ]
  },
  {
   "cell_type": "code",
   "execution_count": 36,
   "metadata": {},
   "outputs": [
    {
     "data": {
      "text/plain": [
       "'Welcome'"
      ]
     },
     "execution_count": 36,
     "metadata": {},
     "output_type": "execute_result"
    }
   ],
   "source": [
    "run_request(routes, '/')"
   ]
  },
  {
   "cell_type": "code",
   "execution_count": 37,
   "metadata": {},
   "outputs": [
    {
     "data": {
      "text/plain": [
       "'About us'"
      ]
     },
     "execution_count": 37,
     "metadata": {},
     "output_type": "execute_result"
    }
   ],
   "source": [
    "run_request(routes, '/about')"
   ]
  },
  {
   "cell_type": "code",
   "execution_count": 38,
   "metadata": {},
   "outputs": [
    {
     "data": {
      "text/plain": [
       "'404'"
      ]
     },
     "execution_count": 38,
     "metadata": {},
     "output_type": "execute_result"
    }
   ],
   "source": [
    "run_request(routes, '/error')"
   ]
  },
  {
   "cell_type": "markdown",
   "metadata": {
    "collapsed": true
   },
   "source": [
    "```python\n",
    "@EXPR0  # (\n",
    "@EXPR1  # (\n",
    "def FUNC():\n",
    "    ...\n",
    "# ))\n",
    "```\n",
    "    \n",
    "... means nothing more than ...\n",
    "\n",
    "```python\n",
    "_temp0 = EXPR0\n",
    "_temp1 = EXPR1\n",
    "def FUNC():\n",
    "    ...\n",
    "FUNC = _temp1(FUNC)\n",
    "FUNC = _temp0(FUNC)\n",
    "```"
   ]
  },
  {
   "cell_type": "markdown",
   "metadata": {},
   "source": [
    "```python\n",
    "def my_decorator_factory(a, b, c=5, ...):\n",
    "    def decorator(func):\n",
    "        def wrapper(*args, **kwargs):\n",
    "            ...\n",
    "            return func(*args, **kwargs)\n",
    "        return wrapper\n",
    "    return decorator\n",
    "```\n",
    "\n",
    "```python\n",
    "@my_decorator_factory('foo', 'bar')\n",
    "def somefunc(...):\n",
    "    ...\n",
    "```"
   ]
  },
  {
   "cell_type": "code",
   "execution_count": null,
   "metadata": {},
   "outputs": [],
   "source": [
    "def authorize_or_403(perms):\n",
    "    ...\n",
    "    \n",
    "def require_authorized(perms):\n",
    "    def decorator(func):\n",
    "        def wrapper(*args, **kwargs):\n",
    "            authorize_or_403(perms)\n",
    "            return func(*args, **kwargs)\n",
    "        return wrapper\n",
    "    return decorator\n",
    "\n",
    "@app.route('/protected')\n",
    "def get_some_protected_thing():\n",
    "    authorize_or_403('Patient.read')\n",
    "    ...\n",
    "\n",
    "@app.route('/protected2')\n",
    "@require_authorized('Patient.read')\n",
    "def get_some_other_protected_thing():\n",
    "    ..."
   ]
  },
  {
   "cell_type": "markdown",
   "metadata": {},
   "source": [
    "Python Tutor example:"
   ]
  },
  {
   "cell_type": "code",
   "execution_count": 40,
   "metadata": {},
   "outputs": [],
   "source": [
    "import time\n",
    "\n",
    "def timeit(prefix):\n",
    "    def decorator(function):\n",
    "        def wrapper(*args, **kwargs):\n",
    "            start_time = time.time()\n",
    "            try:\n",
    "                return function(*args, **kwargs)\n",
    "            finally:\n",
    "                elapsed = time.time() - start_time\n",
    "                print(f'{prefix}: Took {elapsed}s')\n",
    "        return wrapper\n",
    "    return decorator\n",
    "    \n",
    "def timeit_decorator(function):\n",
    "    def wrapper(*args, **kwargs):\n",
    "        start_time = time.time()\n",
    "        try:\n",
    "            return function(*args, **kwargs)\n",
    "        finally:\n",
    "            elapsed = time.time() - start_time\n",
    "            print(f'Took {elapsed}s')\n",
    "    return wrapper"
   ]
  },
  {
   "cell_type": "code",
   "execution_count": 41,
   "metadata": {},
   "outputs": [],
   "source": [
    "@timeit('slow1')\n",
    "def slow_function1(n):\n",
    "    time.sleep(n)\n",
    "    \n",
    "@timeit_decorator\n",
    "def slow_function2(n):\n",
    "    time.sleep(n)\n",
    "    \n",
    "def slow_function3(n):\n",
    "    time.sleep(n)\n",
    "slow_function3 = timeit_decorator(slow_function3)"
   ]
  },
  {
   "cell_type": "code",
   "execution_count": 42,
   "metadata": {},
   "outputs": [
    {
     "name": "stdout",
     "output_type": "stream",
     "text": [
      "slow1: Took 0.25247883796691895s\n",
      "Took 2.2528939247131348s\n",
      "Took 1.002319097518921s\n"
     ]
    }
   ],
   "source": [
    "slow_function1(0.25)\n",
    "slow_function2(2.25)\n",
    "slow_function3(1)"
   ]
  },
  {
   "cell_type": "markdown",
   "metadata": {},
   "source": [
    "# Preserving introspection"
   ]
  },
  {
   "cell_type": "code",
   "execution_count": 43,
   "metadata": {},
   "outputs": [],
   "source": [
    "def document_it(func):\n",
    "    # below is a nested, or inner function\n",
    "    def wrapper(*args, **kwargs):\n",
    "        \"wrapper docstring\"\n",
    "        print('Running function: {}'.format(func.__name__))\n",
    "        print('Positional arguments: {}'.format(args))\n",
    "        print('Keyword arguments: {}'.format(kwargs))\n",
    "        # here we invoke the function passed in as an argument\n",
    "        result = func(*args, **kwargs)\n",
    "        print('Result: {}'.format(result))\n",
    "        return result\n",
    "    \n",
    "    # document_it() is returning a reference to the inner function\n",
    "    return wrapper"
   ]
  },
  {
   "cell_type": "code",
   "execution_count": 44,
   "metadata": {},
   "outputs": [],
   "source": [
    "@document_it\n",
    "def addit(x, y):\n",
    "    \"\"\"I heard I should use docstrings so here ya go\"\"\"\n",
    "    return x + y"
   ]
  },
  {
   "cell_type": "code",
   "execution_count": 45,
   "metadata": {},
   "outputs": [
    {
     "name": "stdout",
     "output_type": "stream",
     "text": [
      "Help on function wrapper in module __main__:\n",
      "\n",
      "wrapper(*args, **kwargs)\n",
      "    wrapper docstring\n",
      "\n"
     ]
    }
   ],
   "source": [
    "help(addit)"
   ]
  },
  {
   "cell_type": "code",
   "execution_count": 46,
   "metadata": {},
   "outputs": [
    {
     "data": {
      "text/plain": [
       "<function __main__.document_it.<locals>.wrapper(*args, **kwargs)>"
      ]
     },
     "execution_count": 46,
     "metadata": {},
     "output_type": "execute_result"
    }
   ],
   "source": [
    "addit"
   ]
  },
  {
   "cell_type": "code",
   "execution_count": 47,
   "metadata": {},
   "outputs": [],
   "source": [
    "from functools import wraps\n",
    "\n",
    "def document_it(func):\n",
    "    \"\"\"This is the decorator docstring\"\"\"\n",
    "    # below is a nested, or inner function\n",
    "    @wraps(func)\n",
    "    def wrapper(*args, **kwargs):\n",
    "        \"\"\"This is the wrapper docstring\"\"\"\n",
    "        print('Running function: {}'.format(func.__name__))\n",
    "        print('Positional arguments: {}'.format(args))\n",
    "        print('Keyword arguments: {}'.format(kwargs))\n",
    "        # here we invoke the function passed in as an argument\n",
    "        result = func(*args, **kwargs)\n",
    "        print('Result: {}'.format(result))\n",
    "        return result\n",
    "    \n",
    "    # document_it() is returning a reference to the inner function\n",
    "    return wrapper"
   ]
  },
  {
   "cell_type": "code",
   "execution_count": 48,
   "metadata": {},
   "outputs": [],
   "source": [
    "@document_it\n",
    "def addit(x, y):\n",
    "    \"\"\"I heard I should use docstrings so here ya go\"\"\"\n",
    "    return x + y"
   ]
  },
  {
   "cell_type": "code",
   "execution_count": 49,
   "metadata": {},
   "outputs": [
    {
     "name": "stdout",
     "output_type": "stream",
     "text": [
      "Help on function addit in module __main__:\n",
      "\n",
      "addit(x, y)\n",
      "    I heard I should use docstrings so here ya go\n",
      "\n"
     ]
    }
   ],
   "source": [
    "help(addit)"
   ]
  },
  {
   "cell_type": "code",
   "execution_count": 50,
   "metadata": {},
   "outputs": [
    {
     "data": {
      "text/plain": [
       "<function __main__.addit(x, y)>"
      ]
     },
     "execution_count": 50,
     "metadata": {},
     "output_type": "execute_result"
    }
   ],
   "source": [
    "addit"
   ]
  },
  {
   "cell_type": "code",
   "execution_count": 51,
   "metadata": {},
   "outputs": [
    {
     "name": "stdout",
     "output_type": "stream",
     "text": [
      "Running function: addit\n",
      "Positional arguments: (1, 2)\n",
      "Keyword arguments: {}\n",
      "Result: 3\n"
     ]
    },
    {
     "data": {
      "text/plain": [
       "3"
      ]
     },
     "execution_count": 51,
     "metadata": {},
     "output_type": "execute_result"
    }
   ],
   "source": [
    "addit(1, 2)"
   ]
  },
  {
   "cell_type": "code",
   "execution_count": 52,
   "metadata": {},
   "outputs": [
    {
     "name": "stdout",
     "output_type": "stream",
     "text": [
      "Help on function document_it in module __main__:\n",
      "\n",
      "document_it(func)\n",
      "    This is the decorator docstring\n",
      "\n"
     ]
    }
   ],
   "source": [
    "help(document_it)"
   ]
  },
  {
   "cell_type": "markdown",
   "metadata": {},
   "source": [
    "# Lab\n",
    "\n",
    "Open the [Closures Lab][closures-lab]\n",
    "\n",
    "[closures-lab]: ./closures-lab.ipynb\n"
   ]
  },
  {
   "cell_type": "code",
   "execution_count": null,
   "metadata": {},
   "outputs": [],
   "source": []
  }
 ],
 "metadata": {
  "kernelspec": {
   "display_name": "Python 3",
   "language": "python",
   "name": "python3"
  },
  "language_info": {
   "codemirror_mode": {
    "name": "ipython",
    "version": 3
   },
   "file_extension": ".py",
   "mimetype": "text/x-python",
   "name": "python",
   "nbconvert_exporter": "python",
   "pygments_lexer": "ipython3",
   "version": "3.8.5"
  }
 },
 "nbformat": 4,
 "nbformat_minor": 1
}
