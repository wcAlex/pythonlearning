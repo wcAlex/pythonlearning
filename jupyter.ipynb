{
 "cells": [
  {
   "cell_type": "markdown",
   "metadata": {},
   "source": [
    "# Jupyter, briefly\n",
    "\n",
    "- Web-based interface to several different programming languages, but started with Python\n",
    "- The Jupyter **server** is what started when you ran `jupyter notebook`\n",
    "- When you open (or create) a Notebook (`.ipynb`) file in Jupyter, the server starts a **kernel** (a Python interpreter dedicated to that notebook)\n",
    "- Notebooks are organized into **cells**, which may be either code (Python) or Markdown cells.\n",
    "- When you execute a Python cell, it is sent to the kernel, executed, and the notebook then shows the output of running the cell"
   ]
  },
  {
   "cell_type": "code",
   "execution_count": 5,
   "metadata": {},
   "outputs": [
    {
     "name": "stdout",
     "output_type": "stream",
     "text": [
      "Hello Class VILT!\n"
     ]
    }
   ],
   "source": [
    "print('Hello Class VILT!')"
   ]
  },
  {
   "cell_type": "code",
   "execution_count": 6,
   "metadata": {},
   "outputs": [
    {
     "data": {
      "text/plain": [
       "15"
      ]
     },
     "execution_count": 6,
     "metadata": {},
     "output_type": "execute_result"
    }
   ],
   "source": [
    "5 + 10"
   ]
  },
  {
   "cell_type": "code",
   "execution_count": 7,
   "metadata": {},
   "outputs": [
    {
     "data": {
      "text/plain": [
       "15"
      ]
     },
     "execution_count": 7,
     "metadata": {},
     "output_type": "execute_result"
    }
   ],
   "source": [
    "Out[2]"
   ]
  },
  {
   "cell_type": "code",
   "execution_count": 8,
   "metadata": {},
   "outputs": [
    {
     "data": {
      "text/plain": [
       "15"
      ]
     },
     "execution_count": 8,
     "metadata": {},
     "output_type": "execute_result"
    }
   ],
   "source": [
    "_2"
   ]
  },
  {
   "cell_type": "markdown",
   "metadata": {},
   "source": [
    "## Why Jupyter\n",
    "\n",
    "- Training (lets you walk through examples, change things, and keep a record of what you did)\n",
    "- Exploration of data / APIs where it's good to keep a record of what you did (data scientists love their notebooks!)\n",
    "- Prototyping an algorithm to be \"productionalized\" later"
   ]
  },
  {
   "cell_type": "markdown",
   "metadata": {},
   "source": [
    "## Why not Jupyter\n",
    "\n",
    "- Running in production\n",
    "- Not great with source control (notebooks are stored as JSON, which does not diff well)"
   ]
  },
  {
   "cell_type": "markdown",
   "metadata": {},
   "source": [
    "## \"Restart and run all,\" or it didn't happen\n",
    "\n",
    "- You can run cells out of order as you're exploring. It's a good idea to run everything top to bottom when you're done to make sure you didn't delete any steps"
   ]
  },
  {
   "cell_type": "markdown",
   "metadata": {},
   "source": [
    "## Getting help\n",
    "\n",
    "#### See possible completions with `<TAB>`\n",
    "\n",
    "```ipython\n",
    "In [0]: from email import <TAB>\n",
    "```"
   ]
  },
  {
   "cell_type": "code",
   "execution_count": 9,
   "metadata": {},
   "outputs": [],
   "source": [
    "from email.mime.multipart import MIMEMultipart"
   ]
  },
  {
   "cell_type": "code",
   "execution_count": null,
   "metadata": {},
   "outputs": [],
   "source": []
  },
  {
   "cell_type": "markdown",
   "metadata": {},
   "source": [
    "#### See function arguments by holding down shift and hitting `<TAB>`:\n",
    "    \n",
    "- one time: pops up simplified help\n",
    "- two times: expands simplified help\n",
    "- four times: brings up full help for function you're calling\n"
   ]
  },
  {
   "cell_type": "code",
   "execution_count": 10,
   "metadata": {},
   "outputs": [],
   "source": [
    "import os"
   ]
  },
  {
   "cell_type": "code",
   "execution_count": 11,
   "metadata": {},
   "outputs": [
    {
     "ename": "TypeError",
     "evalue": "Required argument 'path' (pos 1) not found",
     "output_type": "error",
     "traceback": [
      "\u001b[0;31m---------------------------------------------------------------------------\u001b[0m",
      "\u001b[0;31mTypeError\u001b[0m                                 Traceback (most recent call last)",
      "\u001b[0;32m<ipython-input-11-c1b83b7e1979>\u001b[0m in \u001b[0;36m<module>\u001b[0;34m\u001b[0m\n\u001b[0;32m----> 1\u001b[0;31m \u001b[0mos\u001b[0m\u001b[0;34m.\u001b[0m\u001b[0mopen\u001b[0m\u001b[0;34m(\u001b[0m\u001b[0;34m)\u001b[0m\u001b[0;34m\u001b[0m\u001b[0m\n\u001b[0m",
      "\u001b[0;31mTypeError\u001b[0m: Required argument 'path' (pos 1) not found"
     ]
    }
   ],
   "source": [
    "os.open()"
   ]
  },
  {
   "cell_type": "code",
   "execution_count": 12,
   "metadata": {},
   "outputs": [
    {
     "name": "stdout",
     "output_type": "stream",
     "text": [
      "Help on built-in function open in module posix:\n",
      "\n",
      "open(path, flags, mode=511, *, dir_fd=None)\n",
      "    Open a file for low level IO.  Returns a file descriptor (integer).\n",
      "    \n",
      "    If dir_fd is not None, it should be a file descriptor open to a directory,\n",
      "      and path should be relative; path will then be relative to that directory.\n",
      "    dir_fd may not be implemented on your platform.\n",
      "      If it is unavailable, using it will raise a NotImplementedError.\n",
      "\n"
     ]
    }
   ],
   "source": [
    "help(os.open)"
   ]
  },
  {
   "cell_type": "code",
   "execution_count": 13,
   "metadata": {},
   "outputs": [],
   "source": [
    "# Jupyter-only syntax (not valid Python)\n",
    "os?"
   ]
  },
  {
   "cell_type": "markdown",
   "metadata": {},
   "source": [
    "\n",
    "#### Bring up help on an object\n",
    "\n",
    "To bring up help:\n",
    "\n",
    "```ipython\n",
    "In [0]: my_function?\n",
    "```\n",
    "\n",
    "To bring up help with source code if available:\n",
    "\n",
    "```ipython\n",
    "In [0]: my_function??\n",
    "```"
   ]
  },
  {
   "cell_type": "code",
   "execution_count": 14,
   "metadata": {},
   "outputs": [],
   "source": [
    "def fun():\n",
    "    'Docstring'\n",
    "    print('This is my function')"
   ]
  },
  {
   "cell_type": "code",
   "execution_count": 15,
   "metadata": {},
   "outputs": [
    {
     "name": "stdout",
     "output_type": "stream",
     "text": [
      "Help on function fun in module __main__:\n",
      "\n",
      "fun()\n",
      "    Docstring\n",
      "\n"
     ]
    }
   ],
   "source": [
    "help(fun)"
   ]
  },
  {
   "cell_type": "code",
   "execution_count": 16,
   "metadata": {},
   "outputs": [],
   "source": [
    "# Jupyter-only syntax (not valid Python)\n",
    "fun?"
   ]
  },
  {
   "cell_type": "code",
   "execution_count": 17,
   "metadata": {},
   "outputs": [],
   "source": [
    "# Jupyter-only syntax (not valid Python)\n",
    "fun??"
   ]
  },
  {
   "cell_type": "code",
   "execution_count": 18,
   "metadata": {},
   "outputs": [],
   "source": [
    "import random\n",
    "random.shuffle??"
   ]
  },
  {
   "cell_type": "markdown",
   "metadata": {},
   "source": [
    "#### To get a list of all the %magic commands\n",
    "\n",
    "```ipython\n",
    "In [0]: %magic\n",
    "```\n",
    "\n",
    "One `%` applies to the current line\n",
    "\n",
    "Two `%%` applies to the whole input cell"
   ]
  },
  {
   "cell_type": "code",
   "execution_count": 19,
   "metadata": {},
   "outputs": [],
   "source": [
    "%magic"
   ]
  },
  {
   "cell_type": "code",
   "execution_count": 20,
   "metadata": {},
   "outputs": [
    {
     "data": {
      "application/json": {
       "cell": {
        "!": "OSMagics",
        "HTML": "Other",
        "SVG": "Other",
        "bash": "Other",
        "capture": "ExecutionMagics",
        "debug": "ExecutionMagics",
        "file": "Other",
        "html": "DisplayMagics",
        "javascript": "DisplayMagics",
        "js": "DisplayMagics",
        "latex": "DisplayMagics",
        "markdown": "DisplayMagics",
        "perl": "Other",
        "prun": "ExecutionMagics",
        "pypy": "Other",
        "python": "Other",
        "python2": "Other",
        "python3": "Other",
        "ruby": "Other",
        "script": "ScriptMagics",
        "sh": "Other",
        "svg": "DisplayMagics",
        "sx": "OSMagics",
        "system": "OSMagics",
        "time": "ExecutionMagics",
        "timeit": "ExecutionMagics",
        "writefile": "OSMagics"
       },
       "line": {
        "alias": "OSMagics",
        "alias_magic": "BasicMagics",
        "autoawait": "AsyncMagics",
        "autocall": "AutoMagics",
        "automagic": "AutoMagics",
        "autosave": "KernelMagics",
        "bookmark": "OSMagics",
        "cat": "Other",
        "cd": "OSMagics",
        "clear": "KernelMagics",
        "colors": "BasicMagics",
        "conda": "PackagingMagics",
        "config": "ConfigMagics",
        "connect_info": "KernelMagics",
        "cp": "Other",
        "debug": "ExecutionMagics",
        "dhist": "OSMagics",
        "dirs": "OSMagics",
        "doctest_mode": "BasicMagics",
        "ed": "Other",
        "edit": "KernelMagics",
        "env": "OSMagics",
        "gui": "BasicMagics",
        "hist": "Other",
        "history": "HistoryMagics",
        "killbgscripts": "ScriptMagics",
        "ldir": "Other",
        "less": "KernelMagics",
        "lf": "Other",
        "lk": "Other",
        "ll": "Other",
        "load": "CodeMagics",
        "load_ext": "ExtensionMagics",
        "loadpy": "CodeMagics",
        "logoff": "LoggingMagics",
        "logon": "LoggingMagics",
        "logstart": "LoggingMagics",
        "logstate": "LoggingMagics",
        "logstop": "LoggingMagics",
        "ls": "Other",
        "lsmagic": "BasicMagics",
        "lx": "Other",
        "macro": "ExecutionMagics",
        "magic": "BasicMagics",
        "man": "KernelMagics",
        "matplotlib": "PylabMagics",
        "mkdir": "Other",
        "more": "KernelMagics",
        "mv": "Other",
        "notebook": "BasicMagics",
        "page": "BasicMagics",
        "pastebin": "CodeMagics",
        "pdb": "ExecutionMagics",
        "pdef": "NamespaceMagics",
        "pdoc": "NamespaceMagics",
        "pfile": "NamespaceMagics",
        "pinfo": "NamespaceMagics",
        "pinfo2": "NamespaceMagics",
        "pip": "PackagingMagics",
        "popd": "OSMagics",
        "pprint": "BasicMagics",
        "precision": "BasicMagics",
        "prun": "ExecutionMagics",
        "psearch": "NamespaceMagics",
        "psource": "NamespaceMagics",
        "pushd": "OSMagics",
        "pwd": "OSMagics",
        "pycat": "OSMagics",
        "pylab": "PylabMagics",
        "qtconsole": "KernelMagics",
        "quickref": "BasicMagics",
        "recall": "HistoryMagics",
        "rehashx": "OSMagics",
        "reload_ext": "ExtensionMagics",
        "rep": "Other",
        "rerun": "HistoryMagics",
        "reset": "NamespaceMagics",
        "reset_selective": "NamespaceMagics",
        "rm": "Other",
        "rmdir": "Other",
        "run": "ExecutionMagics",
        "save": "CodeMagics",
        "sc": "OSMagics",
        "set_env": "OSMagics",
        "store": "StoreMagics",
        "sx": "OSMagics",
        "system": "OSMagics",
        "tb": "ExecutionMagics",
        "time": "ExecutionMagics",
        "timeit": "ExecutionMagics",
        "unalias": "OSMagics",
        "unload_ext": "ExtensionMagics",
        "who": "NamespaceMagics",
        "who_ls": "NamespaceMagics",
        "whos": "NamespaceMagics",
        "xdel": "NamespaceMagics",
        "xmode": "BasicMagics"
       }
      },
      "text/plain": [
       "Available line magics:\n",
       "%alias  %alias_magic  %autoawait  %autocall  %automagic  %autosave  %bookmark  %cat  %cd  %clear  %colors  %conda  %config  %connect_info  %cp  %debug  %dhist  %dirs  %doctest_mode  %ed  %edit  %env  %gui  %hist  %history  %killbgscripts  %ldir  %less  %lf  %lk  %ll  %load  %load_ext  %loadpy  %logoff  %logon  %logstart  %logstate  %logstop  %ls  %lsmagic  %lx  %macro  %magic  %man  %matplotlib  %mkdir  %more  %mv  %notebook  %page  %pastebin  %pdb  %pdef  %pdoc  %pfile  %pinfo  %pinfo2  %pip  %popd  %pprint  %precision  %prun  %psearch  %psource  %pushd  %pwd  %pycat  %pylab  %qtconsole  %quickref  %recall  %rehashx  %reload_ext  %rep  %rerun  %reset  %reset_selective  %rm  %rmdir  %run  %save  %sc  %set_env  %store  %sx  %system  %tb  %time  %timeit  %unalias  %unload_ext  %who  %who_ls  %whos  %xdel  %xmode\n",
       "\n",
       "Available cell magics:\n",
       "%%!  %%HTML  %%SVG  %%bash  %%capture  %%debug  %%file  %%html  %%javascript  %%js  %%latex  %%markdown  %%perl  %%prun  %%pypy  %%python  %%python2  %%python3  %%ruby  %%script  %%sh  %%svg  %%sx  %%system  %%time  %%timeit  %%writefile\n",
       "\n",
       "Automagic is ON, % prefix IS NOT needed for line magics."
      ]
     },
     "execution_count": 20,
     "metadata": {},
     "output_type": "execute_result"
    }
   ],
   "source": [
    "%lsmagic"
   ]
  },
  {
   "cell_type": "markdown",
   "metadata": {},
   "source": [
    "# Interacting with the shell"
   ]
  },
  {
   "cell_type": "code",
   "execution_count": 21,
   "metadata": {
    "slideshow": {
     "slide_type": "-"
    }
   },
   "outputs": [
    {
     "name": "stdout",
     "output_type": "stream",
     "text": [
      "['chi.wang']\n"
     ]
    }
   ],
   "source": [
    "# Not valid python\n",
    "x = !whoami\n",
    "print(x)"
   ]
  },
  {
   "cell_type": "code",
   "execution_count": 22,
   "metadata": {},
   "outputs": [
    {
     "name": "stdout",
     "output_type": "stream",
     "text": [
      "-rw-r--r--@ 1 chi.wang  wheel    2290 Oct  2 14:58 Setup-Anaconda.ipynb\r\n",
      "-rw-r--r--@ 1 chi.wang  wheel    4990 Oct  2 14:58 Setup-Pip.ipynb\r\n",
      "-rw-r--r--@ 1 chi.wang  wheel    4069 Oct  2 14:58 celery-lab-solution.ipynb\r\n",
      "-rw-r--r--@ 1 chi.wang  wheel    1272 Oct  2 14:58 celery-lab.ipynb\r\n",
      "-rw-r--r--@ 1 chi.wang  wheel   28300 Oct  2 14:58 celery.ipynb\r\n",
      "-rw-r--r--@ 1 chi.wang  wheel    8385 Oct  2 14:58 closures-lab-solution.ipynb\r\n",
      "-rw-r--r--@ 1 chi.wang  wheel    3187 Oct  2 14:58 closures-lab.ipynb\r\n",
      "-rw-r--r--@ 1 chi.wang  wheel   28406 Oct  2 14:58 closures.ipynb\r\n",
      "-rw-r--r--@ 1 chi.wang  wheel    5959 Oct  2 14:58 context-lab-solution.ipynb\r\n",
      "-rw-r--r--@ 1 chi.wang  wheel    1796 Oct  2 14:58 context-lab.ipynb\r\n",
      "-rw-r--r--@ 1 chi.wang  wheel   15875 Oct  2 14:58 context.ipynb\r\n",
      "-rw-r--r--@ 1 chi.wang  wheel    6789 Oct  2 14:58 core-syntax-lab-solution.ipynb\r\n",
      "-rw-r--r--@ 1 chi.wang  wheel    3981 Oct  5 08:09 core-syntax-lab.ipynb\r\n",
      "-rw-r--r--@ 1 chi.wang  wheel  109680 Oct  2 14:58 core-syntax.ipynb\r\n",
      "-rw-r--r--@ 1 chi.wang  wheel   56329 Oct  5 07:21 fast-intro-python.ipynb\r\n",
      "-rw-r--r--@ 1 chi.wang  wheel   43809 Oct  2 14:58 flask-api-lab-solution.ipynb\r\n",
      "-rw-r--r--@ 1 chi.wang  wheel    1399 Oct  2 14:58 flask-api-lab.ipynb\r\n",
      "-rw-r--r--@ 1 chi.wang  wheel   42447 Oct  2 14:58 flask-api.ipynb\r\n",
      "-rw-r--r--@ 1 chi.wang  wheel    7114 Oct  2 14:58 flask-ui-lab-solution.ipynb\r\n",
      "-rw-r--r--@ 1 chi.wang  wheel     766 Oct  2 14:58 flask-ui-lab.ipynb\r\n",
      "-rw-r--r--@ 1 chi.wang  wheel   16308 Oct  2 14:58 flask-ui.ipynb\r\n",
      "-rw-r--r--@ 1 chi.wang  wheel   11545 Oct  2 14:58 functional-lab-solution.ipynb\r\n",
      "-rw-r--r--@ 1 chi.wang  wheel    2617 Oct  2 14:58 functional-lab.ipynb\r\n",
      "-rw-r--r--@ 1 chi.wang  wheel   37052 Oct  2 14:58 functional.ipynb\r\n",
      "-rw-r--r--@ 1 chi.wang  wheel    5103 Oct  5 07:25 index.ipynb\r\n",
      "-rw-r--r--@ 1 chi.wang  wheel    9203 Oct  2 14:58 iteration-lab-solution.ipynb\r\n",
      "-rw-r--r--@ 1 chi.wang  wheel    2034 Oct  2 14:58 iteration-lab.ipynb\r\n",
      "-rw-r--r--@ 1 chi.wang  wheel  258921 Oct  2 14:58 iteration.ipynb\r\n",
      "-rw-r--r--@ 1 chi.wang  wheel   76659 Oct  5 08:09 jupyter.ipynb\r\n",
      "-rw-r--r--@ 1 chi.wang  wheel    5597 Oct  2 14:58 logging-lab-solution.ipynb\r\n",
      "-rw-r--r--@ 1 chi.wang  wheel    1428 Oct  2 14:58 logging-lab.ipynb\r\n",
      "-rw-r--r--@ 1 chi.wang  wheel   16385 Oct  2 14:58 logging.ipynb\r\n",
      "-rw-r--r--@ 1 chi.wang  wheel   29343 Oct  2 14:58 multithreading-multiprocessing-lab-solution.ipynb\r\n",
      "-rw-r--r--@ 1 chi.wang  wheel    2767 Oct  2 14:58 multithreading-multiprocessing-lab.ipynb\r\n",
      "-rw-r--r--@ 1 chi.wang  wheel   29446 Oct  2 14:58 multithreading-multiprocessing.ipynb\r\n",
      "-rw-r--r--@ 1 chi.wang  wheel   20829 Oct  2 14:58 numpy-lab-solution.ipynb\r\n",
      "-rw-r--r--@ 1 chi.wang  wheel    6011 Oct  2 14:58 numpy-lab.ipynb\r\n",
      "-rw-r--r--@ 1 chi.wang  wheel   55209 Oct  2 14:58 numpy.ipynb\r\n",
      "-rw-r--r--@ 1 chi.wang  wheel    6619 Oct  2 14:58 oop-decorators-lab-solution.ipynb\r\n",
      "-rw-r--r--@ 1 chi.wang  wheel    1739 Oct  2 14:58 oop-decorators-lab.ipynb\r\n",
      "-rw-r--r--@ 1 chi.wang  wheel   34178 Oct  2 14:58 oop-decorators.ipynb\r\n",
      "-rw-r--r--@ 1 chi.wang  wheel    8449 Oct  2 14:58 oop-inheritance-lab-solution.ipynb\r\n",
      "-rw-r--r--@ 1 chi.wang  wheel    1650 Oct  2 14:58 oop-inheritance-lab.ipynb\r\n",
      "-rw-r--r--@ 1 chi.wang  wheel   24340 Oct  2 14:58 oop-inheritance.ipynb\r\n",
      "-rw-r--r--@ 1 chi.wang  wheel   14148 Oct  2 14:58 oop-intro-lab-solution.ipynb\r\n",
      "-rw-r--r--@ 1 chi.wang  wheel    5560 Oct  2 14:58 oop-intro-lab.ipynb\r\n",
      "-rw-r--r--@ 1 chi.wang  wheel   34656 Oct  2 14:58 oop-intro.ipynb\r\n",
      "-rw-r--r--@ 1 chi.wang  wheel   16459 Oct  2 14:58 oop-magic-lab-solution.ipynb\r\n",
      "-rw-r--r--@ 1 chi.wang  wheel    4703 Oct  2 14:58 oop-magic-lab.ipynb\r\n",
      "-rw-r--r--@ 1 chi.wang  wheel   22046 Oct  2 14:58 oop-magic.ipynb\r\n",
      "-rw-r--r--@ 1 chi.wang  wheel   47650 Oct  2 14:58 pandas-aggregation-lab-solution.ipynb\r\n",
      "-rw-r--r--@ 1 chi.wang  wheel    1533 Oct  2 14:58 pandas-aggregation-lab.ipynb\r\n",
      "-rw-r--r--@ 1 chi.wang  wheel   41850 Oct  2 14:58 pandas-aggregation.ipynb\r\n",
      "-rw-r--r--@ 1 chi.wang  wheel   46912 Oct  2 14:58 pandas-exploration-lab-solution.ipynb\r\n",
      "-rw-r--r--@ 1 chi.wang  wheel    2547 Oct  2 14:58 pandas-exploration-lab.ipynb\r\n",
      "-rw-r--r--@ 1 chi.wang  wheel  119140 Oct  2 14:58 pandas-exploration.ipynb\r\n",
      "-rw-r--r--@ 1 chi.wang  wheel   24222 Oct  2 14:58 pandas-io-lab-solution.ipynb\r\n",
      "-rw-r--r--@ 1 chi.wang  wheel    3608 Oct  2 14:58 pandas-io-lab.ipynb\r\n",
      "-rw-r--r--@ 1 chi.wang  wheel  198634 Oct  2 14:58 pandas-io.ipynb\r\n",
      "-rw-r--r--@ 1 chi.wang  wheel   14091 Oct  2 14:58 pandas-merging-lab-solution.ipynb\r\n",
      "-rw-r--r--@ 1 chi.wang  wheel    1640 Oct  2 14:58 pandas-merging-lab.ipynb\r\n",
      "-rw-r--r--@ 1 chi.wang  wheel   62008 Oct  2 14:58 pandas-merging.ipynb\r\n",
      "-rw-r--r--@ 1 chi.wang  wheel   14591 Oct  2 14:58 pdb-lab-solution.ipynb\r\n",
      "-rw-r--r--@ 1 chi.wang  wheel    2293 Oct  2 14:58 pdb-lab.ipynb\r\n",
      "-rw-r--r--@ 1 chi.wang  wheel   55044 Oct  2 14:58 pdb.ipynb\r\n",
      "-rw-r--r--@ 1 chi.wang  wheel   14027 Oct  2 14:58 requests-lab-solution.ipynb\r\n",
      "-rw-r--r--@ 1 chi.wang  wheel    2145 Oct  2 14:58 requests-lab.ipynb\r\n",
      "-rw-r--r--@ 1 chi.wang  wheel   37727 Oct  2 14:58 requests.ipynb\r\n",
      "-rw-r--r--@ 1 chi.wang  wheel   10018 Oct  2 14:58 restful-intro.ipynb\r\n",
      "-rw-r--r--@ 1 chi.wang  wheel   73224 Oct  2 14:58 scipy-lab-solution.ipynb\r\n",
      "-rw-r--r--@ 1 chi.wang  wheel    3778 Oct  2 14:58 scipy-lab.ipynb\r\n",
      "-rw-r--r--@ 1 chi.wang  wheel  530360 Oct  2 14:58 scipy.ipynb\r\n",
      "-rw-r--r--@ 1 chi.wang  wheel    5509 Oct  2 14:58 socket-lab-solution.ipynb\r\n",
      "-rw-r--r--@ 1 chi.wang  wheel    1113 Oct  2 14:58 socket-lab.ipynb\r\n",
      "-rw-r--r--@ 1 chi.wang  wheel   17834 Oct  2 14:58 socket.ipynb\r\n",
      "-rw-r--r--@ 1 chi.wang  wheel   14934 Oct  2 14:58 unittest-lab-solution.ipynb\r\n",
      "-rw-r--r--@ 1 chi.wang  wheel    2045 Oct  2 14:58 unittest-lab.ipynb\r\n",
      "-rw-r--r--@ 1 chi.wang  wheel   48790 Oct  2 14:58 unittest.ipynb\r\n",
      "-rw-r--r--@ 1 chi.wang  wheel    1960 Oct  2 14:58 virtualenv-lab.ipynb\r\n",
      "-rw-r--r--@ 1 chi.wang  wheel   17838 Oct  2 14:58 virtualenv.ipynb\r\n"
     ]
    }
   ],
   "source": [
    "pattern = '*.ipynb'\n",
    "!ls -l {pattern}"
   ]
  },
  {
   "cell_type": "code",
   "execution_count": 23,
   "metadata": {},
   "outputs": [],
   "source": [
    "pattern = '*.ipynb'\n",
    "filenames = !ls -l {pattern}"
   ]
  },
  {
   "cell_type": "code",
   "execution_count": 24,
   "metadata": {},
   "outputs": [
    {
     "data": {
      "text/plain": [
       "['-rw-r--r--@ 1 chi.wang  wheel    2290 Oct  2 14:58 Setup-Anaconda.ipynb',\n",
       " '-rw-r--r--@ 1 chi.wang  wheel    4990 Oct  2 14:58 Setup-Pip.ipynb',\n",
       " '-rw-r--r--@ 1 chi.wang  wheel    4069 Oct  2 14:58 celery-lab-solution.ipynb',\n",
       " '-rw-r--r--@ 1 chi.wang  wheel    1272 Oct  2 14:58 celery-lab.ipynb',\n",
       " '-rw-r--r--@ 1 chi.wang  wheel   28300 Oct  2 14:58 celery.ipynb',\n",
       " '-rw-r--r--@ 1 chi.wang  wheel    8385 Oct  2 14:58 closures-lab-solution.ipynb',\n",
       " '-rw-r--r--@ 1 chi.wang  wheel    3187 Oct  2 14:58 closures-lab.ipynb',\n",
       " '-rw-r--r--@ 1 chi.wang  wheel   28406 Oct  2 14:58 closures.ipynb',\n",
       " '-rw-r--r--@ 1 chi.wang  wheel    5959 Oct  2 14:58 context-lab-solution.ipynb',\n",
       " '-rw-r--r--@ 1 chi.wang  wheel    1796 Oct  2 14:58 context-lab.ipynb',\n",
       " '-rw-r--r--@ 1 chi.wang  wheel   15875 Oct  2 14:58 context.ipynb',\n",
       " '-rw-r--r--@ 1 chi.wang  wheel    6789 Oct  2 14:58 core-syntax-lab-solution.ipynb',\n",
       " '-rw-r--r--@ 1 chi.wang  wheel    3981 Oct  5 08:09 core-syntax-lab.ipynb',\n",
       " '-rw-r--r--@ 1 chi.wang  wheel  109680 Oct  2 14:58 core-syntax.ipynb',\n",
       " '-rw-r--r--@ 1 chi.wang  wheel   56329 Oct  5 07:21 fast-intro-python.ipynb',\n",
       " '-rw-r--r--@ 1 chi.wang  wheel   43809 Oct  2 14:58 flask-api-lab-solution.ipynb',\n",
       " '-rw-r--r--@ 1 chi.wang  wheel    1399 Oct  2 14:58 flask-api-lab.ipynb',\n",
       " '-rw-r--r--@ 1 chi.wang  wheel   42447 Oct  2 14:58 flask-api.ipynb',\n",
       " '-rw-r--r--@ 1 chi.wang  wheel    7114 Oct  2 14:58 flask-ui-lab-solution.ipynb',\n",
       " '-rw-r--r--@ 1 chi.wang  wheel     766 Oct  2 14:58 flask-ui-lab.ipynb',\n",
       " '-rw-r--r--@ 1 chi.wang  wheel   16308 Oct  2 14:58 flask-ui.ipynb',\n",
       " '-rw-r--r--@ 1 chi.wang  wheel   11545 Oct  2 14:58 functional-lab-solution.ipynb',\n",
       " '-rw-r--r--@ 1 chi.wang  wheel    2617 Oct  2 14:58 functional-lab.ipynb',\n",
       " '-rw-r--r--@ 1 chi.wang  wheel   37052 Oct  2 14:58 functional.ipynb',\n",
       " '-rw-r--r--@ 1 chi.wang  wheel    5103 Oct  5 07:25 index.ipynb',\n",
       " '-rw-r--r--@ 1 chi.wang  wheel    9203 Oct  2 14:58 iteration-lab-solution.ipynb',\n",
       " '-rw-r--r--@ 1 chi.wang  wheel    2034 Oct  2 14:58 iteration-lab.ipynb',\n",
       " '-rw-r--r--@ 1 chi.wang  wheel  258921 Oct  2 14:58 iteration.ipynb',\n",
       " '-rw-r--r--@ 1 chi.wang  wheel   76659 Oct  5 08:09 jupyter.ipynb',\n",
       " '-rw-r--r--@ 1 chi.wang  wheel    5597 Oct  2 14:58 logging-lab-solution.ipynb',\n",
       " '-rw-r--r--@ 1 chi.wang  wheel    1428 Oct  2 14:58 logging-lab.ipynb',\n",
       " '-rw-r--r--@ 1 chi.wang  wheel   16385 Oct  2 14:58 logging.ipynb',\n",
       " '-rw-r--r--@ 1 chi.wang  wheel   29343 Oct  2 14:58 multithreading-multiprocessing-lab-solution.ipynb',\n",
       " '-rw-r--r--@ 1 chi.wang  wheel    2767 Oct  2 14:58 multithreading-multiprocessing-lab.ipynb',\n",
       " '-rw-r--r--@ 1 chi.wang  wheel   29446 Oct  2 14:58 multithreading-multiprocessing.ipynb',\n",
       " '-rw-r--r--@ 1 chi.wang  wheel   20829 Oct  2 14:58 numpy-lab-solution.ipynb',\n",
       " '-rw-r--r--@ 1 chi.wang  wheel    6011 Oct  2 14:58 numpy-lab.ipynb',\n",
       " '-rw-r--r--@ 1 chi.wang  wheel   55209 Oct  2 14:58 numpy.ipynb',\n",
       " '-rw-r--r--@ 1 chi.wang  wheel    6619 Oct  2 14:58 oop-decorators-lab-solution.ipynb',\n",
       " '-rw-r--r--@ 1 chi.wang  wheel    1739 Oct  2 14:58 oop-decorators-lab.ipynb',\n",
       " '-rw-r--r--@ 1 chi.wang  wheel   34178 Oct  2 14:58 oop-decorators.ipynb',\n",
       " '-rw-r--r--@ 1 chi.wang  wheel    8449 Oct  2 14:58 oop-inheritance-lab-solution.ipynb',\n",
       " '-rw-r--r--@ 1 chi.wang  wheel    1650 Oct  2 14:58 oop-inheritance-lab.ipynb',\n",
       " '-rw-r--r--@ 1 chi.wang  wheel   24340 Oct  2 14:58 oop-inheritance.ipynb',\n",
       " '-rw-r--r--@ 1 chi.wang  wheel   14148 Oct  2 14:58 oop-intro-lab-solution.ipynb',\n",
       " '-rw-r--r--@ 1 chi.wang  wheel    5560 Oct  2 14:58 oop-intro-lab.ipynb',\n",
       " '-rw-r--r--@ 1 chi.wang  wheel   34656 Oct  2 14:58 oop-intro.ipynb',\n",
       " '-rw-r--r--@ 1 chi.wang  wheel   16459 Oct  2 14:58 oop-magic-lab-solution.ipynb',\n",
       " '-rw-r--r--@ 1 chi.wang  wheel    4703 Oct  2 14:58 oop-magic-lab.ipynb',\n",
       " '-rw-r--r--@ 1 chi.wang  wheel   22046 Oct  2 14:58 oop-magic.ipynb',\n",
       " '-rw-r--r--@ 1 chi.wang  wheel   47650 Oct  2 14:58 pandas-aggregation-lab-solution.ipynb',\n",
       " '-rw-r--r--@ 1 chi.wang  wheel    1533 Oct  2 14:58 pandas-aggregation-lab.ipynb',\n",
       " '-rw-r--r--@ 1 chi.wang  wheel   41850 Oct  2 14:58 pandas-aggregation.ipynb',\n",
       " '-rw-r--r--@ 1 chi.wang  wheel   46912 Oct  2 14:58 pandas-exploration-lab-solution.ipynb',\n",
       " '-rw-r--r--@ 1 chi.wang  wheel    2547 Oct  2 14:58 pandas-exploration-lab.ipynb',\n",
       " '-rw-r--r--@ 1 chi.wang  wheel  119140 Oct  2 14:58 pandas-exploration.ipynb',\n",
       " '-rw-r--r--@ 1 chi.wang  wheel   24222 Oct  2 14:58 pandas-io-lab-solution.ipynb',\n",
       " '-rw-r--r--@ 1 chi.wang  wheel    3608 Oct  2 14:58 pandas-io-lab.ipynb',\n",
       " '-rw-r--r--@ 1 chi.wang  wheel  198634 Oct  2 14:58 pandas-io.ipynb',\n",
       " '-rw-r--r--@ 1 chi.wang  wheel   14091 Oct  2 14:58 pandas-merging-lab-solution.ipynb',\n",
       " '-rw-r--r--@ 1 chi.wang  wheel    1640 Oct  2 14:58 pandas-merging-lab.ipynb',\n",
       " '-rw-r--r--@ 1 chi.wang  wheel   62008 Oct  2 14:58 pandas-merging.ipynb',\n",
       " '-rw-r--r--@ 1 chi.wang  wheel   14591 Oct  2 14:58 pdb-lab-solution.ipynb',\n",
       " '-rw-r--r--@ 1 chi.wang  wheel    2293 Oct  2 14:58 pdb-lab.ipynb',\n",
       " '-rw-r--r--@ 1 chi.wang  wheel   55044 Oct  2 14:58 pdb.ipynb',\n",
       " '-rw-r--r--@ 1 chi.wang  wheel   14027 Oct  2 14:58 requests-lab-solution.ipynb',\n",
       " '-rw-r--r--@ 1 chi.wang  wheel    2145 Oct  2 14:58 requests-lab.ipynb',\n",
       " '-rw-r--r--@ 1 chi.wang  wheel   37727 Oct  2 14:58 requests.ipynb',\n",
       " '-rw-r--r--@ 1 chi.wang  wheel   10018 Oct  2 14:58 restful-intro.ipynb',\n",
       " '-rw-r--r--@ 1 chi.wang  wheel   73224 Oct  2 14:58 scipy-lab-solution.ipynb',\n",
       " '-rw-r--r--@ 1 chi.wang  wheel    3778 Oct  2 14:58 scipy-lab.ipynb',\n",
       " '-rw-r--r--@ 1 chi.wang  wheel  530360 Oct  2 14:58 scipy.ipynb',\n",
       " '-rw-r--r--@ 1 chi.wang  wheel    5509 Oct  2 14:58 socket-lab-solution.ipynb',\n",
       " '-rw-r--r--@ 1 chi.wang  wheel    1113 Oct  2 14:58 socket-lab.ipynb',\n",
       " '-rw-r--r--@ 1 chi.wang  wheel   17834 Oct  2 14:58 socket.ipynb',\n",
       " '-rw-r--r--@ 1 chi.wang  wheel   14934 Oct  2 14:58 unittest-lab-solution.ipynb',\n",
       " '-rw-r--r--@ 1 chi.wang  wheel    2045 Oct  2 14:58 unittest-lab.ipynb',\n",
       " '-rw-r--r--@ 1 chi.wang  wheel   48790 Oct  2 14:58 unittest.ipynb',\n",
       " '-rw-r--r--@ 1 chi.wang  wheel    1960 Oct  2 14:58 virtualenv-lab.ipynb',\n",
       " '-rw-r--r--@ 1 chi.wang  wheel   17838 Oct  2 14:58 virtualenv.ipynb']"
      ]
     },
     "execution_count": 24,
     "metadata": {},
     "output_type": "execute_result"
    }
   ],
   "source": [
    "filenames"
   ]
  },
  {
   "cell_type": "code",
   "execution_count": 25,
   "metadata": {},
   "outputs": [
    {
     "name": "stdout",
     "output_type": "stream",
     "text": [
      "This is a little script\n",
      "Iteration 1\n",
      "Iteration 2\n",
      "Iteration 3\n",
      "chi.wang\n"
     ]
    }
   ],
   "source": [
    "%%bash\n",
    "echo \"This is a little script\"\n",
    "for i in $(seq 3); do\n",
    "    echo \"Iteration\" $i\n",
    "done\n",
    "whoami\n",
    "say \"My name is faramir\""
   ]
  },
  {
   "cell_type": "code",
   "execution_count": null,
   "metadata": {},
   "outputs": [],
   "source": []
  }
 ],
 "metadata": {
  "kernelspec": {
   "display_name": "Python 3",
   "language": "python",
   "name": "python3"
  },
  "language_info": {
   "codemirror_mode": {
    "name": "ipython",
    "version": 3
   },
   "file_extension": ".py",
   "mimetype": "text/x-python",
   "name": "python",
   "nbconvert_exporter": "python",
   "pygments_lexer": "ipython3",
   "version": "3.6.5"
  }
 },
 "nbformat": 4,
 "nbformat_minor": 2
}
