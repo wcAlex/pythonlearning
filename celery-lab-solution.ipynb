{
 "cells": [
  {
   "cell_type": "markdown",
   "metadata": {},
   "source": [
    "### Lab: Celery\n",
    "* create a Celery task named __`write_file()`__ which takes two arguments, a filename and a string, and write the string to the file\n",
    "* create a second task named __`read_file()`__ which reads from a file\n",
    "  * if the file does not exist, it waits until the file exists (perhaps have it poll once a second)\n",
    "* test your tasks\n"
   ]
  },
  {
   "cell_type": "code",
   "execution_count": 1,
   "metadata": {},
   "outputs": [
    {
     "name": "stdout",
     "output_type": "stream",
     "text": [
      "Overwriting data/celery_examples/file_tasks.py\n"
     ]
    }
   ],
   "source": [
    "%%file data/celery_examples/file_tasks.py\n",
    "import os\n",
    "import time\n",
    "\n",
    "from celery import Celery\n",
    "\n",
    "app = Celery('tasks', backend='rpc://', broker='amqp://guest@localhost')\n",
    "\n",
    "@app.task\n",
    "def write_file(filename, content):\n",
    "    with open(filename, 'w') as f:\n",
    "        f.write(content)\n",
    "\n",
    "@app.task\n",
    "def read_file(filename):\n",
    "    while not os.path.exists(filename):\n",
    "        time.sleep(1)\n",
    "    with open(filename) as f:\n",
    "        data = f.read()\n",
    "    return data"
   ]
  },
  {
   "cell_type": "code",
   "execution_count": 2,
   "metadata": {},
   "outputs": [],
   "source": [
    "import sys\n",
    "sys.path.append('data')"
   ]
  },
  {
   "cell_type": "code",
   "execution_count": 3,
   "metadata": {},
   "outputs": [
    {
     "name": "stdout",
     "output_type": "stream",
     "text": [
      "Filename? test_abc.txt\n",
      "Content? This is my test file\n",
      "This is my test file\n"
     ]
    }
   ],
   "source": [
    "from celery_examples.file_tasks import write_file, read_file\n",
    "\n",
    "filename = input('Filename? ')\n",
    "content = input('Content? ')\n",
    "\n",
    "write_file.delay(filename, content)\n",
    "result = read_file.delay(filename)\n",
    "print(result.get())\n"
   ]
  },
  {
   "cell_type": "code",
   "execution_count": 5,
   "metadata": {},
   "outputs": [
    {
     "name": "stdout",
     "output_type": "stream",
     "text": [
      "This is my test file"
     ]
    }
   ],
   "source": [
    "cat data/test_abc.txt"
   ]
  },
  {
   "cell_type": "code",
   "execution_count": 7,
   "metadata": {},
   "outputs": [],
   "source": [
    "filename = 'test_xyz.txt'"
   ]
  },
  {
   "cell_type": "code",
   "execution_count": 8,
   "metadata": {},
   "outputs": [],
   "source": [
    "import threading\n",
    "def reader():\n",
    "    result = read_file.delay(filename)\n",
    "    print(result.get())\n",
    "thread = threading.Thread(target=reader)\n",
    "thread.start()"
   ]
  },
  {
   "cell_type": "code",
   "execution_count": 9,
   "metadata": {},
   "outputs": [
    {
     "data": {
      "text/plain": [
       "<AsyncResult: c1ac635d-e296-47e9-bf03-b3d999d88213>"
      ]
     },
     "execution_count": 9,
     "metadata": {},
     "output_type": "execute_result"
    },
    {
     "name": "stdout",
     "output_type": "stream",
     "text": [
      "Here is a file\n"
     ]
    }
   ],
   "source": [
    "write_file.delay(filename, 'Here is a file')"
   ]
  },
  {
   "cell_type": "code",
   "execution_count": 10,
   "metadata": {},
   "outputs": [
    {
     "data": {
      "text/plain": [
       "False"
      ]
     },
     "execution_count": 10,
     "metadata": {},
     "output_type": "execute_result"
    }
   ],
   "source": [
    "thread.isAlive()"
   ]
  }
 ],
 "metadata": {
  "kernelspec": {
   "display_name": "Python 3",
   "language": "python",
   "name": "python3"
  },
  "language_info": {
   "codemirror_mode": {
    "name": "ipython",
    "version": 3
   },
   "file_extension": ".py",
   "mimetype": "text/x-python",
   "name": "python",
   "nbconvert_exporter": "python",
   "pygments_lexer": "ipython3",
   "version": "3.7.6"
  }
 },
 "nbformat": 4,
 "nbformat_minor": 2
}
