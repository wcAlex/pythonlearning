{
 "cells": [
  {
   "cell_type": "markdown",
   "metadata": {},
   "source": [
    "# What is Flask?\n",
    "\n",
    "A lightweight Python web framework [Flask][flask]\n",
    "\n",
    "- Very little boilerplate\n",
    "- Many choices for storage back-ends, but none included in Flask itself\n",
    "\n",
    "[flask]: http://flask.pocoo.org/\n"
   ]
  },
  {
   "cell_type": "markdown",
   "metadata": {},
   "source": [
    "# ReST: Representational State Transfer\n",
    "\n",
    "Everyone *says* they're restful, but...\n",
    "\n",
    "REST has a few attributes that make it truly RESTful:\n",
    "\n",
    "- URLs represent *resources* (i.e. nouns), not *actions* (i.e. verbs)\n",
    "    - a POST to `/mailingList/createUser` is **not** RESTful\n",
    "- Resources may have one or more *representations* (formats transferred over the web)\n",
    "    - HTML\n",
    "    - XML\n",
    "    - JSON\n",
    "- HTTP verbs are used to represent operations on resources\n",
    "    - GET - safe & idempotent, give me the representation for a resource\n",
    "    - PUT - idempotent, replace a resource at a given URL\n",
    "    - PATCH - partial update to a resource at a given URL\n",
    "    - DELETE - idempotent, delete a resource at a given URL\n",
    "    - POST - do something else (frequently create)\n",
    "- Representations must communicate their relationships to other resources via *hypertext*\n",
    "    - Generally, this means representations have URLs to relate to other resources, *not* just IDs\n",
    "    - Requiring knowledge of URL layout is not RESTful\n",
    "    - \"Hypertext as the engine of application state\" or HATEOAS\n",
    "    - We'll use a tiny part of a HATEOAS standard known as HAL"
   ]
  },
  {
   "cell_type": "markdown",
   "metadata": {},
   "source": [
    "# Getting started - our first Flask API\n",
    "\n",
    "- Single endpoint/resource: the root (/)\n",
    "- Single representation: `{\"hello\": \"world\"}`\n",
    "- Single operation: GET\n",
    "- A flask **view** is a function that maps to a URL"
   ]
  },
  {
   "cell_type": "code",
   "execution_count": 1,
   "metadata": {},
   "outputs": [
    {
     "name": "stdout",
     "output_type": "stream",
     "text": [
      "Looking in links: /Users/rick446/src/wheelhouse\n",
      "Requirement already satisfied: flask in /Users/rick446/.virtualenvs/py37/lib/python3.7/site-packages/Flask-1.1.1-py3.7.egg (1.1.1)\n",
      "Requirement already satisfied: Jinja2>=2.10.1 in /Users/rick446/.virtualenvs/py37/lib/python3.7/site-packages (from flask) (2.10.1)\n",
      "Requirement already satisfied: Werkzeug>=0.15 in /Users/rick446/.virtualenvs/py37/lib/python3.7/site-packages (from flask) (0.15.5)\n",
      "Requirement already satisfied: click>=5.1 in /Users/rick446/.virtualenvs/py37/lib/python3.7/site-packages/Click-7.0-py3.7.egg (from flask) (7.0)\n",
      "Requirement already satisfied: itsdangerous>=0.24 in /Users/rick446/.virtualenvs/py37/lib/python3.7/site-packages/itsdangerous-1.1.0-py3.7.egg (from flask) (1.1.0)\n",
      "Requirement already satisfied: MarkupSafe>=0.23 in /Users/rick446/.virtualenvs/py37/lib/python3.7/site-packages (from Jinja2>=2.10.1->flask) (1.1.1)\n",
      "\u001b[33mYou are using pip version 19.0.3, however version 20.2b1 is available.\n",
      "You should consider upgrading via the 'pip install --upgrade pip' command.\u001b[0m\n"
     ]
    }
   ],
   "source": [
    "!pip install flask"
   ]
  },
  {
   "cell_type": "markdown",
   "metadata": {},
   "source": [
    "Normally, we would run flask by executing the following in the shell:\n",
    "\n",
    "\n",
    "```bash\n",
    "$ FLASK_APP=intro_flask.app1 FLASK_ENV=development flask run\n",
    "```\n",
    "\n",
    "Since we're using the notebook, here's a little program to run a subprocess in a thread:"
   ]
  },
  {
   "cell_type": "code",
   "execution_count": 2,
   "metadata": {},
   "outputs": [
    {
     "name": "stdout",
     "output_type": "stream",
     "text": [
      "/Users/rick446/.virtualenvs/py37/bin/flask\r\n"
     ]
    }
   ],
   "source": [
    "!which flask"
   ]
  },
  {
   "cell_type": "code",
   "execution_count": 3,
   "metadata": {},
   "outputs": [],
   "source": [
    "import os, sys, threading, subprocess\n",
    "\n",
    "def output_thread(proc):\n",
    "    for line in proc.stdout:\n",
    "        print(line.decode('utf-8'), end='')\n",
    "    print('Exiting output thread')\n",
    "\n",
    "def run_flask_app(app_name):\n",
    "    proc = subprocess.Popen(\n",
    "        # [sys.executable, 'flask', 'run'],\n",
    "        ['flask', 'run', '--no-reload'],\n",
    "        env={\n",
    "            **os.environ, \n",
    "            'FLASK_APP': app_name,\n",
    "            'FLASK_ENV': 'development',\n",
    "        },\n",
    "        stderr=subprocess.STDOUT,\n",
    "        stdout=subprocess.PIPE\n",
    "    )\n",
    "    # Wait for the port to bind\n",
    "    for line in proc.stdout:\n",
    "        line = line.decode('utf-8')\n",
    "        print(line, end='')\n",
    "        if ' * Running on http://127.0.0.1:5000/ (Press CTRL+C to quit)' in line:\n",
    "            break\n",
    "    else:\n",
    "        print('== Error starting server ==')\n",
    "        return None\n",
    "    thd = threading.Thread(target=output_thread, args=(proc,))\n",
    "    thd.setDaemon(True)\n",
    "    thd.start()\n",
    "    return proc\n"
   ]
  },
  {
   "cell_type": "code",
   "execution_count": 4,
   "metadata": {},
   "outputs": [
    {
     "name": "stdout",
     "output_type": "stream",
     "text": [
      "Overwriting data/flask-examples/app1.py\n"
     ]
    }
   ],
   "source": [
    "%%file data/flask-examples/app1.py\n",
    "import flask\n",
    "\n",
    "app = flask.Flask(__name__)\n",
    "\n",
    "@app.route('/')\n",
    "def get_root():\n",
    "    return flask.jsonify(hello='world')"
   ]
  },
  {
   "cell_type": "code",
   "execution_count": 5,
   "metadata": {
    "scrolled": true
   },
   "outputs": [
    {
     "name": "stdout",
     "output_type": "stream",
     "text": [
      " * Serving Flask app \"data.flask-examples.app1\"\n",
      " * Environment: development\n",
      " * Debug mode: on\n",
      " * Running on http://127.0.0.1:5000/ (Press CTRL+C to quit)\n"
     ]
    }
   ],
   "source": [
    "sp = run_flask_app('data.flask-examples.app1')"
   ]
  },
  {
   "cell_type": "code",
   "execution_count": 6,
   "metadata": {},
   "outputs": [
    {
     "name": "stdout",
     "output_type": "stream",
     "text": [
      "127.0.0.1 - - [29/Jul/2020 09:50:26] \"\u001b[37mGET / HTTP/1.1\u001b[0m\" 200 -\n"
     ]
    },
    {
     "data": {
      "text/plain": [
       "{'hello': 'world'}"
      ]
     },
     "execution_count": 6,
     "metadata": {},
     "output_type": "execute_result"
    }
   ],
   "source": [
    "import requests\n",
    "resp = requests.get('http://localhost:5000')\n",
    "resp.json()"
   ]
  },
  {
   "cell_type": "code",
   "execution_count": 7,
   "metadata": {},
   "outputs": [
    {
     "name": "stdout",
     "output_type": "stream",
     "text": [
      "127.0.0.1 - - [29/Jul/2020 09:50:34] \"\u001b[37mGET / HTTP/1.1\u001b[0m\" 200 -\n",
      "{\r\n",
      "  \"hello\": \"world\"\r\n",
      "}\r\n"
     ]
    }
   ],
   "source": [
    "!curl localhost:5000"
   ]
  },
  {
   "cell_type": "code",
   "execution_count": 8,
   "metadata": {},
   "outputs": [
    {
     "name": "stdout",
     "output_type": "stream",
     "text": [
      "Exiting output thread\n"
     ]
    }
   ],
   "source": [
    "sp.kill()"
   ]
  },
  {
   "cell_type": "markdown",
   "metadata": {},
   "source": [
    "WSGI - web server gateway interface"
   ]
  },
  {
   "cell_type": "markdown",
   "metadata": {},
   "source": [
    "# One more helper: run an app in a context manager"
   ]
  },
  {
   "cell_type": "code",
   "execution_count": 9,
   "metadata": {},
   "outputs": [],
   "source": [
    "import time, contextlib\n",
    "\n",
    "@contextlib.contextmanager\n",
    "def running_app(app_name):\n",
    "    proc = run_flask_app(app_name)\n",
    "    try:\n",
    "        yield proc\n",
    "    finally:\n",
    "        proc.kill()        "
   ]
  },
  {
   "cell_type": "code",
   "execution_count": 10,
   "metadata": {},
   "outputs": [
    {
     "name": "stdout",
     "output_type": "stream",
     "text": [
      " * Serving Flask app \"data.flask-examples.app1\"\n",
      " * Environment: development\n",
      " * Debug mode: on\n",
      " * Running on http://127.0.0.1:5000/ (Press CTRL+C to quit)\n",
      "127.0.0.1 - - [29/Jul/2020 09:53:24] \"\u001b[37mGET / HTTP/1.1\u001b[0m\" 200 -\n",
      "{\n",
      "  \"hello\": \"world\"\n",
      "}\n",
      "Exiting output thread\n"
     ]
    }
   ],
   "source": [
    "with running_app('data.flask-examples.app1'):\n",
    "    !curl localhost:5000"
   ]
  },
  {
   "cell_type": "markdown",
   "metadata": {},
   "source": [
    "# Handling url parameters"
   ]
  },
  {
   "cell_type": "code",
   "execution_count": 15,
   "metadata": {},
   "outputs": [
    {
     "name": "stdout",
     "output_type": "stream",
     "text": [
      "Overwriting data/flask-examples/app2.py\n"
     ]
    }
   ],
   "source": [
    "%%file data/flask-examples/app2.py\n",
    "import flask\n",
    "\n",
    "app = flask.Flask(__name__)\n",
    "\n",
    "@app.route('/')\n",
    "def get_root():\n",
    "    return flask.jsonify(hello='world')\n",
    "\n",
    "@app.route('/<name>')\n",
    "def get_name(name):\n",
    "    return flask.jsonify(hello=name)"
   ]
  },
  {
   "cell_type": "code",
   "execution_count": 16,
   "metadata": {},
   "outputs": [
    {
     "name": "stdout",
     "output_type": "stream",
     "text": [
      " * Serving Flask app \"data.flask-examples.app2\"\n",
      " * Environment: development\n",
      " * Debug mode: on\n",
      " * Running on http://127.0.0.1:5000/ (Press CTRL+C to quit)\n",
      "127.0.0.1 - - [29/Jul/2020 09:55:07] \"\u001b[37mGET / HTTP/1.1\u001b[0m\" 200 -\n",
      "{\n",
      "  \"hello\": \"world\"\n",
      "}\n",
      "127.0.0.1 - - [29/Jul/2020 09:55:07] \"\u001b[37mGET /rick HTTP/1.1\u001b[0m\" 200 -\n",
      "{\n",
      "  \"hello\": \"rick\"\n",
      "}\n",
      "127.0.0.1 - - [29/Jul/2020 09:55:07] \"\u001b[37mGET /intuit HTTP/1.1\u001b[0m\" 200 -\n",
      "{\n",
      "  \"hello\": \"intuit\"\n",
      "}\n",
      "Exiting output thread\n"
     ]
    }
   ],
   "source": [
    "with running_app('data.flask-examples.app2'):\n",
    "    !curl localhost:5000\n",
    "    !curl localhost:5000/rick\n",
    "    !curl localhost:5000/intuit"
   ]
  },
  {
   "cell_type": "markdown",
   "metadata": {},
   "source": [
    "# Handling JSON data\n",
    "\n",
    "The code used below requires that the request be sent with `Content-Type: application/json`"
   ]
  },
  {
   "cell_type": "code",
   "execution_count": 17,
   "metadata": {},
   "outputs": [
    {
     "name": "stdout",
     "output_type": "stream",
     "text": [
      "Overwriting data/flask-examples/app3.py\n"
     ]
    }
   ],
   "source": [
    "%%file data/flask-examples/app3.py\n",
    "import flask\n",
    "\n",
    "app = flask.Flask(__name__)\n",
    "\n",
    "state = {'name': 'world'}\n",
    "\n",
    "@app.route('/')\n",
    "def get_root():\n",
    "    return flask.jsonify(hello=state['name'])\n",
    "\n",
    "@app.route('/', methods=['PUT'])\n",
    "def set_name():\n",
    "    body = flask.request.json  # resolves to None if no valid JSON Content-Type header\n",
    "    state['name'] = body['name']\n",
    "    return flask.jsonify(name=state['name'])"
   ]
  },
  {
   "cell_type": "code",
   "execution_count": 22,
   "metadata": {
    "scrolled": false
   },
   "outputs": [
    {
     "name": "stdout",
     "output_type": "stream",
     "text": [
      " * Serving Flask app \"data.flask-examples.app3\"\n",
      " * Environment: development\n",
      " * Debug mode: on\n",
      " * Running on http://127.0.0.1:5000/ (Press CTRL+C to quit)\n",
      "127.0.0.1 - - [29/Jul/2020 09:59:11] \"\u001b[37mGET / HTTP/1.1\u001b[0m\" 200 -\n",
      "{\n",
      "  \"hello\": \"world\"\n",
      "}\n",
      "127.0.0.1 - - [29/Jul/2020 09:59:12] \"\u001b[37mPUT / HTTP/1.1\u001b[0m\" 200 -\n",
      "{\n",
      "  \"name\": \"Rick\"\n",
      "}\n",
      "127.0.0.1 - - [29/Jul/2020 09:59:12] \"\u001b[37mGET / HTTP/1.1\u001b[0m\" 200 -\n",
      "{\n",
      "  \"hello\": \"Rick\"\n",
      "}\n",
      "127.0.0.1 - - [29/Jul/2020 09:59:12] \"\u001b[37mPUT / HTTP/1.1\u001b[0m\" 200 -\n",
      "127.0.0.1 - - [29/Jul/2020 09:59:12] \"\u001b[37mGET / HTTP/1.1\u001b[0m\" 200 -\n",
      "{\n",
      "  \"hello\": \"intuit\"\n",
      "}\n",
      "Exiting output thread\n"
     ]
    }
   ],
   "source": [
    "with running_app('data.flask-examples.app3'):\n",
    "    !curl localhost:5000\n",
    "    !curl -XPUT -H 'Content-Type: application/json' -d '{\"name\": \"Rick\"}' localhost:5000 \n",
    "    !curl localhost:5000\n",
    "    requests.put('http://localhost:5000', json=dict(name='intuit'))\n",
    "    !curl localhost:5000"
   ]
  },
  {
   "cell_type": "markdown",
   "metadata": {},
   "source": [
    "# Using auth data (basic) & URL generation"
   ]
  },
  {
   "cell_type": "code",
   "execution_count": null,
   "metadata": {},
   "outputs": [],
   "source": [
    "%%file data/flask-examples/app4.py\n",
    "import flask\n",
    "\n",
    "app = flask.Flask(__name__)\n",
    "\n",
    "@app.route('/profile/<username>')\n",
    "def get_profile(username):\n",
    "    return flask.jsonify(username=username)\n",
    "\n",
    "@app.route('/userinfo')\n",
    "def get_userinfo():\n",
    "    username = flask.request.authorization['username']\n",
    "    profile_url = flask.url_for(\n",
    "        'get_profile', username=username, \n",
    "        _external=True\n",
    "    )\n",
    "    return flask.jsonify(\n",
    "        _links={'profile': profile_url},\n",
    "        username=username,\n",
    "        # don't do this in production, obviously\n",
    "        password=flask.request.authorization['password'] ,\n",
    "        headers=dict(flask.request.headers)\n",
    "    )"
   ]
  },
  {
   "cell_type": "code",
   "execution_count": 24,
   "metadata": {},
   "outputs": [
    {
     "name": "stdout",
     "output_type": "stream",
     "text": [
      " * Serving Flask app \"data.flask-examples.app4\"\n",
      " * Environment: development\n",
      " * Debug mode: on\n",
      " * Running on http://127.0.0.1:5000/ (Press CTRL+C to quit)\n",
      "127.0.0.1 - - [29/Jul/2020 10:01:37] \"\u001b[37mGET /userinfo HTTP/1.1\u001b[0m\" 200 -\n",
      "{\n",
      "  \"_links\": {\n",
      "    \"profile\": \"http://localhost:5000/profile/rick\"\n",
      "  }, \n",
      "  \"headers\": {\n",
      "    \"Accept\": \"*/*\", \n",
      "    \"Authorization\": \"Basic cmljazpzZWNyZXQ=\", \n",
      "    \"Host\": \"localhost:5000\", \n",
      "    \"User-Agent\": \"curl/7.54.0\"\n",
      "  }, \n",
      "  \"password\": \"secret\", \n",
      "  \"username\": \"rick\"\n",
      "}\n",
      "127.0.0.1 - - [29/Jul/2020 10:01:37] \"\u001b[37mGET /userinfo HTTP/1.1\u001b[0m\" 200 -\n",
      "{'_links': {'profile': 'http://localhost:5000/profile/intuit'}, 'headers': {'Accept': '*/*', 'Accept-Encoding': 'gzip, deflate', 'Authorization': 'Basic aW50dWl0OnJvY2tz', 'Connection': 'keep-alive', 'Host': 'localhost:5000', 'User-Agent': 'python-requests/2.24.0'}, 'password': 'rocks', 'username': 'intuit'}\n",
      "Exiting output thread\n"
     ]
    }
   ],
   "source": [
    "with running_app('data.flask-examples.app4'):\n",
    "    !curl rick:secret@localhost:5000/userinfo\n",
    "    print(requests.get('http://localhost:5000/userinfo', auth=(\"intuit\", \"rocks\")).json())"
   ]
  },
  {
   "cell_type": "markdown",
   "metadata": {},
   "source": [
    "# The task: build a REST API for a blog in Flask\n",
    "\n",
    "- What are our resources?\n",
    "- What are the operations on the resources?\n",
    "- What representation(s) do we want to use for each resource?"
   ]
  },
  {
   "cell_type": "markdown",
   "metadata": {},
   "source": [
    "# Building the blog post API\n",
    "\n",
    "## Resource structure\n",
    "\n",
    "```\n",
    "{\n",
    "    _links: {self: <link_to_post>},\n",
    "    postedDate: ...,\n",
    "    authorName: ...,\n",
    "    title: ...,\n",
    "    body: ...,\n",
    "}\n",
    "```\n",
    "\n",
    "## URL structure\n",
    "\n",
    "- / \n",
    "    - GET: return `{_links: {posts: /post}}`\n",
    "- /post\n",
    "    - GET: return list of posts\n",
    "    - POST: create and return a post\n",
    "- `/post/<post_id>` - return a single post\n",
    "    - GET: return the post\n",
    "    - PUT: update the post\n",
    "    - DELETE: delete the post\n",
    "\n"
   ]
  },
  {
   "cell_type": "code",
   "execution_count": 25,
   "metadata": {},
   "outputs": [
    {
     "name": "stdout",
     "output_type": "stream",
     "text": [
      "Overwriting data/flask-examples/app5.py\n"
     ]
    }
   ],
   "source": [
    "%%file data/flask-examples/app5.py\n",
    "from datetime import datetime\n",
    "from uuid import uuid4\n",
    "\n",
    "import flask\n",
    "from flask import Flask, jsonify, request, abort\n",
    "\n",
    "\n",
    "app = Flask(__name__)\n",
    "\n",
    "state = {\n",
    "    'posts': {\n",
    "        uuid4().hex: {\n",
    "            'postedDate': datetime.utcnow(),\n",
    "            'authorName': 'rick',\n",
    "            'title': 'first!',\n",
    "            'body': 'First post!'\n",
    "        }\n",
    "    }\n",
    "}\n",
    "\n",
    "def url_for(*args, **kwargs):\n",
    "    return flask.url_for(*args, _external=True, **kwargs)\n",
    "\n",
    "# /post/123 - *not* _external=True\n",
    "# http://localhost:5000/post/123 - _external=True\n",
    "\n",
    "\n",
    "@app.route('/')\n",
    "def get_root():\n",
    "    return jsonify(_links={'posts': url_for('get_posts')})\n",
    "\n",
    "@app.route('/post')\n",
    "def get_posts():\n",
    "    post_links = [\n",
    "        url_for('get_post', id=id) \n",
    "        for id in state['posts']\n",
    "    ]\n",
    "    return jsonify(\n",
    "        _links={'self': url_for('get_posts')},\n",
    "        data=[\n",
    "            dict(_links=dict(self=link)) \n",
    "            for link in post_links\n",
    "        ]\n",
    "    )\n",
    "\n",
    "@app.route('/post/<id>')\n",
    "def get_post(id):\n",
    "    # post = state['posts'][id]  # could generate a KeyError => 500 Error\n",
    "    post = state['posts'].get(id)\n",
    "    if not post:\n",
    "        abort(404)\n",
    "    return jsonify(\n",
    "        _links={'self': url_for('get_post', id=id)},\n",
    "        postedDate=post['postedDate'].isoformat(),\n",
    "        authorName=post['authorName'],\n",
    "        title=post['title'],\n",
    "        body=post['body']\n",
    "    )"
   ]
  },
  {
   "cell_type": "code",
   "execution_count": 26,
   "metadata": {},
   "outputs": [
    {
     "name": "stdout",
     "output_type": "stream",
     "text": [
      " * Serving Flask app \"data.flask-examples.app5\"\n",
      " * Environment: development\n",
      " * Debug mode: on\n",
      " * Running on http://127.0.0.1:5000/ (Press CTRL+C to quit)\n",
      "127.0.0.1 - - [29/Jul/2020 10:13:10] \"\u001b[37mGET / HTTP/1.1\u001b[0m\" 200 -\n",
      "{\n",
      "  \"_links\": {\n",
      "    \"posts\": \"http://localhost:5000/post\"\n",
      "  }\n",
      "}\n",
      "127.0.0.1 - - [29/Jul/2020 10:13:10] \"\u001b[37mGET /post HTTP/1.1\u001b[0m\" 200 -\n",
      "{\n",
      "  \"_links\": {\n",
      "    \"self\": \"http://localhost:5000/post\"\n",
      "  }, \n",
      "  \"data\": [\n",
      "    {\n",
      "      \"_links\": {\n",
      "        \"self\": \"http://localhost:5000/post/78dba9ffcfa243d4949c7c9e67fe550a\"\n",
      "      }\n",
      "    }\n",
      "  ]\n",
      "}\n",
      "Got post, now need to return...\n",
      "Exiting output thread\n"
     ]
    }
   ],
   "source": [
    "with running_app('data.flask-examples.app5'):\n",
    "    !curl localhost:5000\n",
    "    !curl localhost:5000/post\n",
    "    print('Got post, now need to return...')"
   ]
  },
  {
   "cell_type": "code",
   "execution_count": 27,
   "metadata": {},
   "outputs": [
    {
     "name": "stdout",
     "output_type": "stream",
     "text": [
      " * Serving Flask app \"data.flask-examples.app5\"\n",
      " * Environment: development\n",
      " * Debug mode: on\n",
      " * Running on http://127.0.0.1:5000/ (Press CTRL+C to quit)\n",
      "127.0.0.1 - - [29/Jul/2020 10:14:25] \"\u001b[37mGET / HTTP/1.1\u001b[0m\" 200 -\n",
      "root is {'_links': {'posts': 'http://localhost:5000/post'}}\n",
      "127.0.0.1 - - [29/Jul/2020 10:14:25] \"\u001b[37mGET /post HTTP/1.1\u001b[0m\" 200 -\n",
      "posts is {'_links': {'self': 'http://localhost:5000/post'}, 'data': [{'_links': {'self': 'http://localhost:5000/post/8e1cd80a07904ecfad57b8438ecd687a'}}]}\n",
      "127.0.0.1 - - [29/Jul/2020 10:14:25] \"\u001b[37mGET /post/8e1cd80a07904ecfad57b8438ecd687a HTTP/1.1\u001b[0m\" 200 -\n",
      "post is {'_links': {'self': 'http://localhost:5000/post/8e1cd80a07904ecfad57b8438ecd687a'}, 'authorName': 'rick', 'body': 'First post!', 'postedDate': '2020-07-29T17:14:25.373751', 'title': 'first!'}\n",
      "Exiting output thread\n"
     ]
    }
   ],
   "source": [
    "import requests\n",
    "\n",
    "with running_app('data.flask-examples.app5'):\n",
    "    root = requests.get('http://localhost:5000').json()\n",
    "    print('root is', root)\n",
    "    posts = requests.get(root['_links']['posts']).json()\n",
    "    print('posts is', posts)\n",
    "    post = requests.get(posts['data'][0]['_links']['self']).json()\n",
    "    print('post is', post)\n"
   ]
  },
  {
   "cell_type": "code",
   "execution_count": 28,
   "metadata": {},
   "outputs": [
    {
     "data": {
      "text/plain": [
       "{'_links': {'self': 'http://localhost:5000/post/8e1cd80a07904ecfad57b8438ecd687a'},\n",
       " 'authorName': 'rick',\n",
       " 'body': 'First post!',\n",
       " 'postedDate': '2020-07-29T17:14:25.373751',\n",
       " 'title': 'first!'}"
      ]
     },
     "execution_count": 28,
     "metadata": {},
     "output_type": "execute_result"
    }
   ],
   "source": [
    "post"
   ]
  },
  {
   "cell_type": "markdown",
   "metadata": {},
   "source": [
    "# Aside: `glom` can be handy for consuming deeply nested dicts like this"
   ]
  },
  {
   "cell_type": "code",
   "execution_count": 29,
   "metadata": {},
   "outputs": [
    {
     "name": "stdout",
     "output_type": "stream",
     "text": [
      "Looking in links: /Users/rick446/src/wheelhouse\n",
      "Requirement already satisfied: glom in /Users/rick446/.virtualenvs/py37/lib/python3.7/site-packages (19.10.0)\n",
      "Requirement already satisfied: attrs in /Users/rick446/.virtualenvs/py37/lib/python3.7/site-packages (from glom) (19.1.0)\n",
      "Requirement already satisfied: boltons>=19.3.0 in /Users/rick446/.virtualenvs/py37/lib/python3.7/site-packages (from glom) (20.0.0)\n",
      "Requirement already satisfied: face in /Users/rick446/.virtualenvs/py37/lib/python3.7/site-packages (from glom) (20.1.1)\n",
      "\u001b[33mYou are using pip version 19.0.3, however version 20.2b1 is available.\n",
      "You should consider upgrading via the 'pip install --upgrade pip' command.\u001b[0m\n"
     ]
    }
   ],
   "source": [
    "!pip install glom"
   ]
  },
  {
   "cell_type": "code",
   "execution_count": 30,
   "metadata": {},
   "outputs": [],
   "source": [
    "from glom import glom"
   ]
  },
  {
   "cell_type": "code",
   "execution_count": 31,
   "metadata": {},
   "outputs": [
    {
     "name": "stdout",
     "output_type": "stream",
     "text": [
      " * Serving Flask app \"data.flask-examples.app5\"\n",
      " * Environment: development\n",
      " * Debug mode: on\n",
      " * Running on http://127.0.0.1:5000/ (Press CTRL+C to quit)\n",
      "127.0.0.1 - - [29/Jul/2020 10:16:20] \"\u001b[37mGET / HTTP/1.1\u001b[0m\" 200 -\n",
      "127.0.0.1 - - [29/Jul/2020 10:16:20] \"\u001b[37mGET /post HTTP/1.1\u001b[0m\" 200 -\n",
      "127.0.0.1 - - [29/Jul/2020 10:16:20] \"\u001b[37mGET /post/3b4384c932ef4f0c9868053c6c9bc68c HTTP/1.1\u001b[0m\" 200 -\n"
     ]
    },
    {
     "data": {
      "text/plain": [
       "{'_links': {'self': 'http://localhost:5000/post/3b4384c932ef4f0c9868053c6c9bc68c'},\n",
       " 'authorName': 'rick',\n",
       " 'body': 'First post!',\n",
       " 'postedDate': '2020-07-29T17:16:20.544407',\n",
       " 'title': 'first!'}"
      ]
     },
     "execution_count": 31,
     "metadata": {},
     "output_type": "execute_result"
    },
    {
     "name": "stdout",
     "output_type": "stream",
     "text": [
      "Exiting output thread\n"
     ]
    }
   ],
   "source": [
    "import requests\n",
    "\n",
    "with running_app('data.flask-examples.app5'):\n",
    "    root = requests.get('http://localhost:5000').json()\n",
    "    posts = requests.get(glom(root, '_links.posts')).json()\n",
    "    post = requests.get(glom(posts, 'data.0._links.self')).json()\n",
    "post"
   ]
  },
  {
   "cell_type": "code",
   "execution_count": 32,
   "metadata": {},
   "outputs": [
    {
     "name": "stdout",
     "output_type": "stream",
     "text": [
      " * Serving Flask app \"data.flask-examples.app5\"\n",
      " * Environment: development\n",
      " * Debug mode: on\n",
      " * Running on http://127.0.0.1:5000/ (Press CTRL+C to quit)\n",
      "127.0.0.1 - - [29/Jul/2020 10:16:46] \"\u001b[1m\u001b[31mPOST / HTTP/1.1\u001b[0m\" 405 -\n",
      "<!DOCTYPE HTML PUBLIC \"-//W3C//DTD HTML 3.2 Final//EN\">\n",
      "<title>405 Method Not Allowed</title>\n",
      "<h1>Method Not Allowed</h1>\n",
      "<p>The method is not allowed for the requested URL.</p>\n",
      "Exiting output thread\n"
     ]
    }
   ],
   "source": [
    "with running_app('data.flask-examples.app5'):\n",
    "    !curl -X POST localhost:5000 -d ''"
   ]
  },
  {
   "cell_type": "markdown",
   "metadata": {},
   "source": [
    "## Modifying posts"
   ]
  },
  {
   "cell_type": "code",
   "execution_count": 45,
   "metadata": {},
   "outputs": [
    {
     "name": "stdout",
     "output_type": "stream",
     "text": [
      "Overwriting data/flask-examples/app6.py\n"
     ]
    }
   ],
   "source": [
    "%%file data/flask-examples/app6.py\n",
    "from datetime import datetime\n",
    "from uuid import uuid4\n",
    "\n",
    "import flask\n",
    "from flask import Flask, jsonify, request, abort\n",
    "\n",
    "\n",
    "app = Flask(__name__)\n",
    "\n",
    "state = {\n",
    "    'posts': { }\n",
    "#         uuid4().hex: {\n",
    "#             'postedDate': datetime.utcnow(),\n",
    "#             'authorName': 'rick',\n",
    "#             'title': 'first!',\n",
    "#             'body': 'First post!'\n",
    "#         }\n",
    "#     }\n",
    "}\n",
    "\n",
    "def url_for(*args, **kwargs):\n",
    "    return flask.url_for(*args, _external=True, **kwargs)\n",
    "\n",
    "@app.route('/')\n",
    "def get_root():\n",
    "    return jsonify(_links={'posts': url_for('get_posts')})\n",
    "\n",
    "@app.route('/post')\n",
    "def get_posts():\n",
    "    post_links = [url_for('get_post', id=id) for id in state['posts']]\n",
    "    return jsonify(\n",
    "        _links={'self': url_for('get_posts')},\n",
    "        data=[dict(_links=dict(self=link)) for link in post_links])\n",
    "\n",
    "@app.route('/post', methods=['POST'])\n",
    "def create_post():\n",
    "    post_id = uuid4().hex\n",
    "    post = {\n",
    "        'postedDate': datetime.utcnow(),\n",
    "        'authorName': request.authorization.username,\n",
    "        'request_args': request.args,\n",
    "        **request.json\n",
    "    }\n",
    "    # if you don't like the **syntax, you can also post.update(request.json)\n",
    "    state['posts'][post_id] = post\n",
    "    result = jsonify_post(post_id, post)\n",
    "    result.headers['Location'] = url_for('get_post', id=post_id)\n",
    "    return result, 201\n",
    "\n",
    "@app.route('/post/<id>')\n",
    "def get_post(id):\n",
    "    post = state['posts'].get(id)\n",
    "    if not post:\n",
    "        abort(404)\n",
    "    return jsonify_post(id, post)\n",
    "\n",
    "@app.route('/post/<id>', methods=['PUT'])\n",
    "def update_post(id):\n",
    "    post = state['posts'].get(id)\n",
    "    if not post:\n",
    "        abort(404)\n",
    "    post = {\n",
    "        'postedDate': datetime.utcnow(),\n",
    "        'authorName': request.authorization.username,\n",
    "        **request.json  # python 3.5?6?\n",
    "    }\n",
    "    # post.update(request.json)\n",
    "    state['posts'][id] = post\n",
    "    return jsonify_post(id, post)\n",
    "\n",
    "@app.route('/post/<id>', methods=['DELETE'])\n",
    "def delete_post(id):\n",
    "    state['posts'].pop(id, None)\n",
    "    return '', 204\n",
    "\n",
    "def jsonify_post(id, post, **kwargs):\n",
    "    return jsonify(\n",
    "        _links={'self': url_for('get_post', id=id)},\n",
    "        postedDate=post['postedDate'].isoformat(),\n",
    "        authorName=post['authorName'],\n",
    "        title=post['title'],\n",
    "        body=post['body'],\n",
    "        request_args=post.get('request_args', None)\n",
    "    )\n",
    "    "
   ]
  },
  {
   "cell_type": "code",
   "execution_count": 47,
   "metadata": {},
   "outputs": [
    {
     "name": "stdout",
     "output_type": "stream",
     "text": [
      " * Serving Flask app \"data.flask-examples.app6\"\n",
      " * Environment: development\n",
      " * Debug mode: on\n",
      " * Running on http://127.0.0.1:5000/ (Press CTRL+C to quit)\n",
      "127.0.0.1 - - [29/Jul/2020 10:28:21] \"\u001b[37mGET / HTTP/1.1\u001b[0m\" 200 -\n",
      "127.0.0.1 - - [29/Jul/2020 10:28:21] \"\u001b[37mPOST /post?something+else=entirely HTTP/1.1\u001b[0m\" 201 -\n",
      "'http://localhost:5000/post/4dc16dd17fc94e42bbec6a21fad8cf86'\n",
      "Press enter to continue\n",
      "{'_links': {'self': 'http://localhost:5000/post/4dc16dd17fc94e42bbec6a21fad8cf86'},\n",
      " 'authorName': 'rick',\n",
      " 'body': 'First post!',\n",
      " 'postedDate': '2020-07-29T17:28:21.042144',\n",
      " 'request_args': {'something else': 'entirely'},\n",
      " 'title': 'First!'}\n",
      "Press enter to continue\n",
      "127.0.0.1 - - [29/Jul/2020 10:28:56] \"\u001b[37mPOST /post HTTP/1.1\u001b[0m\" 201 -\n",
      "127.0.0.1 - - [29/Jul/2020 10:28:56] \"\u001b[37mPOST /post HTTP/1.1\u001b[0m\" 201 -\n",
      "127.0.0.1 - - [29/Jul/2020 10:28:56] \"\u001b[37mGET /post HTTP/1.1\u001b[0m\" 200 -\n",
      "{'_links': {'self': 'http://localhost:5000/post'},\n",
      " 'data': [{'_links': {'self': 'http://localhost:5000/post/4dc16dd17fc94e42bbec6a21fad8cf86'}},\n",
      "          {'_links': {'self': 'http://localhost:5000/post/f4e8d66d004f44bda1d9ceb96f425f35'}},\n",
      "          {'_links': {'self': 'http://localhost:5000/post/3c573aca8c4848da91da0af8352b8c0d'}}]}\n",
      "Press enter to continue\n",
      "127.0.0.1 - - [29/Jul/2020 10:28:56] \"\u001b[37mDELETE /post/4dc16dd17fc94e42bbec6a21fad8cf86 HTTP/1.1\u001b[0m\" 204 -\n",
      "127.0.0.1 - - [29/Jul/2020 10:28:56] \"\u001b[37mGET /post HTTP/1.1\u001b[0m\" 200 -\n",
      "{'_links': {'self': 'http://localhost:5000/post'},\n",
      " 'data': [{'_links': {'self': 'http://localhost:5000/post/f4e8d66d004f44bda1d9ceb96f425f35'}},\n",
      "          {'_links': {'self': 'http://localhost:5000/post/3c573aca8c4848da91da0af8352b8c0d'}}]}\n",
      "Press enter to continue\n",
      "Exiting output thread\n"
     ]
    }
   ],
   "source": [
    "from pprint import pprint\n",
    "\n",
    "sess = requests.Session()\n",
    "sess.auth = ('rick', 'password')\n",
    "\n",
    "with running_app('data.flask-examples.app6'):\n",
    "    root = sess.get('http://localhost:5000').json()\n",
    "    posts_url = glom(root, '_links.posts')\n",
    "    resp = sess.post(\n",
    "        posts_url, \n",
    "        json=dict(title='First!', body=\"First post!\"),\n",
    "        params={'something else': 'entirely'}\n",
    "    )\n",
    "    pprint(resp.headers['Location'])\n",
    "    input('Press enter to continue')\n",
    "    post1 = resp.json()\n",
    "    pprint(post1)\n",
    "    input('Press enter to continue')\n",
    "    sess.post(posts_url, json=dict(title='Second!', body=\"Second post!\"))\n",
    "    sess.post(posts_url, json=dict(title='Third!', body=\"Another post!\"))\n",
    "    pprint(sess.get(posts_url).json())\n",
    "    input('Press enter to continue')\n",
    "    resp = sess.delete(glom(post1, '_links.self'))\n",
    "    pprint(sess.get(posts_url).json())\n",
    "    input('Press enter to continue')\n"
   ]
  },
  {
   "cell_type": "markdown",
   "metadata": {},
   "source": [
    "# Organizing code into blueprints for reusability and maintenance"
   ]
  },
  {
   "cell_type": "code",
   "execution_count": 56,
   "metadata": {},
   "outputs": [
    {
     "name": "stdout",
     "output_type": "stream",
     "text": [
      "Overwriting data/flask-examples/app7.py\n"
     ]
    }
   ],
   "source": [
    "%%file data/flask-examples/app7.py\n",
    "from flask import Flask, jsonify, url_for\n",
    "\n",
    "from . import app7_posts\n",
    "from .app7_util import url_for\n",
    "\n",
    "app = Flask(__name__)\n",
    "\n",
    "app.register_blueprint(app7_posts.mod, url_prefix='/post')\n",
    "\n",
    "@app.route('/')\n",
    "def get_root():\n",
    "    return jsonify(_links={'posts': url_for('posts.get_root')})"
   ]
  },
  {
   "cell_type": "code",
   "execution_count": 57,
   "metadata": {},
   "outputs": [
    {
     "name": "stdout",
     "output_type": "stream",
     "text": [
      "Overwriting data/flask-examples/app7_util.py\n"
     ]
    }
   ],
   "source": [
    "%%file data/flask-examples/app7_util.py\n",
    "import flask\n",
    "\n",
    "state = {'posts': {}}\n",
    "\n",
    "def url_for(*args, **kwargs):\n",
    "    return flask.url_for(*args, _external=True, **kwargs)"
   ]
  },
  {
   "cell_type": "code",
   "execution_count": 58,
   "metadata": {},
   "outputs": [
    {
     "name": "stdout",
     "output_type": "stream",
     "text": [
      "Overwriting data/flask-examples/app7_posts.py\n"
     ]
    }
   ],
   "source": [
    "%%file data/flask-examples/app7_posts.py\n",
    "from datetime import datetime\n",
    "from uuid import uuid4\n",
    "\n",
    "import flask\n",
    "from flask import Blueprint, jsonify, request, abort\n",
    "\n",
    "from .app7_util import state, url_for\n",
    "\n",
    "mod = Blueprint('posts', __name__)\n",
    "\n",
    "@mod.route('')\n",
    "def get_root():\n",
    "    post_links = [url_for('.get_post', id=id) for id in state['posts']]\n",
    "    return jsonify(\n",
    "        _links={\n",
    "            'self': url_for('.get_root'),\n",
    "            'home': url_for('get_root'),\n",
    "        },\n",
    "        data=[dict(_links=dict(self=link)) for link in post_links])\n",
    "\n",
    "@mod.route('', methods=['POST'])\n",
    "def create_post():\n",
    "    post_id = uuid4().hex\n",
    "    post = {\n",
    "        'postedDate': datetime.utcnow(),\n",
    "        'authorName': request.authorization.username,\n",
    "        **request.json\n",
    "    }\n",
    "    state['posts'][post_id] = post\n",
    "    result = jsonify_post(post_id, post)\n",
    "    result.headers['Location'] = url_for('.get_post', id=post_id)\n",
    "    return result\n",
    "\n",
    "@mod.route('<id>')\n",
    "def get_post(id):\n",
    "    post = state['posts'].get(id)\n",
    "    if not post:\n",
    "        abort(404)\n",
    "    return jsonify_post(id, post)\n",
    "\n",
    "@mod.route('<id>', methods=['PUT'])\n",
    "def update_post(id):\n",
    "    post = state['posts'].get(id)\n",
    "    if not post:\n",
    "        abort(404)\n",
    "    post = {\n",
    "        'postedDate': datetime.utcnow(),\n",
    "        'authorName': request.authorization.username,\n",
    "        **request.json\n",
    "    }\n",
    "    state['posts'][id] = post\n",
    "    return jsonify_post(id, post)\n",
    "\n",
    "@mod.route('<id>', methods=['DELETE'])\n",
    "def delete_post(id):\n",
    "    state['posts'].pop(id)\n",
    "    return '', 204\n",
    "\n",
    "def jsonify_post(id, post, **kwargs):\n",
    "    return jsonify(\n",
    "        _links={'self': url_for('.get_post', id=id)},\n",
    "        postedDate=post['postedDate'].isoformat(),\n",
    "        authorName=post['authorName'],\n",
    "        title=post['title'],\n",
    "        body=post['body']\n",
    "    )"
   ]
  },
  {
   "cell_type": "code",
   "execution_count": 59,
   "metadata": {},
   "outputs": [
    {
     "name": "stdout",
     "output_type": "stream",
     "text": [
      " * Serving Flask app \"data.flask-examples.app7\"\n",
      " * Environment: development\n",
      " * Debug mode: on\n",
      " * Running on http://127.0.0.1:5000/ (Press CTRL+C to quit)\n",
      "127.0.0.1 - - [29/Jul/2020 10:35:40] \"\u001b[37mGET / HTTP/1.1\u001b[0m\" 200 -\n",
      "127.0.0.1 - - [29/Jul/2020 10:35:40] \"\u001b[37mPOST /post HTTP/1.1\u001b[0m\" 200 -\n",
      "'http://localhost:5000/post/ef3aa45433a24a8c919d20145deec191'\n",
      "Press enter to continue\n",
      "{'_links': {'self': 'http://localhost:5000/post/ef3aa45433a24a8c919d20145deec191'},\n",
      " 'authorName': 'rick',\n",
      " 'body': 'First post!',\n",
      " 'postedDate': '2020-07-29T17:35:40.498585',\n",
      " 'title': 'First!'}\n",
      "Press enter to continue\n",
      "127.0.0.1 - - [29/Jul/2020 10:36:00] \"\u001b[37mPOST /post HTTP/1.1\u001b[0m\" 200 -\n",
      "127.0.0.1 - - [29/Jul/2020 10:36:00] \"\u001b[37mPOST /post HTTP/1.1\u001b[0m\" 200 -\n",
      "127.0.0.1 - - [29/Jul/2020 10:36:00] \"\u001b[37mGET /post HTTP/1.1\u001b[0m\" 200 -\n",
      "{'_links': {'home': 'http://localhost:5000/',\n",
      "            'self': 'http://localhost:5000/post'},\n",
      " 'data': [{'_links': {'self': 'http://localhost:5000/post/ef3aa45433a24a8c919d20145deec191'}},\n",
      "          {'_links': {'self': 'http://localhost:5000/post/19a634a020594b6d8d563ecdd5453f33'}},\n",
      "          {'_links': {'self': 'http://localhost:5000/post/bba06906630245b39a62519a60d436e7'}}]}\n",
      "Press enter to continue\n",
      "127.0.0.1 - - [29/Jul/2020 10:36:02] \"\u001b[37mDELETE /post/ef3aa45433a24a8c919d20145deec191 HTTP/1.1\u001b[0m\" 204 -\n",
      "127.0.0.1 - - [29/Jul/2020 10:36:02] \"\u001b[37mGET /post HTTP/1.1\u001b[0m\" 200 -\n",
      "{'_links': {'home': 'http://localhost:5000/',\n",
      "            'self': 'http://localhost:5000/post'},\n",
      " 'data': [{'_links': {'self': 'http://localhost:5000/post/19a634a020594b6d8d563ecdd5453f33'}},\n",
      "          {'_links': {'self': 'http://localhost:5000/post/bba06906630245b39a62519a60d436e7'}}]}\n",
      "Press enter to continue\n",
      "Exiting output thread\n"
     ]
    }
   ],
   "source": [
    "from pprint import pprint\n",
    "\n",
    "sess = requests.Session()\n",
    "sess.auth = ('rick', 'password')\n",
    "sess.headers['Content-Type'] = 'application/json'\n",
    "\n",
    "with running_app('data.flask-examples.app7'):\n",
    "    root = sess.get('http://localhost:5000').json()\n",
    "    posts_url = glom(root, '_links.posts')\n",
    "    resp = sess.post(posts_url, json=dict(title='First!', body=\"First post!\"))\n",
    "    pprint(resp.headers['Location'])\n",
    "    input('Press enter to continue')\n",
    "    post1 = resp.json()\n",
    "    pprint(post1)\n",
    "    input('Press enter to continue')\n",
    "    sess.post(posts_url, json=dict(title='Second!', body=\"Second post!\"))\n",
    "    sess.post(posts_url, json=dict(title='Third!', body=\"Another post!\"))\n",
    "    pprint(sess.get(posts_url).json())\n",
    "    input('Press enter to continue')\n",
    "    resp = sess.delete(glom(post1, '_links.self'))\n",
    "    pprint(sess.get(posts_url).json())\n",
    "    input('Press enter to continue')\n"
   ]
  },
  {
   "cell_type": "code",
   "execution_count": 60,
   "metadata": {},
   "outputs": [
    {
     "name": "stdout",
     "output_type": "stream",
     "text": [
      "\u001b[34m__pycache__\u001b[m\u001b[m/               lab_blog.py\r\n",
      "app1.py                    mongo-app-withcomments.py\r\n",
      "app2.py                    mongo-app.py\r\n",
      "app3.py                    mongo_model.py\r\n",
      "app4.py                    sa-app-withcomments.py\r\n",
      "app5.py                    sa-app.py\r\n",
      "app6.py                    sa_model.py\r\n",
      "app7.py                    state.pkl\r\n",
      "app7_posts.py              state.py\r\n",
      "app7_util.py               \u001b[34mtemplates\u001b[m\u001b[m/\r\n",
      "blog.db                    todo-soln.py\r\n",
      "bp_authors.py              todo.py\r\n",
      "bp_comments.py             ui1.py\r\n",
      "bp_posts.py                ui2.py\r\n",
      "flask_helpers.py           util.py\r\n"
     ]
    }
   ],
   "source": [
    "ls data/flask-examples/"
   ]
  },
  {
   "cell_type": "markdown",
   "metadata": {},
   "source": [
    "# Lab\n",
    "\n",
    "Open the [Flask APIs lab][flask-api-lab]\n",
    "\n",
    "[flask-api-lab]: ./flask-api-lab.ipynb"
   ]
  },
  {
   "cell_type": "code",
   "execution_count": null,
   "metadata": {},
   "outputs": [],
   "source": []
  }
 ],
 "metadata": {
  "kernelspec": {
   "display_name": "Python 3",
   "language": "python",
   "name": "python3"
  },
  "language_info": {
   "codemirror_mode": {
    "name": "ipython",
    "version": 3
   },
   "file_extension": ".py",
   "mimetype": "text/x-python",
   "name": "python",
   "nbconvert_exporter": "python",
   "pygments_lexer": "ipython3",
   "version": "3.7.6"
  }
 },
 "nbformat": 4,
 "nbformat_minor": 2
}
