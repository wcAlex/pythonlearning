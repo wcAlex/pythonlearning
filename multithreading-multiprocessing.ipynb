{
 "cells": [
  {
   "cell_type": "markdown",
   "metadata": {
    "slideshow": {
     "slide_type": "slide"
    }
   },
   "source": [
    "# Multithreading and Multiprocessing\n",
    "\n",
    "In this module, you'll learn\n",
    "\n",
    "- How much (or little) concurrency you can get with Python threads\n",
    "- How to use synchronization primitives with threading\n",
    "- How to use the multiprocessing module to better utilize multicore machines\n"
   ]
  },
  {
   "cell_type": "markdown",
   "metadata": {
    "slideshow": {
     "slide_type": "slide"
    }
   },
   "source": [
    "# Threading: the Global Interpreter Lock\n",
    "\n",
    "- Only one Python thread active at a time\n",
    "- C libraries can release the GIL\n",
    "  - I/O libraries, NumPy, etc.\n",
    "- Python threads are real, preemptive OS threads\n"
   ]
  },
  {
   "cell_type": "markdown",
   "metadata": {
    "slideshow": {
     "slide_type": "slide"
    }
   },
   "source": [
    "# Python Threads\n",
    "\n",
    "`threading.Thread(target, args=(), kwargs=None)`\n",
    "- target - Python function to call\n",
    "- args, kwargs - arguments to function\n",
    "- can also subclass & override run()\n"
   ]
  },
  {
   "cell_type": "markdown",
   "metadata": {
    "slideshow": {
     "slide_type": "slide"
    }
   },
   "source": [
    "## Basic threading example"
   ]
  },
  {
   "cell_type": "code",
   "execution_count": 1,
   "metadata": {},
   "outputs": [
    {
     "name": "stdout",
     "output_type": "stream",
     "text": [
      "Press enter to begin: \n",
      "Enter something: Salesƒorce\n",
      "calculated squares up to 544665 * 544665 = 296,658,872,896 while you typed Salesƒorce\n"
     ]
    }
   ],
   "source": [
    "import threading\n",
    "\n",
    "class MyThread(threading.Thread):\n",
    "    \n",
    "    def run(self):\n",
    "        self.text = input('Enter something: ')\n",
    "        \n",
    "input('Press enter to begin: ')\n",
    "thread = MyThread()\n",
    "thread.start()\n",
    "\n",
    "count, result = 1, 1\n",
    "\n",
    "while thread.is_alive():\n",
    "    result = count * count\n",
    "    count += 1\n",
    "        \n",
    "print(f'calculated squares up to {count} * {count} = {result:,} while you typed {thread.text}')"
   ]
  },
  {
   "cell_type": "markdown",
   "metadata": {},
   "source": [
    "## Classless threading"
   ]
  },
  {
   "cell_type": "code",
   "execution_count": 2,
   "metadata": {
    "scrolled": true
   },
   "outputs": [
    {
     "name": "stdout",
     "output_type": "stream",
     "text": [
      "Press enter to begin: \n",
      "Enter something: asdf\n",
      "calculated squares up to 94387 * 94387 = 8,908,716,996 while you typed asdf\n"
     ]
    }
   ],
   "source": [
    "def cabbage():\n",
    "    global text\n",
    "    text = input('Enter something: ')\n",
    "    \n",
    "input('Press enter to begin: ')\n",
    "thread = threading.Thread(target=cabbage)\n",
    "thread.start()\n",
    "\n",
    "count, result = 1, 1\n",
    "\n",
    "while thread.is_alive():\n",
    "    result = count * count\n",
    "    count += 1\n",
    "    \n",
    "print(f'calculated squares up to {count} * {count} = {result:,} while you typed {text}')    "
   ]
  },
  {
   "cell_type": "markdown",
   "metadata": {},
   "source": [
    "# Threading for performance (?!)"
   ]
  },
  {
   "cell_type": "code",
   "execution_count": 3,
   "metadata": {},
   "outputs": [],
   "source": [
    "import time\n",
    "import json\n",
    "from urllib.request import urlopen\n",
    "from urllib.parse import urlencode\n",
    "\n",
    "APPID = '10d4440bbaa8581bb8da9bd1fbea5617'\n",
    "UNITS = 'imperial'\n",
    "\n",
    "cities = [\n",
    "    'Boulder', 'Atlanta', 'San Francisco',\n",
    "    'Reno', 'Honolulu', 'Zurich', 'Dubai',\n",
    "    'Dublin','Stuttgart', 'Rome', 'Singapore', \n",
    "    'Bangalore', 'Hyderabad', 'Hong Kong',\n",
    "    'Durham', 'New Orleans',\n",
    "]\n",
    "\n",
    "def get_temp(city, temps, units=UNITS, appid=APPID):\n",
    "    qs = urlencode({\n",
    "        'q': city,\n",
    "        'units': units,\n",
    "        'appid': appid,\n",
    "    })\n",
    "    url = f'http://api.openweathermap.org/data/2.5/weather?{qs}'\n",
    "    with urlopen(url) as resp:\n",
    "        data = json.load(resp)\n",
    "        temps[city] = data['main']['temp']\n",
    "        \n",
    "def run_serially():\n",
    "    for city in cities:\n",
    "        get_temp(city, temps)\n",
    "        \n",
    "def run_threaded():\n",
    "    # Create the threads\n",
    "    threads = [\n",
    "        threading.Thread(target=get_temp, args=(c, temps)) \n",
    "        for c in cities\n",
    "    ]\n",
    "\n",
    "    # start all threads\n",
    "    for thread in threads:\n",
    "        thread.start() # not run()\n",
    "\n",
    "    # wait for all threads to complete\n",
    "    for thread in threads:\n",
    "        thread.join()"
   ]
  },
  {
   "cell_type": "code",
   "execution_count": 4,
   "metadata": {},
   "outputs": [
    {
     "name": "stdout",
     "output_type": "stream",
     "text": [
      "it is 85° in Atlanta\n",
      "it is 78° in Bangalore\n",
      "it is 84° in Boulder\n",
      "it is 95° in Dubai\n",
      "it is 71° in Dublin\n",
      "it is 87° in Durham\n",
      "it is 82° in Hong Kong\n",
      "it is 78° in Honolulu\n",
      "it is 78° in Hyderabad\n",
      "it is 88° in New Orleans\n",
      "it is 78° in Reno\n",
      "it is 84° in Rome\n",
      "it is 58° in San Francisco\n",
      "it is 79° in Singapore\n",
      "it is 73° in Stuttgart\n",
      "it is 71° in Zurich\n",
      "CPU times: user 71.1 ms, sys: 37.8 ms, total: 109 ms\n",
      "Wall time: 1.3 s\n"
     ]
    }
   ],
   "source": [
    "%%time\n",
    "temps = {}\n",
    "\n",
    "run_serially()\n",
    "\n",
    "for k, v in sorted(temps.items()):\n",
    "    print(f'it is {v:.0f}° in {k}')"
   ]
  },
  {
   "cell_type": "code",
   "execution_count": 5,
   "metadata": {},
   "outputs": [
    {
     "name": "stdout",
     "output_type": "stream",
     "text": [
      "it is 85° in Atlanta\n",
      "it is 78° in Bangalore\n",
      "it is 84° in Boulder\n",
      "it is 95° in Dubai\n",
      "it is 73° in Dublin\n",
      "it is 87° in Durham\n",
      "it is 82° in Hong Kong\n",
      "it is 78° in Honolulu\n",
      "it is 78° in Hyderabad\n",
      "it is 88° in New Orleans\n",
      "it is 78° in Reno\n",
      "it is 84° in Rome\n",
      "it is 57° in San Francisco\n",
      "it is 79° in Singapore\n",
      "it is 73° in Stuttgart\n",
      "it is 71° in Zurich\n",
      "CPU times: user 58.1 ms, sys: 33.6 ms, total: 91.8 ms\n",
      "Wall time: 287 ms\n"
     ]
    }
   ],
   "source": [
    "%%time\n",
    "temps = {}\n",
    "\n",
    "run_threaded()\n",
    "\n",
    "for k, v in sorted(temps.items()):\n",
    "    print(f'it is {v:.0f}° in {k}')"
   ]
  },
  {
   "cell_type": "markdown",
   "metadata": {},
   "source": [
    "# Synchronization primitives\n",
    "\n",
    "Like other threading libraries, Python has support for `Lock`s, `Event`s, and `Semaphore`s:"
   ]
  },
  {
   "cell_type": "code",
   "execution_count": 6,
   "metadata": {},
   "outputs": [],
   "source": [
    "lock = threading.Lock()\n",
    "lock.acquire()\n",
    "# critical work here \n",
    "lock.release()"
   ]
  },
  {
   "cell_type": "code",
   "execution_count": 7,
   "metadata": {
    "scrolled": true
   },
   "outputs": [
    {
     "name": "stdout",
     "output_type": "stream",
     "text": [
      "Do things with lock locked, will be released after block\n"
     ]
    }
   ],
   "source": [
    "# Better\n",
    "lock = threading.Lock()\n",
    "with lock:\n",
    "    print('Do things with lock locked, will be released after block')"
   ]
  },
  {
   "cell_type": "code",
   "execution_count": 8,
   "metadata": {},
   "outputs": [],
   "source": [
    "sem = threading.Semaphore(4)\n",
    "sem.acquire()\n",
    "# up to 4 threads could be running in here\n",
    "sem.release()"
   ]
  },
  {
   "cell_type": "code",
   "execution_count": 9,
   "metadata": {},
   "outputs": [
    {
     "name": "stdout",
     "output_type": "stream",
     "text": [
      "Running in up to 4 different threads\n"
     ]
    }
   ],
   "source": [
    "# Better\n",
    "sem = threading.Semaphore(4)\n",
    "with sem:\n",
    "    print('Running in up to 4 different threads')\n"
   ]
  },
  {
   "cell_type": "markdown",
   "metadata": {},
   "source": [
    "### Threadsafe queue class\n",
    "\n",
    "If you structure your threads to send/receive data rather than just _share_ data, you can use a `queue.Queue`:"
   ]
  },
  {
   "cell_type": "code",
   "execution_count": 10,
   "metadata": {},
   "outputs": [],
   "source": [
    "import queue\n",
    "import threading \n",
    "\n",
    "def worker(q):\n",
    "    while True:\n",
    "        value = q.get()\n",
    "        print('I got a {}'.format(value))\n",
    "        if value is None:\n",
    "            print('Got none, so exiting')\n",
    "            break\n",
    "\n",
    "q = queue.Queue()\n",
    "thd = threading.Thread(target=worker, args=(q, ))\n",
    "thd.start()        "
   ]
  },
  {
   "cell_type": "code",
   "execution_count": 11,
   "metadata": {},
   "outputs": [
    {
     "name": "stdout",
     "output_type": "stream",
     "text": [
      "I got a Hello there\n"
     ]
    }
   ],
   "source": [
    "q.put('Hello there')"
   ]
  },
  {
   "cell_type": "code",
   "execution_count": 12,
   "metadata": {},
   "outputs": [
    {
     "name": "stdout",
     "output_type": "stream",
     "text": [
      "I got a General Kenobi\n"
     ]
    }
   ],
   "source": [
    "q.put('General Kenobi')"
   ]
  },
  {
   "cell_type": "code",
   "execution_count": 13,
   "metadata": {},
   "outputs": [
    {
     "data": {
      "text/plain": [
       "True"
      ]
     },
     "execution_count": 13,
     "metadata": {},
     "output_type": "execute_result"
    }
   ],
   "source": [
    "thd.is_alive()"
   ]
  },
  {
   "cell_type": "code",
   "execution_count": 14,
   "metadata": {},
   "outputs": [
    {
     "name": "stdout",
     "output_type": "stream",
     "text": [
      "I got a None\n",
      "Got none, so exiting\n"
     ]
    }
   ],
   "source": [
    "q.put(None)"
   ]
  },
  {
   "cell_type": "code",
   "execution_count": 15,
   "metadata": {},
   "outputs": [
    {
     "data": {
      "text/plain": [
       "False"
      ]
     },
     "execution_count": 15,
     "metadata": {},
     "output_type": "execute_result"
    }
   ],
   "source": [
    "thd.is_alive()"
   ]
  },
  {
   "cell_type": "markdown",
   "metadata": {},
   "source": [
    "### Simple thread pool\n",
    "\n",
    "(There is also a thread pool in `multiprocessing.pool.ThreadPool`)"
   ]
  },
  {
   "cell_type": "code",
   "execution_count": 21,
   "metadata": {},
   "outputs": [],
   "source": [
    "class Pool():\n",
    "    def __init__(self, count):\n",
    "        self.count = count\n",
    "        self.job = queue.Queue()\n",
    "        self.result = queue.Queue()\n",
    "        self.threads = [\n",
    "            threading.Thread(target=self.worker)\n",
    "            for i in range(count)\n",
    "        ]\n",
    "        for t in self.threads:\n",
    "            t.setDaemon(True)\n",
    "            t.start()\n",
    "            \n",
    "    def worker(self):\n",
    "        while True:\n",
    "            job = self.job.get()\n",
    "            try:\n",
    "                result = job()\n",
    "            except Exception as err:\n",
    "                self.result.put((False, err))\n",
    "            else:\n",
    "                self.result.put((True, result))\n",
    "                "
   ]
  },
  {
   "cell_type": "code",
   "execution_count": 22,
   "metadata": {},
   "outputs": [
    {
     "name": "stdout",
     "output_type": "stream",
     "text": [
      "Jobs created!Starting jobStarting jobStarting job\n",
      "\n",
      "Starting job\n",
      "\n",
      "\n",
      "exiting job\n",
      "Starting job\n",
      "exiting job\n",
      "Starting job\n",
      "exiting job\n",
      "Starting job\n",
      "exiting job\n",
      "Starting job\n",
      "exiting job\n",
      "Starting job\n",
      "exiting job\n",
      "Starting job\n",
      "exiting job\n",
      "exiting job\n",
      "exiting job\n",
      "exiting job\n"
     ]
    }
   ],
   "source": [
    "pool = Pool(4)\n",
    "import time\n",
    "import random\n",
    "\n",
    "def job():\n",
    "    print('Starting job', flush=True)\n",
    "    time.sleep(3 + random.random())\n",
    "    print('exiting job', flush=True)\n",
    "\n",
    "for i in range(10):\n",
    "    pool.job.put(job)\n",
    "print('Jobs created!', flush=True)"
   ]
  },
  {
   "cell_type": "markdown",
   "metadata": {
    "slideshow": {
     "slide_type": "slide"
    }
   },
   "source": [
    "# Multiprocessing with Python\n",
    "\n",
    "In this module, you'll learn\n",
    "\n",
    "- How to use the multiprocessing module \n",
    "- How to use multiprocessing's support for synchronization and communication"
   ]
  },
  {
   "cell_type": "markdown",
   "metadata": {
    "slideshow": {
     "slide_type": "slide"
    }
   },
   "source": [
    "# Multiprocessing\n",
    "\n",
    "- Based on Threading\n",
    "- No GIL, no shared memory without extra work\n",
    "- Uses multicore well\n",
    "- Much more memory intensive than threads"
   ]
  },
  {
   "cell_type": "markdown",
   "metadata": {},
   "source": [
    "# Simple Multiprocessing example"
   ]
  },
  {
   "cell_type": "code",
   "execution_count": 24,
   "metadata": {},
   "outputs": [
    {
     "data": {
      "text/plain": [
       "8"
      ]
     },
     "execution_count": 24,
     "metadata": {},
     "output_type": "execute_result"
    }
   ],
   "source": [
    "cpu_count()"
   ]
  },
  {
   "cell_type": "code",
   "execution_count": 26,
   "metadata": {},
   "outputs": [
    {
     "name": "stdout",
     "output_type": "stream",
     "text": [
      "Running...\n",
      "work took 1.040837287902832 seconds\n"
     ]
    }
   ],
   "source": [
    "from multiprocessing import Process, cpu_count\n",
    "import time\n",
    "import os\n",
    "\n",
    "class MuchCPU(Process):\n",
    "    def run(self):\n",
    "        print(os.getpid())\n",
    "        print(__name__)\n",
    "        for i in range(20_000_000):\n",
    "            result = i * i\n",
    "\n",
    "if __name__ == '__main__':\n",
    "    print('Running...')\n",
    "    procs = [MuchCPU() for f in range(cpu_count())]\n",
    "    # procs = [MuchCPU(), MuchCPU()]\n",
    "    t = time.time()\n",
    "    for p in procs:\n",
    "        p.start()\n",
    "        #p.join()\n",
    "    \n",
    "    for p in procs:\n",
    "        p.join()\n",
    "    \n",
    "    print('work took {} seconds'.format(time.time() - t))"
   ]
  },
  {
   "cell_type": "code",
   "execution_count": 27,
   "metadata": {},
   "outputs": [
    {
     "name": "stdout",
     "output_type": "stream",
     "text": [
      "Running...\n",
      "work took 1.0674312114715576 seconds\n"
     ]
    }
   ],
   "source": [
    "from multiprocessing import Process, cpu_count\n",
    "import time\n",
    "import os\n",
    "\n",
    "def target():\n",
    "    print(os.getpid())\n",
    "    print(__name__)\n",
    "    for i in range(20_000_000):\n",
    "        result = i * i\n",
    "\n",
    "print('Running...')\n",
    "procs = [Process(target=target) for f in range(cpu_count())]\n",
    "t = time.time()\n",
    "for p in procs:\n",
    "    p.start()\n",
    "    #p.join()\n",
    "\n",
    "for p in procs:\n",
    "    p.join()\n",
    "\n",
    "print('work took {} seconds'.format(time.time() - t))"
   ]
  },
  {
   "cell_type": "markdown",
   "metadata": {},
   "source": [
    "# Pools"
   ]
  },
  {
   "cell_type": "code",
   "execution_count": 1,
   "metadata": {},
   "outputs": [],
   "source": [
    "from multiprocessing import Pool"
   ]
  },
  {
   "cell_type": "code",
   "execution_count": 2,
   "metadata": {},
   "outputs": [],
   "source": [
    "import time\n",
    "import random\n",
    "\n",
    "def much_cpu(n):\n",
    "    # time.sleep(random.random())\n",
    "    \n",
    "    result = 0\n",
    "    for i in range(n):\n",
    "        result += i * i    \n",
    "    return result"
   ]
  },
  {
   "cell_type": "code",
   "execution_count": 3,
   "metadata": {},
   "outputs": [
    {
     "data": {
      "text/plain": [
       "[200, 200, 200, 200, 200, 200, 200, 200, 200, 200, 200, 200, 200, 200]"
      ]
     },
     "execution_count": 3,
     "metadata": {},
     "output_type": "execute_result"
    }
   ],
   "source": [
    "args_list = [200] * 14\n",
    "args_list"
   ]
  },
  {
   "cell_type": "markdown",
   "metadata": {},
   "source": [
    "multiprocessing.Pool\n",
    " \n",
    " - map(f, args) => list\n",
    " - imap(f, args) => iterator\n",
    " - imap_unordered(f, args) => iterator but unordered"
   ]
  },
  {
   "cell_type": "code",
   "execution_count": null,
   "metadata": {
    "scrolled": true
   },
   "outputs": [],
   "source": [
    "with Pool() as p:\n",
    "    for result in p.imap(much_cpu, args_list):\n",
    "        print(result)"
   ]
  },
  {
   "cell_type": "code",
   "execution_count": null,
   "metadata": {},
   "outputs": [],
   "source": [
    "p.apply_async()"
   ]
  },
  {
   "cell_type": "code",
   "execution_count": 44,
   "metadata": {},
   "outputs": [],
   "source": [
    "from multiprocessing.pool import ThreadPool"
   ]
  },
  {
   "cell_type": "code",
   "execution_count": 48,
   "metadata": {},
   "outputs": [
    {
     "name": "stdout",
     "output_type": "stream",
     "text": [
      "2646700\n",
      "2646700\n",
      "2646700\n",
      "2646700\n",
      "2646700\n",
      "2646700\n",
      "2646700\n",
      "2646700\n",
      "2646700\n",
      "2646700\n",
      "2646700\n",
      "2646700\n",
      "2646700\n",
      "2646700\n"
     ]
    }
   ],
   "source": [
    "with ThreadPool(processes=16) as p:\n",
    "    for result in p.imap_unordered(much_cpu, args_list):\n",
    "        print(result)"
   ]
  },
  {
   "cell_type": "markdown",
   "metadata": {
    "slideshow": {
     "slide_type": "slide"
    }
   },
   "source": [
    "# Multiprocess synchronization and communication\n",
    "\n",
    "- Lock, Condition, Semaphore, Event\n",
    "- Queue & Pipe\n",
    "- Shared Memory"
   ]
  },
  {
   "cell_type": "markdown",
   "metadata": {},
   "source": [
    "### Multiprocessing basic shared memory"
   ]
  },
  {
   "cell_type": "code",
   "execution_count": 49,
   "metadata": {},
   "outputs": [
    {
     "name": "stdout",
     "output_type": "stream",
     "text": [
      "CPU times: user 1.02 s, sys: 123 ms, total: 1.14 s\n",
      "Wall time: 1.26 s\n"
     ]
    }
   ],
   "source": [
    "%%time\n",
    "import random\n",
    "import multiprocessing\n",
    "\n",
    "ROWS = 100_000\n",
    "COLS = 8\n",
    "\n",
    "X = [random.random() for i in range(ROWS * COLS)]\n",
    "Y = [random.random() for i in range(ROWS * COLS)]"
   ]
  },
  {
   "cell_type": "code",
   "execution_count": 50,
   "metadata": {},
   "outputs": [],
   "source": [
    "def mularray(X, Y):\n",
    "    return [x * y for x, y in zip(X, Y)]"
   ]
  },
  {
   "cell_type": "markdown",
   "metadata": {},
   "source": [
    "Run #1: single-process"
   ]
  },
  {
   "cell_type": "code",
   "execution_count": 51,
   "metadata": {},
   "outputs": [
    {
     "name": "stdout",
     "output_type": "stream",
     "text": [
      "CPU times: user 254 ms, sys: 45.4 ms, total: 300 ms\n",
      "Wall time: 344 ms\n"
     ]
    }
   ],
   "source": [
    "%%time\n",
    "Z = mularray(X, Y)"
   ]
  },
  {
   "cell_type": "code",
   "execution_count": 52,
   "metadata": {},
   "outputs": [
    {
     "data": {
      "text/plain": [
       "[0.09042892364668567,\n",
       " 0.41253470977579804,\n",
       " 0.6290376423078893,\n",
       " 0.8033305434242515,\n",
       " 0.15525467125212294,\n",
       " 0.08001527829349128,\n",
       " 0.019202742449277835,\n",
       " 0.01875598526078059,\n",
       " 0.6903301780945288,\n",
       " 0.2706754300776931]"
      ]
     },
     "execution_count": 52,
     "metadata": {},
     "output_type": "execute_result"
    }
   ],
   "source": [
    "Z[:10]"
   ]
  },
  {
   "cell_type": "markdown",
   "metadata": {},
   "source": [
    "Run #2: multiprocess (pool)"
   ]
  },
  {
   "cell_type": "code",
   "execution_count": 53,
   "metadata": {},
   "outputs": [
    {
     "data": {
      "text/plain": [
       "[0, 100000, 200000, 300000, 400000, 500000, 600000, 700000]"
      ]
     },
     "execution_count": 53,
     "metadata": {},
     "output_type": "execute_result"
    }
   ],
   "source": [
    "offsets = [c * ROWS for c in range(COLS)]\n",
    "\n",
    "offsets"
   ]
  },
  {
   "cell_type": "code",
   "execution_count": 54,
   "metadata": {},
   "outputs": [
    {
     "ename": "KeyboardInterrupt",
     "evalue": "",
     "output_type": "error",
     "traceback": [
      "\u001b[0;31m---------------------------------------------------------------------------\u001b[0m",
      "\u001b[0;31mIndexError\u001b[0m                                Traceback (most recent call last)",
      "\u001b[0;32m/usr/local/Cellar/python@3.8/3.8.5/Frameworks/Python.framework/Versions/3.8/lib/python3.8/multiprocessing/pool.py\u001b[0m in \u001b[0;36mnext\u001b[0;34m(self, timeout)\u001b[0m\n\u001b[1;32m    850\u001b[0m             \u001b[0;32mtry\u001b[0m\u001b[0;34m:\u001b[0m\u001b[0;34m\u001b[0m\u001b[0;34m\u001b[0m\u001b[0m\n\u001b[0;32m--> 851\u001b[0;31m                 \u001b[0mitem\u001b[0m \u001b[0;34m=\u001b[0m \u001b[0mself\u001b[0m\u001b[0;34m.\u001b[0m\u001b[0m_items\u001b[0m\u001b[0;34m.\u001b[0m\u001b[0mpopleft\u001b[0m\u001b[0;34m(\u001b[0m\u001b[0;34m)\u001b[0m\u001b[0;34m\u001b[0m\u001b[0;34m\u001b[0m\u001b[0m\n\u001b[0m\u001b[1;32m    852\u001b[0m             \u001b[0;32mexcept\u001b[0m \u001b[0mIndexError\u001b[0m\u001b[0;34m:\u001b[0m\u001b[0;34m\u001b[0m\u001b[0;34m\u001b[0m\u001b[0m\n",
      "\u001b[0;31mIndexError\u001b[0m: pop from an empty deque",
      "\nDuring handling of the above exception, another exception occurred:\n",
      "\u001b[0;31mKeyboardInterrupt\u001b[0m                         Traceback (most recent call last)",
      "\u001b[0;32m<timed exec>\u001b[0m in \u001b[0;36m<module>\u001b[0;34m\u001b[0m\n",
      "\u001b[0;32m/usr/local/Cellar/python@3.8/3.8.5/Frameworks/Python.framework/Versions/3.8/lib/python3.8/multiprocessing/pool.py\u001b[0m in \u001b[0;36mnext\u001b[0;34m(self, timeout)\u001b[0m\n\u001b[1;32m    854\u001b[0m                     \u001b[0mself\u001b[0m\u001b[0;34m.\u001b[0m\u001b[0m_pool\u001b[0m \u001b[0;34m=\u001b[0m \u001b[0;32mNone\u001b[0m\u001b[0;34m\u001b[0m\u001b[0;34m\u001b[0m\u001b[0m\n\u001b[1;32m    855\u001b[0m                     \u001b[0;32mraise\u001b[0m \u001b[0mStopIteration\u001b[0m \u001b[0;32mfrom\u001b[0m \u001b[0;32mNone\u001b[0m\u001b[0;34m\u001b[0m\u001b[0;34m\u001b[0m\u001b[0m\n\u001b[0;32m--> 856\u001b[0;31m                 \u001b[0mself\u001b[0m\u001b[0;34m.\u001b[0m\u001b[0m_cond\u001b[0m\u001b[0;34m.\u001b[0m\u001b[0mwait\u001b[0m\u001b[0;34m(\u001b[0m\u001b[0mtimeout\u001b[0m\u001b[0;34m)\u001b[0m\u001b[0;34m\u001b[0m\u001b[0;34m\u001b[0m\u001b[0m\n\u001b[0m\u001b[1;32m    857\u001b[0m                 \u001b[0;32mtry\u001b[0m\u001b[0;34m:\u001b[0m\u001b[0;34m\u001b[0m\u001b[0;34m\u001b[0m\u001b[0m\n\u001b[1;32m    858\u001b[0m                     \u001b[0mitem\u001b[0m \u001b[0;34m=\u001b[0m \u001b[0mself\u001b[0m\u001b[0;34m.\u001b[0m\u001b[0m_items\u001b[0m\u001b[0;34m.\u001b[0m\u001b[0mpopleft\u001b[0m\u001b[0;34m(\u001b[0m\u001b[0;34m)\u001b[0m\u001b[0;34m\u001b[0m\u001b[0;34m\u001b[0m\u001b[0m\n",
      "\u001b[0;32m/usr/local/Cellar/python@3.8/3.8.5/Frameworks/Python.framework/Versions/3.8/lib/python3.8/threading.py\u001b[0m in \u001b[0;36mwait\u001b[0;34m(self, timeout)\u001b[0m\n\u001b[1;32m    300\u001b[0m         \u001b[0;32mtry\u001b[0m\u001b[0;34m:\u001b[0m    \u001b[0;31m# restore state no matter what (e.g., KeyboardInterrupt)\u001b[0m\u001b[0;34m\u001b[0m\u001b[0;34m\u001b[0m\u001b[0m\n\u001b[1;32m    301\u001b[0m             \u001b[0;32mif\u001b[0m \u001b[0mtimeout\u001b[0m \u001b[0;32mis\u001b[0m \u001b[0;32mNone\u001b[0m\u001b[0;34m:\u001b[0m\u001b[0;34m\u001b[0m\u001b[0;34m\u001b[0m\u001b[0m\n\u001b[0;32m--> 302\u001b[0;31m                 \u001b[0mwaiter\u001b[0m\u001b[0;34m.\u001b[0m\u001b[0macquire\u001b[0m\u001b[0;34m(\u001b[0m\u001b[0;34m)\u001b[0m\u001b[0;34m\u001b[0m\u001b[0;34m\u001b[0m\u001b[0m\n\u001b[0m\u001b[1;32m    303\u001b[0m                 \u001b[0mgotit\u001b[0m \u001b[0;34m=\u001b[0m \u001b[0;32mTrue\u001b[0m\u001b[0;34m\u001b[0m\u001b[0;34m\u001b[0m\u001b[0m\n\u001b[1;32m    304\u001b[0m             \u001b[0;32melse\u001b[0m\u001b[0;34m:\u001b[0m\u001b[0;34m\u001b[0m\u001b[0;34m\u001b[0m\u001b[0m\n",
      "\u001b[0;31mKeyboardInterrupt\u001b[0m: "
     ]
    }
   ],
   "source": [
    "%%time\n",
    "#offsets = [c * ROWS for c in range(COLS)]\n",
    "\n",
    "def pmul(offset):\n",
    "    return mularray(\n",
    "        X[offset:offset + ROWS], \n",
    "        Y[offset:offset + ROWS],\n",
    "    )\n",
    "\n",
    "Z = []\n",
    "with multiprocessing.Pool() as pool:\n",
    "    for Zpart in pool.imap(pmul, offsets):\n",
    "        Z += Zpart\n",
    "    "
   ]
  },
  {
   "cell_type": "code",
   "execution_count": null,
   "metadata": {},
   "outputs": [],
   "source": [
    "Z[:10]"
   ]
  },
  {
   "cell_type": "markdown",
   "metadata": {},
   "source": [
    "Run #3: multiprocess (pool), shared memory"
   ]
  },
  {
   "cell_type": "code",
   "execution_count": null,
   "metadata": {},
   "outputs": [],
   "source": [
    "offsets"
   ]
  },
  {
   "cell_type": "code",
   "execution_count": 55,
   "metadata": {},
   "outputs": [],
   "source": [
    "sX = multiprocessing.Array('f', X, lock=False)\n",
    "sY = multiprocessing.Array('f', Y, lock=False)\n",
    "sZ = multiprocessing.Array('f', ROWS * COLS, lock=False)"
   ]
  },
  {
   "cell_type": "code",
   "execution_count": 56,
   "metadata": {},
   "outputs": [
    {
     "data": {
      "text/plain": [
       "800000"
      ]
     },
     "execution_count": 56,
     "metadata": {},
     "output_type": "execute_result"
    }
   ],
   "source": [
    "len(sX)"
   ]
  },
  {
   "cell_type": "code",
   "execution_count": null,
   "metadata": {},
   "outputs": [],
   "source": [
    "%%time\n",
    "def pmul(offset):\n",
    "    for i in range(offset, offset + ROWS):\n",
    "        sZ[i] = sX[i] * sY[i]\n",
    "        \n",
    "with multiprocessing.Pool() as pool:\n",
    "    for x in pool.imap_unordered(pmul, offsets):\n",
    "        pass"
   ]
  },
  {
   "cell_type": "markdown",
   "metadata": {},
   "source": [
    "### Aside: if you _really_ want it fast, just use numpy (or better yet, numpy + multiprocessing)"
   ]
  },
  {
   "cell_type": "code",
   "execution_count": 57,
   "metadata": {},
   "outputs": [
    {
     "name": "stdout",
     "output_type": "stream",
     "text": [
      "Looking in links: /Users/rick446/src/wheelhouse\n",
      "Requirement already satisfied: numpy in /Users/rick446/.virtualenvs/py38/lib/python3.8/site-packages (1.19.1)\n",
      "\u001b[33mWARNING: You are using pip version 20.2.1; however, version 20.2.2 is available.\n",
      "You should consider upgrading via the '/Users/rick446/.virtualenvs/py38/bin/python3.8 -m pip install --upgrade pip' command.\u001b[0m\n"
     ]
    }
   ],
   "source": [
    "!pip install numpy"
   ]
  },
  {
   "cell_type": "code",
   "execution_count": 58,
   "metadata": {},
   "outputs": [],
   "source": [
    "import numpy as np"
   ]
  },
  {
   "cell_type": "code",
   "execution_count": 59,
   "metadata": {},
   "outputs": [],
   "source": [
    "X = np.random.random(800_000)\n",
    "Y = np.random.random(800_000)"
   ]
  },
  {
   "cell_type": "code",
   "execution_count": 60,
   "metadata": {},
   "outputs": [
    {
     "name": "stdout",
     "output_type": "stream",
     "text": [
      "CPU times: user 13 ms, sys: 11.6 ms, total: 24.5 ms\n",
      "Wall time: 66.8 ms\n"
     ]
    }
   ],
   "source": [
    "%%time\n",
    "Z = X * Y"
   ]
  },
  {
   "cell_type": "markdown",
   "metadata": {},
   "source": [
    "# Lab\n",
    "\n",
    "Open [concurrency lab][multithreading-multiprocessing-lab]\n",
    "\n",
    "[multithreading-multiprocessing-lab]: ./multithreading-multiprocessing-lab.ipynb"
   ]
  },
  {
   "cell_type": "code",
   "execution_count": null,
   "metadata": {},
   "outputs": [],
   "source": []
  }
 ],
 "metadata": {
  "kernelspec": {
   "display_name": "Python 3",
   "language": "python",
   "name": "python3"
  },
  "language_info": {
   "codemirror_mode": {
    "name": "ipython",
    "version": 3
   },
   "file_extension": ".py",
   "mimetype": "text/x-python",
   "name": "python",
   "nbconvert_exporter": "python",
   "pygments_lexer": "ipython3",
   "version": "3.8.5"
  }
 },
 "nbformat": 4,
 "nbformat_minor": 2
}
