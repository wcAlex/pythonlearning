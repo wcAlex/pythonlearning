{
 "cells": [
  {
   "cell_type": "markdown",
   "metadata": {
    "slideshow": {
     "slide_type": "slide"
    }
   },
   "source": [
    "# Lab for Context Managers\n"
   ]
  },
  {
   "cell_type": "markdown",
   "metadata": {
    "slideshow": {
     "slide_type": "slide"
    }
   },
   "source": [
    "Write a context manager that logs the entry and exit of a block of code "
   ]
  },
  {
   "cell_type": "code",
   "execution_count": 1,
   "metadata": {},
   "outputs": [],
   "source": [
    "import contextlib\n",
    "\n",
    "@contextlib.contextmanager\n",
    "def logit(name):\n",
    "    print(f'*** Enter {name}')\n",
    "    try:\n",
    "        yield\n",
    "    except:\n",
    "        print(f'*** Exit {name} (error!)')\n",
    "        raise\n",
    "    else:\n",
    "        print(f'*** Exit {name} (ok)')"
   ]
  },
  {
   "cell_type": "code",
   "execution_count": 2,
   "metadata": {},
   "outputs": [
    {
     "name": "stdout",
     "output_type": "stream",
     "text": [
      "*** Enter outer\n",
      "Entered outer\n",
      "*** Enter inner0\n",
      "In inner0\n",
      "*** Exit inner0 (ok)\n",
      "*** Enter inner1\n",
      "In inner1\n",
      "*** Exit inner1 (ok)\n",
      "*** Enter inner2\n",
      "*** Exit inner2 (error!)\n",
      "*** Exit outer (error!)\n"
     ]
    },
    {
     "ename": "ZeroDivisionError",
     "evalue": "division by zero",
     "output_type": "error",
     "traceback": [
      "\u001b[0;31m---------------------------------------------------------------------------\u001b[0m",
      "\u001b[0;31mZeroDivisionError\u001b[0m                         Traceback (most recent call last)",
      "\u001b[0;32m<ipython-input-2-ec6eea498b25>\u001b[0m in \u001b[0;36m<module>\u001b[0;34m\u001b[0m\n\u001b[1;32m      6\u001b[0m         \u001b[0mprint\u001b[0m\u001b[0;34m(\u001b[0m\u001b[0;34m'In inner1'\u001b[0m\u001b[0;34m)\u001b[0m\u001b[0;34m\u001b[0m\u001b[0;34m\u001b[0m\u001b[0m\n\u001b[1;32m      7\u001b[0m     \u001b[0;32mwith\u001b[0m \u001b[0mlogit\u001b[0m\u001b[0;34m(\u001b[0m\u001b[0;34m'inner2'\u001b[0m\u001b[0;34m)\u001b[0m\u001b[0;34m:\u001b[0m\u001b[0;34m\u001b[0m\u001b[0;34m\u001b[0m\u001b[0m\n\u001b[0;32m----> 8\u001b[0;31m         \u001b[0;36m1\u001b[0m\u001b[0;34m/\u001b[0m\u001b[0;36m0\u001b[0m\u001b[0;34m\u001b[0m\u001b[0;34m\u001b[0m\u001b[0m\n\u001b[0m\u001b[1;32m      9\u001b[0m         \u001b[0mprint\u001b[0m\u001b[0;34m(\u001b[0m\u001b[0;34m'In inner2'\u001b[0m\u001b[0;34m)\u001b[0m\u001b[0;34m\u001b[0m\u001b[0;34m\u001b[0m\u001b[0m\n\u001b[1;32m     10\u001b[0m     \u001b[0mprint\u001b[0m\u001b[0;34m(\u001b[0m\u001b[0;34m'Exiting outer'\u001b[0m\u001b[0;34m)\u001b[0m\u001b[0;34m\u001b[0m\u001b[0;34m\u001b[0m\u001b[0m\n",
      "\u001b[0;31mZeroDivisionError\u001b[0m: division by zero"
     ]
    }
   ],
   "source": [
    "with logit('outer'):\n",
    "    print('Entered outer')\n",
    "    with logit('inner0'):\n",
    "        print('In inner0')\n",
    "    with logit('inner1'):\n",
    "        print('In inner1')\n",
    "    with logit('inner2'):\n",
    "        1/0\n",
    "        print('In inner2')\n",
    "    print('Exiting outer')\n",
    "    "
   ]
  },
  {
   "cell_type": "markdown",
   "metadata": {},
   "source": [
    "```python\n",
    "with logit('Patient record 0'):\n",
    "    .... do many things with a patient record ...\n",
    "```"
   ]
  },
  {
   "cell_type": "markdown",
   "metadata": {
    "slideshow": {
     "slide_type": "slide"
    }
   },
   "source": [
    "Write a context manager that prints out balanced XML nodes. Use the test code below."
   ]
  },
  {
   "cell_type": "code",
   "execution_count": 3,
   "metadata": {},
   "outputs": [],
   "source": [
    "@contextlib.contextmanager\n",
    "def node(name):\n",
    "    print(f'<{name}>')\n",
    "    yield\n",
    "    print(f'</{name}>')"
   ]
  },
  {
   "cell_type": "code",
   "execution_count": 4,
   "metadata": {},
   "outputs": [
    {
     "name": "stdout",
     "output_type": "stream",
     "text": [
      "<html>\n",
      "<body>\n",
      "<h1>\n",
      "Page Title\n",
      "</h1>\n",
      "</body>\n",
      "</html>\n"
     ]
    }
   ],
   "source": [
    "with node('html'):\n",
    "    with node('body'):\n",
    "        with node('h1'):\n",
    "            print('Page Title')"
   ]
  },
  {
   "cell_type": "code",
   "execution_count": 5,
   "metadata": {},
   "outputs": [],
   "source": [
    "LEVEL=0\n",
    "\n",
    "@contextlib.contextmanager\n",
    "def node(name):\n",
    "    global LEVEL\n",
    "    prefix = '  ' * LEVEL\n",
    "    LEVEL += 1\n",
    "    print(prefix + f'<{name}>')\n",
    "    yield\n",
    "    LEVEL -= 1\n",
    "    print(prefix + f'</{name}>')\n",
    "\n",
    "#     try:\n",
    "#         yield\n",
    "#     finally:\n",
    "#         print(f'</{name}>')"
   ]
  },
  {
   "cell_type": "code",
   "execution_count": 6,
   "metadata": {
    "slideshow": {
     "slide_type": "fragment"
    }
   },
   "outputs": [
    {
     "name": "stdout",
     "output_type": "stream",
     "text": [
      "<html>\n",
      "  <body>\n",
      "    <h1>\n",
      "Page Title\n",
      "    </h1>\n",
      "  </body>\n",
      "</html>\n"
     ]
    }
   ],
   "source": [
    "with node('html'):\n",
    "    with node('body'):\n",
    "        with node('h1'):\n",
    "            print('Page Title')"
   ]
  },
  {
   "cell_type": "code",
   "execution_count": null,
   "metadata": {},
   "outputs": [],
   "source": []
  }
 ],
 "metadata": {
  "kernelspec": {
   "display_name": "Python 3",
   "language": "python",
   "name": "python3"
  },
  "language_info": {
   "codemirror_mode": {
    "name": "ipython",
    "version": 3
   },
   "file_extension": ".py",
   "mimetype": "text/x-python",
   "name": "python",
   "nbconvert_exporter": "python",
   "pygments_lexer": "ipython3",
   "version": "3.8.5"
  }
 },
 "nbformat": 4,
 "nbformat_minor": 1
}
