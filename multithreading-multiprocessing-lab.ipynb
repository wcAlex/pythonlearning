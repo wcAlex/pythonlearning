{
 "cells": [
  {
   "cell_type": "markdown",
   "metadata": {},
   "source": [
    "# Lab: threading\n",
    "\n",
    "Write a program to fetch photos from the site <https://jsonplaceholder.typicode.com/>. \n",
    "\n",
    "Try fetching with diferent levels of parallelism (number of threads).\n",
    "\n",
    "Use the following to get started:"
   ]
  },
  {
   "cell_type": "code",
   "execution_count": null,
   "metadata": {},
   "outputs": [],
   "source": [
    "!pip install requests"
   ]
  },
  {
   "cell_type": "code",
   "execution_count": 1,
   "metadata": {},
   "outputs": [],
   "source": [
    "import requests\n",
    "\n",
    "def get_photos():\n",
    "    return [\n",
    "        obj['url'] for obj in requests.get(\n",
    "            'https://jsonplaceholder.typicode.com/photos'\n",
    "        ).json()\n",
    "    ]\n",
    "\n",
    "def fetch_photo(url):\n",
    "    return requests.get(url)"
   ]
  },
  {
   "cell_type": "code",
   "execution_count": 2,
   "metadata": {},
   "outputs": [
    {
     "name": "stdout",
     "output_type": "stream",
     "text": [
      "CPU times: user 930 ms, sys: 109 ms, total: 1.04 s\n",
      "Wall time: 2.49 s\n"
     ]
    }
   ],
   "source": [
    "%%time\n",
    "# Serial version (1 thread)\n",
    "\n",
    "for i, url in enumerate(get_photos()):\n",
    "    r = fetch_photo(url)\n",
    "    if i > 10:\n",
    "        break\n"
   ]
  },
  {
   "cell_type": "markdown",
   "metadata": {},
   "source": [
    "Write a version to fetch with a specified number of threads"
   ]
  },
  {
   "cell_type": "code",
   "execution_count": null,
   "metadata": {},
   "outputs": [],
   "source": []
  },
  {
   "cell_type": "markdown",
   "metadata": {},
   "source": [
    "Use the `%%time` Jupyter magic to see how long it takes to fetch 500 photos with 10, 100, 500 threads"
   ]
  },
  {
   "cell_type": "code",
   "execution_count": null,
   "metadata": {},
   "outputs": [],
   "source": []
  },
  {
   "cell_type": "markdown",
   "metadata": {},
   "source": [
    "# Lab: multiprocessing\n",
    "\n",
    "Using a `multiprocessing.Pool`, repeat the exercise above and see if it became faster or slower. Any hypotheses why?"
   ]
  },
  {
   "cell_type": "code",
   "execution_count": null,
   "metadata": {},
   "outputs": [],
   "source": []
  }
 ],
 "metadata": {
  "kernelspec": {
   "display_name": "Python 3",
   "language": "python",
   "name": "python3"
  },
  "language_info": {
   "codemirror_mode": {
    "name": "ipython",
    "version": 3
   },
   "file_extension": ".py",
   "mimetype": "text/x-python",
   "name": "python",
   "nbconvert_exporter": "python",
   "pygments_lexer": "ipython3",
   "version": "3.8.5"
  }
 },
 "nbformat": 4,
 "nbformat_minor": 2
}
