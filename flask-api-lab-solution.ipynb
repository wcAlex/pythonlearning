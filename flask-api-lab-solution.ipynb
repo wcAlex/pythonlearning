{
 "cells": [
  {
   "cell_type": "markdown",
   "metadata": {},
   "source": [
    "# Flask API Lab\n",
    "\n",
    "First, make sure you can run the existing app (do this in a terminal window):\n",
    "\n",
    "```bash\n",
    "(env) $ cd data\n",
    "(env) $ export FLASK_APP=flask-examples.app7\n",
    "(env) $ export FLASK_ENV=development \n",
    "(env) $ flask run\n",
    "```"
   ]
  },
  {
   "cell_type": "markdown",
   "metadata": {},
   "source": [
    "- Create views for commenting on the blog (use the existing BASIC authorization header)"
   ]
  },
  {
   "cell_type": "code",
   "execution_count": 1,
   "metadata": {},
   "outputs": [],
   "source": [
    "import requests\n",
    "session = requests.Session()\n",
    "session.headers['Content-Type'] = 'application/json'\n",
    "session.auth = 'rick', 'password'"
   ]
  },
  {
   "cell_type": "code",
   "execution_count": 3,
   "metadata": {},
   "outputs": [
    {
     "data": {
      "text/plain": [
       "{'_links': {'posts': 'http://localhost:5000/post'}}"
      ]
     },
     "execution_count": 3,
     "metadata": {},
     "output_type": "execute_result"
    }
   ],
   "source": [
    "session.get('http://localhost:5000').json()"
   ]
  },
  {
   "cell_type": "code",
   "execution_count": 4,
   "metadata": {},
   "outputs": [],
   "source": [
    "resp = session.post('http://localhost:5000/post', json={\n",
    "    'title': 'First post', \n",
    "    'body': 'Some content'\n",
    "})"
   ]
  },
  {
   "cell_type": "code",
   "execution_count": 5,
   "metadata": {},
   "outputs": [
    {
     "data": {
      "text/plain": [
       "'http://localhost:5000/post/0a5c166edc0c410793860f6e68b887f9'"
      ]
     },
     "execution_count": 5,
     "metadata": {},
     "output_type": "execute_result"
    }
   ],
   "source": [
    "resp.headers['Location']"
   ]
  },
  {
   "cell_type": "code",
   "execution_count": null,
   "metadata": {},
   "outputs": [],
   "source": []
  },
  {
   "cell_type": "code",
   "execution_count": 6,
   "metadata": {},
   "outputs": [
    {
     "data": {
      "text/plain": [
       "{'_links': {'self': 'http://localhost:5000/post/0a5c166edc0c410793860f6e68b887f9'},\n",
       " 'authorName': 'rick',\n",
       " 'body': 'Some content',\n",
       " 'postedDate': '2020-07-29T18:50:35.033431',\n",
       " 'title': 'First post'}"
      ]
     },
     "execution_count": 6,
     "metadata": {},
     "output_type": "execute_result"
    }
   ],
   "source": [
    "resp = session.get(resp.headers['Location']).json()\n",
    "resp"
   ]
  },
  {
   "cell_type": "markdown",
   "metadata": {},
   "source": [
    "First, I'll update my util library to have get_post_or_404 and get_comment_or_404:"
   ]
  },
  {
   "cell_type": "code",
   "execution_count": 12,
   "metadata": {},
   "outputs": [
    {
     "name": "stdout",
     "output_type": "stream",
     "text": [
      "Overwriting data/flask-examples/util.py\n"
     ]
    }
   ],
   "source": [
    "%%file data/flask-examples/util.py\n",
    "import flask\n",
    "from flask import abort\n",
    "\n",
    "state = {'posts': {}}\n",
    "\n",
    "def url_for(*args, **kwargs):\n",
    "    return flask.url_for(*args, _external=True, **kwargs)\n",
    "\n",
    "def get_post_or_404(post_id):\n",
    "    post = state['posts'].get(post_id)\n",
    "    if not post:\n",
    "        abort(404)\n",
    "    return post\n",
    "    \n",
    "def get_comment_or_404(post_id, comment_id):\n",
    "    post = get_post_or_404(post_id)\n",
    "    if comment_id < len(post['comments']):\n",
    "        comment = post['comments'][comment_id]\n",
    "    else:\n",
    "        abort(404)\n",
    "    return comment\n",
    "    "
   ]
  },
  {
   "cell_type": "markdown",
   "metadata": {},
   "source": [
    "Now update the posts blueprint to use the new util:"
   ]
  },
  {
   "cell_type": "code",
   "execution_count": 13,
   "metadata": {},
   "outputs": [
    {
     "name": "stdout",
     "output_type": "stream",
     "text": [
      "Overwriting data/flask-examples/bp_posts.py\n"
     ]
    }
   ],
   "source": [
    "%%file data/flask-examples/bp_posts.py\n",
    "from datetime import datetime\n",
    "from uuid import uuid4\n",
    "\n",
    "import flask\n",
    "from flask import Blueprint, jsonify, request, abort\n",
    "\n",
    "from .util import state, url_for, get_post_or_404\n",
    "\n",
    "mod = Blueprint('posts', __name__)\n",
    "\n",
    "@mod.route('')\n",
    "def get_posts():\n",
    "    post_links = [url_for('.get_post', post_id=post_id) for post_id in state['posts']]\n",
    "    return jsonify(\n",
    "        _links={'self': url_for('.get_posts')},\n",
    "        data=[dict(_links=dict(self=link)) for link in post_links])\n",
    "\n",
    "@mod.route('', methods=['POST'])\n",
    "def create_post():\n",
    "    post_id = uuid4().hex\n",
    "    post = {\n",
    "        'postedDate': datetime.utcnow(),\n",
    "        'authorName': request.authorization.username,\n",
    "        **request.json,\n",
    "        'comments': [],\n",
    "    }\n",
    "    state['posts'][post_id] = post\n",
    "    result = jsonify_post(post_id, post)\n",
    "    result.headers['Location'] = url_for('.get_post', post_id=post_id)\n",
    "    return result, 201\n",
    "\n",
    "@mod.route('<post_id>')\n",
    "def get_post(post_id):\n",
    "    post = get_post_or_404(post_id)\n",
    "    return jsonify_post(post_id, post)\n",
    "\n",
    "@mod.route('<post_id>', methods=['PUT'])\n",
    "def update_post(post_id):\n",
    "    post = get_post_or_404(post_id)\n",
    "    post.update({\n",
    "        'postedDate': datetime.utcnow(),\n",
    "        'authorName': request.authorization.username,\n",
    "        **request.json\n",
    "    })\n",
    "    return jsonify_post(id, post)\n",
    "\n",
    "@mod.route('<post_id>', methods=['DELETE'])\n",
    "def delete_post(post_id):\n",
    "    state['posts'].pop(post_id)\n",
    "    return '', 204\n",
    "\n",
    "def jsonify_post(post_id, post, **kwargs):\n",
    "    return jsonify(\n",
    "        _links={\n",
    "            'self': url_for('.get_post', post_id=post_id),\n",
    "            'comments': url_for('comments.get_comments', post_id=post_id)\n",
    "        },\n",
    "        postedDate=post['postedDate'].isoformat(),\n",
    "        authorName=post['authorName'],\n",
    "        title=post['title'],\n",
    "        body=post['body']\n",
    "    )"
   ]
  },
  {
   "cell_type": "markdown",
   "metadata": {},
   "source": [
    "Create a blueprint for comments:"
   ]
  },
  {
   "cell_type": "code",
   "execution_count": 14,
   "metadata": {},
   "outputs": [
    {
     "name": "stdout",
     "output_type": "stream",
     "text": [
      "Overwriting data/flask-examples/bp_comments.py\n"
     ]
    }
   ],
   "source": [
    "%%file data/flask-examples/bp_comments.py\n",
    "from datetime import datetime\n",
    "\n",
    "import flask\n",
    "from flask import Blueprint, jsonify, request, abort\n",
    "\n",
    "from .util import state, url_for, get_post_or_404, get_comment_or_404\n",
    "\n",
    "mod = Blueprint('comments', __name__)\n",
    "\n",
    "@mod.route('')\n",
    "def get_comments(post_id):\n",
    "    post = get_post_or_404(post_id)\n",
    "    comment_links = [\n",
    "        url_for('.get_comment', post_id=post_id, comment_id=i) \n",
    "        for i, comment in enumerate(post['comments'])\n",
    "    ]\n",
    "    return jsonify(\n",
    "        _links={'self': url_for('.get_comments', id=post_id)},\n",
    "        data=[dict(_links=dict(self=link)) for link in comment_links])\n",
    "\n",
    "@mod.route('', methods=['POST'])\n",
    "def create_comment(post_id):\n",
    "    post = get_post_or_404(post_id)\n",
    "    comment_id = len(post['comments'])\n",
    "    comment = {\n",
    "        'postedDate': datetime.utcnow(),\n",
    "        'authorName': request.authorization.username,\n",
    "        **request.json,\n",
    "    }\n",
    "    post['comments'].append(comment)\n",
    "    result = jsonify_comment(post_id, comment_id, comment)\n",
    "    result.headers['Location'] = url_for('.get_comment', post_id=post_id, comment_id=comment_id)\n",
    "    return result, 201\n",
    "\n",
    "@mod.route('<int:comment_id>')\n",
    "def get_comment(post_id, comment_id):\n",
    "    comment = get_comment_or_404(post_id, comment_id)\n",
    "    return jsonify_comment(post_id, comment_id, comment)\n",
    "    \n",
    "@mod.route('<int:comment_id>', methods=['PUT'])\n",
    "def update_comment(post_id, comment_id):\n",
    "    comment = get_comment_or_404(post_id, comment_id)\n",
    "    comment.update({\n",
    "        'postedDate': datetime.utcnow(),\n",
    "        'authorName': request.authorization.username,\n",
    "        **request.json,\n",
    "    })\n",
    "    return jsonify_comment(post_id, comment_id, comment)\n",
    "\n",
    "@mod.route('<int:comment_id>', methods=['DELETE'])\n",
    "def delete_comment(post_id, comment_id):\n",
    "    post = get_post_or_404(post_id)\n",
    "    if len(post[comments]) <= comment_id:\n",
    "        abort(404)\n",
    "    del post['comments'][comment_id]\n",
    "    return '', 204\n",
    "\n",
    "    \n",
    "def jsonify_comment(post_id, comment_id, comment):\n",
    "    return jsonify(\n",
    "        _links={\n",
    "            'self': url_for('.get_comment', post_id=post_id, comment_id=comment_id),\n",
    "            'post': url_for('posts.get_post', post_id=post_id)\n",
    "        },\n",
    "        authorName=comment['authorName'],\n",
    "        body=comment['body'],\n",
    "    )"
   ]
  },
  {
   "cell_type": "markdown",
   "metadata": {},
   "source": [
    "Finally, create a new top-level app with my new blueprints:"
   ]
  },
  {
   "cell_type": "code",
   "execution_count": 17,
   "metadata": {},
   "outputs": [
    {
     "name": "stdout",
     "output_type": "stream",
     "text": [
      "Overwriting data/flask-examples/lab_blog.py\n"
     ]
    }
   ],
   "source": [
    "%%file data/flask-examples/lab_blog.py\n",
    "from flask import Flask, jsonify, url_for\n",
    "\n",
    "from . import bp_posts\n",
    "from . import bp_comments\n",
    "from .util import url_for\n",
    "\n",
    "app = Flask(__name__)\n",
    "\n",
    "app.register_blueprint(bp_posts.mod, url_prefix='/post')\n",
    "app.register_blueprint(bp_comments.mod, url_prefix='/post/<post_id>/comment')\n",
    "\n",
    "@app.route('/')\n",
    "def get_root():\n",
    "    return jsonify(_links={'posts': url_for('posts.get_posts')})"
   ]
  },
  {
   "cell_type": "markdown",
   "metadata": {},
   "source": [
    "Note that since I changed the app name, I'll need to update my env vars:\n",
    "\n",
    "```bash\n",
    "(env) $ cd data\n",
    "(env) $ export FLASK_APP=flask-examples.lab_blog\n",
    "(env) $ export FLASK_ENV=development \n",
    "(env) $ flask run\n",
    "```"
   ]
  },
  {
   "cell_type": "code",
   "execution_count": 18,
   "metadata": {},
   "outputs": [
    {
     "data": {
      "text/plain": [
       "{'_links': {'posts': 'http://localhost:5000/post'}}"
      ]
     },
     "execution_count": 18,
     "metadata": {},
     "output_type": "execute_result"
    }
   ],
   "source": [
    "session.get('http://localhost:5000').json()"
   ]
  },
  {
   "cell_type": "code",
   "execution_count": 19,
   "metadata": {},
   "outputs": [],
   "source": [
    "resp = session.post('http://localhost:5000/post', json={\n",
    "    'title': 'First post', \n",
    "    'body': 'Some content'\n",
    "})"
   ]
  },
  {
   "cell_type": "code",
   "execution_count": 20,
   "metadata": {},
   "outputs": [
    {
     "data": {
      "text/plain": [
       "'http://localhost:5000/post/e493fe0cd24847398dcec835255e937d'"
      ]
     },
     "execution_count": 20,
     "metadata": {},
     "output_type": "execute_result"
    }
   ],
   "source": [
    "resp.headers['Location']"
   ]
  },
  {
   "cell_type": "code",
   "execution_count": 21,
   "metadata": {},
   "outputs": [
    {
     "data": {
      "text/plain": [
       "{'_links': {'comments': 'http://localhost:5000/post/e493fe0cd24847398dcec835255e937d/comment',\n",
       "  'self': 'http://localhost:5000/post/e493fe0cd24847398dcec835255e937d'},\n",
       " 'authorName': 'rick',\n",
       " 'body': 'Some content',\n",
       " 'postedDate': '2020-07-29T18:56:06.291814',\n",
       " 'title': 'First post'}"
      ]
     },
     "execution_count": 21,
     "metadata": {},
     "output_type": "execute_result"
    }
   ],
   "source": [
    "resp = session.get(resp.headers['Location']).json()\n",
    "resp"
   ]
  },
  {
   "cell_type": "code",
   "execution_count": 22,
   "metadata": {},
   "outputs": [
    {
     "data": {
      "text/plain": [
       "<Response [201]>"
      ]
     },
     "execution_count": 22,
     "metadata": {},
     "output_type": "execute_result"
    }
   ],
   "source": [
    "resp = session.post(resp['_links']['comments'], json={'body': 'First comment'})\n",
    "resp"
   ]
  },
  {
   "cell_type": "code",
   "execution_count": 23,
   "metadata": {},
   "outputs": [
    {
     "data": {
      "text/plain": [
       "'http://localhost:5000/post/e493fe0cd24847398dcec835255e937d/comment/0'"
      ]
     },
     "execution_count": 23,
     "metadata": {},
     "output_type": "execute_result"
    }
   ],
   "source": [
    "resp.headers['Location']"
   ]
  },
  {
   "cell_type": "code",
   "execution_count": 24,
   "metadata": {},
   "outputs": [
    {
     "data": {
      "text/plain": [
       "{'_links': {'post': 'http://localhost:5000/post/e493fe0cd24847398dcec835255e937d',\n",
       "  'self': 'http://localhost:5000/post/e493fe0cd24847398dcec835255e937d/comment/0'},\n",
       " 'authorName': 'rick',\n",
       " 'body': 'First comment'}"
      ]
     },
     "execution_count": 24,
     "metadata": {},
     "output_type": "execute_result"
    }
   ],
   "source": [
    "session.get(resp.headers['Location']).json()"
   ]
  },
  {
   "cell_type": "markdown",
   "metadata": {},
   "source": [
    "- Create a blueprint 'authors' which will allow a user to update data about themselves, in particular `fullName` \n",
    "  and `password`. "
   ]
  },
  {
   "cell_type": "code",
   "execution_count": 25,
   "metadata": {},
   "outputs": [
    {
     "name": "stdout",
     "output_type": "stream",
     "text": [
      "Overwriting data/flask-examples/bp_authors.py\n"
     ]
    }
   ],
   "source": [
    "%%file data/flask-examples/bp_authors.py\n",
    "\n",
    "import flask\n",
    "from flask import Blueprint, jsonify, request, abort\n",
    "\n",
    "from .util import state, url_for, get_author_or_404, jsonify_author\n",
    "\n",
    "mod = Blueprint('authors', __name__)\n",
    "\n",
    "@mod.route('<author_id>')\n",
    "def get_author(author_id):\n",
    "    author = get_author_or_404(author_id)\n",
    "    return jsonify_author(author_id, author)\n",
    "\n",
    "@mod.route('<author_id>', methods=['PUT'])\n",
    "def update_author(author_id):\n",
    "    author = get_author_or_404(author_id)\n",
    "    author.update({\n",
    "        **request.json,\n",
    "    })\n",
    "    return jsonify_author(author_id, author)"
   ]
  },
  {
   "cell_type": "markdown",
   "metadata": {},
   "source": [
    "- Update the post and comment resources to return author information"
   ]
  },
  {
   "cell_type": "markdown",
   "metadata": {},
   "source": [
    "First, I need to add a place to store author data. While I'm at it, I'll put all the `jsonify_` helpers in util:"
   ]
  },
  {
   "cell_type": "code",
   "execution_count": 26,
   "metadata": {},
   "outputs": [
    {
     "name": "stdout",
     "output_type": "stream",
     "text": [
      "Overwriting data/flask-examples/util.py\n"
     ]
    }
   ],
   "source": [
    "%%file data/flask-examples/util.py\n",
    "import flask\n",
    "from flask import jsonify, abort\n",
    "\n",
    "state = {\n",
    "    'posts': {},\n",
    "    'authors': {\n",
    "        'rick': {\n",
    "            'fullName': 'Rick Copeland',\n",
    "            'password': 'seekrit',\n",
    "        }\n",
    "    },\n",
    "}\n",
    "\n",
    "def url_for(*args, **kwargs):\n",
    "    return flask.url_for(*args, _external=True, **kwargs)\n",
    "\n",
    "def get_author_or_404(author_id):\n",
    "    author = state['authors'].get(author_id)\n",
    "    if not author:\n",
    "        abort(404)\n",
    "    return author\n",
    "    \n",
    "def get_post_or_404(post_id):\n",
    "    post = state['posts'].get(post_id)\n",
    "    if not post:\n",
    "        abort(404)\n",
    "    return post\n",
    "    \n",
    "def get_comment_or_404(post_id, comment_id):\n",
    "    post = get_post_or_404(post_id)\n",
    "    comment = post['comments'][comment_id]\n",
    "    return comment\n",
    "    \n",
    "def jsonify_post(post_id, post, **kwargs):\n",
    "    return jsonify(\n",
    "        _links={\n",
    "            'self': url_for('posts.get_post', post_id=post_id),\n",
    "            'comments': url_for('comments.get_comments', post_id=post_id),\n",
    "            'author': url_for('authors.get_author', author_id=post['author_id']),\n",
    "        },\n",
    "        postedDate=post['postedDate'].isoformat(),\n",
    "        title=post['title'],\n",
    "        body=post['body']\n",
    "    )\n",
    "\n",
    "def jsonify_comment(post_id, comment_id, comment):\n",
    "    return jsonify(\n",
    "        _links={\n",
    "            'self': url_for('comments.get_comment', post_id=post_id, comment_id=comment_id),\n",
    "            'post': url_for('posts.get_post', post_id=post_id),\n",
    "            'author': url_for('authors.get_author', author_id=comment['author_id']),\n",
    "        },\n",
    "        body=comment['body'],\n",
    "    )\n",
    "\n",
    "def jsonify_author(author_id, author):\n",
    "    return jsonify(\n",
    "        _links={'self': url_for('authors.get_author', author_id=author_id)},\n",
    "        fullName=author['fullName'],\n",
    "    )\n"
   ]
  },
  {
   "cell_type": "code",
   "execution_count": 27,
   "metadata": {},
   "outputs": [
    {
     "name": "stdout",
     "output_type": "stream",
     "text": [
      "Overwriting data/flask-examples/bp_posts.py\n"
     ]
    }
   ],
   "source": [
    "%%file data/flask-examples/bp_posts.py\n",
    "from datetime import datetime\n",
    "from uuid import uuid4\n",
    "\n",
    "import flask\n",
    "from flask import Blueprint, jsonify, request, abort\n",
    "\n",
    "from .util import state, url_for, get_post_or_404, jsonify_post\n",
    "\n",
    "mod = Blueprint('posts', __name__)\n",
    "\n",
    "@mod.route('')\n",
    "def get_posts():\n",
    "    post_links = [url_for('.get_post', post_id=post_id) for post_id in state['posts']]\n",
    "    return jsonify(\n",
    "        _links={'self': url_for('.get_posts')},\n",
    "        data=[dict(_links=dict(self=link)) for link in post_links])\n",
    "\n",
    "@mod.route('', methods=['POST'])\n",
    "def create_post():\n",
    "    post_id = uuid4().hex\n",
    "    post = {\n",
    "        'postedDate': datetime.utcnow(),\n",
    "        'author_id': request.authorization.username,\n",
    "        **request.json,\n",
    "        'comments': [],\n",
    "    }\n",
    "    state['posts'][post_id] = post\n",
    "    result = jsonify_post(post_id, post)\n",
    "    result.headers['Location'] = url_for('.get_post', post_id=post_id)\n",
    "    return result, 201\n",
    "\n",
    "@mod.route('<post_id>')\n",
    "def get_post(post_id):\n",
    "    post = get_post_or_404(post_id)\n",
    "    return jsonify_post(post_id, post)\n",
    "\n",
    "@mod.route('<post_id>', methods=['PUT'])\n",
    "def update_post(post_id):\n",
    "    post = get_post_or_404(post_id)\n",
    "    post.update({\n",
    "        'postedDate': datetime.utcnow(),\n",
    "        'author_id': request.authorization.username,\n",
    "        **request.json\n",
    "    })\n",
    "    return jsonify_post(id, post)\n",
    "\n",
    "@mod.route('<post_id>', methods=['DELETE'])\n",
    "def delete_post(post_id):\n",
    "    state['posts'].pop(post_id)\n",
    "    return '', 204\n"
   ]
  },
  {
   "cell_type": "code",
   "execution_count": 28,
   "metadata": {},
   "outputs": [
    {
     "name": "stdout",
     "output_type": "stream",
     "text": [
      "Overwriting data/flask-examples/bp_comments.py\n"
     ]
    }
   ],
   "source": [
    "%%file data/flask-examples/bp_comments.py\n",
    "from datetime import datetime\n",
    "\n",
    "import flask\n",
    "from flask import Blueprint, jsonify, request, abort\n",
    "\n",
    "from .util import state, url_for, get_post_or_404, get_comment_or_404, jsonify_comment\n",
    "\n",
    "mod = Blueprint('comments', __name__)\n",
    "\n",
    "@mod.route('')\n",
    "def get_comments(post_id):\n",
    "    post = get_post_or_404(post_id)\n",
    "    comment_links = [\n",
    "        url_for('.get_comment', post_id=post_id, comment_id=i) \n",
    "        for i, comment in enumerate(post['comments'])\n",
    "    ]\n",
    "    return jsonify(\n",
    "        _links={'self': url_for('.get_comments', id=post_id)},\n",
    "        data=[dict(_links=dict(self=link)) for link in comment_links])\n",
    "\n",
    "@mod.route('', methods=['POST'])\n",
    "def create_comment(post_id):\n",
    "    post = get_post_or_404(post_id)\n",
    "    comment_id = len(post['comments'])\n",
    "    comment = {\n",
    "        'postedDate': datetime.utcnow(),\n",
    "        'author_id': request.authorization.username,\n",
    "        **request.json,\n",
    "    }\n",
    "    post['comments'].append(comment)\n",
    "    result = jsonify_comment(post_id, comment_id, comment)\n",
    "    result.headers['Location'] = url_for('.get_comment', post_id=post_id, comment_id=comment_id)\n",
    "    return result, 201\n",
    "\n",
    "@mod.route('<int:comment_id>')\n",
    "def get_comment(post_id, comment_id):\n",
    "    comment = get_comment_or_404(post_id, comment_id)\n",
    "    return jsonify_comment(post_id, comment_id, comment)\n",
    "    \n",
    "@mod.route('<int:comment_id>', methods=['PUT'])\n",
    "def update_comment(post_id, comment_id):\n",
    "    comment = get_comment_or_404(post_id, comment_id)\n",
    "    comment.update({\n",
    "        'postedDate': datetime.utcnow(),\n",
    "        'author_id': request.authorization.username,\n",
    "        **request.json,\n",
    "    })\n",
    "    return jsonify_comment(post_id, comment_id, comment)\n",
    "\n",
    "@mod.route('<int:comment_id>', methods=['DELETE'])\n",
    "def delete_comment(post_id, comment_id):\n",
    "    post = get_post_or_404(post_id)\n",
    "    if len(post[comments]) <= comment_id:\n",
    "        abort(404)\n",
    "    del post['comments'][comment_id]\n",
    "    return '', 204\n"
   ]
  },
  {
   "cell_type": "markdown",
   "metadata": {},
   "source": [
    "Finally, update the app:"
   ]
  },
  {
   "cell_type": "code",
   "execution_count": 31,
   "metadata": {},
   "outputs": [
    {
     "name": "stdout",
     "output_type": "stream",
     "text": [
      "Overwriting data/flask-examples/lab_blog.py\n"
     ]
    }
   ],
   "source": [
    "%%file data/flask-examples/lab_blog.py\n",
    "from flask import Flask, jsonify, url_for\n",
    "\n",
    "from . import bp_posts\n",
    "from . import bp_comments\n",
    "from . import bp_authors\n",
    "from .util import url_for\n",
    "\n",
    "app = Flask(__name__)\n",
    "\n",
    "app.register_blueprint(bp_posts.mod, url_prefix='/post')\n",
    "app.register_blueprint(bp_comments.mod, url_prefix='/post/<post_id>/comment')\n",
    "app.register_blueprint(bp_authors.mod, url_prefix='/author')\n",
    "\n",
    "@app.route('/')\n",
    "def get_root():\n",
    "    return jsonify(_links={\n",
    "        'posts': url_for('posts.get_posts'),\n",
    "    })"
   ]
  },
  {
   "cell_type": "code",
   "execution_count": 32,
   "metadata": {},
   "outputs": [
    {
     "data": {
      "text/plain": [
       "{'_links': {'posts': 'http://localhost:5000/post'}}"
      ]
     },
     "execution_count": 32,
     "metadata": {},
     "output_type": "execute_result"
    }
   ],
   "source": [
    "session.get('http://localhost:5000').json()"
   ]
  },
  {
   "cell_type": "code",
   "execution_count": 33,
   "metadata": {},
   "outputs": [],
   "source": [
    "resp = session.post('http://localhost:5000/post', json={\n",
    "    'title': 'First post', \n",
    "    'body': 'Some content'\n",
    "})"
   ]
  },
  {
   "cell_type": "code",
   "execution_count": 34,
   "metadata": {},
   "outputs": [
    {
     "data": {
      "text/plain": [
       "'http://localhost:5000/post/f01f2dcf1b4d42fa8758b0a0d97289b3'"
      ]
     },
     "execution_count": 34,
     "metadata": {},
     "output_type": "execute_result"
    }
   ],
   "source": [
    "resp.headers['Location']"
   ]
  },
  {
   "cell_type": "code",
   "execution_count": 35,
   "metadata": {},
   "outputs": [
    {
     "data": {
      "text/plain": [
       "{'_links': {'author': 'http://localhost:5000/author/rick',\n",
       "  'comments': 'http://localhost:5000/post/f01f2dcf1b4d42fa8758b0a0d97289b3/comment',\n",
       "  'self': 'http://localhost:5000/post/f01f2dcf1b4d42fa8758b0a0d97289b3'},\n",
       " 'body': 'Some content',\n",
       " 'postedDate': '2020-07-29T18:58:34.736426',\n",
       " 'title': 'First post'}"
      ]
     },
     "execution_count": 35,
     "metadata": {},
     "output_type": "execute_result"
    }
   ],
   "source": [
    "resp = session.get(resp.headers['Location']).json()\n",
    "resp"
   ]
  },
  {
   "cell_type": "code",
   "execution_count": 36,
   "metadata": {},
   "outputs": [
    {
     "data": {
      "text/plain": [
       "<Response [201]>"
      ]
     },
     "execution_count": 36,
     "metadata": {},
     "output_type": "execute_result"
    }
   ],
   "source": [
    "resp = session.post(resp['_links']['comments'], json={'body': 'First comment'})\n",
    "resp"
   ]
  },
  {
   "cell_type": "code",
   "execution_count": 37,
   "metadata": {},
   "outputs": [
    {
     "data": {
      "text/plain": [
       "'http://localhost:5000/post/f01f2dcf1b4d42fa8758b0a0d97289b3/comment/0'"
      ]
     },
     "execution_count": 37,
     "metadata": {},
     "output_type": "execute_result"
    }
   ],
   "source": [
    "resp.headers['Location']"
   ]
  },
  {
   "cell_type": "code",
   "execution_count": 38,
   "metadata": {},
   "outputs": [
    {
     "data": {
      "text/plain": [
       "{'_links': {'author': 'http://localhost:5000/author/rick',\n",
       "  'post': 'http://localhost:5000/post/f01f2dcf1b4d42fa8758b0a0d97289b3',\n",
       "  'self': 'http://localhost:5000/post/f01f2dcf1b4d42fa8758b0a0d97289b3/comment/0'},\n",
       " 'body': 'First comment'}"
      ]
     },
     "execution_count": 38,
     "metadata": {},
     "output_type": "execute_result"
    }
   ],
   "source": [
    "resp = session.get(resp.headers['Location']).json()\n",
    "resp"
   ]
  },
  {
   "cell_type": "code",
   "execution_count": 39,
   "metadata": {},
   "outputs": [
    {
     "data": {
      "text/plain": [
       "{'_links': {'self': 'http://localhost:5000/author/rick'},\n",
       " 'fullName': 'Rick Copeland'}"
      ]
     },
     "execution_count": 39,
     "metadata": {},
     "output_type": "execute_result"
    }
   ],
   "source": [
    "session.get(resp['_links']['author']).json()"
   ]
  },
  {
   "cell_type": "code",
   "execution_count": 40,
   "metadata": {},
   "outputs": [
    {
     "data": {
      "text/plain": [
       "{'_links': {'self': 'http://localhost:5000/author/rick'}, 'fullName': 'Rick'}"
      ]
     },
     "execution_count": 40,
     "metadata": {},
     "output_type": "execute_result"
    }
   ],
   "source": [
    "session.put(resp['_links']['author'], json={'fullName': 'Rick', 'password': 'secret'}).json()"
   ]
  },
  {
   "cell_type": "markdown",
   "metadata": {},
   "source": [
    "- Update your views to verify that the user's password matches the password passed in the authorization header"
   ]
  },
  {
   "cell_type": "code",
   "execution_count": 41,
   "metadata": {},
   "outputs": [
    {
     "name": "stdout",
     "output_type": "stream",
     "text": [
      "Overwriting data/flask-examples/util.py\n"
     ]
    }
   ],
   "source": [
    "%%file data/flask-examples/util.py\n",
    "import hmac\n",
    "\n",
    "import flask\n",
    "from flask import jsonify, request, abort\n",
    "\n",
    "state = {\n",
    "    'posts': {},\n",
    "    'authors': {\n",
    "        'rick': {\n",
    "            'fullName': 'Rick Copeland',\n",
    "            'password': 'seekrit',\n",
    "        }\n",
    "    },\n",
    "}\n",
    "\n",
    "def verify_password():\n",
    "    if not request.authorization:\n",
    "        abort(401)\n",
    "    author = state['authors'].get(request.authorization.username)\n",
    "    if author is None:\n",
    "        abort(403)\n",
    "    good_password = hmac.compare_digest(\n",
    "        author['password'], request.authorization.password\n",
    "    )\n",
    "    # Please note that the approach below is *insecure* \n",
    "    #   -- you should use hashing like bcrypt or scrypt to store passwords, \n",
    "    #   and you should use a digest comparison\n",
    "    # good_password = (author['password'] == request.authorization.password)\n",
    "    if not good_password:\n",
    "        abort(403)\n",
    "    \n",
    "\n",
    "def url_for(*args, **kwargs):\n",
    "    return flask.url_for(*args, _external=True, **kwargs)\n",
    "\n",
    "def get_author_or_404(author_id):\n",
    "    author = state['authors'].get(author_id)\n",
    "    if not author:\n",
    "        abort(404)\n",
    "    return author\n",
    "    \n",
    "def get_post_or_404(post_id):\n",
    "    post = state['posts'].get(post_id)\n",
    "    if not post:\n",
    "        abort(404)\n",
    "    return post\n",
    "    \n",
    "def get_comment_or_404(post_id, comment_id):\n",
    "    post = get_post_or_404(post_id)\n",
    "    comment = post['comments'][comment_id]\n",
    "    return comment\n",
    "    \n",
    "def jsonify_post(post_id, post, **kwargs):\n",
    "    return jsonify(\n",
    "        _links={\n",
    "            'self': url_for('posts.get_post', post_id=post_id),\n",
    "            'comments': url_for('comments.get_comments', post_id=post_id),\n",
    "            'author': url_for('authors.get_author', author_id=post['author_id']),\n",
    "        },\n",
    "        postedDate=post['postedDate'].isoformat(),\n",
    "        title=post['title'],\n",
    "        body=post['body']\n",
    "    )\n",
    "\n",
    "def jsonify_comment(post_id, comment_id, comment):\n",
    "    return jsonify(\n",
    "        _links={\n",
    "            'self': url_for('comments.get_comment', post_id=post_id, comment_id=comment_id),\n",
    "            'post': url_for('posts.get_post', post_id=post_id),\n",
    "            'author': url_for('authors.get_author', author_id=comment['author_id']),\n",
    "        },\n",
    "        body=comment['body'],\n",
    "    )\n",
    "\n",
    "def jsonify_author(author_id, author):\n",
    "    return jsonify(\n",
    "        _links={'self': url_for('authors.get_author', author_id=author_id)},\n",
    "        fullName=author['fullName'],\n",
    "    )\n"
   ]
  },
  {
   "cell_type": "code",
   "execution_count": 42,
   "metadata": {},
   "outputs": [
    {
     "name": "stdout",
     "output_type": "stream",
     "text": [
      "Overwriting data/flask-examples/bp_posts.py\n"
     ]
    }
   ],
   "source": [
    "%%file data/flask-examples/bp_posts.py\n",
    "from datetime import datetime\n",
    "from uuid import uuid4\n",
    "\n",
    "import flask\n",
    "from flask import Blueprint, jsonify, request, abort\n",
    "\n",
    "from .util import state, url_for, get_post_or_404, jsonify_post, verify_password\n",
    "\n",
    "mod = Blueprint('posts', __name__)\n",
    "\n",
    "@mod.route('')\n",
    "def get_posts():\n",
    "    post_links = [url_for('.get_post', post_id=post_id) for post_id in state['posts']]\n",
    "    return jsonify(\n",
    "        _links={'self': url_for('.get_posts')},\n",
    "        data=[dict(_links=dict(self=link)) for link in post_links])\n",
    "\n",
    "@mod.route('', methods=['POST'])\n",
    "def create_post():\n",
    "    verify_password()\n",
    "    post_id = uuid4().hex\n",
    "    post = {\n",
    "        'postedDate': datetime.utcnow(),\n",
    "        'author_id': request.authorization.username,\n",
    "        **request.json,\n",
    "        'comments': [],\n",
    "    }\n",
    "    state['posts'][post_id] = post\n",
    "    result = jsonify_post(post_id, post)\n",
    "    result.headers['Location'] = url_for('.get_post', post_id=post_id)\n",
    "    return result, 201\n",
    "\n",
    "@mod.route('<post_id>')\n",
    "def get_post(post_id):\n",
    "    post = get_post_or_404(post_id)\n",
    "    return jsonify_post(post_id, post)\n",
    "\n",
    "@mod.route('<post_id>', methods=['PUT'])\n",
    "def update_post(post_id):\n",
    "    verify_password()\n",
    "    post = get_post_or_404(post_id)\n",
    "    post.update({\n",
    "        'postedDate': datetime.utcnow(),\n",
    "        'author_id': request.authorization.username,\n",
    "        **request.json\n",
    "    })\n",
    "    return jsonify_post(id, post)\n",
    "\n",
    "@mod.route('<post_id>', methods=['DELETE'])\n",
    "def delete_post(post_id):\n",
    "    verify_password()\n",
    "    state['posts'].pop(post_id)\n",
    "    return '', 204\n"
   ]
  },
  {
   "cell_type": "code",
   "execution_count": 43,
   "metadata": {},
   "outputs": [
    {
     "name": "stdout",
     "output_type": "stream",
     "text": [
      "Overwriting data/flask-examples/bp_comments.py\n"
     ]
    }
   ],
   "source": [
    "%%file data/flask-examples/bp_comments.py\n",
    "from datetime import datetime\n",
    "\n",
    "import flask\n",
    "from flask import Blueprint, jsonify, request, abort\n",
    "\n",
    "from .util import state, url_for, get_post_or_404, get_comment_or_404, jsonify_comment, verify_password\n",
    "\n",
    "mod = Blueprint('comments', __name__)\n",
    "\n",
    "@mod.route('')\n",
    "def get_comments(post_id):\n",
    "    post = get_post_or_404(post_id)\n",
    "    comment_links = [\n",
    "        url_for('.get_comment', post_id=post_id, comment_id=i) \n",
    "        for i, comment in enumerate(post['comments'])\n",
    "    ]\n",
    "    return jsonify(\n",
    "        _links={'self': url_for('.get_comments', id=post_id)},\n",
    "        data=[dict(_links=dict(self=link)) for link in comment_links])\n",
    "\n",
    "@mod.route('', methods=['POST'])\n",
    "def create_comment(post_id):\n",
    "    verify_password()\n",
    "    post = get_post_or_404(post_id)\n",
    "    comment_id = len(post['comments'])\n",
    "    comment = {\n",
    "        'postedDate': datetime.utcnow(),\n",
    "        'author_id': request.authorization.username,\n",
    "        **request.json,\n",
    "    }\n",
    "    post['comments'].append(comment)\n",
    "    result = jsonify_comment(post_id, comment_id, comment)\n",
    "    result.headers['Location'] = url_for('.get_comment', post_id=post_id, comment_id=comment_id)\n",
    "    return result, 201\n",
    "\n",
    "@mod.route('<int:comment_id>')\n",
    "def get_comment(post_id, comment_id):\n",
    "    comment = get_comment_or_404(post_id, comment_id)\n",
    "    return jsonify_comment(post_id, comment_id, comment)\n",
    "    \n",
    "@mod.route('<int:comment_id>', methods=['PUT'])\n",
    "def update_comment(post_id, comment_id):\n",
    "    verify_password()\n",
    "    comment = get_comment_or_404(post_id, comment_id)\n",
    "    comment.update({\n",
    "        'postedDate': datetime.utcnow(),\n",
    "        'author_id': request.authorization.username,\n",
    "        **request.json,\n",
    "    })\n",
    "    return jsonify_comment(post_id, comment_id, comment)\n",
    "\n",
    "@mod.route('<int:comment_id>', methods=['DELETE'])\n",
    "def delete_comment(post_id, comment_id):\n",
    "    verify_password()\n",
    "    post = get_post_or_404(post_id)\n",
    "    if len(post[comments]) <= comment_id:\n",
    "        abort(404)\n",
    "    del post['comments'][comment_id]\n",
    "    return '', 204\n"
   ]
  },
  {
   "cell_type": "code",
   "execution_count": 44,
   "metadata": {},
   "outputs": [
    {
     "name": "stdout",
     "output_type": "stream",
     "text": [
      "Overwriting data/flask-examples/bp_authors.py\n"
     ]
    }
   ],
   "source": [
    "%%file data/flask-examples/bp_authors.py\n",
    "\n",
    "import flask\n",
    "from flask import Blueprint, jsonify, request, abort\n",
    "\n",
    "from .util import state, url_for, get_author_or_404, jsonify_author, verify_password\n",
    "\n",
    "mod = Blueprint('authors', __name__)\n",
    "\n",
    "@mod.route('<author_id>')\n",
    "def get_author(author_id):\n",
    "    author = get_author_or_404(author_id)\n",
    "    return jsonify_author(author_id, author)\n",
    "\n",
    "@mod.route('<author_id>', methods=['PUT'])\n",
    "def update_author(author_id):\n",
    "    verify_password()\n",
    "    if request.authorization.username != author_id:\n",
    "        abort(403)\n",
    "    author = get_author_or_404(author_id)\n",
    "    author.update({\n",
    "        **request.json,\n",
    "    })\n",
    "    return jsonify_author(author_id, author)"
   ]
  },
  {
   "cell_type": "code",
   "execution_count": 45,
   "metadata": {},
   "outputs": [
    {
     "data": {
      "text/plain": [
       "{'_links': {'posts': 'http://localhost:5000/post'}}"
      ]
     },
     "execution_count": 45,
     "metadata": {},
     "output_type": "execute_result"
    }
   ],
   "source": [
    "session.get('http://localhost:5000').json()"
   ]
  },
  {
   "cell_type": "code",
   "execution_count": 46,
   "metadata": {},
   "outputs": [],
   "source": [
    "session.auth = ('rick', 'seekrit')"
   ]
  },
  {
   "cell_type": "code",
   "execution_count": 47,
   "metadata": {},
   "outputs": [
    {
     "data": {
      "text/plain": [
       "<Response [201]>"
      ]
     },
     "execution_count": 47,
     "metadata": {},
     "output_type": "execute_result"
    }
   ],
   "source": [
    "resp = session.post('http://localhost:5000/post', json={\n",
    "    'title': 'First post', \n",
    "    'body': 'Some content'\n",
    "})\n",
    "resp"
   ]
  },
  {
   "cell_type": "code",
   "execution_count": 48,
   "metadata": {},
   "outputs": [
    {
     "data": {
      "text/plain": [
       "'http://localhost:5000/post/1284fc561f774bb7999e847d7dd18784'"
      ]
     },
     "execution_count": 48,
     "metadata": {},
     "output_type": "execute_result"
    }
   ],
   "source": [
    "resp.headers['Location']"
   ]
  },
  {
   "cell_type": "code",
   "execution_count": 49,
   "metadata": {},
   "outputs": [
    {
     "data": {
      "text/plain": [
       "{'_links': {'author': 'http://localhost:5000/author/rick',\n",
       "  'comments': 'http://localhost:5000/post/1284fc561f774bb7999e847d7dd18784/comment',\n",
       "  'self': 'http://localhost:5000/post/1284fc561f774bb7999e847d7dd18784'},\n",
       " 'body': 'Some content',\n",
       " 'postedDate': '2020-07-29T19:01:05.127766',\n",
       " 'title': 'First post'}"
      ]
     },
     "execution_count": 49,
     "metadata": {},
     "output_type": "execute_result"
    }
   ],
   "source": [
    "resp = session.get(resp.headers['Location']).json()\n",
    "resp"
   ]
  },
  {
   "cell_type": "code",
   "execution_count": 50,
   "metadata": {},
   "outputs": [
    {
     "data": {
      "text/plain": [
       "<Response [201]>"
      ]
     },
     "execution_count": 50,
     "metadata": {},
     "output_type": "execute_result"
    }
   ],
   "source": [
    "resp = session.post(resp['_links']['comments'], json={'body': 'First comment'})\n",
    "resp"
   ]
  },
  {
   "cell_type": "code",
   "execution_count": 51,
   "metadata": {},
   "outputs": [
    {
     "data": {
      "text/plain": [
       "'http://localhost:5000/post/1284fc561f774bb7999e847d7dd18784/comment/0'"
      ]
     },
     "execution_count": 51,
     "metadata": {},
     "output_type": "execute_result"
    }
   ],
   "source": [
    "resp.headers['Location']"
   ]
  },
  {
   "cell_type": "code",
   "execution_count": 52,
   "metadata": {},
   "outputs": [
    {
     "data": {
      "text/plain": [
       "{'_links': {'author': 'http://localhost:5000/author/rick',\n",
       "  'post': 'http://localhost:5000/post/1284fc561f774bb7999e847d7dd18784',\n",
       "  'self': 'http://localhost:5000/post/1284fc561f774bb7999e847d7dd18784/comment/0'},\n",
       " 'body': 'First comment'}"
      ]
     },
     "execution_count": 52,
     "metadata": {},
     "output_type": "execute_result"
    }
   ],
   "source": [
    "resp = session.get(resp.headers['Location']).json()\n",
    "resp"
   ]
  },
  {
   "cell_type": "code",
   "execution_count": 53,
   "metadata": {},
   "outputs": [
    {
     "data": {
      "text/plain": [
       "{'_links': {'self': 'http://localhost:5000/author/rick'},\n",
       " 'fullName': 'Rick Copeland'}"
      ]
     },
     "execution_count": 53,
     "metadata": {},
     "output_type": "execute_result"
    }
   ],
   "source": [
    "session.get(resp['_links']['author']).json()"
   ]
  },
  {
   "cell_type": "code",
   "execution_count": 54,
   "metadata": {},
   "outputs": [
    {
     "data": {
      "text/plain": [
       "{'_links': {'self': 'http://localhost:5000/author/rick'}, 'fullName': 'Rick'}"
      ]
     },
     "execution_count": 54,
     "metadata": {},
     "output_type": "execute_result"
    }
   ],
   "source": [
    "session.put(resp['_links']['author'], json={'fullName': 'Rick', 'password': 'secret'}).json()"
   ]
  },
  {
   "cell_type": "markdown",
   "metadata": {},
   "source": [
    "Expect a 403 because we changed the password:"
   ]
  },
  {
   "cell_type": "code",
   "execution_count": 55,
   "metadata": {},
   "outputs": [
    {
     "data": {
      "text/plain": [
       "<Response [403]>"
      ]
     },
     "execution_count": 55,
     "metadata": {},
     "output_type": "execute_result"
    }
   ],
   "source": [
    "resp = session.post('http://localhost:5000/post', json={\n",
    "    'title': 'First post', \n",
    "    'body': 'Some content'\n",
    "})\n",
    "resp"
   ]
  },
  {
   "cell_type": "code",
   "execution_count": 56,
   "metadata": {},
   "outputs": [
    {
     "data": {
      "text/plain": [
       "<Response [401]>"
      ]
     },
     "execution_count": 56,
     "metadata": {},
     "output_type": "execute_result"
    }
   ],
   "source": [
    "resp = requests.post('http://localhost:5000/post', json={\n",
    "    'title': 'First post', \n",
    "    'body': 'Some content'\n",
    "})\n",
    "resp"
   ]
  }
 ],
 "metadata": {
  "kernelspec": {
   "display_name": "Python 3",
   "language": "python",
   "name": "python3"
  },
  "language_info": {
   "codemirror_mode": {
    "name": "ipython",
    "version": 3
   },
   "file_extension": ".py",
   "mimetype": "text/x-python",
   "name": "python",
   "nbconvert_exporter": "python",
   "pygments_lexer": "ipython3",
   "version": "3.7.6"
  }
 },
 "nbformat": 4,
 "nbformat_minor": 2
}
