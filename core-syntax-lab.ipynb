{
 "cells": [
  {
   "cell_type": "markdown",
   "metadata": {},
   "source": [
    "# Lab: Python Core Syntax"
   ]
  },
  {
   "cell_type": "markdown",
   "metadata": {},
   "source": [
    "## Stock \"simulator\"\n",
    "\n",
    "- Write a function `should_delist(price)` that takes a stock's share price and returns `True` if the stock should be de-listed for falling below $1.00\n",
    "- Write a function `simulate(initial_price)` that simulates a stock declining in value by 10% daily until it is de-listed. The function should print out the price for each day. "
   ]
  },
  {
   "cell_type": "code",
   "execution_count": 3,
   "metadata": {},
   "outputs": [],
   "source": [
    "def should_delist(price):\n",
    "    return True if price < 1.0 else False\n",
    "\n",
    "def simulate(initial_price):\n",
    "    price = initial_price\n",
    "    while not should_delist(price):\n",
    "        print(price)\n",
    "        price -= 0.1 * price"
   ]
  },
  {
   "cell_type": "code",
   "execution_count": 4,
   "metadata": {},
   "outputs": [
    {
     "name": "stdout",
     "output_type": "stream",
     "text": [
      "10\n",
      "9.0\n",
      "8.1\n",
      "7.289999999999999\n",
      "6.560999999999999\n",
      "5.9049\n",
      "5.31441\n",
      "4.782969\n",
      "4.3046720999999994\n",
      "3.8742048899999997\n",
      "3.4867844009999995\n",
      "3.1381059608999995\n",
      "2.8242953648099993\n",
      "2.541865828328999\n",
      "2.2876792454960992\n",
      "2.058911320946489\n",
      "1.8530201888518403\n",
      "1.6677181699666561\n",
      "1.5009463529699905\n",
      "1.3508517176729913\n",
      "1.215766545905692\n",
      "1.094189891315123\n"
     ]
    }
   ],
   "source": [
    "simulate(10)"
   ]
  },
  {
   "cell_type": "markdown",
   "metadata": {},
   "source": [
    "## Directory\n",
    "\n",
    "Write some functions to maintain a list of mappings between names and IP addresses.\n",
    "\n",
    "Use a dictionary that maps a name to a set of strings which represent IP addresses for that name:\n",
    "\n",
    "```python\n",
    "directory = {\n",
    "    'swim': {'123.45.67.89'},\n",
    "    'bike': {'123.45.67.88', '123.45.67.80'},\n",
    "    'run': {'123.45.67.87'},\n",
    "}```\n"
   ]
  },
  {
   "cell_type": "code",
   "execution_count": 7,
   "metadata": {},
   "outputs": [],
   "source": [
    "def create_directory():\n",
    "    '''create a new directory'''\n",
    "    return {\n",
    "        'swim': {'123.45.67.89'},\n",
    "        'bike': {'123.45.67.88', '123.45.67.80'},\n",
    "        'run': {'123.45.67.87'},\n",
    "    }\n",
    "    \n",
    "def add_ip(directory, name, address):\n",
    "    directory[name] = address\n",
    "    \n",
    "def resolve(directory, name):\n",
    "    if name in directory:\n",
    "        return directory[name]\n",
    "    else:\n",
    "        return None"
   ]
  },
  {
   "cell_type": "code",
   "execution_count": 8,
   "metadata": {},
   "outputs": [
    {
     "name": "stdout",
     "output_type": "stream",
     "text": [
      "{'10.14.55.92'}\n",
      "{'123.45.67.88', '123.45.67.80'}\n",
      "None\n"
     ]
    }
   ],
   "source": [
    "dictA = create_directory()\n",
    "add_ip(dictA, \"food\", {\"10.14.55.92\"})\n",
    "print(resolve(dictA, \"food\"))\n",
    "print(resolve(dictA, \"bike\"))\n",
    "print(resolve(dictA, \"NotExist\"))"
   ]
  },
  {
   "cell_type": "code",
   "execution_count": null,
   "metadata": {},
   "outputs": [],
   "source": []
  }
 ],
 "metadata": {
  "kernelspec": {
   "display_name": "Python 3",
   "language": "python",
   "name": "python3"
  },
  "language_info": {
   "codemirror_mode": {
    "name": "ipython",
    "version": 3
   },
   "file_extension": ".py",
   "mimetype": "text/x-python",
   "name": "python",
   "nbconvert_exporter": "python",
   "pygments_lexer": "ipython3",
   "version": "3.6.5"
  }
 },
 "nbformat": 4,
 "nbformat_minor": 2
}
