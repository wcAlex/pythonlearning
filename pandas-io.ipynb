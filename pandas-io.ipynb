{
 "cells": [
  {
   "cell_type": "markdown",
   "metadata": {},
   "source": [
    "# Pandas: the Python structured data library\n",
    "\n",
    "Pandas (allegedly) stands for **Pan**el **da**ta (**s**?) and lets you manipulate 'spreadsheet-like' data in Python easily"
   ]
  },
  {
   "cell_type": "code",
   "execution_count": 1,
   "metadata": {},
   "outputs": [
    {
     "name": "stdout",
     "output_type": "stream",
     "text": [
      "Looking in links: /Users/rick446/src/wheelhouse\n",
      "Requirement already satisfied: pandas in /Users/rick446/.virtualenvs/py38/lib/python3.8/site-packages (1.1.0)\n",
      "Requirement already satisfied: numpy>=1.15.4 in /Users/rick446/.virtualenvs/py38/lib/python3.8/site-packages (from pandas) (1.19.2)\n",
      "Requirement already satisfied: pytz>=2017.2 in /Users/rick446/.virtualenvs/py38/lib/python3.8/site-packages (from pandas) (2020.1)\n",
      "Requirement already satisfied: python-dateutil>=2.7.3 in /Users/rick446/.virtualenvs/py38/lib/python3.8/site-packages (from pandas) (2.8.1)\n",
      "Requirement already satisfied: six>=1.5 in /Users/rick446/.virtualenvs/py38/lib/python3.8/site-packages (from python-dateutil>=2.7.3->pandas) (1.15.0)\n"
     ]
    }
   ],
   "source": [
    "!pip install pandas"
   ]
  },
  {
   "cell_type": "code",
   "execution_count": 2,
   "metadata": {},
   "outputs": [],
   "source": [
    "import pandas as pd"
   ]
  },
  {
   "cell_type": "markdown",
   "metadata": {},
   "source": [
    "## Series: kind of like a `list` and `dict` put together"
   ]
  },
  {
   "cell_type": "code",
   "execution_count": 6,
   "metadata": {
    "scrolled": true
   },
   "outputs": [
    {
     "data": {
      "text/plain": [
       "0    1\n",
       "1    2\n",
       "2    3\n",
       "dtype: int64"
      ]
     },
     "execution_count": 6,
     "metadata": {},
     "output_type": "execute_result"
    }
   ],
   "source": [
    "s = pd.Series([1,2,3])\n",
    "s"
   ]
  },
  {
   "cell_type": "code",
   "execution_count": 7,
   "metadata": {},
   "outputs": [
    {
     "data": {
      "text/plain": [
       "0    1\n",
       "1    2\n",
       "2    3\n",
       "dtype: int8"
      ]
     },
     "execution_count": 7,
     "metadata": {},
     "output_type": "execute_result"
    }
   ],
   "source": [
    "import numpy as np\n",
    "\n",
    "s = pd.Series([1,2,3], dtype=np.int8)\n",
    "s"
   ]
  },
  {
   "cell_type": "code",
   "execution_count": 8,
   "metadata": {},
   "outputs": [
    {
     "data": {
      "text/plain": [
       "0    1\n",
       "1    3\n",
       "2    3\n",
       "dtype: int8"
      ]
     },
     "execution_count": 8,
     "metadata": {},
     "output_type": "execute_result"
    }
   ],
   "source": [
    "s[1] = 3.14\n",
    "s"
   ]
  },
  {
   "cell_type": "code",
   "execution_count": 9,
   "metadata": {},
   "outputs": [
    {
     "data": {
      "text/plain": [
       "['a', 'b', 'c']"
      ]
     },
     "execution_count": 9,
     "metadata": {},
     "output_type": "execute_result"
    }
   ],
   "source": [
    "'a b c'.split()"
   ]
  },
  {
   "cell_type": "code",
   "execution_count": 10,
   "metadata": {},
   "outputs": [
    {
     "data": {
      "text/plain": [
       "a    1\n",
       "b    2\n",
       "c    3\n",
       "dtype: int64"
      ]
     },
     "execution_count": 10,
     "metadata": {},
     "output_type": "execute_result"
    }
   ],
   "source": [
    "s = pd.Series([1,2,3], index='a b c'.split())\n",
    "s"
   ]
  },
  {
   "cell_type": "code",
   "execution_count": 11,
   "metadata": {},
   "outputs": [
    {
     "data": {
      "text/plain": [
       "1"
      ]
     },
     "execution_count": 11,
     "metadata": {},
     "output_type": "execute_result"
    }
   ],
   "source": [
    "s[0]"
   ]
  },
  {
   "cell_type": "code",
   "execution_count": 12,
   "metadata": {},
   "outputs": [
    {
     "data": {
      "text/plain": [
       "1"
      ]
     },
     "execution_count": 12,
     "metadata": {},
     "output_type": "execute_result"
    }
   ],
   "source": [
    "s['a']"
   ]
  },
  {
   "cell_type": "markdown",
   "metadata": {},
   "source": [
    "## DataFrame -- the main data type\n",
    "\n"
   ]
  },
  {
   "cell_type": "code",
   "execution_count": 13,
   "metadata": {},
   "outputs": [
    {
     "data": {
      "text/html": [
       "<div>\n",
       "<style scoped>\n",
       "    .dataframe tbody tr th:only-of-type {\n",
       "        vertical-align: middle;\n",
       "    }\n",
       "\n",
       "    .dataframe tbody tr th {\n",
       "        vertical-align: top;\n",
       "    }\n",
       "\n",
       "    .dataframe thead th {\n",
       "        text-align: right;\n",
       "    }\n",
       "</style>\n",
       "<table border=\"1\" class=\"dataframe\">\n",
       "  <thead>\n",
       "    <tr style=\"text-align: right;\">\n",
       "      <th></th>\n",
       "      <th>a</th>\n",
       "      <th>b</th>\n",
       "      <th>c</th>\n",
       "    </tr>\n",
       "  </thead>\n",
       "  <tbody>\n",
       "    <tr>\n",
       "      <th>x</th>\n",
       "      <td>1</td>\n",
       "      <td>2</td>\n",
       "      <td>3</td>\n",
       "    </tr>\n",
       "    <tr>\n",
       "      <th>y</th>\n",
       "      <td>4</td>\n",
       "      <td>5</td>\n",
       "      <td>6</td>\n",
       "    </tr>\n",
       "    <tr>\n",
       "      <th>z</th>\n",
       "      <td>7</td>\n",
       "      <td>8</td>\n",
       "      <td>9</td>\n",
       "    </tr>\n",
       "    <tr>\n",
       "      <th>w</th>\n",
       "      <td>7</td>\n",
       "      <td>8</td>\n",
       "      <td>9</td>\n",
       "    </tr>\n",
       "  </tbody>\n",
       "</table>\n",
       "</div>"
      ],
      "text/plain": [
       "   a  b  c\n",
       "x  1  2  3\n",
       "y  4  5  6\n",
       "z  7  8  9\n",
       "w  7  8  9"
      ]
     },
     "execution_count": 13,
     "metadata": {},
     "output_type": "execute_result"
    }
   ],
   "source": [
    "df = pd.DataFrame(\n",
    "    [\n",
    "        [1,2,3],\n",
    "        [4,5,6],\n",
    "        [7,8,9],\n",
    "        [7,8,9],\n",
    "    ],\n",
    "    columns='a b c'.split(),\n",
    "    index='x y z w'.split()\n",
    ")\n",
    "df"
   ]
  },
  {
   "cell_type": "code",
   "execution_count": 14,
   "metadata": {},
   "outputs": [
    {
     "data": {
      "text/plain": [
       "Index(['a', 'b', 'c'], dtype='object')"
      ]
     },
     "execution_count": 14,
     "metadata": {},
     "output_type": "execute_result"
    }
   ],
   "source": [
    "df.columns"
   ]
  },
  {
   "cell_type": "code",
   "execution_count": 15,
   "metadata": {},
   "outputs": [
    {
     "data": {
      "text/plain": [
       "Index(['x', 'y', 'z', 'w'], dtype='object')"
      ]
     },
     "execution_count": 15,
     "metadata": {},
     "output_type": "execute_result"
    }
   ],
   "source": [
    "df.index"
   ]
  },
  {
   "cell_type": "code",
   "execution_count": 20,
   "metadata": {},
   "outputs": [
    {
     "data": {
      "text/plain": [
       "x    1\n",
       "y    4\n",
       "z    7\n",
       "w    7\n",
       "Name: a, dtype: int64"
      ]
     },
     "execution_count": 20,
     "metadata": {},
     "output_type": "execute_result"
    }
   ],
   "source": [
    "df['a']"
   ]
  },
  {
   "cell_type": "markdown",
   "metadata": {},
   "source": [
    "Multiple columns"
   ]
  },
  {
   "cell_type": "code",
   "execution_count": 21,
   "metadata": {},
   "outputs": [
    {
     "data": {
      "text/html": [
       "<div>\n",
       "<style scoped>\n",
       "    .dataframe tbody tr th:only-of-type {\n",
       "        vertical-align: middle;\n",
       "    }\n",
       "\n",
       "    .dataframe tbody tr th {\n",
       "        vertical-align: top;\n",
       "    }\n",
       "\n",
       "    .dataframe thead th {\n",
       "        text-align: right;\n",
       "    }\n",
       "</style>\n",
       "<table border=\"1\" class=\"dataframe\">\n",
       "  <thead>\n",
       "    <tr style=\"text-align: right;\">\n",
       "      <th></th>\n",
       "      <th>a</th>\n",
       "      <th>b</th>\n",
       "      <th>c</th>\n",
       "    </tr>\n",
       "  </thead>\n",
       "  <tbody>\n",
       "    <tr>\n",
       "      <th>0</th>\n",
       "      <td>1</td>\n",
       "      <td>2</td>\n",
       "      <td>3</td>\n",
       "    </tr>\n",
       "    <tr>\n",
       "      <th>1</th>\n",
       "      <td>4</td>\n",
       "      <td>5</td>\n",
       "      <td>6</td>\n",
       "    </tr>\n",
       "    <tr>\n",
       "      <th>2</th>\n",
       "      <td>7</td>\n",
       "      <td>8</td>\n",
       "      <td>9</td>\n",
       "    </tr>\n",
       "  </tbody>\n",
       "</table>\n",
       "</div>"
      ],
      "text/plain": [
       "   a  b  c\n",
       "0  1  2  3\n",
       "1  4  5  6\n",
       "2  7  8  9"
      ]
     },
     "execution_count": 21,
     "metadata": {},
     "output_type": "execute_result"
    }
   ],
   "source": [
    "cola = pd.Series([1, 4, 7], name='a')\n",
    "colb = pd.Series([2, 5, 8], name='b')\n",
    "colc = pd.Series([3, 6, 9], name='c')\n",
    "pd.DataFrame({'a': cola, 'b': colb, 'c': colc})\n"
   ]
  },
  {
   "cell_type": "code",
   "execution_count": 22,
   "metadata": {},
   "outputs": [
    {
     "data": {
      "text/html": [
       "<div>\n",
       "<style scoped>\n",
       "    .dataframe tbody tr th:only-of-type {\n",
       "        vertical-align: middle;\n",
       "    }\n",
       "\n",
       "    .dataframe tbody tr th {\n",
       "        vertical-align: top;\n",
       "    }\n",
       "\n",
       "    .dataframe thead th {\n",
       "        text-align: right;\n",
       "    }\n",
       "</style>\n",
       "<table border=\"1\" class=\"dataframe\">\n",
       "  <thead>\n",
       "    <tr style=\"text-align: right;\">\n",
       "      <th></th>\n",
       "      <th>a</th>\n",
       "      <th>b</th>\n",
       "      <th>c</th>\n",
       "    </tr>\n",
       "  </thead>\n",
       "  <tbody>\n",
       "    <tr>\n",
       "      <th>x</th>\n",
       "      <td>1</td>\n",
       "      <td>2</td>\n",
       "      <td>3</td>\n",
       "    </tr>\n",
       "    <tr>\n",
       "      <th>y</th>\n",
       "      <td>4</td>\n",
       "      <td>5</td>\n",
       "      <td>6</td>\n",
       "    </tr>\n",
       "    <tr>\n",
       "      <th>z</th>\n",
       "      <td>7</td>\n",
       "      <td>8</td>\n",
       "      <td>9</td>\n",
       "    </tr>\n",
       "    <tr>\n",
       "      <th>w</th>\n",
       "      <td>7</td>\n",
       "      <td>8</td>\n",
       "      <td>9</td>\n",
       "    </tr>\n",
       "  </tbody>\n",
       "</table>\n",
       "</div>"
      ],
      "text/plain": [
       "   a  b  c\n",
       "x  1  2  3\n",
       "y  4  5  6\n",
       "z  7  8  9\n",
       "w  7  8  9"
      ]
     },
     "execution_count": 22,
     "metadata": {},
     "output_type": "execute_result"
    }
   ],
   "source": [
    "df"
   ]
  },
  {
   "cell_type": "code",
   "execution_count": 23,
   "metadata": {},
   "outputs": [
    {
     "data": {
      "text/html": [
       "<div>\n",
       "<style scoped>\n",
       "    .dataframe tbody tr th:only-of-type {\n",
       "        vertical-align: middle;\n",
       "    }\n",
       "\n",
       "    .dataframe tbody tr th {\n",
       "        vertical-align: top;\n",
       "    }\n",
       "\n",
       "    .dataframe thead th {\n",
       "        text-align: right;\n",
       "    }\n",
       "</style>\n",
       "<table border=\"1\" class=\"dataframe\">\n",
       "  <thead>\n",
       "    <tr style=\"text-align: right;\">\n",
       "      <th></th>\n",
       "      <th>a</th>\n",
       "      <th>b</th>\n",
       "      <th>b</th>\n",
       "    </tr>\n",
       "  </thead>\n",
       "  <tbody>\n",
       "    <tr>\n",
       "      <th>x</th>\n",
       "      <td>1</td>\n",
       "      <td>2</td>\n",
       "      <td>2</td>\n",
       "    </tr>\n",
       "    <tr>\n",
       "      <th>y</th>\n",
       "      <td>4</td>\n",
       "      <td>5</td>\n",
       "      <td>5</td>\n",
       "    </tr>\n",
       "    <tr>\n",
       "      <th>z</th>\n",
       "      <td>7</td>\n",
       "      <td>8</td>\n",
       "      <td>8</td>\n",
       "    </tr>\n",
       "    <tr>\n",
       "      <th>w</th>\n",
       "      <td>7</td>\n",
       "      <td>8</td>\n",
       "      <td>8</td>\n",
       "    </tr>\n",
       "  </tbody>\n",
       "</table>\n",
       "</div>"
      ],
      "text/plain": [
       "   a  b  b\n",
       "x  1  2  2\n",
       "y  4  5  5\n",
       "z  7  8  8\n",
       "w  7  8  8"
      ]
     },
     "execution_count": 23,
     "metadata": {},
     "output_type": "execute_result"
    }
   ],
   "source": [
    "cols = ['a', 'b', 'b']\n",
    "df_test = df[cols]\n",
    "df_test"
   ]
  },
  {
   "cell_type": "markdown",
   "metadata": {},
   "source": [
    "Indexing ambiguity"
   ]
  },
  {
   "cell_type": "code",
   "execution_count": 25,
   "metadata": {},
   "outputs": [
    {
     "data": {
      "text/plain": [
       "1    1\n",
       "2    2\n",
       "3    3\n",
       "dtype: int64"
      ]
     },
     "execution_count": 25,
     "metadata": {},
     "output_type": "execute_result"
    }
   ],
   "source": [
    "s = pd.Series([1,2,3], index=[1,2,3])\n",
    "s"
   ]
  },
  {
   "cell_type": "code",
   "execution_count": 26,
   "metadata": {},
   "outputs": [
    {
     "data": {
      "text/plain": [
       "1"
      ]
     },
     "execution_count": 26,
     "metadata": {},
     "output_type": "execute_result"
    }
   ],
   "source": [
    "s[1]  # label/index value"
   ]
  },
  {
   "cell_type": "code",
   "execution_count": 27,
   "metadata": {
    "scrolled": true
   },
   "outputs": [
    {
     "data": {
      "text/plain": [
       "2    2\n",
       "3    3\n",
       "dtype: int64"
      ]
     },
     "execution_count": 27,
     "metadata": {},
     "output_type": "execute_result"
    }
   ],
   "source": [
    "s[1:3]  # position/offset"
   ]
  },
  {
   "cell_type": "markdown",
   "metadata": {},
   "source": [
    "# Indexing using .loc, .iloc"
   ]
  },
  {
   "cell_type": "code",
   "execution_count": 28,
   "metadata": {},
   "outputs": [
    {
     "data": {
      "text/html": [
       "<div>\n",
       "<style scoped>\n",
       "    .dataframe tbody tr th:only-of-type {\n",
       "        vertical-align: middle;\n",
       "    }\n",
       "\n",
       "    .dataframe tbody tr th {\n",
       "        vertical-align: top;\n",
       "    }\n",
       "\n",
       "    .dataframe thead th {\n",
       "        text-align: right;\n",
       "    }\n",
       "</style>\n",
       "<table border=\"1\" class=\"dataframe\">\n",
       "  <thead>\n",
       "    <tr style=\"text-align: right;\">\n",
       "      <th></th>\n",
       "      <th>a</th>\n",
       "      <th>b</th>\n",
       "      <th>c</th>\n",
       "    </tr>\n",
       "  </thead>\n",
       "  <tbody>\n",
       "    <tr>\n",
       "      <th>x</th>\n",
       "      <td>1</td>\n",
       "      <td>2</td>\n",
       "      <td>3</td>\n",
       "    </tr>\n",
       "    <tr>\n",
       "      <th>y</th>\n",
       "      <td>4</td>\n",
       "      <td>5</td>\n",
       "      <td>6</td>\n",
       "    </tr>\n",
       "    <tr>\n",
       "      <th>z</th>\n",
       "      <td>7</td>\n",
       "      <td>8</td>\n",
       "      <td>9</td>\n",
       "    </tr>\n",
       "    <tr>\n",
       "      <th>w</th>\n",
       "      <td>7</td>\n",
       "      <td>8</td>\n",
       "      <td>9</td>\n",
       "    </tr>\n",
       "  </tbody>\n",
       "</table>\n",
       "</div>"
      ],
      "text/plain": [
       "   a  b  c\n",
       "x  1  2  3\n",
       "y  4  5  6\n",
       "z  7  8  9\n",
       "w  7  8  9"
      ]
     },
     "execution_count": 28,
     "metadata": {},
     "output_type": "execute_result"
    }
   ],
   "source": [
    "df"
   ]
  },
  {
   "cell_type": "code",
   "execution_count": 29,
   "metadata": {},
   "outputs": [
    {
     "data": {
      "text/plain": [
       "x    1\n",
       "y    4\n",
       "z    7\n",
       "w    7\n",
       "Name: a, dtype: int64"
      ]
     },
     "execution_count": 29,
     "metadata": {},
     "output_type": "execute_result"
    }
   ],
   "source": [
    "df['a']"
   ]
  },
  {
   "cell_type": "code",
   "execution_count": 30,
   "metadata": {},
   "outputs": [
    {
     "data": {
      "text/plain": [
       "a    1\n",
       "b    2\n",
       "c    3\n",
       "Name: x, dtype: int64"
      ]
     },
     "execution_count": 30,
     "metadata": {},
     "output_type": "execute_result"
    }
   ],
   "source": [
    "df.loc['x']"
   ]
  },
  {
   "cell_type": "code",
   "execution_count": 31,
   "metadata": {},
   "outputs": [
    {
     "data": {
      "text/plain": [
       "a    1\n",
       "b    2\n",
       "c    3\n",
       "Name: x, dtype: int64"
      ]
     },
     "execution_count": 31,
     "metadata": {},
     "output_type": "execute_result"
    }
   ],
   "source": [
    "df.iloc[0]"
   ]
  },
  {
   "cell_type": "code",
   "execution_count": 32,
   "metadata": {},
   "outputs": [
    {
     "data": {
      "text/plain": [
       "1"
      ]
     },
     "execution_count": 32,
     "metadata": {},
     "output_type": "execute_result"
    }
   ],
   "source": [
    "df.loc['x', 'a']"
   ]
  },
  {
   "cell_type": "code",
   "execution_count": 33,
   "metadata": {},
   "outputs": [
    {
     "data": {
      "text/plain": [
       "a    1\n",
       "b    2\n",
       "c    3\n",
       "Name: x, dtype: int64"
      ]
     },
     "execution_count": 33,
     "metadata": {},
     "output_type": "execute_result"
    }
   ],
   "source": [
    "df.loc['x', :]  # retrieve all columns"
   ]
  },
  {
   "cell_type": "code",
   "execution_count": 34,
   "metadata": {},
   "outputs": [
    {
     "data": {
      "text/plain": [
       "x    1\n",
       "y    4\n",
       "z    7\n",
       "w    7\n",
       "Name: a, dtype: int64"
      ]
     },
     "execution_count": 34,
     "metadata": {},
     "output_type": "execute_result"
    }
   ],
   "source": [
    "df.loc[:, 'a']  # retrieve all rows"
   ]
  },
  {
   "cell_type": "code",
   "execution_count": 35,
   "metadata": {},
   "outputs": [
    {
     "data": {
      "text/html": [
       "<div>\n",
       "<style scoped>\n",
       "    .dataframe tbody tr th:only-of-type {\n",
       "        vertical-align: middle;\n",
       "    }\n",
       "\n",
       "    .dataframe tbody tr th {\n",
       "        vertical-align: top;\n",
       "    }\n",
       "\n",
       "    .dataframe thead th {\n",
       "        text-align: right;\n",
       "    }\n",
       "</style>\n",
       "<table border=\"1\" class=\"dataframe\">\n",
       "  <thead>\n",
       "    <tr style=\"text-align: right;\">\n",
       "      <th></th>\n",
       "      <th>a</th>\n",
       "      <th>b</th>\n",
       "      <th>c</th>\n",
       "    </tr>\n",
       "  </thead>\n",
       "  <tbody>\n",
       "    <tr>\n",
       "      <th>x</th>\n",
       "      <td>1</td>\n",
       "      <td>2</td>\n",
       "      <td>3</td>\n",
       "    </tr>\n",
       "    <tr>\n",
       "      <th>y</th>\n",
       "      <td>4</td>\n",
       "      <td>5</td>\n",
       "      <td>6</td>\n",
       "    </tr>\n",
       "  </tbody>\n",
       "</table>\n",
       "</div>"
      ],
      "text/plain": [
       "   a  b  c\n",
       "x  1  2  3\n",
       "y  4  5  6"
      ]
     },
     "execution_count": 35,
     "metadata": {},
     "output_type": "execute_result"
    }
   ],
   "source": [
    "df.loc['x':'y']   # includes both endpoints (df.loc[x] and df.loc[y])"
   ]
  },
  {
   "cell_type": "code",
   "execution_count": 36,
   "metadata": {},
   "outputs": [
    {
     "data": {
      "text/html": [
       "<div>\n",
       "<style scoped>\n",
       "    .dataframe tbody tr th:only-of-type {\n",
       "        vertical-align: middle;\n",
       "    }\n",
       "\n",
       "    .dataframe tbody tr th {\n",
       "        vertical-align: top;\n",
       "    }\n",
       "\n",
       "    .dataframe thead th {\n",
       "        text-align: right;\n",
       "    }\n",
       "</style>\n",
       "<table border=\"1\" class=\"dataframe\">\n",
       "  <thead>\n",
       "    <tr style=\"text-align: right;\">\n",
       "      <th></th>\n",
       "      <th>a</th>\n",
       "      <th>b</th>\n",
       "      <th>c</th>\n",
       "    </tr>\n",
       "  </thead>\n",
       "  <tbody>\n",
       "    <tr>\n",
       "      <th>x</th>\n",
       "      <td>1</td>\n",
       "      <td>2</td>\n",
       "      <td>3</td>\n",
       "    </tr>\n",
       "    <tr>\n",
       "      <th>y</th>\n",
       "      <td>4</td>\n",
       "      <td>5</td>\n",
       "      <td>6</td>\n",
       "    </tr>\n",
       "  </tbody>\n",
       "</table>\n",
       "</div>"
      ],
      "text/plain": [
       "   a  b  c\n",
       "x  1  2  3\n",
       "y  4  5  6"
      ]
     },
     "execution_count": 36,
     "metadata": {},
     "output_type": "execute_result"
    }
   ],
   "source": [
    "df.iloc[0:2]     # excludes the right endpoint (df.iloc[2])"
   ]
  },
  {
   "cell_type": "code",
   "execution_count": 39,
   "metadata": {},
   "outputs": [
    {
     "name": "stdout",
     "output_type": "stream",
     "text": [
      "<class 'pandas.core.frame.DataFrame'>\n",
      "Index: 4 entries, x to w\n",
      "Data columns (total 3 columns):\n",
      " #   Column  Non-Null Count  Dtype\n",
      "---  ------  --------------  -----\n",
      " 0   a       4 non-null      int64\n",
      " 1   b       4 non-null      int64\n",
      " 2   c       4 non-null      int64\n",
      "dtypes: int64(3)\n",
      "memory usage: 288.0+ bytes\n"
     ]
    }
   ],
   "source": [
    "df.info() # memory_usage='deep')"
   ]
  },
  {
   "cell_type": "code",
   "execution_count": 40,
   "metadata": {},
   "outputs": [],
   "source": [
    "df.loc['x', 'b'] = 200"
   ]
  },
  {
   "cell_type": "code",
   "execution_count": 41,
   "metadata": {},
   "outputs": [
    {
     "data": {
      "text/html": [
       "<div>\n",
       "<style scoped>\n",
       "    .dataframe tbody tr th:only-of-type {\n",
       "        vertical-align: middle;\n",
       "    }\n",
       "\n",
       "    .dataframe tbody tr th {\n",
       "        vertical-align: top;\n",
       "    }\n",
       "\n",
       "    .dataframe thead th {\n",
       "        text-align: right;\n",
       "    }\n",
       "</style>\n",
       "<table border=\"1\" class=\"dataframe\">\n",
       "  <thead>\n",
       "    <tr style=\"text-align: right;\">\n",
       "      <th></th>\n",
       "      <th>a</th>\n",
       "      <th>b</th>\n",
       "      <th>c</th>\n",
       "    </tr>\n",
       "  </thead>\n",
       "  <tbody>\n",
       "    <tr>\n",
       "      <th>x</th>\n",
       "      <td>1</td>\n",
       "      <td>200</td>\n",
       "      <td>3</td>\n",
       "    </tr>\n",
       "    <tr>\n",
       "      <th>y</th>\n",
       "      <td>4</td>\n",
       "      <td>5</td>\n",
       "      <td>6</td>\n",
       "    </tr>\n",
       "    <tr>\n",
       "      <th>z</th>\n",
       "      <td>7</td>\n",
       "      <td>8</td>\n",
       "      <td>9</td>\n",
       "    </tr>\n",
       "    <tr>\n",
       "      <th>w</th>\n",
       "      <td>7</td>\n",
       "      <td>8</td>\n",
       "      <td>9</td>\n",
       "    </tr>\n",
       "  </tbody>\n",
       "</table>\n",
       "</div>"
      ],
      "text/plain": [
       "   a    b  c\n",
       "x  1  200  3\n",
       "y  4    5  6\n",
       "z  7    8  9\n",
       "w  7    8  9"
      ]
     },
     "execution_count": 41,
     "metadata": {},
     "output_type": "execute_result"
    }
   ],
   "source": [
    "df"
   ]
  },
  {
   "cell_type": "code",
   "execution_count": 42,
   "metadata": {},
   "outputs": [
    {
     "data": {
      "text/plain": [
       "x    1\n",
       "y    4\n",
       "z    7\n",
       "w    7\n",
       "Name: a, dtype: int64"
      ]
     },
     "execution_count": 42,
     "metadata": {},
     "output_type": "execute_result"
    }
   ],
   "source": [
    "df['a']"
   ]
  },
  {
   "cell_type": "code",
   "execution_count": 43,
   "metadata": {},
   "outputs": [
    {
     "data": {
      "text/html": [
       "<div>\n",
       "<style scoped>\n",
       "    .dataframe tbody tr th:only-of-type {\n",
       "        vertical-align: middle;\n",
       "    }\n",
       "\n",
       "    .dataframe tbody tr th {\n",
       "        vertical-align: top;\n",
       "    }\n",
       "\n",
       "    .dataframe thead th {\n",
       "        text-align: right;\n",
       "    }\n",
       "</style>\n",
       "<table border=\"1\" class=\"dataframe\">\n",
       "  <thead>\n",
       "    <tr style=\"text-align: right;\">\n",
       "      <th></th>\n",
       "      <th>a</th>\n",
       "    </tr>\n",
       "  </thead>\n",
       "  <tbody>\n",
       "    <tr>\n",
       "      <th>x</th>\n",
       "      <td>1</td>\n",
       "    </tr>\n",
       "    <tr>\n",
       "      <th>y</th>\n",
       "      <td>4</td>\n",
       "    </tr>\n",
       "    <tr>\n",
       "      <th>z</th>\n",
       "      <td>7</td>\n",
       "    </tr>\n",
       "    <tr>\n",
       "      <th>w</th>\n",
       "      <td>7</td>\n",
       "    </tr>\n",
       "  </tbody>\n",
       "</table>\n",
       "</div>"
      ],
      "text/plain": [
       "   a\n",
       "x  1\n",
       "y  4\n",
       "z  7\n",
       "w  7"
      ]
     },
     "execution_count": 43,
     "metadata": {},
     "output_type": "execute_result"
    }
   ],
   "source": [
    "df2 = df[['a']]\n",
    "df2"
   ]
  },
  {
   "cell_type": "code",
   "execution_count": 44,
   "metadata": {
    "scrolled": true
   },
   "outputs": [
    {
     "data": {
      "text/plain": [
       "(4, 1)"
      ]
     },
     "execution_count": 44,
     "metadata": {},
     "output_type": "execute_result"
    }
   ],
   "source": [
    "df2.shape"
   ]
  },
  {
   "cell_type": "code",
   "execution_count": 47,
   "metadata": {},
   "outputs": [
    {
     "data": {
      "text/plain": [
       "x    1\n",
       "y    4\n",
       "z    7\n",
       "w    7\n",
       "Name: a, dtype: int64"
      ]
     },
     "execution_count": 47,
     "metadata": {},
     "output_type": "execute_result"
    }
   ],
   "source": [
    "df['a']"
   ]
  },
  {
   "cell_type": "code",
   "execution_count": 48,
   "metadata": {},
   "outputs": [
    {
     "data": {
      "text/plain": [
       "(4,)"
      ]
     },
     "execution_count": 48,
     "metadata": {},
     "output_type": "execute_result"
    }
   ],
   "source": [
    "df['a'].shape"
   ]
  },
  {
   "cell_type": "markdown",
   "metadata": {},
   "source": [
    "# Reading CSV data\n",
    "\n",
    "Most of the time, we *won't* be building `DataFrame`s out of the basic constructor, but rather using one of the readers built in to Pandas. One of these is `read_csv`:"
   ]
  },
  {
   "cell_type": "code",
   "execution_count": 50,
   "metadata": {},
   "outputs": [
    {
     "data": {
      "text/html": [
       "<div>\n",
       "<style scoped>\n",
       "    .dataframe tbody tr th:only-of-type {\n",
       "        vertical-align: middle;\n",
       "    }\n",
       "\n",
       "    .dataframe tbody tr th {\n",
       "        vertical-align: top;\n",
       "    }\n",
       "\n",
       "    .dataframe thead th {\n",
       "        text-align: right;\n",
       "    }\n",
       "</style>\n",
       "<table border=\"1\" class=\"dataframe\">\n",
       "  <thead>\n",
       "    <tr style=\"text-align: right;\">\n",
       "      <th></th>\n",
       "      <th>Unnamed: 0</th>\n",
       "      <th>F</th>\n",
       "      <th>TSLA</th>\n",
       "      <th>GOOG</th>\n",
       "      <th>IBM</th>\n",
       "      <th>AAPL</th>\n",
       "    </tr>\n",
       "  </thead>\n",
       "  <tbody>\n",
       "    <tr>\n",
       "      <th>0</th>\n",
       "      <td>2014-01-02</td>\n",
       "      <td>12.0890</td>\n",
       "      <td>150.10</td>\n",
       "      <td>NaN</td>\n",
       "      <td>157.6001</td>\n",
       "      <td>72.7741</td>\n",
       "    </tr>\n",
       "    <tr>\n",
       "      <th>1</th>\n",
       "      <td>2014-01-03</td>\n",
       "      <td>12.1438</td>\n",
       "      <td>149.56</td>\n",
       "      <td>NaN</td>\n",
       "      <td>158.5430</td>\n",
       "      <td>71.1756</td>\n",
       "    </tr>\n",
       "    <tr>\n",
       "      <th>2</th>\n",
       "      <td>2014-01-06</td>\n",
       "      <td>12.1986</td>\n",
       "      <td>147.00</td>\n",
       "      <td>NaN</td>\n",
       "      <td>157.9993</td>\n",
       "      <td>71.5637</td>\n",
       "    </tr>\n",
       "    <tr>\n",
       "      <th>3</th>\n",
       "      <td>2014-01-07</td>\n",
       "      <td>12.0420</td>\n",
       "      <td>149.36</td>\n",
       "      <td>NaN</td>\n",
       "      <td>161.1508</td>\n",
       "      <td>71.0516</td>\n",
       "    </tr>\n",
       "    <tr>\n",
       "      <th>4</th>\n",
       "      <td>2014-01-08</td>\n",
       "      <td>12.1673</td>\n",
       "      <td>151.28</td>\n",
       "      <td>NaN</td>\n",
       "      <td>159.6728</td>\n",
       "      <td>71.5019</td>\n",
       "    </tr>\n",
       "  </tbody>\n",
       "</table>\n",
       "</div>"
      ],
      "text/plain": [
       "   Unnamed: 0        F    TSLA  GOOG       IBM     AAPL\n",
       "0  2014-01-02  12.0890  150.10   NaN  157.6001  72.7741\n",
       "1  2014-01-03  12.1438  149.56   NaN  158.5430  71.1756\n",
       "2  2014-01-06  12.1986  147.00   NaN  157.9993  71.5637\n",
       "3  2014-01-07  12.0420  149.36   NaN  161.1508  71.0516\n",
       "4  2014-01-08  12.1673  151.28   NaN  159.6728  71.5019"
      ]
     },
     "execution_count": 50,
     "metadata": {},
     "output_type": "execute_result"
    }
   ],
   "source": [
    "df = pd.read_csv('./data/closing-prices.csv')\n",
    "df.head() # Only show the first few rows"
   ]
  },
  {
   "cell_type": "code",
   "execution_count": 53,
   "metadata": {},
   "outputs": [
    {
     "name": "stdout",
     "output_type": "stream",
     "text": [
      ",F,TSLA,GOOG,IBM,AAPL\r\n",
      "2014-01-02,12.089,150.1,,157.6001,72.7741\r\n",
      "2014-01-03,12.1438,149.56,,158.543,71.1756\r\n",
      "2014-01-06,12.1986,147.0,,157.9993,71.5637\r\n",
      "2014-01-07,12.042,149.36,,161.1508,71.0516\r\n",
      "2014-01-08,12.1673,151.28,,159.6728,71.5019\r\n",
      "2014-01-09,12.4022,147.53,,159.1716,70.5887\r\n",
      "2014-01-10,12.5822,145.7199,,159.0696,70.1178\r\n",
      "2014-01-13,12.6136,139.34,,156.4363,70.4849\r\n",
      "2014-01-14,12.8406,161.27,,157.9314,71.8874\r\n"
     ]
    }
   ],
   "source": [
    "!head data/closing-prices.csv"
   ]
  },
  {
   "cell_type": "markdown",
   "metadata": {},
   "source": [
    "The CSV reader is pretty good about inferring types, but not perfect. We can check lots of things about the structure of a `DataFrame` with the `.info()` method:"
   ]
  },
  {
   "cell_type": "code",
   "execution_count": 57,
   "metadata": {},
   "outputs": [
    {
     "name": "stdout",
     "output_type": "stream",
     "text": [
      "<class 'pandas.core.frame.DataFrame'>\n",
      "RangeIndex: 1007 entries, 0 to 1006\n",
      "Data columns (total 6 columns):\n",
      " #   Column      Non-Null Count  Dtype  \n",
      "---  ------      --------------  -----  \n",
      " 0   Unnamed: 0  1007 non-null   object \n",
      " 1   F           1007 non-null   float64\n",
      " 2   TSLA        1007 non-null   float64\n",
      " 3   GOOG        949 non-null    float64\n",
      " 4   IBM         1007 non-null   float64\n",
      " 5   AAPL        1007 non-null   float64\n",
      "dtypes: float64(5), object(1)\n",
      "memory usage: 105.3 KB\n"
     ]
    }
   ],
   "source": [
    "df.info(memory_usage='deep')"
   ]
  },
  {
   "cell_type": "code",
   "execution_count": 58,
   "metadata": {},
   "outputs": [
    {
     "data": {
      "text/plain": [
       "nan"
      ]
     },
     "execution_count": 58,
     "metadata": {},
     "output_type": "execute_result"
    }
   ],
   "source": [
    "float('nan')"
   ]
  },
  {
   "cell_type": "code",
   "execution_count": 59,
   "metadata": {},
   "outputs": [
    {
     "data": {
      "text/plain": [
       "False"
      ]
     },
     "execution_count": 59,
     "metadata": {},
     "output_type": "execute_result"
    }
   ],
   "source": [
    "np.nan == np.nan"
   ]
  },
  {
   "cell_type": "code",
   "execution_count": 60,
   "metadata": {},
   "outputs": [
    {
     "data": {
      "text/plain": [
       "True"
      ]
     },
     "execution_count": 60,
     "metadata": {},
     "output_type": "execute_result"
    }
   ],
   "source": [
    "np.nan is np.nan"
   ]
  },
  {
   "cell_type": "code",
   "execution_count": 55,
   "metadata": {},
   "outputs": [
    {
     "name": "stdout",
     "output_type": "stream",
     "text": [
      "-rw-r--r--  1 rick446  staff    49K Feb 26  2019 ./data/closing-prices.csv\r\n"
     ]
    }
   ],
   "source": [
    "!ls -lh ./data/closing-prices.csv"
   ]
  },
  {
   "cell_type": "code",
   "execution_count": 61,
   "metadata": {},
   "outputs": [],
   "source": [
    "import csv\n",
    "with open('./data/closing-prices.csv') as f:\n",
    "    rows = list(csv.reader(f))"
   ]
  },
  {
   "cell_type": "code",
   "execution_count": 62,
   "metadata": {},
   "outputs": [
    {
     "data": {
      "text/plain": [
       "1008"
      ]
     },
     "execution_count": 62,
     "metadata": {},
     "output_type": "execute_result"
    }
   ],
   "source": [
    "len(rows)"
   ]
  },
  {
   "cell_type": "code",
   "execution_count": 63,
   "metadata": {},
   "outputs": [
    {
     "data": {
      "text/plain": [
       "[['', 'F', 'TSLA', 'GOOG', 'IBM', 'AAPL'],\n",
       " ['2014-01-02', '12.089', '150.1', '', '157.6001', '72.7741'],\n",
       " ['2014-01-03', '12.1438', '149.56', '', '158.543', '71.1756'],\n",
       " ['2014-01-06', '12.1986', '147.0', '', '157.9993', '71.5637'],\n",
       " ['2014-01-07', '12.042', '149.36', '', '161.1508', '71.0516']]"
      ]
     },
     "execution_count": 63,
     "metadata": {},
     "output_type": "execute_result"
    }
   ],
   "source": [
    "rows[:5]"
   ]
  },
  {
   "cell_type": "code",
   "execution_count": 64,
   "metadata": {},
   "outputs": [
    {
     "name": "stdout",
     "output_type": "stream",
     "text": [
      "Looking in links: /Users/rick446/src/wheelhouse\r\n",
      "Requirement already satisfied: pympler in /Users/rick446/.virtualenvs/py38/lib/python3.8/site-packages (0.8)\r\n"
     ]
    }
   ],
   "source": [
    "!pip install pympler"
   ]
  },
  {
   "cell_type": "code",
   "execution_count": 65,
   "metadata": {},
   "outputs": [],
   "source": [
    "import pympler"
   ]
  },
  {
   "cell_type": "code",
   "execution_count": 66,
   "metadata": {},
   "outputs": [],
   "source": [
    "import pympler.asizeof"
   ]
  },
  {
   "cell_type": "code",
   "execution_count": 67,
   "metadata": {},
   "outputs": [
    {
     "data": {
      "text/plain": [
       "485176"
      ]
     },
     "execution_count": 67,
     "metadata": {},
     "output_type": "execute_result"
    }
   ],
   "source": [
    "pympler.asizeof.asizeof(rows)"
   ]
  },
  {
   "cell_type": "markdown",
   "metadata": {},
   "source": [
    "The first column was read in as an `object` (meaning Pandas couldn't be more specific about its type, usually what happens with string data). Let's tell Pandas that column is a date:"
   ]
  },
  {
   "cell_type": "code",
   "execution_count": 68,
   "metadata": {},
   "outputs": [
    {
     "data": {
      "text/plain": [
       "0      2014-01-02\n",
       "1      2014-01-03\n",
       "2      2014-01-06\n",
       "3      2014-01-07\n",
       "4      2014-01-08\n",
       "          ...    \n",
       "1002   2017-12-22\n",
       "1003   2017-12-26\n",
       "1004   2017-12-27\n",
       "1005   2017-12-28\n",
       "1006   2017-12-29\n",
       "Name: Unnamed: 0, Length: 1007, dtype: datetime64[ns]"
      ]
     },
     "execution_count": 68,
     "metadata": {},
     "output_type": "execute_result"
    }
   ],
   "source": [
    "pd.to_datetime(df['Unnamed: 0'])"
   ]
  },
  {
   "cell_type": "code",
   "execution_count": 69,
   "metadata": {},
   "outputs": [
    {
     "name": "stdout",
     "output_type": "stream",
     "text": [
      "<class 'pandas.core.frame.DataFrame'>\n",
      "RangeIndex: 1007 entries, 0 to 1006\n",
      "Data columns (total 6 columns):\n",
      " #   Column      Non-Null Count  Dtype         \n",
      "---  ------      --------------  -----         \n",
      " 0   Unnamed: 0  1007 non-null   datetime64[ns]\n",
      " 1   F           1007 non-null   float64       \n",
      " 2   TSLA        1007 non-null   float64       \n",
      " 3   GOOG        949 non-null    float64       \n",
      " 4   IBM         1007 non-null   float64       \n",
      " 5   AAPL        1007 non-null   float64       \n",
      "dtypes: datetime64[ns](1), float64(5)\n",
      "memory usage: 47.3 KB\n"
     ]
    }
   ],
   "source": [
    "df['Unnamed: 0'] = pd.to_datetime(df['Unnamed: 0'])\n",
    "df.info(memory_usage='deep')"
   ]
  },
  {
   "cell_type": "markdown",
   "metadata": {},
   "source": [
    "We can also parse datetimes during the import:"
   ]
  },
  {
   "cell_type": "code",
   "execution_count": 72,
   "metadata": {},
   "outputs": [
    {
     "name": "stdout",
     "output_type": "stream",
     "text": [
      "<class 'pandas.core.frame.DataFrame'>\n",
      "RangeIndex: 1007 entries, 0 to 1006\n",
      "Data columns (total 6 columns):\n",
      " #   Column      Non-Null Count  Dtype         \n",
      "---  ------      --------------  -----         \n",
      " 0   Unnamed: 0  1007 non-null   datetime64[ns]\n",
      " 1   F           1007 non-null   float64       \n",
      " 2   TSLA        1007 non-null   float64       \n",
      " 3   GOOG        949 non-null    float64       \n",
      " 4   IBM         1007 non-null   float64       \n",
      " 5   AAPL        1007 non-null   float64       \n",
      "dtypes: datetime64[ns](1), float64(5)\n",
      "memory usage: 47.3 KB\n"
     ]
    }
   ],
   "source": [
    "df = pd.read_csv('./data/closing-prices.csv', parse_dates=[0])\n",
    "df.info()"
   ]
  },
  {
   "cell_type": "code",
   "execution_count": 73,
   "metadata": {},
   "outputs": [
    {
     "name": "stdout",
     "output_type": "stream",
     "text": [
      "-rw-r--r--  1 rick446  staff    49K Feb 26  2019 ./data/closing-prices.csv\r\n"
     ]
    }
   ],
   "source": [
    "ls -lh ./data/closing-prices.csv"
   ]
  },
  {
   "cell_type": "code",
   "execution_count": 74,
   "metadata": {},
   "outputs": [
    {
     "data": {
      "text/html": [
       "<div>\n",
       "<style scoped>\n",
       "    .dataframe tbody tr th:only-of-type {\n",
       "        vertical-align: middle;\n",
       "    }\n",
       "\n",
       "    .dataframe tbody tr th {\n",
       "        vertical-align: top;\n",
       "    }\n",
       "\n",
       "    .dataframe thead th {\n",
       "        text-align: right;\n",
       "    }\n",
       "</style>\n",
       "<table border=\"1\" class=\"dataframe\">\n",
       "  <thead>\n",
       "    <tr style=\"text-align: right;\">\n",
       "      <th></th>\n",
       "      <th>Unnamed: 0</th>\n",
       "      <th>F</th>\n",
       "      <th>TSLA</th>\n",
       "      <th>GOOG</th>\n",
       "      <th>IBM</th>\n",
       "      <th>AAPL</th>\n",
       "    </tr>\n",
       "  </thead>\n",
       "  <tbody>\n",
       "    <tr>\n",
       "      <th>0</th>\n",
       "      <td>2014-01-02</td>\n",
       "      <td>12.0890</td>\n",
       "      <td>150.10</td>\n",
       "      <td>NaN</td>\n",
       "      <td>157.6001</td>\n",
       "      <td>72.7741</td>\n",
       "    </tr>\n",
       "    <tr>\n",
       "      <th>1</th>\n",
       "      <td>2014-01-03</td>\n",
       "      <td>12.1438</td>\n",
       "      <td>149.56</td>\n",
       "      <td>NaN</td>\n",
       "      <td>158.5430</td>\n",
       "      <td>71.1756</td>\n",
       "    </tr>\n",
       "    <tr>\n",
       "      <th>2</th>\n",
       "      <td>2014-01-06</td>\n",
       "      <td>12.1986</td>\n",
       "      <td>147.00</td>\n",
       "      <td>NaN</td>\n",
       "      <td>157.9993</td>\n",
       "      <td>71.5637</td>\n",
       "    </tr>\n",
       "    <tr>\n",
       "      <th>3</th>\n",
       "      <td>2014-01-07</td>\n",
       "      <td>12.0420</td>\n",
       "      <td>149.36</td>\n",
       "      <td>NaN</td>\n",
       "      <td>161.1508</td>\n",
       "      <td>71.0516</td>\n",
       "    </tr>\n",
       "    <tr>\n",
       "      <th>4</th>\n",
       "      <td>2014-01-08</td>\n",
       "      <td>12.1673</td>\n",
       "      <td>151.28</td>\n",
       "      <td>NaN</td>\n",
       "      <td>159.6728</td>\n",
       "      <td>71.5019</td>\n",
       "    </tr>\n",
       "  </tbody>\n",
       "</table>\n",
       "</div>"
      ],
      "text/plain": [
       "  Unnamed: 0        F    TSLA  GOOG       IBM     AAPL\n",
       "0 2014-01-02  12.0890  150.10   NaN  157.6001  72.7741\n",
       "1 2014-01-03  12.1438  149.56   NaN  158.5430  71.1756\n",
       "2 2014-01-06  12.1986  147.00   NaN  157.9993  71.5637\n",
       "3 2014-01-07  12.0420  149.36   NaN  161.1508  71.0516\n",
       "4 2014-01-08  12.1673  151.28   NaN  159.6728  71.5019"
      ]
     },
     "execution_count": 74,
     "metadata": {},
     "output_type": "execute_result"
    }
   ],
   "source": [
    "df.iloc[:5]"
   ]
  },
  {
   "cell_type": "code",
   "execution_count": 75,
   "metadata": {},
   "outputs": [
    {
     "data": {
      "text/html": [
       "<div>\n",
       "<style scoped>\n",
       "    .dataframe tbody tr th:only-of-type {\n",
       "        vertical-align: middle;\n",
       "    }\n",
       "\n",
       "    .dataframe tbody tr th {\n",
       "        vertical-align: top;\n",
       "    }\n",
       "\n",
       "    .dataframe thead th {\n",
       "        text-align: right;\n",
       "    }\n",
       "</style>\n",
       "<table border=\"1\" class=\"dataframe\">\n",
       "  <thead>\n",
       "    <tr style=\"text-align: right;\">\n",
       "      <th></th>\n",
       "      <th>Unnamed: 0</th>\n",
       "      <th>F</th>\n",
       "      <th>TSLA</th>\n",
       "      <th>GOOG</th>\n",
       "      <th>IBM</th>\n",
       "      <th>AAPL</th>\n",
       "    </tr>\n",
       "  </thead>\n",
       "  <tbody>\n",
       "    <tr>\n",
       "      <th>1002</th>\n",
       "      <td>2017-12-22</td>\n",
       "      <td>11.9489</td>\n",
       "      <td>325.20</td>\n",
       "      <td>1060.12</td>\n",
       "      <td>147.7588</td>\n",
       "      <td>173.0230</td>\n",
       "    </tr>\n",
       "    <tr>\n",
       "      <th>1003</th>\n",
       "      <td>2017-12-26</td>\n",
       "      <td>11.9679</td>\n",
       "      <td>317.29</td>\n",
       "      <td>1056.74</td>\n",
       "      <td>148.0786</td>\n",
       "      <td>168.6334</td>\n",
       "    </tr>\n",
       "    <tr>\n",
       "      <th>1004</th>\n",
       "      <td>2017-12-27</td>\n",
       "      <td>11.8729</td>\n",
       "      <td>311.64</td>\n",
       "      <td>1049.37</td>\n",
       "      <td>148.3693</td>\n",
       "      <td>168.6630</td>\n",
       "    </tr>\n",
       "    <tr>\n",
       "      <th>1005</th>\n",
       "      <td>2017-12-28</td>\n",
       "      <td>11.9489</td>\n",
       "      <td>315.36</td>\n",
       "      <td>1048.14</td>\n",
       "      <td>149.2510</td>\n",
       "      <td>169.1376</td>\n",
       "    </tr>\n",
       "    <tr>\n",
       "      <th>1006</th>\n",
       "      <td>2017-12-29</td>\n",
       "      <td>11.8634</td>\n",
       "      <td>311.35</td>\n",
       "      <td>1046.40</td>\n",
       "      <td>148.6502</td>\n",
       "      <td>167.3086</td>\n",
       "    </tr>\n",
       "  </tbody>\n",
       "</table>\n",
       "</div>"
      ],
      "text/plain": [
       "     Unnamed: 0        F    TSLA     GOOG       IBM      AAPL\n",
       "1002 2017-12-22  11.9489  325.20  1060.12  147.7588  173.0230\n",
       "1003 2017-12-26  11.9679  317.29  1056.74  148.0786  168.6334\n",
       "1004 2017-12-27  11.8729  311.64  1049.37  148.3693  168.6630\n",
       "1005 2017-12-28  11.9489  315.36  1048.14  149.2510  169.1376\n",
       "1006 2017-12-29  11.8634  311.35  1046.40  148.6502  167.3086"
      ]
     },
     "execution_count": 75,
     "metadata": {},
     "output_type": "execute_result"
    }
   ],
   "source": [
    "df.tail()"
   ]
  },
  {
   "cell_type": "markdown",
   "metadata": {},
   "source": [
    "We can set the index of the dataframe as well:"
   ]
  },
  {
   "cell_type": "code",
   "execution_count": 76,
   "metadata": {},
   "outputs": [
    {
     "data": {
      "text/html": [
       "<div>\n",
       "<style scoped>\n",
       "    .dataframe tbody tr th:only-of-type {\n",
       "        vertical-align: middle;\n",
       "    }\n",
       "\n",
       "    .dataframe tbody tr th {\n",
       "        vertical-align: top;\n",
       "    }\n",
       "\n",
       "    .dataframe thead th {\n",
       "        text-align: right;\n",
       "    }\n",
       "</style>\n",
       "<table border=\"1\" class=\"dataframe\">\n",
       "  <thead>\n",
       "    <tr style=\"text-align: right;\">\n",
       "      <th></th>\n",
       "      <th>F</th>\n",
       "      <th>TSLA</th>\n",
       "      <th>GOOG</th>\n",
       "      <th>IBM</th>\n",
       "      <th>AAPL</th>\n",
       "    </tr>\n",
       "    <tr>\n",
       "      <th>Unnamed: 0</th>\n",
       "      <th></th>\n",
       "      <th></th>\n",
       "      <th></th>\n",
       "      <th></th>\n",
       "      <th></th>\n",
       "    </tr>\n",
       "  </thead>\n",
       "  <tbody>\n",
       "    <tr>\n",
       "      <th>2014-01-02</th>\n",
       "      <td>12.0890</td>\n",
       "      <td>150.10</td>\n",
       "      <td>NaN</td>\n",
       "      <td>157.6001</td>\n",
       "      <td>72.7741</td>\n",
       "    </tr>\n",
       "    <tr>\n",
       "      <th>2014-01-03</th>\n",
       "      <td>12.1438</td>\n",
       "      <td>149.56</td>\n",
       "      <td>NaN</td>\n",
       "      <td>158.5430</td>\n",
       "      <td>71.1756</td>\n",
       "    </tr>\n",
       "    <tr>\n",
       "      <th>2014-01-06</th>\n",
       "      <td>12.1986</td>\n",
       "      <td>147.00</td>\n",
       "      <td>NaN</td>\n",
       "      <td>157.9993</td>\n",
       "      <td>71.5637</td>\n",
       "    </tr>\n",
       "    <tr>\n",
       "      <th>2014-01-07</th>\n",
       "      <td>12.0420</td>\n",
       "      <td>149.36</td>\n",
       "      <td>NaN</td>\n",
       "      <td>161.1508</td>\n",
       "      <td>71.0516</td>\n",
       "    </tr>\n",
       "    <tr>\n",
       "      <th>2014-01-08</th>\n",
       "      <td>12.1673</td>\n",
       "      <td>151.28</td>\n",
       "      <td>NaN</td>\n",
       "      <td>159.6728</td>\n",
       "      <td>71.5019</td>\n",
       "    </tr>\n",
       "  </tbody>\n",
       "</table>\n",
       "</div>"
      ],
      "text/plain": [
       "                  F    TSLA  GOOG       IBM     AAPL\n",
       "Unnamed: 0                                          \n",
       "2014-01-02  12.0890  150.10   NaN  157.6001  72.7741\n",
       "2014-01-03  12.1438  149.56   NaN  158.5430  71.1756\n",
       "2014-01-06  12.1986  147.00   NaN  157.9993  71.5637\n",
       "2014-01-07  12.0420  149.36   NaN  161.1508  71.0516\n",
       "2014-01-08  12.1673  151.28   NaN  159.6728  71.5019"
      ]
     },
     "execution_count": 76,
     "metadata": {},
     "output_type": "execute_result"
    }
   ],
   "source": [
    "df = df.set_index('Unnamed: 0')  # also df.set_index('Unnamed: 0', inplace=True)\n",
    "df.head()"
   ]
  },
  {
   "cell_type": "code",
   "execution_count": 77,
   "metadata": {},
   "outputs": [
    {
     "name": "stdout",
     "output_type": "stream",
     "text": [
      "<class 'pandas.core.frame.DataFrame'>\n",
      "DatetimeIndex: 1007 entries, 2014-01-02 to 2017-12-29\n",
      "Data columns (total 5 columns):\n",
      " #   Column  Non-Null Count  Dtype  \n",
      "---  ------  --------------  -----  \n",
      " 0   F       1007 non-null   float64\n",
      " 1   TSLA    1007 non-null   float64\n",
      " 2   GOOG    949 non-null    float64\n",
      " 3   IBM     1007 non-null   float64\n",
      " 4   AAPL    1007 non-null   float64\n",
      "dtypes: float64(5)\n",
      "memory usage: 47.2 KB\n"
     ]
    }
   ],
   "source": [
    "df.info()"
   ]
  },
  {
   "cell_type": "markdown",
   "metadata": {},
   "source": [
    "Its even better if we do it when we read in the frame:"
   ]
  },
  {
   "cell_type": "code",
   "execution_count": 78,
   "metadata": {},
   "outputs": [
    {
     "name": "stdout",
     "output_type": "stream",
     "text": [
      "<class 'pandas.core.frame.DataFrame'>\n",
      "DatetimeIndex: 1007 entries, 2014-01-02 to 2017-12-29\n",
      "Data columns (total 5 columns):\n",
      " #   Column  Non-Null Count  Dtype  \n",
      "---  ------  --------------  -----  \n",
      " 0   F       1007 non-null   float64\n",
      " 1   TSLA    1007 non-null   float64\n",
      " 2   GOOG    949 non-null    float64\n",
      " 3   IBM     1007 non-null   float64\n",
      " 4   AAPL    1007 non-null   float64\n",
      "dtypes: float64(5)\n",
      "memory usage: 47.2 KB\n"
     ]
    }
   ],
   "source": [
    "df = pd.read_csv('./data/closing-prices.csv', index_col=0, parse_dates=[0])\n",
    "df.info()"
   ]
  },
  {
   "cell_type": "code",
   "execution_count": 79,
   "metadata": {},
   "outputs": [
    {
     "data": {
      "text/html": [
       "<div>\n",
       "<style scoped>\n",
       "    .dataframe tbody tr th:only-of-type {\n",
       "        vertical-align: middle;\n",
       "    }\n",
       "\n",
       "    .dataframe tbody tr th {\n",
       "        vertical-align: top;\n",
       "    }\n",
       "\n",
       "    .dataframe thead th {\n",
       "        text-align: right;\n",
       "    }\n",
       "</style>\n",
       "<table border=\"1\" class=\"dataframe\">\n",
       "  <thead>\n",
       "    <tr style=\"text-align: right;\">\n",
       "      <th></th>\n",
       "      <th>F</th>\n",
       "      <th>TSLA</th>\n",
       "      <th>GOOG</th>\n",
       "      <th>IBM</th>\n",
       "      <th>AAPL</th>\n",
       "    </tr>\n",
       "  </thead>\n",
       "  <tbody>\n",
       "    <tr>\n",
       "      <th>2014-01-02</th>\n",
       "      <td>12.0890</td>\n",
       "      <td>150.10</td>\n",
       "      <td>NaN</td>\n",
       "      <td>157.6001</td>\n",
       "      <td>72.7741</td>\n",
       "    </tr>\n",
       "    <tr>\n",
       "      <th>2014-01-03</th>\n",
       "      <td>12.1438</td>\n",
       "      <td>149.56</td>\n",
       "      <td>NaN</td>\n",
       "      <td>158.5430</td>\n",
       "      <td>71.1756</td>\n",
       "    </tr>\n",
       "    <tr>\n",
       "      <th>2014-01-06</th>\n",
       "      <td>12.1986</td>\n",
       "      <td>147.00</td>\n",
       "      <td>NaN</td>\n",
       "      <td>157.9993</td>\n",
       "      <td>71.5637</td>\n",
       "    </tr>\n",
       "    <tr>\n",
       "      <th>2014-01-07</th>\n",
       "      <td>12.0420</td>\n",
       "      <td>149.36</td>\n",
       "      <td>NaN</td>\n",
       "      <td>161.1508</td>\n",
       "      <td>71.0516</td>\n",
       "    </tr>\n",
       "    <tr>\n",
       "      <th>2014-01-08</th>\n",
       "      <td>12.1673</td>\n",
       "      <td>151.28</td>\n",
       "      <td>NaN</td>\n",
       "      <td>159.6728</td>\n",
       "      <td>71.5019</td>\n",
       "    </tr>\n",
       "  </tbody>\n",
       "</table>\n",
       "</div>"
      ],
      "text/plain": [
       "                  F    TSLA  GOOG       IBM     AAPL\n",
       "2014-01-02  12.0890  150.10   NaN  157.6001  72.7741\n",
       "2014-01-03  12.1438  149.56   NaN  158.5430  71.1756\n",
       "2014-01-06  12.1986  147.00   NaN  157.9993  71.5637\n",
       "2014-01-07  12.0420  149.36   NaN  161.1508  71.0516\n",
       "2014-01-08  12.1673  151.28   NaN  159.6728  71.5019"
      ]
     },
     "execution_count": 79,
     "metadata": {},
     "output_type": "execute_result"
    }
   ],
   "source": [
    "df.head()"
   ]
  },
  {
   "cell_type": "code",
   "execution_count": 80,
   "metadata": {},
   "outputs": [],
   "source": [
    "!cp ./data/closing-prices.csv ./data/closing-prices-2.csv\n",
    "!gzip -f ./data/closing-prices-2.csv"
   ]
  },
  {
   "cell_type": "code",
   "execution_count": 81,
   "metadata": {},
   "outputs": [
    {
     "name": "stdout",
     "output_type": "stream",
     "text": [
      "-rw-r--r--  1 rick446  staff    20K Sep 25 14:42 ./data/closing-prices-2.csv.gz\r\n"
     ]
    }
   ],
   "source": [
    "!ls -lh ./data/closing-prices-2.csv.gz"
   ]
  },
  {
   "cell_type": "code",
   "execution_count": 83,
   "metadata": {},
   "outputs": [
    {
     "name": "stdout",
     "output_type": "stream",
     "text": [
      "<class 'pandas.core.frame.DataFrame'>\n",
      "DatetimeIndex: 1007 entries, 2014-01-02 to 2017-12-29\n",
      "Data columns (total 5 columns):\n",
      " #   Column  Non-Null Count  Dtype  \n",
      "---  ------  --------------  -----  \n",
      " 0   F       1007 non-null   float16\n",
      " 1   TSLA    1007 non-null   float16\n",
      " 2   GOOG    949 non-null    float16\n",
      " 3   IBM     1007 non-null   float16\n",
      " 4   AAPL    1007 non-null   float16\n",
      "dtypes: float16(5)\n",
      "memory usage: 17.7 KB\n"
     ]
    }
   ],
   "source": [
    "df = pd.read_csv(\n",
    "    './data/closing-prices-2.csv.gz', \n",
    "    index_col=0, \n",
    "    parse_dates=[0], \n",
    "    dtype=np.float16,\n",
    ")\n",
    "df.info()"
   ]
  },
  {
   "cell_type": "markdown",
   "metadata": {},
   "source": [
    "(If you install s3fs, you can even read CSVs from s3://.....csv.gz urls!)"
   ]
  },
  {
   "cell_type": "markdown",
   "metadata": {},
   "source": [
    "## Reading from external APIs\n",
    "\n",
    "There are some data sources for market data available in the pandas_datareader package:"
   ]
  },
  {
   "cell_type": "code",
   "execution_count": 84,
   "metadata": {},
   "outputs": [
    {
     "name": "stdout",
     "output_type": "stream",
     "text": [
      "Looking in links: /Users/rick446/src/wheelhouse\n",
      "Requirement already satisfied: pandas_datareader in /Users/rick446/.virtualenvs/py38/lib/python3.8/site-packages (0.9.0)\n",
      "Requirement already satisfied: requests>=2.19.0 in /Users/rick446/.virtualenvs/py38/lib/python3.8/site-packages (from pandas_datareader) (2.24.0)\n",
      "Requirement already satisfied: pandas>=0.23 in /Users/rick446/.virtualenvs/py38/lib/python3.8/site-packages (from pandas_datareader) (1.1.0)\n",
      "Requirement already satisfied: lxml in /Users/rick446/.virtualenvs/py38/lib/python3.8/site-packages (from pandas_datareader) (4.5.2)\n",
      "Requirement already satisfied: idna<3,>=2.5 in /Users/rick446/.virtualenvs/py38/lib/python3.8/site-packages (from requests>=2.19.0->pandas_datareader) (2.10)\n",
      "Requirement already satisfied: chardet<4,>=3.0.2 in /Users/rick446/.virtualenvs/py38/lib/python3.8/site-packages (from requests>=2.19.0->pandas_datareader) (3.0.4)\n",
      "Requirement already satisfied: urllib3!=1.25.0,!=1.25.1,<1.26,>=1.21.1 in /Users/rick446/.virtualenvs/py38/lib/python3.8/site-packages (from requests>=2.19.0->pandas_datareader) (1.25.10)\n",
      "Requirement already satisfied: certifi>=2017.4.17 in /Users/rick446/.virtualenvs/py38/lib/python3.8/site-packages (from requests>=2.19.0->pandas_datareader) (2020.6.20)\n",
      "Requirement already satisfied: pytz>=2017.2 in /Users/rick446/.virtualenvs/py38/lib/python3.8/site-packages (from pandas>=0.23->pandas_datareader) (2020.1)\n",
      "Requirement already satisfied: python-dateutil>=2.7.3 in /Users/rick446/.virtualenvs/py38/lib/python3.8/site-packages (from pandas>=0.23->pandas_datareader) (2.8.1)\n",
      "Requirement already satisfied: numpy>=1.15.4 in /Users/rick446/.virtualenvs/py38/lib/python3.8/site-packages (from pandas>=0.23->pandas_datareader) (1.19.2)\n",
      "Requirement already satisfied: six>=1.5 in /Users/rick446/.virtualenvs/py38/lib/python3.8/site-packages (from python-dateutil>=2.7.3->pandas>=0.23->pandas_datareader) (1.15.0)\n"
     ]
    }
   ],
   "source": [
    "!pip install pandas_datareader"
   ]
  },
  {
   "cell_type": "code",
   "execution_count": 85,
   "metadata": {},
   "outputs": [
    {
     "data": {
      "text/html": [
       "<div>\n",
       "<style scoped>\n",
       "    .dataframe tbody tr th:only-of-type {\n",
       "        vertical-align: middle;\n",
       "    }\n",
       "\n",
       "    .dataframe tbody tr th {\n",
       "        vertical-align: top;\n",
       "    }\n",
       "\n",
       "    .dataframe thead tr th {\n",
       "        text-align: left;\n",
       "    }\n",
       "\n",
       "    .dataframe thead tr:last-of-type th {\n",
       "        text-align: right;\n",
       "    }\n",
       "</style>\n",
       "<table border=\"1\" class=\"dataframe\">\n",
       "  <thead>\n",
       "    <tr>\n",
       "      <th>Attributes</th>\n",
       "      <th colspan=\"6\" halign=\"left\">Adj Close</th>\n",
       "      <th colspan=\"4\" halign=\"left\">Close</th>\n",
       "      <th>...</th>\n",
       "      <th colspan=\"4\" halign=\"left\">Open</th>\n",
       "      <th colspan=\"6\" halign=\"left\">Volume</th>\n",
       "    </tr>\n",
       "    <tr>\n",
       "      <th>Symbols</th>\n",
       "      <th>F</th>\n",
       "      <th>TSLA</th>\n",
       "      <th>GOOG</th>\n",
       "      <th>IBM</th>\n",
       "      <th>AAPL</th>\n",
       "      <th>CRM</th>\n",
       "      <th>F</th>\n",
       "      <th>TSLA</th>\n",
       "      <th>GOOG</th>\n",
       "      <th>IBM</th>\n",
       "      <th>...</th>\n",
       "      <th>GOOG</th>\n",
       "      <th>IBM</th>\n",
       "      <th>AAPL</th>\n",
       "      <th>CRM</th>\n",
       "      <th>F</th>\n",
       "      <th>TSLA</th>\n",
       "      <th>GOOG</th>\n",
       "      <th>IBM</th>\n",
       "      <th>AAPL</th>\n",
       "      <th>CRM</th>\n",
       "    </tr>\n",
       "    <tr>\n",
       "      <th>Date</th>\n",
       "      <th></th>\n",
       "      <th></th>\n",
       "      <th></th>\n",
       "      <th></th>\n",
       "      <th></th>\n",
       "      <th></th>\n",
       "      <th></th>\n",
       "      <th></th>\n",
       "      <th></th>\n",
       "      <th></th>\n",
       "      <th></th>\n",
       "      <th></th>\n",
       "      <th></th>\n",
       "      <th></th>\n",
       "      <th></th>\n",
       "      <th></th>\n",
       "      <th></th>\n",
       "      <th></th>\n",
       "      <th></th>\n",
       "      <th></th>\n",
       "      <th></th>\n",
       "    </tr>\n",
       "  </thead>\n",
       "  <tbody>\n",
       "    <tr>\n",
       "      <th>2014-01-02</th>\n",
       "      <td>11.368886</td>\n",
       "      <td>30.020000</td>\n",
       "      <td>554.481689</td>\n",
       "      <td>140.697495</td>\n",
       "      <td>17.655001</td>\n",
       "      <td>54.860001</td>\n",
       "      <td>15.44</td>\n",
       "      <td>30.020000</td>\n",
       "      <td>554.481689</td>\n",
       "      <td>185.529999</td>\n",
       "      <td>...</td>\n",
       "      <td>555.647278</td>\n",
       "      <td>187.210007</td>\n",
       "      <td>19.845715</td>\n",
       "      <td>55.200001</td>\n",
       "      <td>31528500.0</td>\n",
       "      <td>30942000.0</td>\n",
       "      <td>3656400.0</td>\n",
       "      <td>4546500.0</td>\n",
       "      <td>234684800.0</td>\n",
       "      <td>2730200.0</td>\n",
       "    </tr>\n",
       "    <tr>\n",
       "      <th>2014-01-03</th>\n",
       "      <td>11.420427</td>\n",
       "      <td>29.912001</td>\n",
       "      <td>550.436829</td>\n",
       "      <td>141.539261</td>\n",
       "      <td>17.267195</td>\n",
       "      <td>55.119999</td>\n",
       "      <td>15.51</td>\n",
       "      <td>29.912001</td>\n",
       "      <td>550.436829</td>\n",
       "      <td>186.639999</td>\n",
       "      <td>...</td>\n",
       "      <td>555.418152</td>\n",
       "      <td>185.830002</td>\n",
       "      <td>19.745001</td>\n",
       "      <td>54.930000</td>\n",
       "      <td>46122300.0</td>\n",
       "      <td>23475000.0</td>\n",
       "      <td>3345800.0</td>\n",
       "      <td>4063200.0</td>\n",
       "      <td>392467600.0</td>\n",
       "      <td>1968700.0</td>\n",
       "    </tr>\n",
       "    <tr>\n",
       "      <th>2014-01-06</th>\n",
       "      <td>11.471969</td>\n",
       "      <td>29.400000</td>\n",
       "      <td>556.573853</td>\n",
       "      <td>141.053940</td>\n",
       "      <td>17.361351</td>\n",
       "      <td>54.230000</td>\n",
       "      <td>15.58</td>\n",
       "      <td>29.400000</td>\n",
       "      <td>556.573853</td>\n",
       "      <td>186.000000</td>\n",
       "      <td>...</td>\n",
       "      <td>554.426880</td>\n",
       "      <td>187.149994</td>\n",
       "      <td>19.194643</td>\n",
       "      <td>55.200001</td>\n",
       "      <td>42657600.0</td>\n",
       "      <td>26805500.0</td>\n",
       "      <td>3551800.0</td>\n",
       "      <td>4067800.0</td>\n",
       "      <td>412610800.0</td>\n",
       "      <td>2532700.0</td>\n",
       "    </tr>\n",
       "    <tr>\n",
       "      <th>2014-01-07</th>\n",
       "      <td>11.324705</td>\n",
       "      <td>29.872000</td>\n",
       "      <td>567.303589</td>\n",
       "      <td>143.867477</td>\n",
       "      <td>17.237186</td>\n",
       "      <td>54.950001</td>\n",
       "      <td>15.38</td>\n",
       "      <td>29.872000</td>\n",
       "      <td>567.303589</td>\n",
       "      <td>189.710007</td>\n",
       "      <td>...</td>\n",
       "      <td>560.399475</td>\n",
       "      <td>186.389999</td>\n",
       "      <td>19.440001</td>\n",
       "      <td>54.430000</td>\n",
       "      <td>54476300.0</td>\n",
       "      <td>25170500.0</td>\n",
       "      <td>5124300.0</td>\n",
       "      <td>5932300.0</td>\n",
       "      <td>317209200.0</td>\n",
       "      <td>2787200.0</td>\n",
       "    </tr>\n",
       "    <tr>\n",
       "      <th>2014-01-08</th>\n",
       "      <td>11.442515</td>\n",
       "      <td>30.256001</td>\n",
       "      <td>568.484192</td>\n",
       "      <td>142.547913</td>\n",
       "      <td>17.346355</td>\n",
       "      <td>56.939999</td>\n",
       "      <td>15.54</td>\n",
       "      <td>30.256001</td>\n",
       "      <td>568.484192</td>\n",
       "      <td>187.970001</td>\n",
       "      <td>...</td>\n",
       "      <td>570.860291</td>\n",
       "      <td>189.330002</td>\n",
       "      <td>19.243214</td>\n",
       "      <td>55.189999</td>\n",
       "      <td>48448300.0</td>\n",
       "      <td>30816000.0</td>\n",
       "      <td>4501700.0</td>\n",
       "      <td>4603700.0</td>\n",
       "      <td>258529600.0</td>\n",
       "      <td>7036900.0</td>\n",
       "    </tr>\n",
       "  </tbody>\n",
       "</table>\n",
       "<p>5 rows × 36 columns</p>\n",
       "</div>"
      ],
      "text/plain": [
       "Attributes  Adj Close                                                \\\n",
       "Symbols             F       TSLA        GOOG         IBM       AAPL   \n",
       "Date                                                                  \n",
       "2014-01-02  11.368886  30.020000  554.481689  140.697495  17.655001   \n",
       "2014-01-03  11.420427  29.912001  550.436829  141.539261  17.267195   \n",
       "2014-01-06  11.471969  29.400000  556.573853  141.053940  17.361351   \n",
       "2014-01-07  11.324705  29.872000  567.303589  143.867477  17.237186   \n",
       "2014-01-08  11.442515  30.256001  568.484192  142.547913  17.346355   \n",
       "\n",
       "Attributes             Close                                     ...  \\\n",
       "Symbols           CRM      F       TSLA        GOOG         IBM  ...   \n",
       "Date                                                             ...   \n",
       "2014-01-02  54.860001  15.44  30.020000  554.481689  185.529999  ...   \n",
       "2014-01-03  55.119999  15.51  29.912001  550.436829  186.639999  ...   \n",
       "2014-01-06  54.230000  15.58  29.400000  556.573853  186.000000  ...   \n",
       "2014-01-07  54.950001  15.38  29.872000  567.303589  189.710007  ...   \n",
       "2014-01-08  56.939999  15.54  30.256001  568.484192  187.970001  ...   \n",
       "\n",
       "Attributes        Open                                        Volume  \\\n",
       "Symbols           GOOG         IBM       AAPL        CRM           F   \n",
       "Date                                                                   \n",
       "2014-01-02  555.647278  187.210007  19.845715  55.200001  31528500.0   \n",
       "2014-01-03  555.418152  185.830002  19.745001  54.930000  46122300.0   \n",
       "2014-01-06  554.426880  187.149994  19.194643  55.200001  42657600.0   \n",
       "2014-01-07  560.399475  186.389999  19.440001  54.430000  54476300.0   \n",
       "2014-01-08  570.860291  189.330002  19.243214  55.189999  48448300.0   \n",
       "\n",
       "Attributes                                                            \n",
       "Symbols           TSLA       GOOG        IBM         AAPL        CRM  \n",
       "Date                                                                  \n",
       "2014-01-02  30942000.0  3656400.0  4546500.0  234684800.0  2730200.0  \n",
       "2014-01-03  23475000.0  3345800.0  4063200.0  392467600.0  1968700.0  \n",
       "2014-01-06  26805500.0  3551800.0  4067800.0  412610800.0  2532700.0  \n",
       "2014-01-07  25170500.0  5124300.0  5932300.0  317209200.0  2787200.0  \n",
       "2014-01-08  30816000.0  4501700.0  4603700.0  258529600.0  7036900.0  \n",
       "\n",
       "[5 rows x 36 columns]"
      ]
     },
     "execution_count": 85,
     "metadata": {},
     "output_type": "execute_result"
    }
   ],
   "source": [
    "from datetime import datetime\n",
    "\n",
    "import pandas_datareader.data as web\n",
    "\n",
    "start, end = datetime(2014, 1, 1), datetime(2018, 1, 1)\n",
    "data = web.DataReader(\n",
    "    ['F', 'TSLA', 'GOOG', 'IBM', 'AAPL', 'CRM'], \n",
    "    'yahoo', start, end,\n",
    ")\n",
    "data.head()"
   ]
  },
  {
   "cell_type": "code",
   "execution_count": 86,
   "metadata": {},
   "outputs": [
    {
     "data": {
      "text/html": [
       "<div>\n",
       "<style scoped>\n",
       "    .dataframe tbody tr th:only-of-type {\n",
       "        vertical-align: middle;\n",
       "    }\n",
       "\n",
       "    .dataframe tbody tr th {\n",
       "        vertical-align: top;\n",
       "    }\n",
       "\n",
       "    .dataframe thead th {\n",
       "        text-align: right;\n",
       "    }\n",
       "</style>\n",
       "<table border=\"1\" class=\"dataframe\">\n",
       "  <thead>\n",
       "    <tr style=\"text-align: right;\">\n",
       "      <th>Symbols</th>\n",
       "      <th>F</th>\n",
       "      <th>TSLA</th>\n",
       "      <th>GOOG</th>\n",
       "      <th>IBM</th>\n",
       "      <th>AAPL</th>\n",
       "      <th>CRM</th>\n",
       "    </tr>\n",
       "    <tr>\n",
       "      <th>Date</th>\n",
       "      <th></th>\n",
       "      <th></th>\n",
       "      <th></th>\n",
       "      <th></th>\n",
       "      <th></th>\n",
       "      <th></th>\n",
       "    </tr>\n",
       "  </thead>\n",
       "  <tbody>\n",
       "    <tr>\n",
       "      <th>2014-01-02</th>\n",
       "      <td>15.44</td>\n",
       "      <td>30.020000</td>\n",
       "      <td>554.481689</td>\n",
       "      <td>185.529999</td>\n",
       "      <td>19.754642</td>\n",
       "      <td>54.860001</td>\n",
       "    </tr>\n",
       "    <tr>\n",
       "      <th>2014-01-03</th>\n",
       "      <td>15.51</td>\n",
       "      <td>29.912001</td>\n",
       "      <td>550.436829</td>\n",
       "      <td>186.639999</td>\n",
       "      <td>19.320715</td>\n",
       "      <td>55.119999</td>\n",
       "    </tr>\n",
       "    <tr>\n",
       "      <th>2014-01-06</th>\n",
       "      <td>15.58</td>\n",
       "      <td>29.400000</td>\n",
       "      <td>556.573853</td>\n",
       "      <td>186.000000</td>\n",
       "      <td>19.426071</td>\n",
       "      <td>54.230000</td>\n",
       "    </tr>\n",
       "    <tr>\n",
       "      <th>2014-01-07</th>\n",
       "      <td>15.38</td>\n",
       "      <td>29.872000</td>\n",
       "      <td>567.303589</td>\n",
       "      <td>189.710007</td>\n",
       "      <td>19.287144</td>\n",
       "      <td>54.950001</td>\n",
       "    </tr>\n",
       "    <tr>\n",
       "      <th>2014-01-08</th>\n",
       "      <td>15.54</td>\n",
       "      <td>30.256001</td>\n",
       "      <td>568.484192</td>\n",
       "      <td>187.970001</td>\n",
       "      <td>19.409286</td>\n",
       "      <td>56.939999</td>\n",
       "    </tr>\n",
       "  </tbody>\n",
       "</table>\n",
       "</div>"
      ],
      "text/plain": [
       "Symbols         F       TSLA        GOOG         IBM       AAPL        CRM\n",
       "Date                                                                      \n",
       "2014-01-02  15.44  30.020000  554.481689  185.529999  19.754642  54.860001\n",
       "2014-01-03  15.51  29.912001  550.436829  186.639999  19.320715  55.119999\n",
       "2014-01-06  15.58  29.400000  556.573853  186.000000  19.426071  54.230000\n",
       "2014-01-07  15.38  29.872000  567.303589  189.710007  19.287144  54.950001\n",
       "2014-01-08  15.54  30.256001  568.484192  187.970001  19.409286  56.939999"
      ]
     },
     "execution_count": 86,
     "metadata": {},
     "output_type": "execute_result"
    }
   ],
   "source": [
    "data['Close'].head()"
   ]
  },
  {
   "cell_type": "code",
   "execution_count": 87,
   "metadata": {},
   "outputs": [
    {
     "data": {
      "text/plain": [
       "Date\n",
       "2014-01-02     54.860001\n",
       "2014-01-03     55.119999\n",
       "2014-01-06     54.230000\n",
       "2014-01-07     54.950001\n",
       "2014-01-08     56.939999\n",
       "                 ...    \n",
       "2017-12-22    102.629997\n",
       "2017-12-26    102.540001\n",
       "2017-12-27    102.650002\n",
       "2017-12-28    102.790001\n",
       "2017-12-29    102.230003\n",
       "Name: (Close, CRM), Length: 1007, dtype: float64"
      ]
     },
     "execution_count": 87,
     "metadata": {},
     "output_type": "execute_result"
    }
   ],
   "source": [
    "data.loc[:, ('Close', \"CRM\")]"
   ]
  },
  {
   "cell_type": "code",
   "execution_count": 88,
   "metadata": {
    "scrolled": true
   },
   "outputs": [
    {
     "data": {
      "text/plain": [
       "MultiIndex([('Adj Close',    'F'),\n",
       "            ('Adj Close', 'TSLA'),\n",
       "            ('Adj Close', 'GOOG'),\n",
       "            ('Adj Close',  'IBM'),\n",
       "            ('Adj Close', 'AAPL'),\n",
       "            ('Adj Close',  'CRM'),\n",
       "            (    'Close',    'F'),\n",
       "            (    'Close', 'TSLA'),\n",
       "            (    'Close', 'GOOG'),\n",
       "            (    'Close',  'IBM'),\n",
       "            (    'Close', 'AAPL'),\n",
       "            (    'Close',  'CRM'),\n",
       "            (     'High',    'F'),\n",
       "            (     'High', 'TSLA'),\n",
       "            (     'High', 'GOOG'),\n",
       "            (     'High',  'IBM'),\n",
       "            (     'High', 'AAPL'),\n",
       "            (     'High',  'CRM'),\n",
       "            (      'Low',    'F'),\n",
       "            (      'Low', 'TSLA'),\n",
       "            (      'Low', 'GOOG'),\n",
       "            (      'Low',  'IBM'),\n",
       "            (      'Low', 'AAPL'),\n",
       "            (      'Low',  'CRM'),\n",
       "            (     'Open',    'F'),\n",
       "            (     'Open', 'TSLA'),\n",
       "            (     'Open', 'GOOG'),\n",
       "            (     'Open',  'IBM'),\n",
       "            (     'Open', 'AAPL'),\n",
       "            (     'Open',  'CRM'),\n",
       "            (   'Volume',    'F'),\n",
       "            (   'Volume', 'TSLA'),\n",
       "            (   'Volume', 'GOOG'),\n",
       "            (   'Volume',  'IBM'),\n",
       "            (   'Volume', 'AAPL'),\n",
       "            (   'Volume',  'CRM')],\n",
       "           names=['Attributes', 'Symbols'])"
      ]
     },
     "execution_count": 88,
     "metadata": {},
     "output_type": "execute_result"
    }
   ],
   "source": [
    "data.columns"
   ]
  },
  {
   "cell_type": "code",
   "execution_count": 89,
   "metadata": {},
   "outputs": [
    {
     "data": {
      "text/plain": [
       "FrozenList([['Adj Close', 'Close', 'High', 'Low', 'Open', 'Volume'], ['F', 'TSLA', 'GOOG', 'IBM', 'AAPL', 'CRM']])"
      ]
     },
     "execution_count": 89,
     "metadata": {},
     "output_type": "execute_result"
    }
   ],
   "source": [
    "data.columns.levels"
   ]
  },
  {
   "cell_type": "code",
   "execution_count": 90,
   "metadata": {},
   "outputs": [],
   "source": [
    "dfs = {\n",
    "    attr: data[attr]\n",
    "    for attr in data.columns.levels[0]\n",
    "}"
   ]
  },
  {
   "cell_type": "code",
   "execution_count": 91,
   "metadata": {},
   "outputs": [
    {
     "data": {
      "text/html": [
       "<div>\n",
       "<style scoped>\n",
       "    .dataframe tbody tr th:only-of-type {\n",
       "        vertical-align: middle;\n",
       "    }\n",
       "\n",
       "    .dataframe tbody tr th {\n",
       "        vertical-align: top;\n",
       "    }\n",
       "\n",
       "    .dataframe thead th {\n",
       "        text-align: right;\n",
       "    }\n",
       "</style>\n",
       "<table border=\"1\" class=\"dataframe\">\n",
       "  <thead>\n",
       "    <tr style=\"text-align: right;\">\n",
       "      <th>Symbols</th>\n",
       "      <th>F</th>\n",
       "      <th>TSLA</th>\n",
       "      <th>GOOG</th>\n",
       "      <th>IBM</th>\n",
       "      <th>AAPL</th>\n",
       "      <th>CRM</th>\n",
       "    </tr>\n",
       "    <tr>\n",
       "      <th>Date</th>\n",
       "      <th></th>\n",
       "      <th></th>\n",
       "      <th></th>\n",
       "      <th></th>\n",
       "      <th></th>\n",
       "      <th></th>\n",
       "    </tr>\n",
       "  </thead>\n",
       "  <tbody>\n",
       "    <tr>\n",
       "      <th>2014-01-02</th>\n",
       "      <td>31528500.0</td>\n",
       "      <td>30942000.0</td>\n",
       "      <td>3656400.0</td>\n",
       "      <td>4546500.0</td>\n",
       "      <td>234684800.0</td>\n",
       "      <td>2730200.0</td>\n",
       "    </tr>\n",
       "    <tr>\n",
       "      <th>2014-01-03</th>\n",
       "      <td>46122300.0</td>\n",
       "      <td>23475000.0</td>\n",
       "      <td>3345800.0</td>\n",
       "      <td>4063200.0</td>\n",
       "      <td>392467600.0</td>\n",
       "      <td>1968700.0</td>\n",
       "    </tr>\n",
       "    <tr>\n",
       "      <th>2014-01-06</th>\n",
       "      <td>42657600.0</td>\n",
       "      <td>26805500.0</td>\n",
       "      <td>3551800.0</td>\n",
       "      <td>4067800.0</td>\n",
       "      <td>412610800.0</td>\n",
       "      <td>2532700.0</td>\n",
       "    </tr>\n",
       "    <tr>\n",
       "      <th>2014-01-07</th>\n",
       "      <td>54476300.0</td>\n",
       "      <td>25170500.0</td>\n",
       "      <td>5124300.0</td>\n",
       "      <td>5932300.0</td>\n",
       "      <td>317209200.0</td>\n",
       "      <td>2787200.0</td>\n",
       "    </tr>\n",
       "    <tr>\n",
       "      <th>2014-01-08</th>\n",
       "      <td>48448300.0</td>\n",
       "      <td>30816000.0</td>\n",
       "      <td>4501700.0</td>\n",
       "      <td>4603700.0</td>\n",
       "      <td>258529600.0</td>\n",
       "      <td>7036900.0</td>\n",
       "    </tr>\n",
       "  </tbody>\n",
       "</table>\n",
       "</div>"
      ],
      "text/plain": [
       "Symbols              F        TSLA       GOOG        IBM         AAPL  \\\n",
       "Date                                                                    \n",
       "2014-01-02  31528500.0  30942000.0  3656400.0  4546500.0  234684800.0   \n",
       "2014-01-03  46122300.0  23475000.0  3345800.0  4063200.0  392467600.0   \n",
       "2014-01-06  42657600.0  26805500.0  3551800.0  4067800.0  412610800.0   \n",
       "2014-01-07  54476300.0  25170500.0  5124300.0  5932300.0  317209200.0   \n",
       "2014-01-08  48448300.0  30816000.0  4501700.0  4603700.0  258529600.0   \n",
       "\n",
       "Symbols           CRM  \n",
       "Date                   \n",
       "2014-01-02  2730200.0  \n",
       "2014-01-03  1968700.0  \n",
       "2014-01-06  2532700.0  \n",
       "2014-01-07  2787200.0  \n",
       "2014-01-08  7036900.0  "
      ]
     },
     "execution_count": 91,
     "metadata": {},
     "output_type": "execute_result"
    }
   ],
   "source": [
    "dfs['Volume'].head()"
   ]
  },
  {
   "cell_type": "code",
   "execution_count": 92,
   "metadata": {},
   "outputs": [
    {
     "data": {
      "text/html": [
       "<div>\n",
       "<style scoped>\n",
       "    .dataframe tbody tr th:only-of-type {\n",
       "        vertical-align: middle;\n",
       "    }\n",
       "\n",
       "    .dataframe tbody tr th {\n",
       "        vertical-align: top;\n",
       "    }\n",
       "\n",
       "    .dataframe thead tr th {\n",
       "        text-align: left;\n",
       "    }\n",
       "\n",
       "    .dataframe thead tr:last-of-type th {\n",
       "        text-align: right;\n",
       "    }\n",
       "</style>\n",
       "<table border=\"1\" class=\"dataframe\">\n",
       "  <thead>\n",
       "    <tr>\n",
       "      <th>Symbols</th>\n",
       "      <th>F</th>\n",
       "      <th>TSLA</th>\n",
       "      <th>GOOG</th>\n",
       "      <th>IBM</th>\n",
       "      <th>AAPL</th>\n",
       "      <th>CRM</th>\n",
       "      <th>F</th>\n",
       "      <th>TSLA</th>\n",
       "      <th>GOOG</th>\n",
       "      <th>IBM</th>\n",
       "      <th>...</th>\n",
       "      <th>GOOG</th>\n",
       "      <th>IBM</th>\n",
       "      <th>AAPL</th>\n",
       "      <th>CRM</th>\n",
       "      <th>F</th>\n",
       "      <th>TSLA</th>\n",
       "      <th>GOOG</th>\n",
       "      <th>IBM</th>\n",
       "      <th>AAPL</th>\n",
       "      <th>CRM</th>\n",
       "    </tr>\n",
       "    <tr>\n",
       "      <th>Attributes</th>\n",
       "      <th>Adj Close</th>\n",
       "      <th>Adj Close</th>\n",
       "      <th>Adj Close</th>\n",
       "      <th>Adj Close</th>\n",
       "      <th>Adj Close</th>\n",
       "      <th>Adj Close</th>\n",
       "      <th>Close</th>\n",
       "      <th>Close</th>\n",
       "      <th>Close</th>\n",
       "      <th>Close</th>\n",
       "      <th>...</th>\n",
       "      <th>Open</th>\n",
       "      <th>Open</th>\n",
       "      <th>Open</th>\n",
       "      <th>Open</th>\n",
       "      <th>Volume</th>\n",
       "      <th>Volume</th>\n",
       "      <th>Volume</th>\n",
       "      <th>Volume</th>\n",
       "      <th>Volume</th>\n",
       "      <th>Volume</th>\n",
       "    </tr>\n",
       "    <tr>\n",
       "      <th>Date</th>\n",
       "      <th></th>\n",
       "      <th></th>\n",
       "      <th></th>\n",
       "      <th></th>\n",
       "      <th></th>\n",
       "      <th></th>\n",
       "      <th></th>\n",
       "      <th></th>\n",
       "      <th></th>\n",
       "      <th></th>\n",
       "      <th></th>\n",
       "      <th></th>\n",
       "      <th></th>\n",
       "      <th></th>\n",
       "      <th></th>\n",
       "      <th></th>\n",
       "      <th></th>\n",
       "      <th></th>\n",
       "      <th></th>\n",
       "      <th></th>\n",
       "      <th></th>\n",
       "    </tr>\n",
       "  </thead>\n",
       "  <tbody>\n",
       "    <tr>\n",
       "      <th>2014-01-02</th>\n",
       "      <td>11.368886</td>\n",
       "      <td>30.020000</td>\n",
       "      <td>554.481689</td>\n",
       "      <td>140.697495</td>\n",
       "      <td>17.655001</td>\n",
       "      <td>54.860001</td>\n",
       "      <td>15.44</td>\n",
       "      <td>30.020000</td>\n",
       "      <td>554.481689</td>\n",
       "      <td>185.529999</td>\n",
       "      <td>...</td>\n",
       "      <td>555.647278</td>\n",
       "      <td>187.210007</td>\n",
       "      <td>19.845715</td>\n",
       "      <td>55.200001</td>\n",
       "      <td>31528500.0</td>\n",
       "      <td>30942000.0</td>\n",
       "      <td>3656400.0</td>\n",
       "      <td>4546500.0</td>\n",
       "      <td>234684800.0</td>\n",
       "      <td>2730200.0</td>\n",
       "    </tr>\n",
       "    <tr>\n",
       "      <th>2014-01-03</th>\n",
       "      <td>11.420427</td>\n",
       "      <td>29.912001</td>\n",
       "      <td>550.436829</td>\n",
       "      <td>141.539261</td>\n",
       "      <td>17.267195</td>\n",
       "      <td>55.119999</td>\n",
       "      <td>15.51</td>\n",
       "      <td>29.912001</td>\n",
       "      <td>550.436829</td>\n",
       "      <td>186.639999</td>\n",
       "      <td>...</td>\n",
       "      <td>555.418152</td>\n",
       "      <td>185.830002</td>\n",
       "      <td>19.745001</td>\n",
       "      <td>54.930000</td>\n",
       "      <td>46122300.0</td>\n",
       "      <td>23475000.0</td>\n",
       "      <td>3345800.0</td>\n",
       "      <td>4063200.0</td>\n",
       "      <td>392467600.0</td>\n",
       "      <td>1968700.0</td>\n",
       "    </tr>\n",
       "    <tr>\n",
       "      <th>2014-01-06</th>\n",
       "      <td>11.471969</td>\n",
       "      <td>29.400000</td>\n",
       "      <td>556.573853</td>\n",
       "      <td>141.053940</td>\n",
       "      <td>17.361351</td>\n",
       "      <td>54.230000</td>\n",
       "      <td>15.58</td>\n",
       "      <td>29.400000</td>\n",
       "      <td>556.573853</td>\n",
       "      <td>186.000000</td>\n",
       "      <td>...</td>\n",
       "      <td>554.426880</td>\n",
       "      <td>187.149994</td>\n",
       "      <td>19.194643</td>\n",
       "      <td>55.200001</td>\n",
       "      <td>42657600.0</td>\n",
       "      <td>26805500.0</td>\n",
       "      <td>3551800.0</td>\n",
       "      <td>4067800.0</td>\n",
       "      <td>412610800.0</td>\n",
       "      <td>2532700.0</td>\n",
       "    </tr>\n",
       "    <tr>\n",
       "      <th>2014-01-07</th>\n",
       "      <td>11.324705</td>\n",
       "      <td>29.872000</td>\n",
       "      <td>567.303589</td>\n",
       "      <td>143.867477</td>\n",
       "      <td>17.237186</td>\n",
       "      <td>54.950001</td>\n",
       "      <td>15.38</td>\n",
       "      <td>29.872000</td>\n",
       "      <td>567.303589</td>\n",
       "      <td>189.710007</td>\n",
       "      <td>...</td>\n",
       "      <td>560.399475</td>\n",
       "      <td>186.389999</td>\n",
       "      <td>19.440001</td>\n",
       "      <td>54.430000</td>\n",
       "      <td>54476300.0</td>\n",
       "      <td>25170500.0</td>\n",
       "      <td>5124300.0</td>\n",
       "      <td>5932300.0</td>\n",
       "      <td>317209200.0</td>\n",
       "      <td>2787200.0</td>\n",
       "    </tr>\n",
       "    <tr>\n",
       "      <th>2014-01-08</th>\n",
       "      <td>11.442515</td>\n",
       "      <td>30.256001</td>\n",
       "      <td>568.484192</td>\n",
       "      <td>142.547913</td>\n",
       "      <td>17.346355</td>\n",
       "      <td>56.939999</td>\n",
       "      <td>15.54</td>\n",
       "      <td>30.256001</td>\n",
       "      <td>568.484192</td>\n",
       "      <td>187.970001</td>\n",
       "      <td>...</td>\n",
       "      <td>570.860291</td>\n",
       "      <td>189.330002</td>\n",
       "      <td>19.243214</td>\n",
       "      <td>55.189999</td>\n",
       "      <td>48448300.0</td>\n",
       "      <td>30816000.0</td>\n",
       "      <td>4501700.0</td>\n",
       "      <td>4603700.0</td>\n",
       "      <td>258529600.0</td>\n",
       "      <td>7036900.0</td>\n",
       "    </tr>\n",
       "  </tbody>\n",
       "</table>\n",
       "<p>5 rows × 36 columns</p>\n",
       "</div>"
      ],
      "text/plain": [
       "Symbols             F       TSLA        GOOG         IBM       AAPL  \\\n",
       "Attributes  Adj Close  Adj Close   Adj Close   Adj Close  Adj Close   \n",
       "Date                                                                  \n",
       "2014-01-02  11.368886  30.020000  554.481689  140.697495  17.655001   \n",
       "2014-01-03  11.420427  29.912001  550.436829  141.539261  17.267195   \n",
       "2014-01-06  11.471969  29.400000  556.573853  141.053940  17.361351   \n",
       "2014-01-07  11.324705  29.872000  567.303589  143.867477  17.237186   \n",
       "2014-01-08  11.442515  30.256001  568.484192  142.547913  17.346355   \n",
       "\n",
       "Symbols           CRM      F       TSLA        GOOG         IBM  ...  \\\n",
       "Attributes  Adj Close  Close      Close       Close       Close  ...   \n",
       "Date                                                             ...   \n",
       "2014-01-02  54.860001  15.44  30.020000  554.481689  185.529999  ...   \n",
       "2014-01-03  55.119999  15.51  29.912001  550.436829  186.639999  ...   \n",
       "2014-01-06  54.230000  15.58  29.400000  556.573853  186.000000  ...   \n",
       "2014-01-07  54.950001  15.38  29.872000  567.303589  189.710007  ...   \n",
       "2014-01-08  56.939999  15.54  30.256001  568.484192  187.970001  ...   \n",
       "\n",
       "Symbols           GOOG         IBM       AAPL        CRM           F  \\\n",
       "Attributes        Open        Open       Open       Open      Volume   \n",
       "Date                                                                   \n",
       "2014-01-02  555.647278  187.210007  19.845715  55.200001  31528500.0   \n",
       "2014-01-03  555.418152  185.830002  19.745001  54.930000  46122300.0   \n",
       "2014-01-06  554.426880  187.149994  19.194643  55.200001  42657600.0   \n",
       "2014-01-07  560.399475  186.389999  19.440001  54.430000  54476300.0   \n",
       "2014-01-08  570.860291  189.330002  19.243214  55.189999  48448300.0   \n",
       "\n",
       "Symbols           TSLA       GOOG        IBM         AAPL        CRM  \n",
       "Attributes      Volume     Volume     Volume       Volume     Volume  \n",
       "Date                                                                  \n",
       "2014-01-02  30942000.0  3656400.0  4546500.0  234684800.0  2730200.0  \n",
       "2014-01-03  23475000.0  3345800.0  4063200.0  392467600.0  1968700.0  \n",
       "2014-01-06  26805500.0  3551800.0  4067800.0  412610800.0  2532700.0  \n",
       "2014-01-07  25170500.0  5124300.0  5932300.0  317209200.0  2787200.0  \n",
       "2014-01-08  30816000.0  4501700.0  4603700.0  258529600.0  7036900.0  \n",
       "\n",
       "[5 rows x 36 columns]"
      ]
     },
     "execution_count": 92,
     "metadata": {},
     "output_type": "execute_result"
    }
   ],
   "source": [
    "data.columns = data.columns.swaplevel()\n",
    "data.head()"
   ]
  },
  {
   "cell_type": "code",
   "execution_count": 93,
   "metadata": {},
   "outputs": [
    {
     "data": {
      "text/html": [
       "<div>\n",
       "<style scoped>\n",
       "    .dataframe tbody tr th:only-of-type {\n",
       "        vertical-align: middle;\n",
       "    }\n",
       "\n",
       "    .dataframe tbody tr th {\n",
       "        vertical-align: top;\n",
       "    }\n",
       "\n",
       "    .dataframe thead th {\n",
       "        text-align: right;\n",
       "    }\n",
       "</style>\n",
       "<table border=\"1\" class=\"dataframe\">\n",
       "  <thead>\n",
       "    <tr style=\"text-align: right;\">\n",
       "      <th>Attributes</th>\n",
       "      <th>Adj Close</th>\n",
       "      <th>Close</th>\n",
       "      <th>High</th>\n",
       "      <th>Low</th>\n",
       "      <th>Open</th>\n",
       "      <th>Volume</th>\n",
       "    </tr>\n",
       "    <tr>\n",
       "      <th>Date</th>\n",
       "      <th></th>\n",
       "      <th></th>\n",
       "      <th></th>\n",
       "      <th></th>\n",
       "      <th></th>\n",
       "      <th></th>\n",
       "    </tr>\n",
       "  </thead>\n",
       "  <tbody>\n",
       "    <tr>\n",
       "      <th>2014-01-02</th>\n",
       "      <td>54.860001</td>\n",
       "      <td>54.860001</td>\n",
       "      <td>55.209999</td>\n",
       "      <td>54.410000</td>\n",
       "      <td>55.200001</td>\n",
       "      <td>2730200.0</td>\n",
       "    </tr>\n",
       "    <tr>\n",
       "      <th>2014-01-03</th>\n",
       "      <td>55.119999</td>\n",
       "      <td>55.119999</td>\n",
       "      <td>55.389999</td>\n",
       "      <td>54.520000</td>\n",
       "      <td>54.930000</td>\n",
       "      <td>1968700.0</td>\n",
       "    </tr>\n",
       "    <tr>\n",
       "      <th>2014-01-06</th>\n",
       "      <td>54.230000</td>\n",
       "      <td>54.230000</td>\n",
       "      <td>55.240002</td>\n",
       "      <td>54.029999</td>\n",
       "      <td>55.200001</td>\n",
       "      <td>2532700.0</td>\n",
       "    </tr>\n",
       "    <tr>\n",
       "      <th>2014-01-07</th>\n",
       "      <td>54.950001</td>\n",
       "      <td>54.950001</td>\n",
       "      <td>55.119999</td>\n",
       "      <td>54.290001</td>\n",
       "      <td>54.430000</td>\n",
       "      <td>2787200.0</td>\n",
       "    </tr>\n",
       "    <tr>\n",
       "      <th>2014-01-08</th>\n",
       "      <td>56.939999</td>\n",
       "      <td>56.939999</td>\n",
       "      <td>57.130001</td>\n",
       "      <td>54.759998</td>\n",
       "      <td>55.189999</td>\n",
       "      <td>7036900.0</td>\n",
       "    </tr>\n",
       "  </tbody>\n",
       "</table>\n",
       "</div>"
      ],
      "text/plain": [
       "Attributes  Adj Close      Close       High        Low       Open     Volume\n",
       "Date                                                                        \n",
       "2014-01-02  54.860001  54.860001  55.209999  54.410000  55.200001  2730200.0\n",
       "2014-01-03  55.119999  55.119999  55.389999  54.520000  54.930000  1968700.0\n",
       "2014-01-06  54.230000  54.230000  55.240002  54.029999  55.200001  2532700.0\n",
       "2014-01-07  54.950001  54.950001  55.119999  54.290001  54.430000  2787200.0\n",
       "2014-01-08  56.939999  56.939999  57.130001  54.759998  55.189999  7036900.0"
      ]
     },
     "execution_count": 93,
     "metadata": {},
     "output_type": "execute_result"
    }
   ],
   "source": [
    "data['CRM'].head()"
   ]
  },
  {
   "cell_type": "markdown",
   "metadata": {},
   "source": [
    "## Writing Excel data\n",
    "\n",
    "We can write a multi-page Excel file using an ExcelWriter:"
   ]
  },
  {
   "cell_type": "code",
   "execution_count": 94,
   "metadata": {},
   "outputs": [
    {
     "name": "stdout",
     "output_type": "stream",
     "text": [
      "Looking in links: /Users/rick446/src/wheelhouse\n",
      "Requirement already satisfied: xlrd in /Users/rick446/.virtualenvs/py38/lib/python3.8/site-packages (1.2.0)\n",
      "Requirement already satisfied: xlwt in /Users/rick446/.virtualenvs/py38/lib/python3.8/site-packages (1.3.0)\n",
      "Requirement already satisfied: openpyxl in /Users/rick446/.virtualenvs/py38/lib/python3.8/site-packages (3.0.5)\n",
      "Requirement already satisfied: jdcal in /Users/rick446/.virtualenvs/py38/lib/python3.8/site-packages (from openpyxl) (1.4.1)\n",
      "Requirement already satisfied: et-xmlfile in /Users/rick446/.virtualenvs/py38/lib/python3.8/site-packages (from openpyxl) (1.0.1)\n"
     ]
    }
   ],
   "source": [
    "!pip install xlrd xlwt openpyxl"
   ]
  },
  {
   "cell_type": "markdown",
   "metadata": {},
   "source": [
    "In normal python to write a file you might say:\n",
    "\n",
    "```python\n",
    "with open(filename, 'w') as fp:\n",
    "    fp.write(some_data)\n",
    "```"
   ]
  },
  {
   "cell_type": "code",
   "execution_count": 95,
   "metadata": {},
   "outputs": [],
   "source": [
    "with pd.ExcelWriter('./data/stocks.xlsx') as writer:\n",
    "    for name, sheet in dfs.items():\n",
    "        sheet.to_excel(writer, name)"
   ]
  },
  {
   "cell_type": "code",
   "execution_count": 96,
   "metadata": {},
   "outputs": [],
   "source": [
    "!open data/stocks.xlsx"
   ]
  },
  {
   "cell_type": "markdown",
   "metadata": {},
   "source": [
    "## Reading Excel data\n",
    "\n",
    "We can also read a sheet from an Excel workbook:"
   ]
  },
  {
   "cell_type": "code",
   "execution_count": 97,
   "metadata": {},
   "outputs": [
    {
     "data": {
      "text/html": [
       "<div>\n",
       "<style scoped>\n",
       "    .dataframe tbody tr th:only-of-type {\n",
       "        vertical-align: middle;\n",
       "    }\n",
       "\n",
       "    .dataframe tbody tr th {\n",
       "        vertical-align: top;\n",
       "    }\n",
       "\n",
       "    .dataframe thead th {\n",
       "        text-align: right;\n",
       "    }\n",
       "</style>\n",
       "<table border=\"1\" class=\"dataframe\">\n",
       "  <thead>\n",
       "    <tr style=\"text-align: right;\">\n",
       "      <th></th>\n",
       "      <th>F</th>\n",
       "      <th>TSLA</th>\n",
       "      <th>GOOG</th>\n",
       "      <th>IBM</th>\n",
       "      <th>AAPL</th>\n",
       "      <th>CRM</th>\n",
       "    </tr>\n",
       "    <tr>\n",
       "      <th>Date</th>\n",
       "      <th></th>\n",
       "      <th></th>\n",
       "      <th></th>\n",
       "      <th></th>\n",
       "      <th></th>\n",
       "      <th></th>\n",
       "    </tr>\n",
       "  </thead>\n",
       "  <tbody>\n",
       "    <tr>\n",
       "      <th>2014-01-02</th>\n",
       "      <td>15.44</td>\n",
       "      <td>30.020000</td>\n",
       "      <td>554.481689</td>\n",
       "      <td>185.529999</td>\n",
       "      <td>19.754642</td>\n",
       "      <td>54.860001</td>\n",
       "    </tr>\n",
       "    <tr>\n",
       "      <th>2014-01-03</th>\n",
       "      <td>15.51</td>\n",
       "      <td>29.912001</td>\n",
       "      <td>550.436829</td>\n",
       "      <td>186.639999</td>\n",
       "      <td>19.320715</td>\n",
       "      <td>55.119999</td>\n",
       "    </tr>\n",
       "    <tr>\n",
       "      <th>2014-01-06</th>\n",
       "      <td>15.58</td>\n",
       "      <td>29.400000</td>\n",
       "      <td>556.573853</td>\n",
       "      <td>186.000000</td>\n",
       "      <td>19.426071</td>\n",
       "      <td>54.230000</td>\n",
       "    </tr>\n",
       "    <tr>\n",
       "      <th>2014-01-07</th>\n",
       "      <td>15.38</td>\n",
       "      <td>29.872000</td>\n",
       "      <td>567.303589</td>\n",
       "      <td>189.710007</td>\n",
       "      <td>19.287144</td>\n",
       "      <td>54.950001</td>\n",
       "    </tr>\n",
       "    <tr>\n",
       "      <th>2014-01-08</th>\n",
       "      <td>15.54</td>\n",
       "      <td>30.256001</td>\n",
       "      <td>568.484192</td>\n",
       "      <td>187.970001</td>\n",
       "      <td>19.409286</td>\n",
       "      <td>56.939999</td>\n",
       "    </tr>\n",
       "  </tbody>\n",
       "</table>\n",
       "</div>"
      ],
      "text/plain": [
       "                F       TSLA        GOOG         IBM       AAPL        CRM\n",
       "Date                                                                      \n",
       "2014-01-02  15.44  30.020000  554.481689  185.529999  19.754642  54.860001\n",
       "2014-01-03  15.51  29.912001  550.436829  186.639999  19.320715  55.119999\n",
       "2014-01-06  15.58  29.400000  556.573853  186.000000  19.426071  54.230000\n",
       "2014-01-07  15.38  29.872000  567.303589  189.710007  19.287144  54.950001\n",
       "2014-01-08  15.54  30.256001  568.484192  187.970001  19.409286  56.939999"
      ]
     },
     "execution_count": 97,
     "metadata": {},
     "output_type": "execute_result"
    }
   ],
   "source": [
    "closing = pd.read_excel('./data/stocks.xlsx', 'Close', index_col='Date')\n",
    "closing.head()"
   ]
  },
  {
   "cell_type": "code",
   "execution_count": 98,
   "metadata": {},
   "outputs": [
    {
     "name": "stdout",
     "output_type": "stream",
     "text": [
      "<class 'pandas.core.frame.DataFrame'>\n",
      "DatetimeIndex: 1007 entries, 2014-01-02 to 2017-12-29\n",
      "Data columns (total 6 columns):\n",
      " #   Column  Non-Null Count  Dtype  \n",
      "---  ------  --------------  -----  \n",
      " 0   F       1007 non-null   float64\n",
      " 1   TSLA    1007 non-null   float64\n",
      " 2   GOOG    1007 non-null   float64\n",
      " 3   IBM     1007 non-null   float64\n",
      " 4   AAPL    1007 non-null   float64\n",
      " 5   CRM     1007 non-null   float64\n",
      "dtypes: float64(6)\n",
      "memory usage: 55.1 KB\n"
     ]
    }
   ],
   "source": [
    "closing.info()"
   ]
  },
  {
   "cell_type": "markdown",
   "metadata": {},
   "source": [
    "## Data from SQL"
   ]
  },
  {
   "cell_type": "code",
   "execution_count": 99,
   "metadata": {},
   "outputs": [],
   "source": [
    "import pandas as pd\n",
    "import sqlite3\n",
    "con = sqlite3.connect('./data/real-estate.db')"
   ]
  },
  {
   "cell_type": "code",
   "execution_count": 100,
   "metadata": {},
   "outputs": [
    {
     "name": "stderr",
     "output_type": "stream",
     "text": [
      "/Users/rick446/.virtualenvs/py38/lib/python3.8/site-packages/dateutil/parser/_parser.py:1213: UnknownTimezoneWarning: tzname EDT identified but not understood.  Pass `tzinfos` argument in order to correctly return a timezone-aware datetime.  In a future version, this will raise an exception.\n",
      "  warnings.warn(\"tzname {tzname} identified but not understood.  \"\n"
     ]
    },
    {
     "data": {
      "text/html": [
       "<div>\n",
       "<style scoped>\n",
       "    .dataframe tbody tr th:only-of-type {\n",
       "        vertical-align: middle;\n",
       "    }\n",
       "\n",
       "    .dataframe tbody tr th {\n",
       "        vertical-align: top;\n",
       "    }\n",
       "\n",
       "    .dataframe thead th {\n",
       "        text-align: right;\n",
       "    }\n",
       "</style>\n",
       "<table border=\"1\" class=\"dataframe\">\n",
       "  <thead>\n",
       "    <tr style=\"text-align: right;\">\n",
       "      <th></th>\n",
       "      <th>street</th>\n",
       "      <th>city</th>\n",
       "      <th>zip</th>\n",
       "      <th>state</th>\n",
       "      <th>beds</th>\n",
       "      <th>baths</th>\n",
       "      <th>sq__ft</th>\n",
       "      <th>type</th>\n",
       "      <th>sale_date</th>\n",
       "      <th>price</th>\n",
       "      <th>latitude</th>\n",
       "      <th>longitude</th>\n",
       "    </tr>\n",
       "    <tr>\n",
       "      <th>index</th>\n",
       "      <th></th>\n",
       "      <th></th>\n",
       "      <th></th>\n",
       "      <th></th>\n",
       "      <th></th>\n",
       "      <th></th>\n",
       "      <th></th>\n",
       "      <th></th>\n",
       "      <th></th>\n",
       "      <th></th>\n",
       "      <th></th>\n",
       "      <th></th>\n",
       "    </tr>\n",
       "  </thead>\n",
       "  <tbody>\n",
       "    <tr>\n",
       "      <th>0</th>\n",
       "      <td>3526 HIGH ST</td>\n",
       "      <td>SACRAMENTO</td>\n",
       "      <td>95838</td>\n",
       "      <td>CA</td>\n",
       "      <td>2</td>\n",
       "      <td>1</td>\n",
       "      <td>836</td>\n",
       "      <td>Residential</td>\n",
       "      <td>2008-05-21</td>\n",
       "      <td>59222</td>\n",
       "      <td>38.631913</td>\n",
       "      <td>-121.434879</td>\n",
       "    </tr>\n",
       "    <tr>\n",
       "      <th>1</th>\n",
       "      <td>51 OMAHA CT</td>\n",
       "      <td>SACRAMENTO</td>\n",
       "      <td>95823</td>\n",
       "      <td>CA</td>\n",
       "      <td>3</td>\n",
       "      <td>1</td>\n",
       "      <td>1167</td>\n",
       "      <td>Residential</td>\n",
       "      <td>2008-05-21</td>\n",
       "      <td>68212</td>\n",
       "      <td>38.478902</td>\n",
       "      <td>-121.431028</td>\n",
       "    </tr>\n",
       "    <tr>\n",
       "      <th>2</th>\n",
       "      <td>2796 BRANCH ST</td>\n",
       "      <td>SACRAMENTO</td>\n",
       "      <td>95815</td>\n",
       "      <td>CA</td>\n",
       "      <td>2</td>\n",
       "      <td>1</td>\n",
       "      <td>796</td>\n",
       "      <td>Residential</td>\n",
       "      <td>2008-05-21</td>\n",
       "      <td>68880</td>\n",
       "      <td>38.618305</td>\n",
       "      <td>-121.443839</td>\n",
       "    </tr>\n",
       "    <tr>\n",
       "      <th>3</th>\n",
       "      <td>2805 JANETTE WAY</td>\n",
       "      <td>SACRAMENTO</td>\n",
       "      <td>95815</td>\n",
       "      <td>CA</td>\n",
       "      <td>2</td>\n",
       "      <td>1</td>\n",
       "      <td>852</td>\n",
       "      <td>Residential</td>\n",
       "      <td>2008-05-21</td>\n",
       "      <td>69307</td>\n",
       "      <td>38.616835</td>\n",
       "      <td>-121.439146</td>\n",
       "    </tr>\n",
       "    <tr>\n",
       "      <th>4</th>\n",
       "      <td>6001 MCMAHON DR</td>\n",
       "      <td>SACRAMENTO</td>\n",
       "      <td>95824</td>\n",
       "      <td>CA</td>\n",
       "      <td>2</td>\n",
       "      <td>1</td>\n",
       "      <td>797</td>\n",
       "      <td>Residential</td>\n",
       "      <td>2008-05-21</td>\n",
       "      <td>81900</td>\n",
       "      <td>38.519470</td>\n",
       "      <td>-121.435768</td>\n",
       "    </tr>\n",
       "  </tbody>\n",
       "</table>\n",
       "</div>"
      ],
      "text/plain": [
       "                 street        city    zip state  beds  baths  sq__ft  \\\n",
       "index                                                                   \n",
       "0          3526 HIGH ST  SACRAMENTO  95838    CA     2      1     836   \n",
       "1           51 OMAHA CT  SACRAMENTO  95823    CA     3      1    1167   \n",
       "2        2796 BRANCH ST  SACRAMENTO  95815    CA     2      1     796   \n",
       "3      2805 JANETTE WAY  SACRAMENTO  95815    CA     2      1     852   \n",
       "4       6001 MCMAHON DR  SACRAMENTO  95824    CA     2      1     797   \n",
       "\n",
       "              type  sale_date  price   latitude   longitude  \n",
       "index                                                        \n",
       "0      Residential 2008-05-21  59222  38.631913 -121.434879  \n",
       "1      Residential 2008-05-21  68212  38.478902 -121.431028  \n",
       "2      Residential 2008-05-21  68880  38.618305 -121.443839  \n",
       "3      Residential 2008-05-21  69307  38.616835 -121.439146  \n",
       "4      Residential 2008-05-21  81900  38.519470 -121.435768  "
      ]
     },
     "execution_count": 100,
     "metadata": {},
     "output_type": "execute_result"
    }
   ],
   "source": [
    "transactions = pd.read_sql(\n",
    "    'SELECT * FROM transactions', con, \n",
    "    index_col='index', \n",
    "    parse_dates=['sale_date'],\n",
    ")\n",
    "transactions.head()"
   ]
  },
  {
   "cell_type": "markdown",
   "metadata": {},
   "source": [
    "We can even build a quick little bulk load function in a couple of lines of pandas:"
   ]
  },
  {
   "cell_type": "code",
   "execution_count": 101,
   "metadata": {},
   "outputs": [],
   "source": [
    "stock = pd.read_csv('./data/closing-prices.csv', index_col=[0], parse_dates=True)\n",
    "stock.to_sql('stock', con, if_exists='replace')"
   ]
  },
  {
   "cell_type": "code",
   "execution_count": 102,
   "metadata": {},
   "outputs": [
    {
     "name": "stdout",
     "output_type": "stream",
     "text": [
      "('2014-01-02 00:00:00', 12.089, 150.1, None, 157.6001, 72.7741)\n",
      "('2014-01-03 00:00:00', 12.1438, 149.56, None, 158.543, 71.1756)\n",
      "('2014-01-06 00:00:00', 12.1986, 147.0, None, 157.9993, 71.5637)\n",
      "('2014-01-07 00:00:00', 12.042, 149.36, None, 161.1508, 71.0516)\n",
      "('2014-01-08 00:00:00', 12.1673, 151.28, None, 159.6728, 71.5019)\n"
     ]
    }
   ],
   "source": [
    "for row in con.execute('select * from stock limit 5'):\n",
    "    print(row)"
   ]
  },
  {
   "cell_type": "code",
   "execution_count": 103,
   "metadata": {},
   "outputs": [
    {
     "data": {
      "text/plain": [
       "[(1007,)]"
      ]
     },
     "execution_count": 103,
     "metadata": {},
     "output_type": "execute_result"
    }
   ],
   "source": [
    "con.execute('select count(*) from stock').fetchall()"
   ]
  },
  {
   "cell_type": "markdown",
   "metadata": {},
   "source": [
    "(for non-sqlite3 databases, you must use a sqlalchemy engine object and the `sqlalchemy.create_engine` function)"
   ]
  },
  {
   "cell_type": "markdown",
   "metadata": {},
   "source": [
    "## Data from HTML"
   ]
  },
  {
   "cell_type": "code",
   "execution_count": 104,
   "metadata": {},
   "outputs": [
    {
     "name": "stdout",
     "output_type": "stream",
     "text": [
      "Looking in links: /Users/rick446/src/wheelhouse\r\n",
      "Requirement already satisfied: html5lib in /Users/rick446/.virtualenvs/py38/lib/python3.8/site-packages (1.1)\r\n",
      "Requirement already satisfied: six>=1.9 in /Users/rick446/.virtualenvs/py38/lib/python3.8/site-packages (from html5lib) (1.15.0)\r\n",
      "Requirement already satisfied: webencodings in /Users/rick446/.virtualenvs/py38/lib/python3.8/site-packages (from html5lib) (0.5.1)\r\n"
     ]
    }
   ],
   "source": [
    "!pip install html5lib"
   ]
  },
  {
   "cell_type": "code",
   "execution_count": 105,
   "metadata": {},
   "outputs": [],
   "source": [
    "tables = pd.read_html(\n",
    "    'https://en.wikipedia.org/wiki/Python_(genus)',\n",
    ")"
   ]
  },
  {
   "cell_type": "code",
   "execution_count": 106,
   "metadata": {},
   "outputs": [
    {
     "data": {
      "text/plain": [
       "7"
      ]
     },
     "execution_count": 106,
     "metadata": {},
     "output_type": "execute_result"
    }
   ],
   "source": [
    "len(tables)"
   ]
  },
  {
   "cell_type": "code",
   "execution_count": 107,
   "metadata": {},
   "outputs": [
    {
     "data": {
      "text/html": [
       "<div>\n",
       "<style scoped>\n",
       "    .dataframe tbody tr th:only-of-type {\n",
       "        vertical-align: middle;\n",
       "    }\n",
       "\n",
       "    .dataframe tbody tr th {\n",
       "        vertical-align: top;\n",
       "    }\n",
       "\n",
       "    .dataframe thead th {\n",
       "        text-align: right;\n",
       "    }\n",
       "</style>\n",
       "<table border=\"1\" class=\"dataframe\">\n",
       "  <thead>\n",
       "    <tr style=\"text-align: right;\">\n",
       "      <th></th>\n",
       "      <th>Python</th>\n",
       "      <th>Python.1</th>\n",
       "    </tr>\n",
       "  </thead>\n",
       "  <tbody>\n",
       "    <tr>\n",
       "      <th>0</th>\n",
       "      <td>NaN</td>\n",
       "      <td>NaN</td>\n",
       "    </tr>\n",
       "    <tr>\n",
       "      <th>1</th>\n",
       "      <td>Burmese python (Python bivittatus)</td>\n",
       "      <td>Burmese python (Python bivittatus)</td>\n",
       "    </tr>\n",
       "    <tr>\n",
       "      <th>2</th>\n",
       "      <td>Scientific classification</td>\n",
       "      <td>Scientific classification</td>\n",
       "    </tr>\n",
       "    <tr>\n",
       "      <th>3</th>\n",
       "      <td>Kingdom:</td>\n",
       "      <td>Animalia</td>\n",
       "    </tr>\n",
       "    <tr>\n",
       "      <th>4</th>\n",
       "      <td>Phylum:</td>\n",
       "      <td>Chordata</td>\n",
       "    </tr>\n",
       "    <tr>\n",
       "      <th>5</th>\n",
       "      <td>Class:</td>\n",
       "      <td>Reptilia</td>\n",
       "    </tr>\n",
       "    <tr>\n",
       "      <th>6</th>\n",
       "      <td>Order:</td>\n",
       "      <td>Squamata</td>\n",
       "    </tr>\n",
       "    <tr>\n",
       "      <th>7</th>\n",
       "      <td>Suborder:</td>\n",
       "      <td>Serpentes</td>\n",
       "    </tr>\n",
       "    <tr>\n",
       "      <th>8</th>\n",
       "      <td>Family:</td>\n",
       "      <td>Pythonidae</td>\n",
       "    </tr>\n",
       "    <tr>\n",
       "      <th>9</th>\n",
       "      <td>Genus:</td>\n",
       "      <td>PythonDaudin, 1803</td>\n",
       "    </tr>\n",
       "    <tr>\n",
       "      <th>10</th>\n",
       "      <td>Synonyms</td>\n",
       "      <td>Synonyms</td>\n",
       "    </tr>\n",
       "    <tr>\n",
       "      <th>11</th>\n",
       "      <td>List Python Daudin, 1803Constrictor Wagler, 18...</td>\n",
       "      <td>List Python Daudin, 1803Constrictor Wagler, 18...</td>\n",
       "    </tr>\n",
       "  </tbody>\n",
       "</table>\n",
       "</div>"
      ],
      "text/plain": [
       "                                               Python  \\\n",
       "0                                                 NaN   \n",
       "1                  Burmese python (Python bivittatus)   \n",
       "2                           Scientific classification   \n",
       "3                                            Kingdom:   \n",
       "4                                             Phylum:   \n",
       "5                                              Class:   \n",
       "6                                              Order:   \n",
       "7                                           Suborder:   \n",
       "8                                             Family:   \n",
       "9                                              Genus:   \n",
       "10                                           Synonyms   \n",
       "11  List Python Daudin, 1803Constrictor Wagler, 18...   \n",
       "\n",
       "                                             Python.1  \n",
       "0                                                 NaN  \n",
       "1                  Burmese python (Python bivittatus)  \n",
       "2                           Scientific classification  \n",
       "3                                            Animalia  \n",
       "4                                            Chordata  \n",
       "5                                            Reptilia  \n",
       "6                                            Squamata  \n",
       "7                                           Serpentes  \n",
       "8                                          Pythonidae  \n",
       "9                                  PythonDaudin, 1803  \n",
       "10                                           Synonyms  \n",
       "11  List Python Daudin, 1803Constrictor Wagler, 18...  "
      ]
     },
     "execution_count": 107,
     "metadata": {},
     "output_type": "execute_result"
    }
   ],
   "source": [
    "tables[0]"
   ]
  },
  {
   "cell_type": "code",
   "execution_count": 108,
   "metadata": {},
   "outputs": [
    {
     "data": {
      "text/plain": [
       "2"
      ]
     },
     "execution_count": 108,
     "metadata": {},
     "output_type": "execute_result"
    }
   ],
   "source": [
    "tables = pd.read_html(\n",
    "    'https://en.wikipedia.org/wiki/List_of_United_States_cities_by_population',\n",
    "    match='New York'\n",
    ")\n",
    "len(tables)"
   ]
  },
  {
   "cell_type": "code",
   "execution_count": 109,
   "metadata": {},
   "outputs": [
    {
     "data": {
      "text/html": [
       "<div>\n",
       "<style scoped>\n",
       "    .dataframe tbody tr th:only-of-type {\n",
       "        vertical-align: middle;\n",
       "    }\n",
       "\n",
       "    .dataframe tbody tr th {\n",
       "        vertical-align: top;\n",
       "    }\n",
       "\n",
       "    .dataframe thead th {\n",
       "        text-align: right;\n",
       "    }\n",
       "</style>\n",
       "<table border=\"1\" class=\"dataframe\">\n",
       "  <thead>\n",
       "    <tr style=\"text-align: right;\">\n",
       "      <th></th>\n",
       "      <th>2019rank</th>\n",
       "      <th>City</th>\n",
       "      <th>State[c]</th>\n",
       "      <th>2019estimate</th>\n",
       "      <th>2010Census</th>\n",
       "      <th>Change</th>\n",
       "      <th>2016 land area</th>\n",
       "      <th>2016 land area.1</th>\n",
       "      <th>2016 population density</th>\n",
       "      <th>2016 population density.1</th>\n",
       "      <th>Location</th>\n",
       "    </tr>\n",
       "  </thead>\n",
       "  <tbody>\n",
       "    <tr>\n",
       "      <th>0</th>\n",
       "      <td>1</td>\n",
       "      <td>New York[d]</td>\n",
       "      <td>New York</td>\n",
       "      <td>8336817</td>\n",
       "      <td>8175133</td>\n",
       "      <td>+1.98%</td>\n",
       "      <td>301.5 sq mi</td>\n",
       "      <td>780.9 km2</td>\n",
       "      <td>28,317/sq mi</td>\n",
       "      <td>10,933/km2</td>\n",
       "      <td>40°39′49″N 73°56′19″W﻿ / ﻿40.6635°N 73.9387°W</td>\n",
       "    </tr>\n",
       "    <tr>\n",
       "      <th>1</th>\n",
       "      <td>2</td>\n",
       "      <td>Los Angeles</td>\n",
       "      <td>California</td>\n",
       "      <td>3979576</td>\n",
       "      <td>3792621</td>\n",
       "      <td>+4.93%</td>\n",
       "      <td>468.7 sq mi</td>\n",
       "      <td>1,213.9 km2</td>\n",
       "      <td>8,484/sq mi</td>\n",
       "      <td>3,276/km2</td>\n",
       "      <td>34°01′10″N 118°24′39″W﻿ / ﻿34.0194°N 118.4108°W</td>\n",
       "    </tr>\n",
       "    <tr>\n",
       "      <th>2</th>\n",
       "      <td>3</td>\n",
       "      <td>Chicago</td>\n",
       "      <td>Illinois</td>\n",
       "      <td>2693976</td>\n",
       "      <td>2695598</td>\n",
       "      <td>−0.06%</td>\n",
       "      <td>227.3 sq mi</td>\n",
       "      <td>588.7 km2</td>\n",
       "      <td>11,900/sq mi</td>\n",
       "      <td>4,600/km2</td>\n",
       "      <td>41°50′15″N 87°40′54″W﻿ / ﻿41.8376°N 87.6818°W</td>\n",
       "    </tr>\n",
       "    <tr>\n",
       "      <th>3</th>\n",
       "      <td>4</td>\n",
       "      <td>Houston[3]</td>\n",
       "      <td>Texas</td>\n",
       "      <td>2320268</td>\n",
       "      <td>2100263</td>\n",
       "      <td>+10.48%</td>\n",
       "      <td>637.5 sq mi</td>\n",
       "      <td>1,651.1 km2</td>\n",
       "      <td>3,613/sq mi</td>\n",
       "      <td>1,395/km2</td>\n",
       "      <td>29°47′12″N 95°23′27″W﻿ / ﻿29.7866°N 95.3909°W</td>\n",
       "    </tr>\n",
       "    <tr>\n",
       "      <th>4</th>\n",
       "      <td>5</td>\n",
       "      <td>Phoenix</td>\n",
       "      <td>Arizona</td>\n",
       "      <td>1680992</td>\n",
       "      <td>1445632</td>\n",
       "      <td>+16.28%</td>\n",
       "      <td>517.6 sq mi</td>\n",
       "      <td>1,340.6 km2</td>\n",
       "      <td>3,120/sq mi</td>\n",
       "      <td>1,200/km2</td>\n",
       "      <td>33°34′20″N 112°05′24″W﻿ / ﻿33.5722°N 112.0901°W</td>\n",
       "    </tr>\n",
       "    <tr>\n",
       "      <th>...</th>\n",
       "      <td>...</td>\n",
       "      <td>...</td>\n",
       "      <td>...</td>\n",
       "      <td>...</td>\n",
       "      <td>...</td>\n",
       "      <td>...</td>\n",
       "      <td>...</td>\n",
       "      <td>...</td>\n",
       "      <td>...</td>\n",
       "      <td>...</td>\n",
       "      <td>...</td>\n",
       "    </tr>\n",
       "    <tr>\n",
       "      <th>312</th>\n",
       "      <td>313</td>\n",
       "      <td>San Angelo</td>\n",
       "      <td>Texas</td>\n",
       "      <td>101004</td>\n",
       "      <td>93200</td>\n",
       "      <td>+8.37%</td>\n",
       "      <td>59.9 sq mi</td>\n",
       "      <td>155.1 km2</td>\n",
       "      <td>1,681/sq mi</td>\n",
       "      <td>649/km2</td>\n",
       "      <td>31°26′28″N 100°27′02″W﻿ / ﻿31.4411°N 100.4505°W</td>\n",
       "    </tr>\n",
       "    <tr>\n",
       "      <th>313</th>\n",
       "      <td>314</td>\n",
       "      <td>Vacaville</td>\n",
       "      <td>California</td>\n",
       "      <td>100670</td>\n",
       "      <td>92428</td>\n",
       "      <td>+8.92%</td>\n",
       "      <td>29.0 sq mi</td>\n",
       "      <td>75.1 km2</td>\n",
       "      <td>3,449/sq mi</td>\n",
       "      <td>1,332/km2</td>\n",
       "      <td>38°21′14″N 121°58′22″W﻿ / ﻿38.3539°N 121.9728°W</td>\n",
       "    </tr>\n",
       "    <tr>\n",
       "      <th>314</th>\n",
       "      <td>315</td>\n",
       "      <td>Clinton[ae]</td>\n",
       "      <td>Michigan</td>\n",
       "      <td>100471</td>\n",
       "      <td>96796</td>\n",
       "      <td>+3.80%</td>\n",
       "      <td>28.1 sq mi</td>\n",
       "      <td>72.8 km2</td>\n",
       "      <td>3,573/sq mi</td>\n",
       "      <td>1,380/km2</td>\n",
       "      <td>42°35′25″N 82°55′01″W﻿ / ﻿42.5903°N 82.9170°W</td>\n",
       "    </tr>\n",
       "    <tr>\n",
       "      <th>315</th>\n",
       "      <td>316</td>\n",
       "      <td>Bend</td>\n",
       "      <td>Oregon</td>\n",
       "      <td>100421</td>\n",
       "      <td>76639</td>\n",
       "      <td>+31.03%</td>\n",
       "      <td>33.1 sq mi</td>\n",
       "      <td>85.7 km2</td>\n",
       "      <td>3,034/sq mi</td>\n",
       "      <td>1,171/km2</td>\n",
       "      <td>44°03′00″N 121°18′00″W﻿ / ﻿44.0500°N 121.3000°W</td>\n",
       "    </tr>\n",
       "    <tr>\n",
       "      <th>316</th>\n",
       "      <td>317</td>\n",
       "      <td>Woodbridge[ad]</td>\n",
       "      <td>New Jersey</td>\n",
       "      <td>100145</td>\n",
       "      <td>99585</td>\n",
       "      <td>+0.56%</td>\n",
       "      <td>23.3 sq mi</td>\n",
       "      <td>60.3 km2</td>\n",
       "      <td>4,351/sq mi</td>\n",
       "      <td>1,680/km2</td>\n",
       "      <td>40°33′39″N 74°17′34″W﻿ / ﻿40.5607°N 74.2927°W</td>\n",
       "    </tr>\n",
       "  </tbody>\n",
       "</table>\n",
       "<p>317 rows × 11 columns</p>\n",
       "</div>"
      ],
      "text/plain": [
       "     2019rank            City    State[c]  2019estimate  2010Census   Change  \\\n",
       "0           1     New York[d]    New York       8336817     8175133   +1.98%   \n",
       "1           2     Los Angeles  California       3979576     3792621   +4.93%   \n",
       "2           3         Chicago    Illinois       2693976     2695598   −0.06%   \n",
       "3           4      Houston[3]       Texas       2320268     2100263  +10.48%   \n",
       "4           5         Phoenix     Arizona       1680992     1445632  +16.28%   \n",
       "..        ...             ...         ...           ...         ...      ...   \n",
       "312       313      San Angelo       Texas        101004       93200   +8.37%   \n",
       "313       314       Vacaville  California        100670       92428   +8.92%   \n",
       "314       315     Clinton[ae]    Michigan        100471       96796   +3.80%   \n",
       "315       316            Bend      Oregon        100421       76639  +31.03%   \n",
       "316       317  Woodbridge[ad]  New Jersey        100145       99585   +0.56%   \n",
       "\n",
       "    2016 land area 2016 land area.1 2016 population density  \\\n",
       "0      301.5 sq mi        780.9 km2            28,317/sq mi   \n",
       "1      468.7 sq mi      1,213.9 km2             8,484/sq mi   \n",
       "2      227.3 sq mi        588.7 km2            11,900/sq mi   \n",
       "3      637.5 sq mi      1,651.1 km2             3,613/sq mi   \n",
       "4      517.6 sq mi      1,340.6 km2             3,120/sq mi   \n",
       "..             ...              ...                     ...   \n",
       "312     59.9 sq mi        155.1 km2             1,681/sq mi   \n",
       "313     29.0 sq mi         75.1 km2             3,449/sq mi   \n",
       "314     28.1 sq mi         72.8 km2             3,573/sq mi   \n",
       "315     33.1 sq mi         85.7 km2             3,034/sq mi   \n",
       "316     23.3 sq mi         60.3 km2             4,351/sq mi   \n",
       "\n",
       "    2016 population density.1                                         Location  \n",
       "0                  10,933/km2    40°39′49″N 73°56′19″W﻿ / ﻿40.6635°N 73.9387°W  \n",
       "1                   3,276/km2  34°01′10″N 118°24′39″W﻿ / ﻿34.0194°N 118.4108°W  \n",
       "2                   4,600/km2    41°50′15″N 87°40′54″W﻿ / ﻿41.8376°N 87.6818°W  \n",
       "3                   1,395/km2    29°47′12″N 95°23′27″W﻿ / ﻿29.7866°N 95.3909°W  \n",
       "4                   1,200/km2  33°34′20″N 112°05′24″W﻿ / ﻿33.5722°N 112.0901°W  \n",
       "..                        ...                                              ...  \n",
       "312                   649/km2  31°26′28″N 100°27′02″W﻿ / ﻿31.4411°N 100.4505°W  \n",
       "313                 1,332/km2  38°21′14″N 121°58′22″W﻿ / ﻿38.3539°N 121.9728°W  \n",
       "314                 1,380/km2    42°35′25″N 82°55′01″W﻿ / ﻿42.5903°N 82.9170°W  \n",
       "315                 1,171/km2  44°03′00″N 121°18′00″W﻿ / ﻿44.0500°N 121.3000°W  \n",
       "316                 1,680/km2    40°33′39″N 74°17′34″W﻿ / ﻿40.5607°N 74.2927°W  \n",
       "\n",
       "[317 rows x 11 columns]"
      ]
     },
     "execution_count": 109,
     "metadata": {},
     "output_type": "execute_result"
    }
   ],
   "source": [
    "tables[0]"
   ]
  },
  {
   "cell_type": "code",
   "execution_count": 110,
   "metadata": {},
   "outputs": [
    {
     "data": {
      "text/html": [
       "<div>\n",
       "<style scoped>\n",
       "    .dataframe tbody tr th:only-of-type {\n",
       "        vertical-align: middle;\n",
       "    }\n",
       "\n",
       "    .dataframe tbody tr th {\n",
       "        vertical-align: top;\n",
       "    }\n",
       "\n",
       "    .dataframe thead th {\n",
       "        text-align: right;\n",
       "    }\n",
       "</style>\n",
       "<table border=\"1\" class=\"dataframe\">\n",
       "  <thead>\n",
       "    <tr style=\"text-align: right;\">\n",
       "      <th></th>\n",
       "      <th>City</th>\n",
       "      <th>State</th>\n",
       "      <th>2019 estimated population</th>\n",
       "      <th>Peak population (year)</th>\n",
       "      <th>Numeric decline from peak population</th>\n",
       "      <th>Percent decline from peak population</th>\n",
       "      <th>Notes</th>\n",
       "    </tr>\n",
       "  </thead>\n",
       "  <tbody>\n",
       "    <tr>\n",
       "      <th>0</th>\n",
       "      <td>Albany</td>\n",
       "      <td>New York</td>\n",
       "      <td>96460</td>\n",
       "      <td>134,995 (1950)</td>\n",
       "      <td>−38,535</td>\n",
       "      <td>−28.55%</td>\n",
       "      <td>2.30% from 2000 to 2010</td>\n",
       "    </tr>\n",
       "    <tr>\n",
       "      <th>1</th>\n",
       "      <td>Allegheny</td>\n",
       "      <td>Pennsylvania</td>\n",
       "      <td>N/A[af]</td>\n",
       "      <td>129,896 (1900)</td>\n",
       "      <td>–</td>\n",
       "      <td>–</td>\n",
       "      <td>annexed by Pittsburgh in 1907</td>\n",
       "    </tr>\n",
       "    <tr>\n",
       "      <th>2</th>\n",
       "      <td>Brooklyn</td>\n",
       "      <td>New York</td>\n",
       "      <td>N/A[ag]</td>\n",
       "      <td>806,343 (1890)</td>\n",
       "      <td>–</td>\n",
       "      <td>–</td>\n",
       "      <td>consolidated with New York City in 1898</td>\n",
       "    </tr>\n",
       "    <tr>\n",
       "      <th>3</th>\n",
       "      <td>Camden</td>\n",
       "      <td>New Jersey</td>\n",
       "      <td>73562</td>\n",
       "      <td>124,555 (1950)</td>\n",
       "      <td>−50,993</td>\n",
       "      <td>−40.94%</td>\n",
       "      <td>NaN</td>\n",
       "    </tr>\n",
       "    <tr>\n",
       "      <th>4</th>\n",
       "      <td>Canton</td>\n",
       "      <td>Ohio</td>\n",
       "      <td>70447</td>\n",
       "      <td>116,912 (1950)</td>\n",
       "      <td>−46,465</td>\n",
       "      <td>−39.74%</td>\n",
       "      <td>NaN</td>\n",
       "    </tr>\n",
       "  </tbody>\n",
       "</table>\n",
       "</div>"
      ],
      "text/plain": [
       "        City         State 2019 estimated population Peak population (year)  \\\n",
       "0     Albany      New York                     96460         134,995 (1950)   \n",
       "1  Allegheny  Pennsylvania                   N/A[af]         129,896 (1900)   \n",
       "2   Brooklyn      New York                   N/A[ag]         806,343 (1890)   \n",
       "3     Camden    New Jersey                     73562         124,555 (1950)   \n",
       "4     Canton          Ohio                     70447         116,912 (1950)   \n",
       "\n",
       "  Numeric decline from peak population Percent decline from peak population  \\\n",
       "0                              −38,535                              −28.55%   \n",
       "1                                    –                                    –   \n",
       "2                                    –                                    –   \n",
       "3                              −50,993                              −40.94%   \n",
       "4                              −46,465                              −39.74%   \n",
       "\n",
       "                                     Notes  \n",
       "0                  2.30% from 2000 to 2010  \n",
       "1            annexed by Pittsburgh in 1907  \n",
       "2  consolidated with New York City in 1898  \n",
       "3                                      NaN  \n",
       "4                                      NaN  "
      ]
     },
     "execution_count": 110,
     "metadata": {},
     "output_type": "execute_result"
    }
   ],
   "source": [
    "tables[1].head()"
   ]
  },
  {
   "cell_type": "markdown",
   "metadata": {},
   "source": [
    "## Data from JSON APIs"
   ]
  },
  {
   "cell_type": "code",
   "execution_count": 111,
   "metadata": {},
   "outputs": [
    {
     "name": "stdout",
     "output_type": "stream",
     "text": [
      "Looking in links: /Users/rick446/src/wheelhouse\r\n",
      "Requirement already satisfied: requests in /Users/rick446/.virtualenvs/py38/lib/python3.8/site-packages (2.24.0)\r\n",
      "Requirement already satisfied: certifi>=2017.4.17 in /Users/rick446/.virtualenvs/py38/lib/python3.8/site-packages (from requests) (2020.6.20)\r\n",
      "Requirement already satisfied: idna<3,>=2.5 in /Users/rick446/.virtualenvs/py38/lib/python3.8/site-packages (from requests) (2.10)\r\n",
      "Requirement already satisfied: chardet<4,>=3.0.2 in /Users/rick446/.virtualenvs/py38/lib/python3.8/site-packages (from requests) (3.0.4)\r\n",
      "Requirement already satisfied: urllib3!=1.25.0,!=1.25.1,<1.26,>=1.21.1 in /Users/rick446/.virtualenvs/py38/lib/python3.8/site-packages (from requests) (1.25.10)\r\n"
     ]
    }
   ],
   "source": [
    "!pip install requests"
   ]
  },
  {
   "cell_type": "code",
   "execution_count": 112,
   "metadata": {},
   "outputs": [],
   "source": [
    "import requests\n",
    "\n",
    "# I don't have any idea who's API key this is, but they're free, so....\n",
    "APPID = '10d4440bbaa8581bb8da9bd1fbea5617'   \n",
    "UNITS = 'imperial'\n",
    "city = 'San Francisco'\n",
    "resp = requests.get(\n",
    "    'http://api.openweathermap.org/data/2.5/forecast', \n",
    "    params={\n",
    "        'q': city,\n",
    "        'units': UNITS,\n",
    "        'appid': APPID,\n",
    "    }\n",
    ")\n",
    "data = resp.json()"
   ]
  },
  {
   "cell_type": "code",
   "execution_count": 113,
   "metadata": {
    "scrolled": true
   },
   "outputs": [
    {
     "data": {
      "text/plain": [
       "{'cod': '200',\n",
       " 'message': 0,\n",
       " 'cnt': 40,\n",
       " 'list': [{'dt': 1601078400,\n",
       "   'main': {'temp': 66.61,\n",
       "    'feels_like': 59.02,\n",
       "    'temp_min': 65.17,\n",
       "    'temp_max': 66.61,\n",
       "    'pressure': 1016,\n",
       "    'sea_level': 1016,\n",
       "    'grnd_level': 1014,\n",
       "    'humidity': 59,\n",
       "    'temp_kf': 0.8},\n",
       "   'weather': [{'id': 802,\n",
       "     'main': 'Clouds',\n",
       "     'description': 'scattered clouds',\n",
       "     'icon': '03d'}],\n",
       "   'clouds': {'all': 29},\n",
       "   'wind': {'speed': 14.54, 'deg': 274},\n",
       "   'visibility': 10000,\n",
       "   'pop': 0,\n",
       "   'sys': {'pod': 'd'},\n",
       "   'dt_txt': '2020-09-26 00:00:00'},\n",
       "  {'dt': 1601089200,\n",
       "   'main': {'temp': 62.91,\n",
       "    'feels_like': 59.18,\n",
       "    'temp_min': 61.5,\n",
       "    'temp_max': 62.91,\n",
       "    'pressure': 1016,\n",
       "    'sea_level': 1016,\n",
       "    'grnd_level': 1015,\n",
       "    'humidity': 74,\n",
       "    'temp_kf': 0.78},\n",
       "   'weather': [{'id': 800,\n",
       "     'main': 'Clear',\n",
       "     'description': 'clear sky',\n",
       "     'icon': '01n'}],\n",
       "   'clouds': {'all': 9},\n",
       "   'wind': {'speed': 9.08, 'deg': 281},\n",
       "   'visibility': 10000,\n",
       "   'pop': 0,\n",
       "   'sys': {'pod': 'n'},\n",
       "   'dt_txt': '2020-09-26 03:00:00'},\n",
       "  {'dt': 1601100000,\n",
       "   'main': {'temp': 61.97,\n",
       "    'feels_like': 61.74,\n",
       "    'temp_min': 61.56,\n",
       "    'temp_max': 61.97,\n",
       "    'pressure': 1017,\n",
       "    'sea_level': 1017,\n",
       "    'grnd_level': 1015,\n",
       "    'humidity': 78,\n",
       "    'temp_kf': 0.23},\n",
       "   'weather': [{'id': 800,\n",
       "     'main': 'Clear',\n",
       "     'description': 'clear sky',\n",
       "     'icon': '01n'}],\n",
       "   'clouds': {'all': 3},\n",
       "   'wind': {'speed': 3.2, 'deg': 246},\n",
       "   'visibility': 10000,\n",
       "   'pop': 0,\n",
       "   'sys': {'pod': 'n'},\n",
       "   'dt_txt': '2020-09-26 06:00:00'},\n",
       "  {'dt': 1601110800,\n",
       "   'main': {'temp': 61.21,\n",
       "    'feels_like': 61.47,\n",
       "    'temp_min': 61.16,\n",
       "    'temp_max': 61.21,\n",
       "    'pressure': 1017,\n",
       "    'sea_level': 1017,\n",
       "    'grnd_level': 1015,\n",
       "    'humidity': 84,\n",
       "    'temp_kf': 0.03},\n",
       "   'weather': [{'id': 800,\n",
       "     'main': 'Clear',\n",
       "     'description': 'clear sky',\n",
       "     'icon': '01n'}],\n",
       "   'clouds': {'all': 0},\n",
       "   'wind': {'speed': 3.09, 'deg': 252},\n",
       "   'visibility': 10000,\n",
       "   'pop': 0,\n",
       "   'sys': {'pod': 'n'},\n",
       "   'dt_txt': '2020-09-26 09:00:00'},\n",
       "  {'dt': 1601121600,\n",
       "   'main': {'temp': 60.58,\n",
       "    'feels_like': 62.37,\n",
       "    'temp_min': 60.58,\n",
       "    'temp_max': 60.58,\n",
       "    'pressure': 1016,\n",
       "    'sea_level': 1016,\n",
       "    'grnd_level': 1015,\n",
       "    'humidity': 87,\n",
       "    'temp_kf': 0},\n",
       "   'weather': [{'id': 800,\n",
       "     'main': 'Clear',\n",
       "     'description': 'clear sky',\n",
       "     'icon': '01n'}],\n",
       "   'clouds': {'all': 0},\n",
       "   'wind': {'speed': 0.56, 'deg': 335},\n",
       "   'visibility': 10000,\n",
       "   'pop': 0,\n",
       "   'sys': {'pod': 'n'},\n",
       "   'dt_txt': '2020-09-26 12:00:00'},\n",
       "  {'dt': 1601132400,\n",
       "   'main': {'temp': 61.23,\n",
       "    'feels_like': 62.47,\n",
       "    'temp_min': 61.23,\n",
       "    'temp_max': 61.23,\n",
       "    'pressure': 1017,\n",
       "    'sea_level': 1017,\n",
       "    'grnd_level': 1015,\n",
       "    'humidity': 84,\n",
       "    'temp_kf': 0},\n",
       "   'weather': [{'id': 801,\n",
       "     'main': 'Clouds',\n",
       "     'description': 'few clouds',\n",
       "     'icon': '02d'}],\n",
       "   'clouds': {'all': 14},\n",
       "   'wind': {'speed': 1.32, 'deg': 311},\n",
       "   'visibility': 10000,\n",
       "   'pop': 0,\n",
       "   'sys': {'pod': 'd'},\n",
       "   'dt_txt': '2020-09-26 15:00:00'},\n",
       "  {'dt': 1601143200,\n",
       "   'main': {'temp': 67.55,\n",
       "    'feels_like': 66.7,\n",
       "    'temp_min': 67.55,\n",
       "    'temp_max': 67.55,\n",
       "    'pressure': 1016,\n",
       "    'sea_level': 1016,\n",
       "    'grnd_level': 1015,\n",
       "    'humidity': 69,\n",
       "    'temp_kf': 0},\n",
       "   'weather': [{'id': 800,\n",
       "     'main': 'Clear',\n",
       "     'description': 'clear sky',\n",
       "     'icon': '01d'}],\n",
       "   'clouds': {'all': 7},\n",
       "   'wind': {'speed': 5.44, 'deg': 270},\n",
       "   'visibility': 10000,\n",
       "   'pop': 0,\n",
       "   'sys': {'pod': 'd'},\n",
       "   'dt_txt': '2020-09-26 18:00:00'},\n",
       "  {'dt': 1601154000,\n",
       "   'main': {'temp': 71.55,\n",
       "    'feels_like': 66.9,\n",
       "    'temp_min': 71.55,\n",
       "    'temp_max': 71.55,\n",
       "    'pressure': 1015,\n",
       "    'sea_level': 1015,\n",
       "    'grnd_level': 1013,\n",
       "    'humidity': 60,\n",
       "    'temp_kf': 0},\n",
       "   'weather': [{'id': 801,\n",
       "     'main': 'Clouds',\n",
       "     'description': 'few clouds',\n",
       "     'icon': '02d'}],\n",
       "   'clouds': {'all': 12},\n",
       "   'wind': {'speed': 12.1, 'deg': 286},\n",
       "   'visibility': 10000,\n",
       "   'pop': 0,\n",
       "   'sys': {'pod': 'd'},\n",
       "   'dt_txt': '2020-09-26 21:00:00'},\n",
       "  {'dt': 1601164800,\n",
       "   'main': {'temp': 68.68,\n",
       "    'feels_like': 63.21,\n",
       "    'temp_min': 68.68,\n",
       "    'temp_max': 68.68,\n",
       "    'pressure': 1013,\n",
       "    'sea_level': 1013,\n",
       "    'grnd_level': 1012,\n",
       "    'humidity': 63,\n",
       "    'temp_kf': 0},\n",
       "   'weather': [{'id': 802,\n",
       "     'main': 'Clouds',\n",
       "     'description': 'scattered clouds',\n",
       "     'icon': '03d'}],\n",
       "   'clouds': {'all': 50},\n",
       "   'wind': {'speed': 12.8, 'deg': 286},\n",
       "   'visibility': 10000,\n",
       "   'pop': 0,\n",
       "   'sys': {'pod': 'd'},\n",
       "   'dt_txt': '2020-09-27 00:00:00'},\n",
       "  {'dt': 1601175600,\n",
       "   'main': {'temp': 65.57,\n",
       "    'feels_like': 65.62,\n",
       "    'temp_min': 65.57,\n",
       "    'temp_max': 65.57,\n",
       "    'pressure': 1012,\n",
       "    'sea_level': 1012,\n",
       "    'grnd_level': 1011,\n",
       "    'humidity': 67,\n",
       "    'temp_kf': 0},\n",
       "   'weather': [{'id': 803,\n",
       "     'main': 'Clouds',\n",
       "     'description': 'broken clouds',\n",
       "     'icon': '04n'}],\n",
       "   'clouds': {'all': 59},\n",
       "   'wind': {'speed': 2.28, 'deg': 264},\n",
       "   'visibility': 10000,\n",
       "   'pop': 0,\n",
       "   'sys': {'pod': 'n'},\n",
       "   'dt_txt': '2020-09-27 03:00:00'},\n",
       "  {'dt': 1601186400,\n",
       "   'main': {'temp': 63.9,\n",
       "    'feels_like': 64.67,\n",
       "    'temp_min': 63.9,\n",
       "    'temp_max': 63.9,\n",
       "    'pressure': 1013,\n",
       "    'sea_level': 1013,\n",
       "    'grnd_level': 1011,\n",
       "    'humidity': 70,\n",
       "    'temp_kf': 0},\n",
       "   'weather': [{'id': 802,\n",
       "     'main': 'Clouds',\n",
       "     'description': 'scattered clouds',\n",
       "     'icon': '03n'}],\n",
       "   'clouds': {'all': 34},\n",
       "   'wind': {'speed': 0.78, 'deg': 255},\n",
       "   'visibility': 10000,\n",
       "   'pop': 0,\n",
       "   'sys': {'pod': 'n'},\n",
       "   'dt_txt': '2020-09-27 06:00:00'},\n",
       "  {'dt': 1601197200,\n",
       "   'main': {'temp': 63.3,\n",
       "    'feels_like': 64.2,\n",
       "    'temp_min': 63.3,\n",
       "    'temp_max': 63.3,\n",
       "    'pressure': 1012,\n",
       "    'sea_level': 1012,\n",
       "    'grnd_level': 1011,\n",
       "    'humidity': 70,\n",
       "    'temp_kf': 0},\n",
       "   'weather': [{'id': 800,\n",
       "     'main': 'Clear',\n",
       "     'description': 'clear sky',\n",
       "     'icon': '01n'}],\n",
       "   'clouds': {'all': 2},\n",
       "   'wind': {'speed': 0.25, 'deg': 241},\n",
       "   'visibility': 10000,\n",
       "   'pop': 0,\n",
       "   'sys': {'pod': 'n'},\n",
       "   'dt_txt': '2020-09-27 09:00:00'},\n",
       "  {'dt': 1601208000,\n",
       "   'main': {'temp': 62.62,\n",
       "    'feels_like': 62.71,\n",
       "    'temp_min': 62.62,\n",
       "    'temp_max': 62.62,\n",
       "    'pressure': 1011,\n",
       "    'sea_level': 1011,\n",
       "    'grnd_level': 1010,\n",
       "    'humidity': 71,\n",
       "    'temp_kf': 0},\n",
       "   'weather': [{'id': 800,\n",
       "     'main': 'Clear',\n",
       "     'description': 'clear sky',\n",
       "     'icon': '01n'}],\n",
       "   'clouds': {'all': 5},\n",
       "   'wind': {'speed': 1.54, 'deg': 302},\n",
       "   'visibility': 10000,\n",
       "   'pop': 0,\n",
       "   'sys': {'pod': 'n'},\n",
       "   'dt_txt': '2020-09-27 12:00:00'},\n",
       "  {'dt': 1601218800,\n",
       "   'main': {'temp': 64.45,\n",
       "    'feels_like': 64.06,\n",
       "    'temp_min': 64.45,\n",
       "    'temp_max': 64.45,\n",
       "    'pressure': 1012,\n",
       "    'sea_level': 1012,\n",
       "    'grnd_level': 1010,\n",
       "    'humidity': 65,\n",
       "    'temp_kf': 0},\n",
       "   'weather': [{'id': 800,\n",
       "     'main': 'Clear',\n",
       "     'description': 'clear sky',\n",
       "     'icon': '01d'}],\n",
       "   'clouds': {'all': 3},\n",
       "   'wind': {'speed': 2.06, 'deg': 113},\n",
       "   'visibility': 10000,\n",
       "   'pop': 0,\n",
       "   'sys': {'pod': 'd'},\n",
       "   'dt_txt': '2020-09-27 15:00:00'},\n",
       "  {'dt': 1601229600,\n",
       "   'main': {'temp': 72.43,\n",
       "    'feels_like': 69.71,\n",
       "    'temp_min': 72.43,\n",
       "    'temp_max': 72.43,\n",
       "    'pressure': 1012,\n",
       "    'sea_level': 1012,\n",
       "    'grnd_level': 1011,\n",
       "    'humidity': 44,\n",
       "    'temp_kf': 0},\n",
       "   'weather': [{'id': 800,\n",
       "     'main': 'Clear',\n",
       "     'description': 'clear sky',\n",
       "     'icon': '01d'}],\n",
       "   'clouds': {'all': 1},\n",
       "   'wind': {'speed': 4.63, 'deg': 70},\n",
       "   'visibility': 10000,\n",
       "   'pop': 0,\n",
       "   'sys': {'pod': 'd'},\n",
       "   'dt_txt': '2020-09-27 18:00:00'},\n",
       "  {'dt': 1601240400,\n",
       "   'main': {'temp': 80.29,\n",
       "    'feels_like': 75.34,\n",
       "    'temp_min': 80.29,\n",
       "    'temp_max': 80.29,\n",
       "    'pressure': 1010,\n",
       "    'sea_level': 1010,\n",
       "    'grnd_level': 1009,\n",
       "    'humidity': 30,\n",
       "    'temp_kf': 0},\n",
       "   'weather': [{'id': 800,\n",
       "     'main': 'Clear',\n",
       "     'description': 'clear sky',\n",
       "     'icon': '01d'}],\n",
       "   'clouds': {'all': 0},\n",
       "   'wind': {'speed': 7.14, 'deg': 16},\n",
       "   'visibility': 10000,\n",
       "   'pop': 0,\n",
       "   'sys': {'pod': 'd'},\n",
       "   'dt_txt': '2020-09-27 21:00:00'},\n",
       "  {'dt': 1601251200,\n",
       "   'main': {'temp': 76.53,\n",
       "    'feels_like': 71.08,\n",
       "    'temp_min': 76.53,\n",
       "    'temp_max': 76.53,\n",
       "    'pressure': 1009,\n",
       "    'sea_level': 1009,\n",
       "    'grnd_level': 1008,\n",
       "    'humidity': 37,\n",
       "    'temp_kf': 0},\n",
       "   'weather': [{'id': 800,\n",
       "     'main': 'Clear',\n",
       "     'description': 'clear sky',\n",
       "     'icon': '01d'}],\n",
       "   'clouds': {'all': 0},\n",
       "   'wind': {'speed': 9.04, 'deg': 280},\n",
       "   'visibility': 10000,\n",
       "   'pop': 0,\n",
       "   'sys': {'pod': 'd'},\n",
       "   'dt_txt': '2020-09-28 00:00:00'},\n",
       "  {'dt': 1601262000,\n",
       "   'main': {'temp': 69.24,\n",
       "    'feels_like': 65.77,\n",
       "    'temp_min': 69.24,\n",
       "    'temp_max': 69.24,\n",
       "    'pressure': 1009,\n",
       "    'sea_level': 1009,\n",
       "    'grnd_level': 1008,\n",
       "    'humidity': 51,\n",
       "    'temp_kf': 0},\n",
       "   'weather': [{'id': 800,\n",
       "     'main': 'Clear',\n",
       "     'description': 'clear sky',\n",
       "     'icon': '01n'}],\n",
       "   'clouds': {'all': 0},\n",
       "   'wind': {'speed': 6.49, 'deg': 292},\n",
       "   'visibility': 10000,\n",
       "   'pop': 0,\n",
       "   'sys': {'pod': 'n'},\n",
       "   'dt_txt': '2020-09-28 03:00:00'},\n",
       "  {'dt': 1601272800,\n",
       "   'main': {'temp': 68.54,\n",
       "    'feels_like': 67.91,\n",
       "    'temp_min': 68.54,\n",
       "    'temp_max': 68.54,\n",
       "    'pressure': 1011,\n",
       "    'sea_level': 1011,\n",
       "    'grnd_level': 1009,\n",
       "    'humidity': 52,\n",
       "    'temp_kf': 0},\n",
       "   'weather': [{'id': 800,\n",
       "     'main': 'Clear',\n",
       "     'description': 'clear sky',\n",
       "     'icon': '01n'}],\n",
       "   'clouds': {'all': 0},\n",
       "   'wind': {'speed': 1.36, 'deg': 230},\n",
       "   'visibility': 10000,\n",
       "   'pop': 0,\n",
       "   'sys': {'pod': 'n'},\n",
       "   'dt_txt': '2020-09-28 06:00:00'},\n",
       "  {'dt': 1601283600,\n",
       "   'main': {'temp': 67.98,\n",
       "    'feels_like': 66.31,\n",
       "    'temp_min': 67.98,\n",
       "    'temp_max': 67.98,\n",
       "    'pressure': 1011,\n",
       "    'sea_level': 1011,\n",
       "    'grnd_level': 1009,\n",
       "    'humidity': 51,\n",
       "    'temp_kf': 0},\n",
       "   'weather': [{'id': 800,\n",
       "     'main': 'Clear',\n",
       "     'description': 'clear sky',\n",
       "     'icon': '01n'}],\n",
       "   'clouds': {'all': 0},\n",
       "   'wind': {'speed': 2.73, 'deg': 98},\n",
       "   'visibility': 10000,\n",
       "   'pop': 0,\n",
       "   'sys': {'pod': 'n'},\n",
       "   'dt_txt': '2020-09-28 09:00:00'},\n",
       "  {'dt': 1601294400,\n",
       "   'main': {'temp': 69.55,\n",
       "    'feels_like': 62.53,\n",
       "    'temp_min': 69.55,\n",
       "    'temp_max': 69.55,\n",
       "    'pressure': 1011,\n",
       "    'sea_level': 1011,\n",
       "    'grnd_level': 1009,\n",
       "    'humidity': 33,\n",
       "    'temp_kf': 0},\n",
       "   'weather': [{'id': 800,\n",
       "     'main': 'Clear',\n",
       "     'description': 'clear sky',\n",
       "     'icon': '01n'}],\n",
       "   'clouds': {'all': 0},\n",
       "   'wind': {'speed': 8.23, 'deg': 56},\n",
       "   'visibility': 10000,\n",
       "   'pop': 0,\n",
       "   'sys': {'pod': 'n'},\n",
       "   'dt_txt': '2020-09-28 12:00:00'},\n",
       "  {'dt': 1601305200,\n",
       "   'main': {'temp': 69.31,\n",
       "    'feels_like': 62.2,\n",
       "    'temp_min': 69.31,\n",
       "    'temp_max': 69.31,\n",
       "    'pressure': 1012,\n",
       "    'sea_level': 1012,\n",
       "    'grnd_level': 1010,\n",
       "    'humidity': 31,\n",
       "    'temp_kf': 0},\n",
       "   'weather': [{'id': 800,\n",
       "     'main': 'Clear',\n",
       "     'description': 'clear sky',\n",
       "     'icon': '01d'}],\n",
       "   'clouds': {'all': 0},\n",
       "   'wind': {'speed': 7.81, 'deg': 75},\n",
       "   'visibility': 10000,\n",
       "   'pop': 0,\n",
       "   'sys': {'pod': 'd'},\n",
       "   'dt_txt': '2020-09-28 15:00:00'},\n",
       "  {'dt': 1601316000,\n",
       "   'main': {'temp': 75.99,\n",
       "    'feels_like': 70.29,\n",
       "    'temp_min': 75.99,\n",
       "    'temp_max': 75.99,\n",
       "    'pressure': 1013,\n",
       "    'sea_level': 1013,\n",
       "    'grnd_level': 1012,\n",
       "    'humidity': 25,\n",
       "    'temp_kf': 0},\n",
       "   'weather': [{'id': 800,\n",
       "     'main': 'Clear',\n",
       "     'description': 'clear sky',\n",
       "     'icon': '01d'}],\n",
       "   'clouds': {'all': 0},\n",
       "   'wind': {'speed': 5.41, 'deg': 61},\n",
       "   'visibility': 10000,\n",
       "   'pop': 0,\n",
       "   'sys': {'pod': 'd'},\n",
       "   'dt_txt': '2020-09-28 18:00:00'},\n",
       "  {'dt': 1601326800,\n",
       "   'main': {'temp': 81.57,\n",
       "    'feels_like': 79.11,\n",
       "    'temp_min': 81.57,\n",
       "    'temp_max': 81.57,\n",
       "    'pressure': 1012,\n",
       "    'sea_level': 1012,\n",
       "    'grnd_level': 1011,\n",
       "    'humidity': 24,\n",
       "    'temp_kf': 0},\n",
       "   'weather': [{'id': 800,\n",
       "     'main': 'Clear',\n",
       "     'description': 'clear sky',\n",
       "     'icon': '01d'}],\n",
       "   'clouds': {'all': 0},\n",
       "   'wind': {'speed': 0.87, 'deg': 278},\n",
       "   'visibility': 10000,\n",
       "   'pop': 0,\n",
       "   'sys': {'pod': 'd'},\n",
       "   'dt_txt': '2020-09-28 21:00:00'},\n",
       "  {'dt': 1601337600,\n",
       "   'main': {'temp': 78.76,\n",
       "    'feels_like': 72.64,\n",
       "    'temp_min': 78.76,\n",
       "    'temp_max': 78.76,\n",
       "    'pressure': 1012,\n",
       "    'sea_level': 1012,\n",
       "    'grnd_level': 1010,\n",
       "    'humidity': 30,\n",
       "    'temp_kf': 0},\n",
       "   'weather': [{'id': 800,\n",
       "     'main': 'Clear',\n",
       "     'description': 'clear sky',\n",
       "     'icon': '01d'}],\n",
       "   'clouds': {'all': 0},\n",
       "   'wind': {'speed': 8.66, 'deg': 251},\n",
       "   'visibility': 10000,\n",
       "   'pop': 0,\n",
       "   'sys': {'pod': 'd'},\n",
       "   'dt_txt': '2020-09-29 00:00:00'},\n",
       "  {'dt': 1601348400,\n",
       "   'main': {'temp': 70.74,\n",
       "    'feels_like': 66.56,\n",
       "    'temp_min': 70.74,\n",
       "    'temp_max': 70.74,\n",
       "    'pressure': 1013,\n",
       "    'sea_level': 1013,\n",
       "    'grnd_level': 1011,\n",
       "    'humidity': 46,\n",
       "    'temp_kf': 0},\n",
       "   'weather': [{'id': 800,\n",
       "     'main': 'Clear',\n",
       "     'description': 'clear sky',\n",
       "     'icon': '01n'}],\n",
       "   'clouds': {'all': 0},\n",
       "   'wind': {'speed': 7.05, 'deg': 259},\n",
       "   'visibility': 10000,\n",
       "   'pop': 0,\n",
       "   'sys': {'pod': 'n'},\n",
       "   'dt_txt': '2020-09-29 03:00:00'},\n",
       "  {'dt': 1601359200,\n",
       "   'main': {'temp': 68.59,\n",
       "    'feels_like': 66.74,\n",
       "    'temp_min': 68.59,\n",
       "    'temp_max': 68.59,\n",
       "    'pressure': 1014,\n",
       "    'sea_level': 1014,\n",
       "    'grnd_level': 1013,\n",
       "    'humidity': 52,\n",
       "    'temp_kf': 0},\n",
       "   'weather': [{'id': 800,\n",
       "     'main': 'Clear',\n",
       "     'description': 'clear sky',\n",
       "     'icon': '01n'}],\n",
       "   'clouds': {'all': 0},\n",
       "   'wind': {'speed': 3.56, 'deg': 263},\n",
       "   'visibility': 10000,\n",
       "   'pop': 0,\n",
       "   'sys': {'pod': 'n'},\n",
       "   'dt_txt': '2020-09-29 06:00:00'},\n",
       "  {'dt': 1601370000,\n",
       "   'main': {'temp': 67.12,\n",
       "    'feels_like': 66.76,\n",
       "    'temp_min': 67.12,\n",
       "    'temp_max': 67.12,\n",
       "    'pressure': 1014,\n",
       "    'sea_level': 1014,\n",
       "    'grnd_level': 1013,\n",
       "    'humidity': 56,\n",
       "    'temp_kf': 0},\n",
       "   'weather': [{'id': 800,\n",
       "     'main': 'Clear',\n",
       "     'description': 'clear sky',\n",
       "     'icon': '01n'}],\n",
       "   'clouds': {'all': 0},\n",
       "   'wind': {'speed': 1.23, 'deg': 276},\n",
       "   'visibility': 10000,\n",
       "   'pop': 0,\n",
       "   'sys': {'pod': 'n'},\n",
       "   'dt_txt': '2020-09-29 09:00:00'},\n",
       "  {'dt': 1601380800,\n",
       "   'main': {'temp': 66.63,\n",
       "    'feels_like': 66.38,\n",
       "    'temp_min': 66.63,\n",
       "    'temp_max': 66.63,\n",
       "    'pressure': 1014,\n",
       "    'sea_level': 1014,\n",
       "    'grnd_level': 1013,\n",
       "    'humidity': 55,\n",
       "    'temp_kf': 0},\n",
       "   'weather': [{'id': 800,\n",
       "     'main': 'Clear',\n",
       "     'description': 'clear sky',\n",
       "     'icon': '01n'}],\n",
       "   'clouds': {'all': 0},\n",
       "   'wind': {'speed': 0.56, 'deg': 149},\n",
       "   'visibility': 10000,\n",
       "   'pop': 0,\n",
       "   'sys': {'pod': 'n'},\n",
       "   'dt_txt': '2020-09-29 12:00:00'},\n",
       "  {'dt': 1601391600,\n",
       "   'main': {'temp': 67.86,\n",
       "    'feels_like': 66.38,\n",
       "    'temp_min': 67.86,\n",
       "    'temp_max': 67.86,\n",
       "    'pressure': 1016,\n",
       "    'sea_level': 1016,\n",
       "    'grnd_level': 1014,\n",
       "    'humidity': 51,\n",
       "    'temp_kf': 0},\n",
       "   'weather': [{'id': 800,\n",
       "     'main': 'Clear',\n",
       "     'description': 'clear sky',\n",
       "     'icon': '01d'}],\n",
       "   'clouds': {'all': 0},\n",
       "   'wind': {'speed': 2.33, 'deg': 63},\n",
       "   'visibility': 10000,\n",
       "   'pop': 0,\n",
       "   'sys': {'pod': 'd'},\n",
       "   'dt_txt': '2020-09-29 15:00:00'},\n",
       "  {'dt': 1601402400,\n",
       "   'main': {'temp': 75.45,\n",
       "    'feels_like': 73.9,\n",
       "    'temp_min': 75.45,\n",
       "    'temp_max': 75.45,\n",
       "    'pressure': 1016,\n",
       "    'sea_level': 1016,\n",
       "    'grnd_level': 1015,\n",
       "    'humidity': 35,\n",
       "    'temp_kf': 0},\n",
       "   'weather': [{'id': 800,\n",
       "     'main': 'Clear',\n",
       "     'description': 'clear sky',\n",
       "     'icon': '01d'}],\n",
       "   'clouds': {'all': 0},\n",
       "   'wind': {'speed': 1.03, 'deg': 0},\n",
       "   'visibility': 10000,\n",
       "   'pop': 0,\n",
       "   'sys': {'pod': 'd'},\n",
       "   'dt_txt': '2020-09-29 18:00:00'},\n",
       "  {'dt': 1601413200,\n",
       "   'main': {'temp': 77.97,\n",
       "    'feels_like': 72.9,\n",
       "    'temp_min': 77.97,\n",
       "    'temp_max': 77.97,\n",
       "    'pressure': 1015,\n",
       "    'sea_level': 1015,\n",
       "    'grnd_level': 1014,\n",
       "    'humidity': 35,\n",
       "    'temp_kf': 0},\n",
       "   'weather': [{'id': 800,\n",
       "     'main': 'Clear',\n",
       "     'description': 'clear sky',\n",
       "     'icon': '01d'}],\n",
       "   'clouds': {'all': 0},\n",
       "   'wind': {'speed': 8.25, 'deg': 259},\n",
       "   'visibility': 10000,\n",
       "   'pop': 0,\n",
       "   'sys': {'pod': 'd'},\n",
       "   'dt_txt': '2020-09-29 21:00:00'},\n",
       "  {'dt': 1601424000,\n",
       "   'main': {'temp': 74.46,\n",
       "    'feels_like': 69.71,\n",
       "    'temp_min': 74.46,\n",
       "    'temp_max': 74.46,\n",
       "    'pressure': 1014,\n",
       "    'sea_level': 1014,\n",
       "    'grnd_level': 1013,\n",
       "    'humidity': 42,\n",
       "    'temp_kf': 0},\n",
       "   'weather': [{'id': 800,\n",
       "     'main': 'Clear',\n",
       "     'description': 'clear sky',\n",
       "     'icon': '01d'}],\n",
       "   'clouds': {'all': 0},\n",
       "   'wind': {'speed': 8.5, 'deg': 268},\n",
       "   'visibility': 10000,\n",
       "   'pop': 0,\n",
       "   'sys': {'pod': 'd'},\n",
       "   'dt_txt': '2020-09-30 00:00:00'},\n",
       "  {'dt': 1601434800,\n",
       "   'main': {'temp': 68.38,\n",
       "    'feels_like': 65.25,\n",
       "    'temp_min': 68.38,\n",
       "    'temp_max': 68.38,\n",
       "    'pressure': 1014,\n",
       "    'sea_level': 1014,\n",
       "    'grnd_level': 1013,\n",
       "    'humidity': 54,\n",
       "    'temp_kf': 0},\n",
       "   'weather': [{'id': 800,\n",
       "     'main': 'Clear',\n",
       "     'description': 'clear sky',\n",
       "     'icon': '01n'}],\n",
       "   'clouds': {'all': 0},\n",
       "   'wind': {'speed': 6.24, 'deg': 270},\n",
       "   'visibility': 10000,\n",
       "   'pop': 0,\n",
       "   'sys': {'pod': 'n'},\n",
       "   'dt_txt': '2020-09-30 03:00:00'},\n",
       "  {'dt': 1601445600,\n",
       "   'main': {'temp': 66.25,\n",
       "    'feels_like': 64.38,\n",
       "    'temp_min': 66.25,\n",
       "    'temp_max': 66.25,\n",
       "    'pressure': 1015,\n",
       "    'sea_level': 1015,\n",
       "    'grnd_level': 1014,\n",
       "    'humidity': 60,\n",
       "    'temp_kf': 0},\n",
       "   'weather': [{'id': 800,\n",
       "     'main': 'Clear',\n",
       "     'description': 'clear sky',\n",
       "     'icon': '01n'}],\n",
       "   'clouds': {'all': 0},\n",
       "   'wind': {'speed': 4.45, 'deg': 252},\n",
       "   'visibility': 10000,\n",
       "   'pop': 0,\n",
       "   'sys': {'pod': 'n'},\n",
       "   'dt_txt': '2020-09-30 06:00:00'},\n",
       "  {'dt': 1601456400,\n",
       "   'main': {'temp': 65.64,\n",
       "    'feels_like': 63.93,\n",
       "    'temp_min': 65.64,\n",
       "    'temp_max': 65.64,\n",
       "    'pressure': 1015,\n",
       "    'sea_level': 1015,\n",
       "    'grnd_level': 1014,\n",
       "    'humidity': 61,\n",
       "    'temp_kf': 0},\n",
       "   'weather': [{'id': 800,\n",
       "     'main': 'Clear',\n",
       "     'description': 'clear sky',\n",
       "     'icon': '01n'}],\n",
       "   'clouds': {'all': 0},\n",
       "   'wind': {'speed': 4.09, 'deg': 258},\n",
       "   'visibility': 10000,\n",
       "   'pop': 0,\n",
       "   'sys': {'pod': 'n'},\n",
       "   'dt_txt': '2020-09-30 09:00:00'},\n",
       "  {'dt': 1601467200,\n",
       "   'main': {'temp': 64.71,\n",
       "    'feels_like': 63.36,\n",
       "    'temp_min': 64.71,\n",
       "    'temp_max': 64.71,\n",
       "    'pressure': 1015,\n",
       "    'sea_level': 1015,\n",
       "    'grnd_level': 1014,\n",
       "    'humidity': 65,\n",
       "    'temp_kf': 0},\n",
       "   'weather': [{'id': 800,\n",
       "     'main': 'Clear',\n",
       "     'description': 'clear sky',\n",
       "     'icon': '01n'}],\n",
       "   'clouds': {'all': 0},\n",
       "   'wind': {'speed': 3.89, 'deg': 258},\n",
       "   'visibility': 10000,\n",
       "   'pop': 0,\n",
       "   'sys': {'pod': 'n'},\n",
       "   'dt_txt': '2020-09-30 12:00:00'},\n",
       "  {'dt': 1601478000,\n",
       "   'main': {'temp': 64.71,\n",
       "    'feels_like': 64.15,\n",
       "    'temp_min': 64.71,\n",
       "    'temp_max': 64.71,\n",
       "    'pressure': 1016,\n",
       "    'sea_level': 1016,\n",
       "    'grnd_level': 1015,\n",
       "    'humidity': 66,\n",
       "    'temp_kf': 0},\n",
       "   'weather': [{'id': 800,\n",
       "     'main': 'Clear',\n",
       "     'description': 'clear sky',\n",
       "     'icon': '01d'}],\n",
       "   'clouds': {'all': 0},\n",
       "   'wind': {'speed': 2.71, 'deg': 274},\n",
       "   'visibility': 10000,\n",
       "   'pop': 0,\n",
       "   'sys': {'pod': 'd'},\n",
       "   'dt_txt': '2020-09-30 15:00:00'},\n",
       "  {'dt': 1601488800,\n",
       "   'main': {'temp': 70.32,\n",
       "    'feels_like': 68.4,\n",
       "    'temp_min': 70.32,\n",
       "    'temp_max': 70.32,\n",
       "    'pressure': 1016,\n",
       "    'sea_level': 1016,\n",
       "    'grnd_level': 1015,\n",
       "    'humidity': 52,\n",
       "    'temp_kf': 0},\n",
       "   'weather': [{'id': 800,\n",
       "     'main': 'Clear',\n",
       "     'description': 'clear sky',\n",
       "     'icon': '01d'}],\n",
       "   'clouds': {'all': 0},\n",
       "   'wind': {'speed': 4.5, 'deg': 270},\n",
       "   'visibility': 10000,\n",
       "   'pop': 0,\n",
       "   'sys': {'pod': 'd'},\n",
       "   'dt_txt': '2020-09-30 18:00:00'},\n",
       "  {'dt': 1601499600,\n",
       "   'main': {'temp': 72.45,\n",
       "    'feels_like': 68.54,\n",
       "    'temp_min': 72.45,\n",
       "    'temp_max': 72.45,\n",
       "    'pressure': 1015,\n",
       "    'sea_level': 1015,\n",
       "    'grnd_level': 1014,\n",
       "    'humidity': 48,\n",
       "    'temp_kf': 0},\n",
       "   'weather': [{'id': 800,\n",
       "     'main': 'Clear',\n",
       "     'description': 'clear sky',\n",
       "     'icon': '01d'}],\n",
       "   'clouds': {'all': 0},\n",
       "   'wind': {'speed': 7.87, 'deg': 265},\n",
       "   'visibility': 10000,\n",
       "   'pop': 0,\n",
       "   'sys': {'pod': 'd'},\n",
       "   'dt_txt': '2020-09-30 21:00:00'}],\n",
       " 'city': {'id': 5391959,\n",
       "  'name': 'San Francisco',\n",
       "  'coord': {'lat': 37.7749, 'lon': -122.4194},\n",
       "  'country': 'US',\n",
       "  'population': 805235,\n",
       "  'timezone': -25200,\n",
       "  'sunrise': 1601042430,\n",
       "  'sunset': 1601085702}}"
      ]
     },
     "execution_count": 113,
     "metadata": {},
     "output_type": "execute_result"
    }
   ],
   "source": [
    "data"
   ]
  },
  {
   "cell_type": "code",
   "execution_count": 114,
   "metadata": {},
   "outputs": [
    {
     "data": {
      "text/plain": [
       "{'dt': 1601078400,\n",
       " 'main': {'temp': 66.61,\n",
       "  'feels_like': 59.02,\n",
       "  'temp_min': 65.17,\n",
       "  'temp_max': 66.61,\n",
       "  'pressure': 1016,\n",
       "  'sea_level': 1016,\n",
       "  'grnd_level': 1014,\n",
       "  'humidity': 59,\n",
       "  'temp_kf': 0.8},\n",
       " 'weather': [{'id': 802,\n",
       "   'main': 'Clouds',\n",
       "   'description': 'scattered clouds',\n",
       "   'icon': '03d'}],\n",
       " 'clouds': {'all': 29},\n",
       " 'wind': {'speed': 14.54, 'deg': 274},\n",
       " 'visibility': 10000,\n",
       " 'pop': 0,\n",
       " 'sys': {'pod': 'd'},\n",
       " 'dt_txt': '2020-09-26 00:00:00'}"
      ]
     },
     "execution_count": 114,
     "metadata": {},
     "output_type": "execute_result"
    }
   ],
   "source": [
    "data['list'][0]"
   ]
  },
  {
   "cell_type": "code",
   "execution_count": 115,
   "metadata": {},
   "outputs": [
    {
     "data": {
      "text/plain": [
       "{'date': '2020-09-26 00:00:00',\n",
       " 'temp': 66.61,\n",
       " 'feels_like': 59.02,\n",
       " 'temp_min': 65.17,\n",
       " 'temp_max': 66.61,\n",
       " 'pressure': 1016,\n",
       " 'sea_level': 1016,\n",
       " 'grnd_level': 1014,\n",
       " 'humidity': 59,\n",
       " 'temp_kf': 0.8,\n",
       " 'id': 802,\n",
       " 'main': 'Clouds',\n",
       " 'description': 'scattered clouds',\n",
       " 'icon': '03d'}"
      ]
     },
     "execution_count": 115,
     "metadata": {},
     "output_type": "execute_result"
    }
   ],
   "source": [
    "row = data['list'][0]\n",
    "{\n",
    "    'date': row['dt_txt'], \n",
    "    **row['main'], \n",
    "    **row['weather'][0]\n",
    "} "
   ]
  },
  {
   "cell_type": "code",
   "execution_count": 116,
   "metadata": {},
   "outputs": [],
   "source": [
    "# Python magic to build a list of dicts\n",
    "\n",
    "raw_data = [\n",
    "    {\n",
    "        'date': row['dt_txt'], \n",
    "        **row['main'], \n",
    "        **row['weather'][0]\n",
    "    } \n",
    "    for row in data['list']\n",
    "]"
   ]
  },
  {
   "cell_type": "code",
   "execution_count": 117,
   "metadata": {},
   "outputs": [
    {
     "data": {
      "text/plain": [
       "{'date': '2020-09-26 00:00:00',\n",
       " 'temp': 66.61,\n",
       " 'feels_like': 59.02,\n",
       " 'temp_min': 65.17,\n",
       " 'temp_max': 66.61,\n",
       " 'pressure': 1016,\n",
       " 'sea_level': 1016,\n",
       " 'grnd_level': 1014,\n",
       " 'humidity': 59,\n",
       " 'temp_kf': 0.8,\n",
       " 'id': 802,\n",
       " 'main': 'Clouds',\n",
       " 'description': 'scattered clouds',\n",
       " 'icon': '03d'}"
      ]
     },
     "execution_count": 117,
     "metadata": {},
     "output_type": "execute_result"
    }
   ],
   "source": [
    "raw_data[0]"
   ]
  },
  {
   "cell_type": "code",
   "execution_count": 118,
   "metadata": {},
   "outputs": [
    {
     "data": {
      "text/html": [
       "<div>\n",
       "<style scoped>\n",
       "    .dataframe tbody tr th:only-of-type {\n",
       "        vertical-align: middle;\n",
       "    }\n",
       "\n",
       "    .dataframe tbody tr th {\n",
       "        vertical-align: top;\n",
       "    }\n",
       "\n",
       "    .dataframe thead th {\n",
       "        text-align: right;\n",
       "    }\n",
       "</style>\n",
       "<table border=\"1\" class=\"dataframe\">\n",
       "  <thead>\n",
       "    <tr style=\"text-align: right;\">\n",
       "      <th></th>\n",
       "      <th>date</th>\n",
       "      <th>temp</th>\n",
       "      <th>feels_like</th>\n",
       "      <th>temp_min</th>\n",
       "      <th>temp_max</th>\n",
       "      <th>pressure</th>\n",
       "      <th>sea_level</th>\n",
       "      <th>grnd_level</th>\n",
       "      <th>humidity</th>\n",
       "      <th>temp_kf</th>\n",
       "      <th>id</th>\n",
       "      <th>main</th>\n",
       "      <th>description</th>\n",
       "      <th>icon</th>\n",
       "    </tr>\n",
       "  </thead>\n",
       "  <tbody>\n",
       "    <tr>\n",
       "      <th>0</th>\n",
       "      <td>2020-09-26 00:00:00</td>\n",
       "      <td>66.61</td>\n",
       "      <td>59.02</td>\n",
       "      <td>65.17</td>\n",
       "      <td>66.61</td>\n",
       "      <td>1016</td>\n",
       "      <td>1016</td>\n",
       "      <td>1014</td>\n",
       "      <td>59</td>\n",
       "      <td>0.80</td>\n",
       "      <td>802</td>\n",
       "      <td>Clouds</td>\n",
       "      <td>scattered clouds</td>\n",
       "      <td>03d</td>\n",
       "    </tr>\n",
       "    <tr>\n",
       "      <th>1</th>\n",
       "      <td>2020-09-26 03:00:00</td>\n",
       "      <td>62.91</td>\n",
       "      <td>59.18</td>\n",
       "      <td>61.50</td>\n",
       "      <td>62.91</td>\n",
       "      <td>1016</td>\n",
       "      <td>1016</td>\n",
       "      <td>1015</td>\n",
       "      <td>74</td>\n",
       "      <td>0.78</td>\n",
       "      <td>800</td>\n",
       "      <td>Clear</td>\n",
       "      <td>clear sky</td>\n",
       "      <td>01n</td>\n",
       "    </tr>\n",
       "    <tr>\n",
       "      <th>2</th>\n",
       "      <td>2020-09-26 06:00:00</td>\n",
       "      <td>61.97</td>\n",
       "      <td>61.74</td>\n",
       "      <td>61.56</td>\n",
       "      <td>61.97</td>\n",
       "      <td>1017</td>\n",
       "      <td>1017</td>\n",
       "      <td>1015</td>\n",
       "      <td>78</td>\n",
       "      <td>0.23</td>\n",
       "      <td>800</td>\n",
       "      <td>Clear</td>\n",
       "      <td>clear sky</td>\n",
       "      <td>01n</td>\n",
       "    </tr>\n",
       "    <tr>\n",
       "      <th>3</th>\n",
       "      <td>2020-09-26 09:00:00</td>\n",
       "      <td>61.21</td>\n",
       "      <td>61.47</td>\n",
       "      <td>61.16</td>\n",
       "      <td>61.21</td>\n",
       "      <td>1017</td>\n",
       "      <td>1017</td>\n",
       "      <td>1015</td>\n",
       "      <td>84</td>\n",
       "      <td>0.03</td>\n",
       "      <td>800</td>\n",
       "      <td>Clear</td>\n",
       "      <td>clear sky</td>\n",
       "      <td>01n</td>\n",
       "    </tr>\n",
       "    <tr>\n",
       "      <th>4</th>\n",
       "      <td>2020-09-26 12:00:00</td>\n",
       "      <td>60.58</td>\n",
       "      <td>62.37</td>\n",
       "      <td>60.58</td>\n",
       "      <td>60.58</td>\n",
       "      <td>1016</td>\n",
       "      <td>1016</td>\n",
       "      <td>1015</td>\n",
       "      <td>87</td>\n",
       "      <td>0.00</td>\n",
       "      <td>800</td>\n",
       "      <td>Clear</td>\n",
       "      <td>clear sky</td>\n",
       "      <td>01n</td>\n",
       "    </tr>\n",
       "  </tbody>\n",
       "</table>\n",
       "</div>"
      ],
      "text/plain": [
       "                  date   temp  feels_like  temp_min  temp_max  pressure  \\\n",
       "0  2020-09-26 00:00:00  66.61       59.02     65.17     66.61      1016   \n",
       "1  2020-09-26 03:00:00  62.91       59.18     61.50     62.91      1016   \n",
       "2  2020-09-26 06:00:00  61.97       61.74     61.56     61.97      1017   \n",
       "3  2020-09-26 09:00:00  61.21       61.47     61.16     61.21      1017   \n",
       "4  2020-09-26 12:00:00  60.58       62.37     60.58     60.58      1016   \n",
       "\n",
       "   sea_level  grnd_level  humidity  temp_kf   id    main       description  \\\n",
       "0       1016        1014        59     0.80  802  Clouds  scattered clouds   \n",
       "1       1016        1015        74     0.78  800   Clear         clear sky   \n",
       "2       1017        1015        78     0.23  800   Clear         clear sky   \n",
       "3       1017        1015        84     0.03  800   Clear         clear sky   \n",
       "4       1016        1015        87     0.00  800   Clear         clear sky   \n",
       "\n",
       "  icon  \n",
       "0  03d  \n",
       "1  01n  \n",
       "2  01n  \n",
       "3  01n  \n",
       "4  01n  "
      ]
     },
     "execution_count": 118,
     "metadata": {},
     "output_type": "execute_result"
    }
   ],
   "source": [
    "weather = pd.DataFrame.from_dict(raw_data)\n",
    "weather.head()"
   ]
  },
  {
   "cell_type": "code",
   "execution_count": 119,
   "metadata": {},
   "outputs": [
    {
     "data": {
      "text/html": [
       "<div>\n",
       "<style scoped>\n",
       "    .dataframe tbody tr th:only-of-type {\n",
       "        vertical-align: middle;\n",
       "    }\n",
       "\n",
       "    .dataframe tbody tr th {\n",
       "        vertical-align: top;\n",
       "    }\n",
       "\n",
       "    .dataframe thead th {\n",
       "        text-align: right;\n",
       "    }\n",
       "</style>\n",
       "<table border=\"1\" class=\"dataframe\">\n",
       "  <thead>\n",
       "    <tr style=\"text-align: right;\">\n",
       "      <th></th>\n",
       "      <th>temp</th>\n",
       "      <th>feels_like</th>\n",
       "      <th>temp_min</th>\n",
       "      <th>temp_max</th>\n",
       "      <th>pressure</th>\n",
       "      <th>sea_level</th>\n",
       "      <th>grnd_level</th>\n",
       "      <th>humidity</th>\n",
       "      <th>temp_kf</th>\n",
       "      <th>id</th>\n",
       "      <th>main</th>\n",
       "      <th>description</th>\n",
       "      <th>icon</th>\n",
       "    </tr>\n",
       "    <tr>\n",
       "      <th>date</th>\n",
       "      <th></th>\n",
       "      <th></th>\n",
       "      <th></th>\n",
       "      <th></th>\n",
       "      <th></th>\n",
       "      <th></th>\n",
       "      <th></th>\n",
       "      <th></th>\n",
       "      <th></th>\n",
       "      <th></th>\n",
       "      <th></th>\n",
       "      <th></th>\n",
       "      <th></th>\n",
       "    </tr>\n",
       "  </thead>\n",
       "  <tbody>\n",
       "    <tr>\n",
       "      <th>2020-09-26 00:00:00</th>\n",
       "      <td>66.61</td>\n",
       "      <td>59.02</td>\n",
       "      <td>65.17</td>\n",
       "      <td>66.61</td>\n",
       "      <td>1016</td>\n",
       "      <td>1016</td>\n",
       "      <td>1014</td>\n",
       "      <td>59</td>\n",
       "      <td>0.80</td>\n",
       "      <td>802</td>\n",
       "      <td>Clouds</td>\n",
       "      <td>scattered clouds</td>\n",
       "      <td>03d</td>\n",
       "    </tr>\n",
       "    <tr>\n",
       "      <th>2020-09-26 03:00:00</th>\n",
       "      <td>62.91</td>\n",
       "      <td>59.18</td>\n",
       "      <td>61.50</td>\n",
       "      <td>62.91</td>\n",
       "      <td>1016</td>\n",
       "      <td>1016</td>\n",
       "      <td>1015</td>\n",
       "      <td>74</td>\n",
       "      <td>0.78</td>\n",
       "      <td>800</td>\n",
       "      <td>Clear</td>\n",
       "      <td>clear sky</td>\n",
       "      <td>01n</td>\n",
       "    </tr>\n",
       "    <tr>\n",
       "      <th>2020-09-26 06:00:00</th>\n",
       "      <td>61.97</td>\n",
       "      <td>61.74</td>\n",
       "      <td>61.56</td>\n",
       "      <td>61.97</td>\n",
       "      <td>1017</td>\n",
       "      <td>1017</td>\n",
       "      <td>1015</td>\n",
       "      <td>78</td>\n",
       "      <td>0.23</td>\n",
       "      <td>800</td>\n",
       "      <td>Clear</td>\n",
       "      <td>clear sky</td>\n",
       "      <td>01n</td>\n",
       "    </tr>\n",
       "    <tr>\n",
       "      <th>2020-09-26 09:00:00</th>\n",
       "      <td>61.21</td>\n",
       "      <td>61.47</td>\n",
       "      <td>61.16</td>\n",
       "      <td>61.21</td>\n",
       "      <td>1017</td>\n",
       "      <td>1017</td>\n",
       "      <td>1015</td>\n",
       "      <td>84</td>\n",
       "      <td>0.03</td>\n",
       "      <td>800</td>\n",
       "      <td>Clear</td>\n",
       "      <td>clear sky</td>\n",
       "      <td>01n</td>\n",
       "    </tr>\n",
       "    <tr>\n",
       "      <th>2020-09-26 12:00:00</th>\n",
       "      <td>60.58</td>\n",
       "      <td>62.37</td>\n",
       "      <td>60.58</td>\n",
       "      <td>60.58</td>\n",
       "      <td>1016</td>\n",
       "      <td>1016</td>\n",
       "      <td>1015</td>\n",
       "      <td>87</td>\n",
       "      <td>0.00</td>\n",
       "      <td>800</td>\n",
       "      <td>Clear</td>\n",
       "      <td>clear sky</td>\n",
       "      <td>01n</td>\n",
       "    </tr>\n",
       "  </tbody>\n",
       "</table>\n",
       "</div>"
      ],
      "text/plain": [
       "                      temp  feels_like  temp_min  temp_max  pressure  \\\n",
       "date                                                                   \n",
       "2020-09-26 00:00:00  66.61       59.02     65.17     66.61      1016   \n",
       "2020-09-26 03:00:00  62.91       59.18     61.50     62.91      1016   \n",
       "2020-09-26 06:00:00  61.97       61.74     61.56     61.97      1017   \n",
       "2020-09-26 09:00:00  61.21       61.47     61.16     61.21      1017   \n",
       "2020-09-26 12:00:00  60.58       62.37     60.58     60.58      1016   \n",
       "\n",
       "                     sea_level  grnd_level  humidity  temp_kf   id    main  \\\n",
       "date                                                                         \n",
       "2020-09-26 00:00:00       1016        1014        59     0.80  802  Clouds   \n",
       "2020-09-26 03:00:00       1016        1015        74     0.78  800   Clear   \n",
       "2020-09-26 06:00:00       1017        1015        78     0.23  800   Clear   \n",
       "2020-09-26 09:00:00       1017        1015        84     0.03  800   Clear   \n",
       "2020-09-26 12:00:00       1016        1015        87     0.00  800   Clear   \n",
       "\n",
       "                          description icon  \n",
       "date                                        \n",
       "2020-09-26 00:00:00  scattered clouds  03d  \n",
       "2020-09-26 03:00:00         clear sky  01n  \n",
       "2020-09-26 06:00:00         clear sky  01n  \n",
       "2020-09-26 09:00:00         clear sky  01n  \n",
       "2020-09-26 12:00:00         clear sky  01n  "
      ]
     },
     "execution_count": 119,
     "metadata": {},
     "output_type": "execute_result"
    }
   ],
   "source": [
    "weather['date'] = pd.to_datetime(weather['date'])\n",
    "weather.set_index('date', inplace=True)\n",
    "weather.head()"
   ]
  },
  {
   "cell_type": "code",
   "execution_count": 120,
   "metadata": {},
   "outputs": [
    {
     "name": "stdout",
     "output_type": "stream",
     "text": [
      "<class 'pandas.core.frame.DataFrame'>\n",
      "DatetimeIndex: 40 entries, 2020-09-26 00:00:00 to 2020-09-30 21:00:00\n",
      "Data columns (total 13 columns):\n",
      " #   Column       Non-Null Count  Dtype  \n",
      "---  ------       --------------  -----  \n",
      " 0   temp         40 non-null     float64\n",
      " 1   feels_like   40 non-null     float64\n",
      " 2   temp_min     40 non-null     float64\n",
      " 3   temp_max     40 non-null     float64\n",
      " 4   pressure     40 non-null     int64  \n",
      " 5   sea_level    40 non-null     int64  \n",
      " 6   grnd_level   40 non-null     int64  \n",
      " 7   humidity     40 non-null     int64  \n",
      " 8   temp_kf      40 non-null     float64\n",
      " 9   id           40 non-null     int64  \n",
      " 10  main         40 non-null     object \n",
      " 11  description  40 non-null     object \n",
      " 12  icon         40 non-null     object \n",
      "dtypes: float64(5), int64(5), object(3)\n",
      "memory usage: 4.4+ KB\n"
     ]
    }
   ],
   "source": [
    "weather.info()"
   ]
  },
  {
   "cell_type": "markdown",
   "metadata": {},
   "source": [
    "## Writing csv data"
   ]
  },
  {
   "cell_type": "code",
   "execution_count": 121,
   "metadata": {},
   "outputs": [],
   "source": [
    "weather.to_csv('./data/weather.csv')"
   ]
  },
  {
   "cell_type": "code",
   "execution_count": 122,
   "metadata": {},
   "outputs": [
    {
     "name": "stdout",
     "output_type": "stream",
     "text": [
      "date,temp,feels_like,temp_min,temp_max,pressure,sea_level,grnd_level,humidity,temp_kf,id,main,description,icon\r\n",
      "2020-09-26 00:00:00,66.61,59.02,65.17,66.61,1016,1016,1014,59,0.8,802,Clouds,scattered clouds,03d\r\n",
      "2020-09-26 03:00:00,62.91,59.18,61.5,62.91,1016,1016,1015,74,0.78,800,Clear,clear sky,01n\r\n",
      "2020-09-26 06:00:00,61.97,61.74,61.56,61.97,1017,1017,1015,78,0.23,800,Clear,clear sky,01n\r\n",
      "2020-09-26 09:00:00,61.21,61.47,61.16,61.21,1017,1017,1015,84,0.03,800,Clear,clear sky,01n\r\n",
      "2020-09-26 12:00:00,60.58,62.37,60.58,60.58,1016,1016,1015,87,0.0,800,Clear,clear sky,01n\r\n",
      "2020-09-26 15:00:00,61.23,62.47,61.23,61.23,1017,1017,1015,84,0.0,801,Clouds,few clouds,02d\r\n",
      "2020-09-26 18:00:00,67.55,66.7,67.55,67.55,1016,1016,1015,69,0.0,800,Clear,clear sky,01d\r\n",
      "2020-09-26 21:00:00,71.55,66.9,71.55,71.55,1015,1015,1013,60,0.0,801,Clouds,few clouds,02d\r\n",
      "2020-09-27 00:00:00,68.68,63.21,68.68,68.68,1013,1013,1012,63,0.0,802,Clouds,scattered clouds,03d\r\n"
     ]
    }
   ],
   "source": [
    "!head data/weather.csv"
   ]
  },
  {
   "cell_type": "markdown",
   "metadata": {},
   "source": [
    "JSON lines?"
   ]
  },
  {
   "cell_type": "code",
   "execution_count": 123,
   "metadata": {},
   "outputs": [
    {
     "data": {
      "text/html": [
       "<div>\n",
       "<style scoped>\n",
       "    .dataframe tbody tr th:only-of-type {\n",
       "        vertical-align: middle;\n",
       "    }\n",
       "\n",
       "    .dataframe tbody tr th {\n",
       "        vertical-align: top;\n",
       "    }\n",
       "\n",
       "    .dataframe thead th {\n",
       "        text-align: right;\n",
       "    }\n",
       "</style>\n",
       "<table border=\"1\" class=\"dataframe\">\n",
       "  <thead>\n",
       "    <tr style=\"text-align: right;\">\n",
       "      <th></th>\n",
       "      <th>temp</th>\n",
       "      <th>feels_like</th>\n",
       "      <th>temp_min</th>\n",
       "      <th>temp_max</th>\n",
       "      <th>pressure</th>\n",
       "      <th>sea_level</th>\n",
       "      <th>grnd_level</th>\n",
       "      <th>humidity</th>\n",
       "      <th>temp_kf</th>\n",
       "      <th>id</th>\n",
       "      <th>main</th>\n",
       "      <th>description</th>\n",
       "      <th>icon</th>\n",
       "    </tr>\n",
       "    <tr>\n",
       "      <th>date</th>\n",
       "      <th></th>\n",
       "      <th></th>\n",
       "      <th></th>\n",
       "      <th></th>\n",
       "      <th></th>\n",
       "      <th></th>\n",
       "      <th></th>\n",
       "      <th></th>\n",
       "      <th></th>\n",
       "      <th></th>\n",
       "      <th></th>\n",
       "      <th></th>\n",
       "      <th></th>\n",
       "    </tr>\n",
       "  </thead>\n",
       "  <tbody>\n",
       "    <tr>\n",
       "      <th>2020-09-26 00:00:00</th>\n",
       "      <td>66.61</td>\n",
       "      <td>59.02</td>\n",
       "      <td>65.17</td>\n",
       "      <td>66.61</td>\n",
       "      <td>1016</td>\n",
       "      <td>1016</td>\n",
       "      <td>1014</td>\n",
       "      <td>59</td>\n",
       "      <td>0.80</td>\n",
       "      <td>802</td>\n",
       "      <td>Clouds</td>\n",
       "      <td>scattered clouds</td>\n",
       "      <td>03d</td>\n",
       "    </tr>\n",
       "    <tr>\n",
       "      <th>2020-09-26 03:00:00</th>\n",
       "      <td>62.91</td>\n",
       "      <td>59.18</td>\n",
       "      <td>61.50</td>\n",
       "      <td>62.91</td>\n",
       "      <td>1016</td>\n",
       "      <td>1016</td>\n",
       "      <td>1015</td>\n",
       "      <td>74</td>\n",
       "      <td>0.78</td>\n",
       "      <td>800</td>\n",
       "      <td>Clear</td>\n",
       "      <td>clear sky</td>\n",
       "      <td>01n</td>\n",
       "    </tr>\n",
       "    <tr>\n",
       "      <th>2020-09-26 06:00:00</th>\n",
       "      <td>61.97</td>\n",
       "      <td>61.74</td>\n",
       "      <td>61.56</td>\n",
       "      <td>61.97</td>\n",
       "      <td>1017</td>\n",
       "      <td>1017</td>\n",
       "      <td>1015</td>\n",
       "      <td>78</td>\n",
       "      <td>0.23</td>\n",
       "      <td>800</td>\n",
       "      <td>Clear</td>\n",
       "      <td>clear sky</td>\n",
       "      <td>01n</td>\n",
       "    </tr>\n",
       "    <tr>\n",
       "      <th>2020-09-26 09:00:00</th>\n",
       "      <td>61.21</td>\n",
       "      <td>61.47</td>\n",
       "      <td>61.16</td>\n",
       "      <td>61.21</td>\n",
       "      <td>1017</td>\n",
       "      <td>1017</td>\n",
       "      <td>1015</td>\n",
       "      <td>84</td>\n",
       "      <td>0.03</td>\n",
       "      <td>800</td>\n",
       "      <td>Clear</td>\n",
       "      <td>clear sky</td>\n",
       "      <td>01n</td>\n",
       "    </tr>\n",
       "    <tr>\n",
       "      <th>2020-09-26 12:00:00</th>\n",
       "      <td>60.58</td>\n",
       "      <td>62.37</td>\n",
       "      <td>60.58</td>\n",
       "      <td>60.58</td>\n",
       "      <td>1016</td>\n",
       "      <td>1016</td>\n",
       "      <td>1015</td>\n",
       "      <td>87</td>\n",
       "      <td>0.00</td>\n",
       "      <td>800</td>\n",
       "      <td>Clear</td>\n",
       "      <td>clear sky</td>\n",
       "      <td>01n</td>\n",
       "    </tr>\n",
       "  </tbody>\n",
       "</table>\n",
       "</div>"
      ],
      "text/plain": [
       "                      temp  feels_like  temp_min  temp_max  pressure  \\\n",
       "date                                                                   \n",
       "2020-09-26 00:00:00  66.61       59.02     65.17     66.61      1016   \n",
       "2020-09-26 03:00:00  62.91       59.18     61.50     62.91      1016   \n",
       "2020-09-26 06:00:00  61.97       61.74     61.56     61.97      1017   \n",
       "2020-09-26 09:00:00  61.21       61.47     61.16     61.21      1017   \n",
       "2020-09-26 12:00:00  60.58       62.37     60.58     60.58      1016   \n",
       "\n",
       "                     sea_level  grnd_level  humidity  temp_kf   id    main  \\\n",
       "date                                                                         \n",
       "2020-09-26 00:00:00       1016        1014        59     0.80  802  Clouds   \n",
       "2020-09-26 03:00:00       1016        1015        74     0.78  800   Clear   \n",
       "2020-09-26 06:00:00       1017        1015        78     0.23  800   Clear   \n",
       "2020-09-26 09:00:00       1017        1015        84     0.03  800   Clear   \n",
       "2020-09-26 12:00:00       1016        1015        87     0.00  800   Clear   \n",
       "\n",
       "                          description icon  \n",
       "date                                        \n",
       "2020-09-26 00:00:00  scattered clouds  03d  \n",
       "2020-09-26 03:00:00         clear sky  01n  \n",
       "2020-09-26 06:00:00         clear sky  01n  \n",
       "2020-09-26 09:00:00         clear sky  01n  \n",
       "2020-09-26 12:00:00         clear sky  01n  "
      ]
     },
     "execution_count": 123,
     "metadata": {},
     "output_type": "execute_result"
    }
   ],
   "source": [
    "weather.head()"
   ]
  },
  {
   "cell_type": "code",
   "execution_count": 127,
   "metadata": {},
   "outputs": [],
   "source": [
    "weather.to_json('./data/weather.jsonlines', orient='records', lines=True)"
   ]
  },
  {
   "cell_type": "code",
   "execution_count": 128,
   "metadata": {},
   "outputs": [
    {
     "name": "stdout",
     "output_type": "stream",
     "text": [
      "{\"temp\":66.61,\"feels_like\":59.02,\"temp_min\":65.17,\"temp_max\":66.61,\"pressure\":1016,\"sea_level\":1016,\"grnd_level\":1014,\"humidity\":59,\"temp_kf\":0.8,\"id\":802,\"main\":\"Clouds\",\"description\":\"scattered clouds\",\"icon\":\"03d\"}\r\n",
      "{\"temp\":62.91,\"feels_like\":59.18,\"temp_min\":61.5,\"temp_max\":62.91,\"pressure\":1016,\"sea_level\":1016,\"grnd_level\":1015,\"humidity\":74,\"temp_kf\":0.78,\"id\":800,\"main\":\"Clear\",\"description\":\"clear sky\",\"icon\":\"01n\"}\r\n",
      "{\"temp\":61.97,\"feels_like\":61.74,\"temp_min\":61.56,\"temp_max\":61.97,\"pressure\":1017,\"sea_level\":1017,\"grnd_level\":1015,\"humidity\":78,\"temp_kf\":0.23,\"id\":800,\"main\":\"Clear\",\"description\":\"clear sky\",\"icon\":\"01n\"}\r\n",
      "{\"temp\":61.21,\"feels_like\":61.47,\"temp_min\":61.16,\"temp_max\":61.21,\"pressure\":1017,\"sea_level\":1017,\"grnd_level\":1015,\"humidity\":84,\"temp_kf\":0.03,\"id\":800,\"main\":\"Clear\",\"description\":\"clear sky\",\"icon\":\"01n\"}\r\n",
      "{\"temp\":60.58,\"feels_like\":62.37,\"temp_min\":60.58,\"temp_max\":60.58,\"pressure\":1016,\"sea_level\":1016,\"grnd_level\":1015,\"humidity\":87,\"temp_kf\":0.0,\"id\":800,\"main\":\"Clear\",\"description\":\"clear sky\",\"icon\":\"01n\"}\r\n",
      "{\"temp\":61.23,\"feels_like\":62.47,\"temp_min\":61.23,\"temp_max\":61.23,\"pressure\":1017,\"sea_level\":1017,\"grnd_level\":1015,\"humidity\":84,\"temp_kf\":0.0,\"id\":801,\"main\":\"Clouds\",\"description\":\"few clouds\",\"icon\":\"02d\"}\r\n",
      "{\"temp\":67.55,\"feels_like\":66.7,\"temp_min\":67.55,\"temp_max\":67.55,\"pressure\":1016,\"sea_level\":1016,\"grnd_level\":1015,\"humidity\":69,\"temp_kf\":0.0,\"id\":800,\"main\":\"Clear\",\"description\":\"clear sky\",\"icon\":\"01d\"}\r\n",
      "{\"temp\":71.55,\"feels_like\":66.9,\"temp_min\":71.55,\"temp_max\":71.55,\"pressure\":1015,\"sea_level\":1015,\"grnd_level\":1013,\"humidity\":60,\"temp_kf\":0.0,\"id\":801,\"main\":\"Clouds\",\"description\":\"few clouds\",\"icon\":\"02d\"}\r\n",
      "{\"temp\":68.68,\"feels_like\":63.21,\"temp_min\":68.68,\"temp_max\":68.68,\"pressure\":1013,\"sea_level\":1013,\"grnd_level\":1012,\"humidity\":63,\"temp_kf\":0.0,\"id\":802,\"main\":\"Clouds\",\"description\":\"scattered clouds\",\"icon\":\"03d\"}\r\n",
      "{\"temp\":65.57,\"feels_like\":65.62,\"temp_min\":65.57,\"temp_max\":65.57,\"pressure\":1012,\"sea_level\":1012,\"grnd_level\":1011,\"humidity\":67,\"temp_kf\":0.0,\"id\":803,\"main\":\"Clouds\",\"description\":\"broken clouds\",\"icon\":\"04n\"}\r\n",
      "{\"temp\":63.9,\"feels_like\":64.67,\"temp_min\":63.9,\"temp_max\":63.9,\"pressure\":1013,\"sea_level\":1013,\"grnd_level\":1011,\"humidity\":70,\"temp_kf\":0.0,\"id\":802,\"main\":\"Clouds\",\"description\":\"scattered clouds\",\"icon\":\"03n\"}\r\n",
      "{\"temp\":63.3,\"feels_like\":64.2,\"temp_min\":63.3,\"temp_max\":63.3,\"pressure\":1012,\"sea_level\":1012,\"grnd_level\":1011,\"humidity\":70,\"temp_kf\":0.0,\"id\":800,\"main\":\"Clear\",\"description\":\"clear sky\",\"icon\":\"01n\"}\r\n",
      "{\"temp\":62.62,\"feels_like\":62.71,\"temp_min\":62.62,\"temp_max\":62.62,\"pressure\":1011,\"sea_level\":1011,\"grnd_level\":1010,\"humidity\":71,\"temp_kf\":0.0,\"id\":800,\"main\":\"Clear\",\"description\":\"clear sky\",\"icon\":\"01n\"}\r\n",
      "{\"temp\":64.45,\"feels_like\":64.06,\"temp_min\":64.45,\"temp_max\":64.45,\"pressure\":1012,\"sea_level\":1012,\"grnd_level\":1010,\"humidity\":65,\"temp_kf\":0.0,\"id\":800,\"main\":\"Clear\",\"description\":\"clear sky\",\"icon\":\"01d\"}\r\n",
      "{\"temp\":72.43,\"feels_like\":69.71,\"temp_min\":72.43,\"temp_max\":72.43,\"pressure\":1012,\"sea_level\":1012,\"grnd_level\":1011,\"humidity\":44,\"temp_kf\":0.0,\"id\":800,\"main\":\"Clear\",\"description\":\"clear sky\",\"icon\":\"01d\"}\r\n",
      "{\"temp\":80.29,\"feels_like\":75.34,\"temp_min\":80.29,\"temp_max\":80.29,\"pressure\":1010,\"sea_level\":1010,\"grnd_level\":1009,\"humidity\":30,\"temp_kf\":0.0,\"id\":800,\"main\":\"Clear\",\"description\":\"clear sky\",\"icon\":\"01d\"}\r\n",
      "{\"temp\":76.53,\"feels_like\":71.08,\"temp_min\":76.53,\"temp_max\":76.53,\"pressure\":1009,\"sea_level\":1009,\"grnd_level\":1008,\"humidity\":37,\"temp_kf\":0.0,\"id\":800,\"main\":\"Clear\",\"description\":\"clear sky\",\"icon\":\"01d\"}\r\n",
      "{\"temp\":69.24,\"feels_like\":65.77,\"temp_min\":69.24,\"temp_max\":69.24,\"pressure\":1009,\"sea_level\":1009,\"grnd_level\":1008,\"humidity\":51,\"temp_kf\":0.0,\"id\":800,\"main\":\"Clear\",\"description\":\"clear sky\",\"icon\":\"01n\"}\r\n",
      "{\"temp\":68.54,\"feels_like\":67.91,\"temp_min\":68.54,\"temp_max\":68.54,\"pressure\":1011,\"sea_level\":1011,\"grnd_level\":1009,\"humidity\":52,\"temp_kf\":0.0,\"id\":800,\"main\":\"Clear\",\"description\":\"clear sky\",\"icon\":\"01n\"}\r\n",
      "{\"temp\":67.98,\"feels_like\":66.31,\"temp_min\":67.98,\"temp_max\":67.98,\"pressure\":1011,\"sea_level\":1011,\"grnd_level\":1009,\"humidity\":51,\"temp_kf\":0.0,\"id\":800,\"main\":\"Clear\",\"description\":\"clear sky\",\"icon\":\"01n\"}\r\n",
      "{\"temp\":69.55,\"feels_like\":62.53,\"temp_min\":69.55,\"temp_max\":69.55,\"pressure\":1011,\"sea_level\":1011,\"grnd_level\":1009,\"humidity\":33,\"temp_kf\":0.0,\"id\":800,\"main\":\"Clear\",\"description\":\"clear sky\",\"icon\":\"01n\"}\r\n",
      "{\"temp\":69.31,\"feels_like\":62.2,\"temp_min\":69.31,\"temp_max\":69.31,\"pressure\":1012,\"sea_level\":1012,\"grnd_level\":1010,\"humidity\":31,\"temp_kf\":0.0,\"id\":800,\"main\":\"Clear\",\"description\":\"clear sky\",\"icon\":\"01d\"}\r\n",
      "{\"temp\":75.99,\"feels_like\":70.29,\"temp_min\":75.99,\"temp_max\":75.99,\"pressure\":1013,\"sea_level\":1013,\"grnd_level\":1012,\"humidity\":25,\"temp_kf\":0.0,\"id\":800,\"main\":\"Clear\",\"description\":\"clear sky\",\"icon\":\"01d\"}\r\n",
      "{\"temp\":81.57,\"feels_like\":79.11,\"temp_min\":81.57,\"temp_max\":81.57,\"pressure\":1012,\"sea_level\":1012,\"grnd_level\":1011,\"humidity\":24,\"temp_kf\":0.0,\"id\":800,\"main\":\"Clear\",\"description\":\"clear sky\",\"icon\":\"01d\"}\r\n",
      "{\"temp\":78.76,\"feels_like\":72.64,\"temp_min\":78.76,\"temp_max\":78.76,\"pressure\":1012,\"sea_level\":1012,\"grnd_level\":1010,\"humidity\":30,\"temp_kf\":0.0,\"id\":800,\"main\":\"Clear\",\"description\":\"clear sky\",\"icon\":\"01d\"}\r\n",
      "{\"temp\":70.74,\"feels_like\":66.56,\"temp_min\":70.74,\"temp_max\":70.74,\"pressure\":1013,\"sea_level\":1013,\"grnd_level\":1011,\"humidity\":46,\"temp_kf\":0.0,\"id\":800,\"main\":\"Clear\",\"description\":\"clear sky\",\"icon\":\"01n\"}\r\n",
      "{\"temp\":68.59,\"feels_like\":66.74,\"temp_min\":68.59,\"temp_max\":68.59,\"pressure\":1014,\"sea_level\":1014,\"grnd_level\":1013,\"humidity\":52,\"temp_kf\":0.0,\"id\":800,\"main\":\"Clear\",\"description\":\"clear sky\",\"icon\":\"01n\"}\r\n",
      "{\"temp\":67.12,\"feels_like\":66.76,\"temp_min\":67.12,\"temp_max\":67.12,\"pressure\":1014,\"sea_level\":1014,\"grnd_level\":1013,\"humidity\":56,\"temp_kf\":0.0,\"id\":800,\"main\":\"Clear\",\"description\":\"clear sky\",\"icon\":\"01n\"}\r\n",
      "{\"temp\":66.63,\"feels_like\":66.38,\"temp_min\":66.63,\"temp_max\":66.63,\"pressure\":1014,\"sea_level\":1014,\"grnd_level\":1013,\"humidity\":55,\"temp_kf\":0.0,\"id\":800,\"main\":\"Clear\",\"description\":\"clear sky\",\"icon\":\"01n\"}\r\n",
      "{\"temp\":67.86,\"feels_like\":66.38,\"temp_min\":67.86,\"temp_max\":67.86,\"pressure\":1016,\"sea_level\":1016,\"grnd_level\":1014,\"humidity\":51,\"temp_kf\":0.0,\"id\":800,\"main\":\"Clear\",\"description\":\"clear sky\",\"icon\":\"01d\"}\r\n",
      "{\"temp\":75.45,\"feels_like\":73.9,\"temp_min\":75.45,\"temp_max\":75.45,\"pressure\":1016,\"sea_level\":1016,\"grnd_level\":1015,\"humidity\":35,\"temp_kf\":0.0,\"id\":800,\"main\":\"Clear\",\"description\":\"clear sky\",\"icon\":\"01d\"}\r\n",
      "{\"temp\":77.97,\"feels_like\":72.9,\"temp_min\":77.97,\"temp_max\":77.97,\"pressure\":1015,\"sea_level\":1015,\"grnd_level\":1014,\"humidity\":35,\"temp_kf\":0.0,\"id\":800,\"main\":\"Clear\",\"description\":\"clear sky\",\"icon\":\"01d\"}\r\n",
      "{\"temp\":74.46,\"feels_like\":69.71,\"temp_min\":74.46,\"temp_max\":74.46,\"pressure\":1014,\"sea_level\":1014,\"grnd_level\":1013,\"humidity\":42,\"temp_kf\":0.0,\"id\":800,\"main\":\"Clear\",\"description\":\"clear sky\",\"icon\":\"01d\"}\r\n",
      "{\"temp\":68.38,\"feels_like\":65.25,\"temp_min\":68.38,\"temp_max\":68.38,\"pressure\":1014,\"sea_level\":1014,\"grnd_level\":1013,\"humidity\":54,\"temp_kf\":0.0,\"id\":800,\"main\":\"Clear\",\"description\":\"clear sky\",\"icon\":\"01n\"}\r\n",
      "{\"temp\":66.25,\"feels_like\":64.38,\"temp_min\":66.25,\"temp_max\":66.25,\"pressure\":1015,\"sea_level\":1015,\"grnd_level\":1014,\"humidity\":60,\"temp_kf\":0.0,\"id\":800,\"main\":\"Clear\",\"description\":\"clear sky\",\"icon\":\"01n\"}\r\n",
      "{\"temp\":65.64,\"feels_like\":63.93,\"temp_min\":65.64,\"temp_max\":65.64,\"pressure\":1015,\"sea_level\":1015,\"grnd_level\":1014,\"humidity\":61,\"temp_kf\":0.0,\"id\":800,\"main\":\"Clear\",\"description\":\"clear sky\",\"icon\":\"01n\"}\r\n",
      "{\"temp\":64.71,\"feels_like\":63.36,\"temp_min\":64.71,\"temp_max\":64.71,\"pressure\":1015,\"sea_level\":1015,\"grnd_level\":1014,\"humidity\":65,\"temp_kf\":0.0,\"id\":800,\"main\":\"Clear\",\"description\":\"clear sky\",\"icon\":\"01n\"}\r\n",
      "{\"temp\":64.71,\"feels_like\":64.15,\"temp_min\":64.71,\"temp_max\":64.71,\"pressure\":1016,\"sea_level\":1016,\"grnd_level\":1015,\"humidity\":66,\"temp_kf\":0.0,\"id\":800,\"main\":\"Clear\",\"description\":\"clear sky\",\"icon\":\"01d\"}\r\n",
      "{\"temp\":70.32,\"feels_like\":68.4,\"temp_min\":70.32,\"temp_max\":70.32,\"pressure\":1016,\"sea_level\":1016,\"grnd_level\":1015,\"humidity\":52,\"temp_kf\":0.0,\"id\":800,\"main\":\"Clear\",\"description\":\"clear sky\",\"icon\":\"01d\"}\r\n",
      "{\"temp\":72.45,\"feels_like\":68.54,\"temp_min\":72.45,\"temp_max\":72.45,\"pressure\":1015,\"sea_level\":1015,\"grnd_level\":1014,\"humidity\":48,\"temp_kf\":0.0,\"id\":800,\"main\":\"Clear\",\"description\":\"clear sky\",\"icon\":\"01d\"}"
     ]
    }
   ],
   "source": [
    "!cat data/weather.jsonlines"
   ]
  },
  {
   "cell_type": "code",
   "execution_count": 129,
   "metadata": {
    "scrolled": true
   },
   "outputs": [],
   "source": [
    "df = pd.read_json('./data/weather.jsonlines', lines=True)"
   ]
  },
  {
   "cell_type": "code",
   "execution_count": 130,
   "metadata": {},
   "outputs": [
    {
     "name": "stdout",
     "output_type": "stream",
     "text": [
      "<class 'pandas.core.frame.DataFrame'>\n",
      "RangeIndex: 40 entries, 0 to 39\n",
      "Data columns (total 13 columns):\n",
      " #   Column       Non-Null Count  Dtype  \n",
      "---  ------       --------------  -----  \n",
      " 0   temp         40 non-null     float64\n",
      " 1   feels_like   40 non-null     float64\n",
      " 2   temp_min     40 non-null     float64\n",
      " 3   temp_max     40 non-null     float64\n",
      " 4   pressure     40 non-null     int64  \n",
      " 5   sea_level    40 non-null     int64  \n",
      " 6   grnd_level   40 non-null     int64  \n",
      " 7   humidity     40 non-null     int64  \n",
      " 8   temp_kf      40 non-null     float64\n",
      " 9   id           40 non-null     int64  \n",
      " 10  main         40 non-null     object \n",
      " 11  description  40 non-null     object \n",
      " 12  icon         40 non-null     object \n",
      "dtypes: float64(5), int64(5), object(3)\n",
      "memory usage: 4.2+ KB\n"
     ]
    }
   ],
   "source": [
    "df.info()"
   ]
  },
  {
   "cell_type": "code",
   "execution_count": 131,
   "metadata": {
    "scrolled": true
   },
   "outputs": [
    {
     "name": "stdout",
     "output_type": "stream",
     "text": [
      "<class 'pandas.core.frame.DataFrame'>\n",
      "DatetimeIndex: 40 entries, 2020-09-26 00:00:00 to 2020-09-30 21:00:00\n",
      "Data columns (total 13 columns):\n",
      " #   Column       Non-Null Count  Dtype  \n",
      "---  ------       --------------  -----  \n",
      " 0   temp         40 non-null     float64\n",
      " 1   feels_like   40 non-null     float64\n",
      " 2   temp_min     40 non-null     float64\n",
      " 3   temp_max     40 non-null     float64\n",
      " 4   pressure     40 non-null     int64  \n",
      " 5   sea_level    40 non-null     int64  \n",
      " 6   grnd_level   40 non-null     int64  \n",
      " 7   humidity     40 non-null     int64  \n",
      " 8   temp_kf      40 non-null     float64\n",
      " 9   id           40 non-null     int64  \n",
      " 10  main         40 non-null     object \n",
      " 11  description  40 non-null     object \n",
      " 12  icon         40 non-null     object \n",
      "dtypes: float64(5), int64(5), object(3)\n",
      "memory usage: 5.6+ KB\n"
     ]
    }
   ],
   "source": [
    "weather.info()"
   ]
  },
  {
   "cell_type": "code",
   "execution_count": 137,
   "metadata": {},
   "outputs": [
    {
     "name": "stdout",
     "output_type": "stream",
     "text": [
      "2.82 µs ± 23.8 ns per loop (mean ± std. dev. of 7 runs, 100000 loops each)\n"
     ]
    }
   ],
   "source": [
    "temp_values = list(weather.temp)\n",
    "%timeit [v * 0.7 for v in temp_values]  # ??!"
   ]
  },
  {
   "cell_type": "code",
   "execution_count": 135,
   "metadata": {},
   "outputs": [
    {
     "name": "stdout",
     "output_type": "stream",
     "text": [
      "173 µs ± 10.2 µs per loop (mean ± std. dev. of 7 runs, 10000 loops each)\n"
     ]
    }
   ],
   "source": [
    "%timeit weather.temp * 0.7"
   ]
  },
  {
   "cell_type": "code",
   "execution_count": 136,
   "metadata": {},
   "outputs": [
    {
     "name": "stdout",
     "output_type": "stream",
     "text": [
      "10.4 µs ± 408 ns per loop (mean ± std. dev. of 7 runs, 100000 loops each)\n"
     ]
    }
   ],
   "source": [
    "%timeit weather.temp.values * 0.7"
   ]
  },
  {
   "cell_type": "markdown",
   "metadata": {},
   "source": [
    "Open the [Pandas IO Lab][pandas-io-lab]\n",
    "\n",
    "[pandas-io-lab]: ./pandas-io-lab.ipynb"
   ]
  }
 ],
 "metadata": {
  "kernelspec": {
   "display_name": "Python 3",
   "language": "python",
   "name": "python3"
  },
  "language_info": {
   "codemirror_mode": {
    "name": "ipython",
    "version": 3
   },
   "file_extension": ".py",
   "mimetype": "text/x-python",
   "name": "python",
   "nbconvert_exporter": "python",
   "pygments_lexer": "ipython3",
   "version": "3.8.5"
  }
 },
 "nbformat": 4,
 "nbformat_minor": 2
}
