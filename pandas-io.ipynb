{
 "cells": [
  {
   "cell_type": "markdown",
   "metadata": {},
   "source": [
    "# Pandas: the Python structured data library\n",
    "\n",
    "Pandas (allegedly) stands for **Pan**el **da**ta (**s**?) and lets you manipulate 'spreadsheet-like' data in Python easily"
   ]
  },
  {
   "cell_type": "code",
   "execution_count": 1,
   "metadata": {},
   "outputs": [
    {
     "name": "stdout",
     "output_type": "stream",
     "text": [
      "Looking in links: /Users/rick446/src/wheelhouse\n",
      "Requirement already satisfied: pandas in /Users/rick446/.virtualenvs/py38/lib/python3.8/site-packages (1.1.0)\n",
      "Requirement already satisfied: numpy>=1.15.4 in /Users/rick446/.virtualenvs/py38/lib/python3.8/site-packages (from pandas) (1.19.1)\n",
      "Requirement already satisfied: pytz>=2017.2 in /Users/rick446/.virtualenvs/py38/lib/python3.8/site-packages (from pandas) (2020.1)\n",
      "Requirement already satisfied: python-dateutil>=2.7.3 in /Users/rick446/.virtualenvs/py38/lib/python3.8/site-packages (from pandas) (2.8.1)\n",
      "Requirement already satisfied: six>=1.5 in /Users/rick446/.virtualenvs/py38/lib/python3.8/site-packages (from python-dateutil>=2.7.3->pandas) (1.15.0)\n",
      "\u001b[33mWARNING: You are using pip version 20.2.1; however, version 20.2.2 is available.\n",
      "You should consider upgrading via the '/Users/rick446/.virtualenvs/py38/bin/python3.8 -m pip install --upgrade pip' command.\u001b[0m\n"
     ]
    }
   ],
   "source": [
    "!pip install pandas"
   ]
  },
  {
   "cell_type": "code",
   "execution_count": 2,
   "metadata": {},
   "outputs": [],
   "source": [
    "import pandas as pd"
   ]
  },
  {
   "cell_type": "markdown",
   "metadata": {},
   "source": [
    "## Series: kind of like a `list` and `dict` put together"
   ]
  },
  {
   "cell_type": "code",
   "execution_count": 3,
   "metadata": {
    "scrolled": true
   },
   "outputs": [
    {
     "data": {
      "text/plain": [
       "0    1\n",
       "1    2\n",
       "2    3\n",
       "dtype: int64"
      ]
     },
     "execution_count": 3,
     "metadata": {},
     "output_type": "execute_result"
    }
   ],
   "source": [
    "s = pd.Series([1,2,3])\n",
    "s"
   ]
  },
  {
   "cell_type": "code",
   "execution_count": 7,
   "metadata": {},
   "outputs": [
    {
     "data": {
      "text/plain": [
       "0    1\n",
       "1    2\n",
       "2    3\n",
       "dtype: int8"
      ]
     },
     "execution_count": 7,
     "metadata": {},
     "output_type": "execute_result"
    }
   ],
   "source": [
    "import numpy as np\n",
    "\n",
    "s = pd.Series([1,2,3], dtype=np.int8)\n",
    "s"
   ]
  },
  {
   "cell_type": "code",
   "execution_count": 8,
   "metadata": {},
   "outputs": [
    {
     "data": {
      "text/plain": [
       "0    1\n",
       "1    3\n",
       "2    3\n",
       "dtype: int8"
      ]
     },
     "execution_count": 8,
     "metadata": {},
     "output_type": "execute_result"
    }
   ],
   "source": [
    "s[1] = 3.14\n",
    "s"
   ]
  },
  {
   "cell_type": "code",
   "execution_count": 9,
   "metadata": {},
   "outputs": [
    {
     "data": {
      "text/plain": [
       "['a', 'b', 'c']"
      ]
     },
     "execution_count": 9,
     "metadata": {},
     "output_type": "execute_result"
    }
   ],
   "source": [
    "'a b c'.split()"
   ]
  },
  {
   "cell_type": "code",
   "execution_count": 10,
   "metadata": {},
   "outputs": [
    {
     "data": {
      "text/plain": [
       "a    1\n",
       "b    2\n",
       "c    3\n",
       "dtype: int64"
      ]
     },
     "execution_count": 10,
     "metadata": {},
     "output_type": "execute_result"
    }
   ],
   "source": [
    "s = pd.Series([1,2,3], index='a b c'.split())\n",
    "s"
   ]
  },
  {
   "cell_type": "code",
   "execution_count": 11,
   "metadata": {},
   "outputs": [
    {
     "data": {
      "text/plain": [
       "1"
      ]
     },
     "execution_count": 11,
     "metadata": {},
     "output_type": "execute_result"
    }
   ],
   "source": [
    "s[0]"
   ]
  },
  {
   "cell_type": "code",
   "execution_count": 12,
   "metadata": {},
   "outputs": [
    {
     "data": {
      "text/plain": [
       "1"
      ]
     },
     "execution_count": 12,
     "metadata": {},
     "output_type": "execute_result"
    }
   ],
   "source": [
    "s['a']"
   ]
  },
  {
   "cell_type": "markdown",
   "metadata": {},
   "source": [
    "## DataFrame -- the main data type\n",
    "\n"
   ]
  },
  {
   "cell_type": "code",
   "execution_count": 16,
   "metadata": {},
   "outputs": [
    {
     "data": {
      "text/html": [
       "<div>\n",
       "<style scoped>\n",
       "    .dataframe tbody tr th:only-of-type {\n",
       "        vertical-align: middle;\n",
       "    }\n",
       "\n",
       "    .dataframe tbody tr th {\n",
       "        vertical-align: top;\n",
       "    }\n",
       "\n",
       "    .dataframe thead th {\n",
       "        text-align: right;\n",
       "    }\n",
       "</style>\n",
       "<table border=\"1\" class=\"dataframe\">\n",
       "  <thead>\n",
       "    <tr style=\"text-align: right;\">\n",
       "      <th></th>\n",
       "      <th>a</th>\n",
       "      <th>b</th>\n",
       "      <th>c</th>\n",
       "    </tr>\n",
       "  </thead>\n",
       "  <tbody>\n",
       "    <tr>\n",
       "      <th>x</th>\n",
       "      <td>1</td>\n",
       "      <td>2</td>\n",
       "      <td>3</td>\n",
       "    </tr>\n",
       "    <tr>\n",
       "      <th>y</th>\n",
       "      <td>4</td>\n",
       "      <td>5</td>\n",
       "      <td>6</td>\n",
       "    </tr>\n",
       "    <tr>\n",
       "      <th>z</th>\n",
       "      <td>7</td>\n",
       "      <td>8</td>\n",
       "      <td>9</td>\n",
       "    </tr>\n",
       "    <tr>\n",
       "      <th>w</th>\n",
       "      <td>7</td>\n",
       "      <td>8</td>\n",
       "      <td>9</td>\n",
       "    </tr>\n",
       "  </tbody>\n",
       "</table>\n",
       "</div>"
      ],
      "text/plain": [
       "   a  b  c\n",
       "x  1  2  3\n",
       "y  4  5  6\n",
       "z  7  8  9\n",
       "w  7  8  9"
      ]
     },
     "execution_count": 16,
     "metadata": {},
     "output_type": "execute_result"
    }
   ],
   "source": [
    "df = pd.DataFrame(\n",
    "    [\n",
    "        [1,2,3],\n",
    "        [4,5,6],\n",
    "        [7,8,9],\n",
    "        [7,8,9],\n",
    "    ],\n",
    "    columns='a b c'.split(),\n",
    "    index='x y z w'.split()\n",
    ")\n",
    "df"
   ]
  },
  {
   "cell_type": "code",
   "execution_count": 17,
   "metadata": {},
   "outputs": [
    {
     "data": {
      "text/plain": [
       "Index(['a', 'b', 'c'], dtype='object')"
      ]
     },
     "execution_count": 17,
     "metadata": {},
     "output_type": "execute_result"
    }
   ],
   "source": [
    "df.columns"
   ]
  },
  {
   "cell_type": "code",
   "execution_count": 18,
   "metadata": {},
   "outputs": [
    {
     "data": {
      "text/plain": [
       "Index(['x', 'y', 'z', 'w'], dtype='object')"
      ]
     },
     "execution_count": 18,
     "metadata": {},
     "output_type": "execute_result"
    }
   ],
   "source": [
    "df.index"
   ]
  },
  {
   "cell_type": "code",
   "execution_count": 22,
   "metadata": {},
   "outputs": [
    {
     "data": {
      "text/plain": [
       "x    1\n",
       "y    4\n",
       "z    7\n",
       "w    7\n",
       "Name: a, dtype: int64"
      ]
     },
     "execution_count": 22,
     "metadata": {},
     "output_type": "execute_result"
    }
   ],
   "source": [
    "df['a']"
   ]
  },
  {
   "cell_type": "markdown",
   "metadata": {},
   "source": [
    "Multiple columns"
   ]
  },
  {
   "cell_type": "code",
   "execution_count": 26,
   "metadata": {},
   "outputs": [
    {
     "data": {
      "text/html": [
       "<div>\n",
       "<style scoped>\n",
       "    .dataframe tbody tr th:only-of-type {\n",
       "        vertical-align: middle;\n",
       "    }\n",
       "\n",
       "    .dataframe tbody tr th {\n",
       "        vertical-align: top;\n",
       "    }\n",
       "\n",
       "    .dataframe thead th {\n",
       "        text-align: right;\n",
       "    }\n",
       "</style>\n",
       "<table border=\"1\" class=\"dataframe\">\n",
       "  <thead>\n",
       "    <tr style=\"text-align: right;\">\n",
       "      <th></th>\n",
       "      <th>a</th>\n",
       "      <th>b</th>\n",
       "      <th>c</th>\n",
       "    </tr>\n",
       "  </thead>\n",
       "  <tbody>\n",
       "    <tr>\n",
       "      <th>0</th>\n",
       "      <td>1</td>\n",
       "      <td>2</td>\n",
       "      <td>3</td>\n",
       "    </tr>\n",
       "    <tr>\n",
       "      <th>1</th>\n",
       "      <td>4</td>\n",
       "      <td>5</td>\n",
       "      <td>6</td>\n",
       "    </tr>\n",
       "    <tr>\n",
       "      <th>2</th>\n",
       "      <td>7</td>\n",
       "      <td>8</td>\n",
       "      <td>9</td>\n",
       "    </tr>\n",
       "  </tbody>\n",
       "</table>\n",
       "</div>"
      ],
      "text/plain": [
       "   a  b  c\n",
       "0  1  2  3\n",
       "1  4  5  6\n",
       "2  7  8  9"
      ]
     },
     "execution_count": 26,
     "metadata": {},
     "output_type": "execute_result"
    }
   ],
   "source": [
    "cola = pd.Series([1, 4, 7], name='a')\n",
    "colb = pd.Series([2, 5, 8], name='b')\n",
    "colc = pd.Series([3, 6, 9], name='c')\n",
    "pd.DataFrame({'a': cola, 'b': colb, 'c': colc})\n"
   ]
  },
  {
   "cell_type": "code",
   "execution_count": 27,
   "metadata": {},
   "outputs": [
    {
     "data": {
      "text/html": [
       "<div>\n",
       "<style scoped>\n",
       "    .dataframe tbody tr th:only-of-type {\n",
       "        vertical-align: middle;\n",
       "    }\n",
       "\n",
       "    .dataframe tbody tr th {\n",
       "        vertical-align: top;\n",
       "    }\n",
       "\n",
       "    .dataframe thead th {\n",
       "        text-align: right;\n",
       "    }\n",
       "</style>\n",
       "<table border=\"1\" class=\"dataframe\">\n",
       "  <thead>\n",
       "    <tr style=\"text-align: right;\">\n",
       "      <th></th>\n",
       "      <th>a</th>\n",
       "      <th>b</th>\n",
       "      <th>c</th>\n",
       "    </tr>\n",
       "  </thead>\n",
       "  <tbody>\n",
       "    <tr>\n",
       "      <th>x</th>\n",
       "      <td>1</td>\n",
       "      <td>2</td>\n",
       "      <td>3</td>\n",
       "    </tr>\n",
       "    <tr>\n",
       "      <th>y</th>\n",
       "      <td>4</td>\n",
       "      <td>5</td>\n",
       "      <td>6</td>\n",
       "    </tr>\n",
       "    <tr>\n",
       "      <th>z</th>\n",
       "      <td>7</td>\n",
       "      <td>8</td>\n",
       "      <td>9</td>\n",
       "    </tr>\n",
       "    <tr>\n",
       "      <th>w</th>\n",
       "      <td>7</td>\n",
       "      <td>8</td>\n",
       "      <td>9</td>\n",
       "    </tr>\n",
       "  </tbody>\n",
       "</table>\n",
       "</div>"
      ],
      "text/plain": [
       "   a  b  c\n",
       "x  1  2  3\n",
       "y  4  5  6\n",
       "z  7  8  9\n",
       "w  7  8  9"
      ]
     },
     "execution_count": 27,
     "metadata": {},
     "output_type": "execute_result"
    }
   ],
   "source": [
    "df"
   ]
  },
  {
   "cell_type": "code",
   "execution_count": null,
   "metadata": {},
   "outputs": [],
   "source": [
    "cols = ['a', 'b', 'b']\n",
    "df_test = df[cols]\n",
    "df_test"
   ]
  },
  {
   "cell_type": "markdown",
   "metadata": {},
   "source": [
    "Indexing ambiguity"
   ]
  },
  {
   "cell_type": "code",
   "execution_count": 28,
   "metadata": {},
   "outputs": [
    {
     "data": {
      "text/plain": [
       "3    1\n",
       "1    2\n",
       "2    3\n",
       "dtype: int64"
      ]
     },
     "execution_count": 28,
     "metadata": {},
     "output_type": "execute_result"
    }
   ],
   "source": [
    "s = pd.Series([1,2,3], index=[3, 1, 2])\n",
    "s"
   ]
  },
  {
   "cell_type": "code",
   "execution_count": 31,
   "metadata": {},
   "outputs": [
    {
     "data": {
      "text/plain": [
       "1"
      ]
     },
     "execution_count": 31,
     "metadata": {},
     "output_type": "execute_result"
    }
   ],
   "source": [
    "s[3]"
   ]
  },
  {
   "cell_type": "code",
   "execution_count": 32,
   "metadata": {
    "scrolled": true
   },
   "outputs": [
    {
     "data": {
      "text/plain": [
       "3    1\n",
       "1    2\n",
       "dtype: int64"
      ]
     },
     "execution_count": 32,
     "metadata": {},
     "output_type": "execute_result"
    }
   ],
   "source": [
    "s[0:2]"
   ]
  },
  {
   "cell_type": "markdown",
   "metadata": {},
   "source": [
    "# Indexing using .loc, .iloc"
   ]
  },
  {
   "cell_type": "code",
   "execution_count": 33,
   "metadata": {},
   "outputs": [
    {
     "data": {
      "text/html": [
       "<div>\n",
       "<style scoped>\n",
       "    .dataframe tbody tr th:only-of-type {\n",
       "        vertical-align: middle;\n",
       "    }\n",
       "\n",
       "    .dataframe tbody tr th {\n",
       "        vertical-align: top;\n",
       "    }\n",
       "\n",
       "    .dataframe thead th {\n",
       "        text-align: right;\n",
       "    }\n",
       "</style>\n",
       "<table border=\"1\" class=\"dataframe\">\n",
       "  <thead>\n",
       "    <tr style=\"text-align: right;\">\n",
       "      <th></th>\n",
       "      <th>a</th>\n",
       "      <th>b</th>\n",
       "      <th>c</th>\n",
       "    </tr>\n",
       "  </thead>\n",
       "  <tbody>\n",
       "    <tr>\n",
       "      <th>x</th>\n",
       "      <td>1</td>\n",
       "      <td>2</td>\n",
       "      <td>3</td>\n",
       "    </tr>\n",
       "    <tr>\n",
       "      <th>y</th>\n",
       "      <td>4</td>\n",
       "      <td>5</td>\n",
       "      <td>6</td>\n",
       "    </tr>\n",
       "    <tr>\n",
       "      <th>z</th>\n",
       "      <td>7</td>\n",
       "      <td>8</td>\n",
       "      <td>9</td>\n",
       "    </tr>\n",
       "    <tr>\n",
       "      <th>w</th>\n",
       "      <td>7</td>\n",
       "      <td>8</td>\n",
       "      <td>9</td>\n",
       "    </tr>\n",
       "  </tbody>\n",
       "</table>\n",
       "</div>"
      ],
      "text/plain": [
       "   a  b  c\n",
       "x  1  2  3\n",
       "y  4  5  6\n",
       "z  7  8  9\n",
       "w  7  8  9"
      ]
     },
     "execution_count": 33,
     "metadata": {},
     "output_type": "execute_result"
    }
   ],
   "source": [
    "df"
   ]
  },
  {
   "cell_type": "code",
   "execution_count": 34,
   "metadata": {},
   "outputs": [
    {
     "data": {
      "text/plain": [
       "x    1\n",
       "y    4\n",
       "z    7\n",
       "w    7\n",
       "Name: a, dtype: int64"
      ]
     },
     "execution_count": 34,
     "metadata": {},
     "output_type": "execute_result"
    }
   ],
   "source": [
    "df['a']"
   ]
  },
  {
   "cell_type": "code",
   "execution_count": 35,
   "metadata": {},
   "outputs": [
    {
     "data": {
      "text/plain": [
       "a    1\n",
       "b    2\n",
       "c    3\n",
       "Name: x, dtype: int64"
      ]
     },
     "execution_count": 35,
     "metadata": {},
     "output_type": "execute_result"
    }
   ],
   "source": [
    "df.loc['x']"
   ]
  },
  {
   "cell_type": "code",
   "execution_count": 36,
   "metadata": {},
   "outputs": [
    {
     "data": {
      "text/plain": [
       "a    1\n",
       "b    2\n",
       "c    3\n",
       "Name: x, dtype: int64"
      ]
     },
     "execution_count": 36,
     "metadata": {},
     "output_type": "execute_result"
    }
   ],
   "source": [
    "df.iloc[0]"
   ]
  },
  {
   "cell_type": "code",
   "execution_count": 37,
   "metadata": {},
   "outputs": [
    {
     "data": {
      "text/plain": [
       "1"
      ]
     },
     "execution_count": 37,
     "metadata": {},
     "output_type": "execute_result"
    }
   ],
   "source": [
    "df.loc['x', 'a']"
   ]
  },
  {
   "cell_type": "code",
   "execution_count": 41,
   "metadata": {},
   "outputs": [
    {
     "data": {
      "text/plain": [
       "a    1\n",
       "b    2\n",
       "c    3\n",
       "Name: x, dtype: int64"
      ]
     },
     "execution_count": 41,
     "metadata": {},
     "output_type": "execute_result"
    }
   ],
   "source": [
    "df.loc['x', :]  # retrieve all columns"
   ]
  },
  {
   "cell_type": "code",
   "execution_count": 42,
   "metadata": {},
   "outputs": [
    {
     "data": {
      "text/plain": [
       "x    1\n",
       "y    4\n",
       "z    7\n",
       "w    7\n",
       "Name: a, dtype: int64"
      ]
     },
     "execution_count": 42,
     "metadata": {},
     "output_type": "execute_result"
    }
   ],
   "source": [
    "df.loc[:, 'a']  # retrieve all rows"
   ]
  },
  {
   "cell_type": "code",
   "execution_count": 43,
   "metadata": {},
   "outputs": [
    {
     "data": {
      "text/html": [
       "<div>\n",
       "<style scoped>\n",
       "    .dataframe tbody tr th:only-of-type {\n",
       "        vertical-align: middle;\n",
       "    }\n",
       "\n",
       "    .dataframe tbody tr th {\n",
       "        vertical-align: top;\n",
       "    }\n",
       "\n",
       "    .dataframe thead th {\n",
       "        text-align: right;\n",
       "    }\n",
       "</style>\n",
       "<table border=\"1\" class=\"dataframe\">\n",
       "  <thead>\n",
       "    <tr style=\"text-align: right;\">\n",
       "      <th></th>\n",
       "      <th>a</th>\n",
       "      <th>b</th>\n",
       "      <th>c</th>\n",
       "    </tr>\n",
       "  </thead>\n",
       "  <tbody>\n",
       "    <tr>\n",
       "      <th>x</th>\n",
       "      <td>1</td>\n",
       "      <td>2</td>\n",
       "      <td>3</td>\n",
       "    </tr>\n",
       "    <tr>\n",
       "      <th>y</th>\n",
       "      <td>4</td>\n",
       "      <td>5</td>\n",
       "      <td>6</td>\n",
       "    </tr>\n",
       "  </tbody>\n",
       "</table>\n",
       "</div>"
      ],
      "text/plain": [
       "   a  b  c\n",
       "x  1  2  3\n",
       "y  4  5  6"
      ]
     },
     "execution_count": 43,
     "metadata": {},
     "output_type": "execute_result"
    }
   ],
   "source": [
    "df.loc['x':'y']   # includes both endpoints (df.loc[x] and df.loc[y])"
   ]
  },
  {
   "cell_type": "code",
   "execution_count": 44,
   "metadata": {},
   "outputs": [
    {
     "data": {
      "text/html": [
       "<div>\n",
       "<style scoped>\n",
       "    .dataframe tbody tr th:only-of-type {\n",
       "        vertical-align: middle;\n",
       "    }\n",
       "\n",
       "    .dataframe tbody tr th {\n",
       "        vertical-align: top;\n",
       "    }\n",
       "\n",
       "    .dataframe thead th {\n",
       "        text-align: right;\n",
       "    }\n",
       "</style>\n",
       "<table border=\"1\" class=\"dataframe\">\n",
       "  <thead>\n",
       "    <tr style=\"text-align: right;\">\n",
       "      <th></th>\n",
       "      <th>a</th>\n",
       "      <th>b</th>\n",
       "      <th>c</th>\n",
       "    </tr>\n",
       "  </thead>\n",
       "  <tbody>\n",
       "    <tr>\n",
       "      <th>x</th>\n",
       "      <td>1</td>\n",
       "      <td>2</td>\n",
       "      <td>3</td>\n",
       "    </tr>\n",
       "    <tr>\n",
       "      <th>y</th>\n",
       "      <td>4</td>\n",
       "      <td>5</td>\n",
       "      <td>6</td>\n",
       "    </tr>\n",
       "  </tbody>\n",
       "</table>\n",
       "</div>"
      ],
      "text/plain": [
       "   a  b  c\n",
       "x  1  2  3\n",
       "y  4  5  6"
      ]
     },
     "execution_count": 44,
     "metadata": {},
     "output_type": "execute_result"
    }
   ],
   "source": [
    "df.iloc[0:2]     # excludes the right endpoint (df.iloc[2])"
   ]
  },
  {
   "cell_type": "code",
   "execution_count": 49,
   "metadata": {},
   "outputs": [
    {
     "name": "stdout",
     "output_type": "stream",
     "text": [
      "<class 'pandas.core.frame.DataFrame'>\n",
      "Index: 4 entries, x to w\n",
      "Data columns (total 3 columns):\n",
      " #   Column  Non-Null Count  Dtype\n",
      "---  ------  --------------  -----\n",
      " 0   a       4 non-null      int64\n",
      " 1   b       4 non-null      int64\n",
      " 2   c       4 non-null      int64\n",
      "dtypes: int64(3)\n",
      "memory usage: 288.0+ bytes\n"
     ]
    }
   ],
   "source": [
    "df.info() # memory_usage='deep')"
   ]
  },
  {
   "cell_type": "code",
   "execution_count": 50,
   "metadata": {},
   "outputs": [],
   "source": [
    "df.loc['x', 'b'] = 200"
   ]
  },
  {
   "cell_type": "code",
   "execution_count": 51,
   "metadata": {},
   "outputs": [
    {
     "data": {
      "text/html": [
       "<div>\n",
       "<style scoped>\n",
       "    .dataframe tbody tr th:only-of-type {\n",
       "        vertical-align: middle;\n",
       "    }\n",
       "\n",
       "    .dataframe tbody tr th {\n",
       "        vertical-align: top;\n",
       "    }\n",
       "\n",
       "    .dataframe thead th {\n",
       "        text-align: right;\n",
       "    }\n",
       "</style>\n",
       "<table border=\"1\" class=\"dataframe\">\n",
       "  <thead>\n",
       "    <tr style=\"text-align: right;\">\n",
       "      <th></th>\n",
       "      <th>a</th>\n",
       "      <th>b</th>\n",
       "      <th>c</th>\n",
       "    </tr>\n",
       "  </thead>\n",
       "  <tbody>\n",
       "    <tr>\n",
       "      <th>x</th>\n",
       "      <td>1</td>\n",
       "      <td>200</td>\n",
       "      <td>3</td>\n",
       "    </tr>\n",
       "    <tr>\n",
       "      <th>y</th>\n",
       "      <td>4</td>\n",
       "      <td>5</td>\n",
       "      <td>6</td>\n",
       "    </tr>\n",
       "    <tr>\n",
       "      <th>z</th>\n",
       "      <td>7</td>\n",
       "      <td>8</td>\n",
       "      <td>9</td>\n",
       "    </tr>\n",
       "    <tr>\n",
       "      <th>w</th>\n",
       "      <td>7</td>\n",
       "      <td>8</td>\n",
       "      <td>9</td>\n",
       "    </tr>\n",
       "  </tbody>\n",
       "</table>\n",
       "</div>"
      ],
      "text/plain": [
       "   a    b  c\n",
       "x  1  200  3\n",
       "y  4    5  6\n",
       "z  7    8  9\n",
       "w  7    8  9"
      ]
     },
     "execution_count": 51,
     "metadata": {},
     "output_type": "execute_result"
    }
   ],
   "source": [
    "df"
   ]
  },
  {
   "cell_type": "code",
   "execution_count": 52,
   "metadata": {},
   "outputs": [
    {
     "data": {
      "text/plain": [
       "x    1\n",
       "y    4\n",
       "z    7\n",
       "w    7\n",
       "Name: a, dtype: int64"
      ]
     },
     "execution_count": 52,
     "metadata": {},
     "output_type": "execute_result"
    }
   ],
   "source": [
    "df['a']"
   ]
  },
  {
   "cell_type": "code",
   "execution_count": 55,
   "metadata": {},
   "outputs": [
    {
     "data": {
      "text/html": [
       "<div>\n",
       "<style scoped>\n",
       "    .dataframe tbody tr th:only-of-type {\n",
       "        vertical-align: middle;\n",
       "    }\n",
       "\n",
       "    .dataframe tbody tr th {\n",
       "        vertical-align: top;\n",
       "    }\n",
       "\n",
       "    .dataframe thead th {\n",
       "        text-align: right;\n",
       "    }\n",
       "</style>\n",
       "<table border=\"1\" class=\"dataframe\">\n",
       "  <thead>\n",
       "    <tr style=\"text-align: right;\">\n",
       "      <th></th>\n",
       "      <th>a</th>\n",
       "    </tr>\n",
       "  </thead>\n",
       "  <tbody>\n",
       "    <tr>\n",
       "      <th>x</th>\n",
       "      <td>1</td>\n",
       "    </tr>\n",
       "    <tr>\n",
       "      <th>y</th>\n",
       "      <td>4</td>\n",
       "    </tr>\n",
       "    <tr>\n",
       "      <th>z</th>\n",
       "      <td>7</td>\n",
       "    </tr>\n",
       "    <tr>\n",
       "      <th>w</th>\n",
       "      <td>7</td>\n",
       "    </tr>\n",
       "  </tbody>\n",
       "</table>\n",
       "</div>"
      ],
      "text/plain": [
       "   a\n",
       "x  1\n",
       "y  4\n",
       "z  7\n",
       "w  7"
      ]
     },
     "execution_count": 55,
     "metadata": {},
     "output_type": "execute_result"
    }
   ],
   "source": [
    "df2 = df[['a']]\n",
    "df2"
   ]
  },
  {
   "cell_type": "code",
   "execution_count": 56,
   "metadata": {},
   "outputs": [
    {
     "data": {
      "text/plain": [
       "(4, 1)"
      ]
     },
     "execution_count": 56,
     "metadata": {},
     "output_type": "execute_result"
    }
   ],
   "source": [
    "df2.shape"
   ]
  },
  {
   "cell_type": "code",
   "execution_count": 57,
   "metadata": {},
   "outputs": [
    {
     "data": {
      "text/plain": [
       "x    1\n",
       "y    4\n",
       "z    7\n",
       "w    7\n",
       "Name: a, dtype: int64"
      ]
     },
     "execution_count": 57,
     "metadata": {},
     "output_type": "execute_result"
    }
   ],
   "source": [
    "df['a']"
   ]
  },
  {
   "cell_type": "code",
   "execution_count": 58,
   "metadata": {},
   "outputs": [
    {
     "data": {
      "text/plain": [
       "(4,)"
      ]
     },
     "execution_count": 58,
     "metadata": {},
     "output_type": "execute_result"
    }
   ],
   "source": [
    "df['a'].shape"
   ]
  },
  {
   "cell_type": "markdown",
   "metadata": {},
   "source": [
    "# Reading CSV data\n",
    "\n",
    "Most of the time, we *won't* be building `DataFrame`s out of the basic constructor, but rather using one of the readers built in to Pandas. One of these is `read_csv`:"
   ]
  },
  {
   "cell_type": "code",
   "execution_count": 59,
   "metadata": {},
   "outputs": [
    {
     "data": {
      "text/html": [
       "<div>\n",
       "<style scoped>\n",
       "    .dataframe tbody tr th:only-of-type {\n",
       "        vertical-align: middle;\n",
       "    }\n",
       "\n",
       "    .dataframe tbody tr th {\n",
       "        vertical-align: top;\n",
       "    }\n",
       "\n",
       "    .dataframe thead th {\n",
       "        text-align: right;\n",
       "    }\n",
       "</style>\n",
       "<table border=\"1\" class=\"dataframe\">\n",
       "  <thead>\n",
       "    <tr style=\"text-align: right;\">\n",
       "      <th></th>\n",
       "      <th>Unnamed: 0</th>\n",
       "      <th>F</th>\n",
       "      <th>TSLA</th>\n",
       "      <th>GOOG</th>\n",
       "      <th>IBM</th>\n",
       "      <th>AAPL</th>\n",
       "    </tr>\n",
       "  </thead>\n",
       "  <tbody>\n",
       "    <tr>\n",
       "      <th>0</th>\n",
       "      <td>2014-01-02</td>\n",
       "      <td>12.0890</td>\n",
       "      <td>150.10</td>\n",
       "      <td>NaN</td>\n",
       "      <td>157.6001</td>\n",
       "      <td>72.7741</td>\n",
       "    </tr>\n",
       "    <tr>\n",
       "      <th>1</th>\n",
       "      <td>2014-01-03</td>\n",
       "      <td>12.1438</td>\n",
       "      <td>149.56</td>\n",
       "      <td>NaN</td>\n",
       "      <td>158.5430</td>\n",
       "      <td>71.1756</td>\n",
       "    </tr>\n",
       "    <tr>\n",
       "      <th>2</th>\n",
       "      <td>2014-01-06</td>\n",
       "      <td>12.1986</td>\n",
       "      <td>147.00</td>\n",
       "      <td>NaN</td>\n",
       "      <td>157.9993</td>\n",
       "      <td>71.5637</td>\n",
       "    </tr>\n",
       "    <tr>\n",
       "      <th>3</th>\n",
       "      <td>2014-01-07</td>\n",
       "      <td>12.0420</td>\n",
       "      <td>149.36</td>\n",
       "      <td>NaN</td>\n",
       "      <td>161.1508</td>\n",
       "      <td>71.0516</td>\n",
       "    </tr>\n",
       "    <tr>\n",
       "      <th>4</th>\n",
       "      <td>2014-01-08</td>\n",
       "      <td>12.1673</td>\n",
       "      <td>151.28</td>\n",
       "      <td>NaN</td>\n",
       "      <td>159.6728</td>\n",
       "      <td>71.5019</td>\n",
       "    </tr>\n",
       "  </tbody>\n",
       "</table>\n",
       "</div>"
      ],
      "text/plain": [
       "   Unnamed: 0        F    TSLA  GOOG       IBM     AAPL\n",
       "0  2014-01-02  12.0890  150.10   NaN  157.6001  72.7741\n",
       "1  2014-01-03  12.1438  149.56   NaN  158.5430  71.1756\n",
       "2  2014-01-06  12.1986  147.00   NaN  157.9993  71.5637\n",
       "3  2014-01-07  12.0420  149.36   NaN  161.1508  71.0516\n",
       "4  2014-01-08  12.1673  151.28   NaN  159.6728  71.5019"
      ]
     },
     "execution_count": 59,
     "metadata": {},
     "output_type": "execute_result"
    }
   ],
   "source": [
    "df = pd.read_csv('./data/closing-prices.csv')\n",
    "df.head() # Only show the first few rows"
   ]
  },
  {
   "cell_type": "code",
   "execution_count": 60,
   "metadata": {},
   "outputs": [
    {
     "name": "stdout",
     "output_type": "stream",
     "text": [
      ",F,TSLA,GOOG,IBM,AAPL\r\n",
      "2014-01-02,12.089,150.1,,157.6001,72.7741\r\n",
      "2014-01-03,12.1438,149.56,,158.543,71.1756\r\n",
      "2014-01-06,12.1986,147.0,,157.9993,71.5637\r\n",
      "2014-01-07,12.042,149.36,,161.1508,71.0516\r\n",
      "2014-01-08,12.1673,151.28,,159.6728,71.5019\r\n",
      "2014-01-09,12.4022,147.53,,159.1716,70.5887\r\n",
      "2014-01-10,12.5822,145.7199,,159.0696,70.1178\r\n",
      "2014-01-13,12.6136,139.34,,156.4363,70.4849\r\n",
      "2014-01-14,12.8406,161.27,,157.9314,71.8874\r\n"
     ]
    }
   ],
   "source": [
    "!head data/closing-prices.csv"
   ]
  },
  {
   "cell_type": "markdown",
   "metadata": {},
   "source": [
    "The CSV reader is pretty good about inferring types, but not perfect. We can check lots of things about the structure of a `DataFrame` with the `.info()` method:"
   ]
  },
  {
   "cell_type": "code",
   "execution_count": 68,
   "metadata": {},
   "outputs": [
    {
     "name": "stdout",
     "output_type": "stream",
     "text": [
      "<class 'pandas.core.frame.DataFrame'>\n",
      "RangeIndex: 1007 entries, 0 to 1006\n",
      "Data columns (total 6 columns):\n",
      " #   Column      Non-Null Count  Dtype  \n",
      "---  ------      --------------  -----  \n",
      " 0   Unnamed: 0  1007 non-null   object \n",
      " 1   F           1007 non-null   float64\n",
      " 2   TSLA        1007 non-null   float64\n",
      " 3   GOOG        949 non-null    float64\n",
      " 4   IBM         1007 non-null   float64\n",
      " 5   AAPL        1007 non-null   float64\n",
      "dtypes: float64(5), object(1)\n",
      "memory usage: 105.3 KB\n"
     ]
    }
   ],
   "source": [
    "df.info(memory_usage='deep')"
   ]
  },
  {
   "cell_type": "code",
   "execution_count": 64,
   "metadata": {},
   "outputs": [
    {
     "data": {
      "text/plain": [
       "nan"
      ]
     },
     "execution_count": 64,
     "metadata": {},
     "output_type": "execute_result"
    }
   ],
   "source": [
    "float('nan')"
   ]
  },
  {
   "cell_type": "code",
   "execution_count": 65,
   "metadata": {},
   "outputs": [
    {
     "data": {
      "text/plain": [
       "False"
      ]
     },
     "execution_count": 65,
     "metadata": {},
     "output_type": "execute_result"
    }
   ],
   "source": [
    "np.nan == np.nan"
   ]
  },
  {
   "cell_type": "code",
   "execution_count": 66,
   "metadata": {},
   "outputs": [
    {
     "data": {
      "text/plain": [
       "True"
      ]
     },
     "execution_count": 66,
     "metadata": {},
     "output_type": "execute_result"
    }
   ],
   "source": [
    "np.nan is np.nan"
   ]
  },
  {
   "cell_type": "code",
   "execution_count": 67,
   "metadata": {},
   "outputs": [
    {
     "name": "stdout",
     "output_type": "stream",
     "text": [
      "-rw-r--r--  1 rick446  staff    49K Feb 26  2019 ./data/closing-prices.csv\r\n"
     ]
    }
   ],
   "source": [
    "!ls -lh ./data/closing-prices.csv"
   ]
  },
  {
   "cell_type": "code",
   "execution_count": 69,
   "metadata": {},
   "outputs": [],
   "source": [
    "import csv\n",
    "with open('./data/closing-prices.csv') as f:\n",
    "    rows = list(csv.reader(f))"
   ]
  },
  {
   "cell_type": "code",
   "execution_count": 70,
   "metadata": {},
   "outputs": [
    {
     "data": {
      "text/plain": [
       "1008"
      ]
     },
     "execution_count": 70,
     "metadata": {},
     "output_type": "execute_result"
    }
   ],
   "source": [
    "len(rows)"
   ]
  },
  {
   "cell_type": "code",
   "execution_count": 71,
   "metadata": {},
   "outputs": [
    {
     "data": {
      "text/plain": [
       "[['', 'F', 'TSLA', 'GOOG', 'IBM', 'AAPL'],\n",
       " ['2014-01-02', '12.089', '150.1', '', '157.6001', '72.7741'],\n",
       " ['2014-01-03', '12.1438', '149.56', '', '158.543', '71.1756'],\n",
       " ['2014-01-06', '12.1986', '147.0', '', '157.9993', '71.5637'],\n",
       " ['2014-01-07', '12.042', '149.36', '', '161.1508', '71.0516']]"
      ]
     },
     "execution_count": 71,
     "metadata": {},
     "output_type": "execute_result"
    }
   ],
   "source": [
    "rows[:5]"
   ]
  },
  {
   "cell_type": "code",
   "execution_count": 72,
   "metadata": {},
   "outputs": [
    {
     "name": "stdout",
     "output_type": "stream",
     "text": [
      "Looking in links: /Users/rick446/src/wheelhouse\n",
      "Collecting pympler\n",
      "  Using cached Pympler-0.8.tar.gz (175 kB)\n",
      "Building wheels for collected packages: pympler\n",
      "  Building wheel for pympler (setup.py) ... \u001b[?25ldone\n",
      "\u001b[?25h  Created wheel for pympler: filename=Pympler-0.8-py3-none-any.whl size=164713 sha256=dac9876d4e4ab41edb3c5bdf969436c38db9c29d6a130f91cb7b622add12de36\n",
      "  Stored in directory: /Users/rick446/Library/Caches/pip/wheels/2c/09/38/7c8c5dc224099d3a7194d154a99093d429bb4bda18c241c4b5\n",
      "Successfully built pympler\n",
      "Installing collected packages: pympler\n",
      "Successfully installed pympler-0.8\n",
      "\u001b[33mWARNING: You are using pip version 20.2.1; however, version 20.2.2 is available.\n",
      "You should consider upgrading via the '/Users/rick446/.virtualenvs/py38/bin/python3.8 -m pip install --upgrade pip' command.\u001b[0m\n"
     ]
    }
   ],
   "source": [
    "!pip install pympler"
   ]
  },
  {
   "cell_type": "code",
   "execution_count": 73,
   "metadata": {},
   "outputs": [],
   "source": [
    "import pympler"
   ]
  },
  {
   "cell_type": "code",
   "execution_count": 74,
   "metadata": {},
   "outputs": [],
   "source": [
    "import pympler.asizeof"
   ]
  },
  {
   "cell_type": "code",
   "execution_count": 75,
   "metadata": {},
   "outputs": [
    {
     "data": {
      "text/plain": [
       "485176"
      ]
     },
     "execution_count": 75,
     "metadata": {},
     "output_type": "execute_result"
    }
   ],
   "source": [
    "pympler.asizeof.asizeof(rows)"
   ]
  },
  {
   "cell_type": "markdown",
   "metadata": {},
   "source": [
    "The first column was read in as an `object` (meaning Pandas couldn't be more specific about its type, usually what happens with string data). Let's tell Pandas that column is a date:"
   ]
  },
  {
   "cell_type": "code",
   "execution_count": 76,
   "metadata": {},
   "outputs": [
    {
     "data": {
      "text/plain": [
       "0      2014-01-02\n",
       "1      2014-01-03\n",
       "2      2014-01-06\n",
       "3      2014-01-07\n",
       "4      2014-01-08\n",
       "          ...    \n",
       "1002   2017-12-22\n",
       "1003   2017-12-26\n",
       "1004   2017-12-27\n",
       "1005   2017-12-28\n",
       "1006   2017-12-29\n",
       "Name: Unnamed: 0, Length: 1007, dtype: datetime64[ns]"
      ]
     },
     "execution_count": 76,
     "metadata": {},
     "output_type": "execute_result"
    }
   ],
   "source": [
    "pd.to_datetime(df['Unnamed: 0'])"
   ]
  },
  {
   "cell_type": "code",
   "execution_count": 78,
   "metadata": {},
   "outputs": [
    {
     "name": "stdout",
     "output_type": "stream",
     "text": [
      "<class 'pandas.core.frame.DataFrame'>\n",
      "RangeIndex: 1007 entries, 0 to 1006\n",
      "Data columns (total 6 columns):\n",
      " #   Column      Non-Null Count  Dtype         \n",
      "---  ------      --------------  -----         \n",
      " 0   Unnamed: 0  1007 non-null   datetime64[ns]\n",
      " 1   F           1007 non-null   float64       \n",
      " 2   TSLA        1007 non-null   float64       \n",
      " 3   GOOG        949 non-null    float64       \n",
      " 4   IBM         1007 non-null   float64       \n",
      " 5   AAPL        1007 non-null   float64       \n",
      "dtypes: datetime64[ns](1), float64(5)\n",
      "memory usage: 47.3 KB\n"
     ]
    }
   ],
   "source": [
    "df['Unnamed: 0'] = pd.to_datetime(df['Unnamed: 0'])\n",
    "df.info(memory_usage='deep')"
   ]
  },
  {
   "cell_type": "markdown",
   "metadata": {},
   "source": [
    "We can also parse datetimes during the import:"
   ]
  },
  {
   "cell_type": "code",
   "execution_count": 79,
   "metadata": {},
   "outputs": [
    {
     "name": "stdout",
     "output_type": "stream",
     "text": [
      "<class 'pandas.core.frame.DataFrame'>\n",
      "RangeIndex: 1007 entries, 0 to 1006\n",
      "Data columns (total 6 columns):\n",
      " #   Column      Non-Null Count  Dtype         \n",
      "---  ------      --------------  -----         \n",
      " 0   Unnamed: 0  1007 non-null   datetime64[ns]\n",
      " 1   F           1007 non-null   float64       \n",
      " 2   TSLA        1007 non-null   float64       \n",
      " 3   GOOG        949 non-null    float64       \n",
      " 4   IBM         1007 non-null   float64       \n",
      " 5   AAPL        1007 non-null   float64       \n",
      "dtypes: datetime64[ns](1), float64(5)\n",
      "memory usage: 47.3 KB\n"
     ]
    }
   ],
   "source": [
    "df = pd.read_csv('./data/closing-prices.csv', parse_dates=[0])\n",
    "df.info()"
   ]
  },
  {
   "cell_type": "code",
   "execution_count": 80,
   "metadata": {},
   "outputs": [
    {
     "name": "stdout",
     "output_type": "stream",
     "text": [
      "-rw-r--r--  1 rick446  staff    49K Feb 26  2019 ./data/closing-prices.csv\r\n"
     ]
    }
   ],
   "source": [
    "ls -lh ./data/closing-prices.csv"
   ]
  },
  {
   "cell_type": "code",
   "execution_count": 81,
   "metadata": {},
   "outputs": [
    {
     "data": {
      "text/html": [
       "<div>\n",
       "<style scoped>\n",
       "    .dataframe tbody tr th:only-of-type {\n",
       "        vertical-align: middle;\n",
       "    }\n",
       "\n",
       "    .dataframe tbody tr th {\n",
       "        vertical-align: top;\n",
       "    }\n",
       "\n",
       "    .dataframe thead th {\n",
       "        text-align: right;\n",
       "    }\n",
       "</style>\n",
       "<table border=\"1\" class=\"dataframe\">\n",
       "  <thead>\n",
       "    <tr style=\"text-align: right;\">\n",
       "      <th></th>\n",
       "      <th>Unnamed: 0</th>\n",
       "      <th>F</th>\n",
       "      <th>TSLA</th>\n",
       "      <th>GOOG</th>\n",
       "      <th>IBM</th>\n",
       "      <th>AAPL</th>\n",
       "    </tr>\n",
       "  </thead>\n",
       "  <tbody>\n",
       "    <tr>\n",
       "      <th>0</th>\n",
       "      <td>2014-01-02</td>\n",
       "      <td>12.0890</td>\n",
       "      <td>150.10</td>\n",
       "      <td>NaN</td>\n",
       "      <td>157.6001</td>\n",
       "      <td>72.7741</td>\n",
       "    </tr>\n",
       "    <tr>\n",
       "      <th>1</th>\n",
       "      <td>2014-01-03</td>\n",
       "      <td>12.1438</td>\n",
       "      <td>149.56</td>\n",
       "      <td>NaN</td>\n",
       "      <td>158.5430</td>\n",
       "      <td>71.1756</td>\n",
       "    </tr>\n",
       "    <tr>\n",
       "      <th>2</th>\n",
       "      <td>2014-01-06</td>\n",
       "      <td>12.1986</td>\n",
       "      <td>147.00</td>\n",
       "      <td>NaN</td>\n",
       "      <td>157.9993</td>\n",
       "      <td>71.5637</td>\n",
       "    </tr>\n",
       "    <tr>\n",
       "      <th>3</th>\n",
       "      <td>2014-01-07</td>\n",
       "      <td>12.0420</td>\n",
       "      <td>149.36</td>\n",
       "      <td>NaN</td>\n",
       "      <td>161.1508</td>\n",
       "      <td>71.0516</td>\n",
       "    </tr>\n",
       "    <tr>\n",
       "      <th>4</th>\n",
       "      <td>2014-01-08</td>\n",
       "      <td>12.1673</td>\n",
       "      <td>151.28</td>\n",
       "      <td>NaN</td>\n",
       "      <td>159.6728</td>\n",
       "      <td>71.5019</td>\n",
       "    </tr>\n",
       "  </tbody>\n",
       "</table>\n",
       "</div>"
      ],
      "text/plain": [
       "  Unnamed: 0        F    TSLA  GOOG       IBM     AAPL\n",
       "0 2014-01-02  12.0890  150.10   NaN  157.6001  72.7741\n",
       "1 2014-01-03  12.1438  149.56   NaN  158.5430  71.1756\n",
       "2 2014-01-06  12.1986  147.00   NaN  157.9993  71.5637\n",
       "3 2014-01-07  12.0420  149.36   NaN  161.1508  71.0516\n",
       "4 2014-01-08  12.1673  151.28   NaN  159.6728  71.5019"
      ]
     },
     "execution_count": 81,
     "metadata": {},
     "output_type": "execute_result"
    }
   ],
   "source": [
    "df.iloc[:5]"
   ]
  },
  {
   "cell_type": "code",
   "execution_count": 83,
   "metadata": {},
   "outputs": [
    {
     "data": {
      "text/html": [
       "<div>\n",
       "<style scoped>\n",
       "    .dataframe tbody tr th:only-of-type {\n",
       "        vertical-align: middle;\n",
       "    }\n",
       "\n",
       "    .dataframe tbody tr th {\n",
       "        vertical-align: top;\n",
       "    }\n",
       "\n",
       "    .dataframe thead th {\n",
       "        text-align: right;\n",
       "    }\n",
       "</style>\n",
       "<table border=\"1\" class=\"dataframe\">\n",
       "  <thead>\n",
       "    <tr style=\"text-align: right;\">\n",
       "      <th></th>\n",
       "      <th>Unnamed: 0</th>\n",
       "      <th>F</th>\n",
       "      <th>TSLA</th>\n",
       "      <th>GOOG</th>\n",
       "      <th>IBM</th>\n",
       "      <th>AAPL</th>\n",
       "    </tr>\n",
       "  </thead>\n",
       "  <tbody>\n",
       "    <tr>\n",
       "      <th>1002</th>\n",
       "      <td>2017-12-22</td>\n",
       "      <td>11.9489</td>\n",
       "      <td>325.20</td>\n",
       "      <td>1060.12</td>\n",
       "      <td>147.7588</td>\n",
       "      <td>173.0230</td>\n",
       "    </tr>\n",
       "    <tr>\n",
       "      <th>1003</th>\n",
       "      <td>2017-12-26</td>\n",
       "      <td>11.9679</td>\n",
       "      <td>317.29</td>\n",
       "      <td>1056.74</td>\n",
       "      <td>148.0786</td>\n",
       "      <td>168.6334</td>\n",
       "    </tr>\n",
       "    <tr>\n",
       "      <th>1004</th>\n",
       "      <td>2017-12-27</td>\n",
       "      <td>11.8729</td>\n",
       "      <td>311.64</td>\n",
       "      <td>1049.37</td>\n",
       "      <td>148.3693</td>\n",
       "      <td>168.6630</td>\n",
       "    </tr>\n",
       "    <tr>\n",
       "      <th>1005</th>\n",
       "      <td>2017-12-28</td>\n",
       "      <td>11.9489</td>\n",
       "      <td>315.36</td>\n",
       "      <td>1048.14</td>\n",
       "      <td>149.2510</td>\n",
       "      <td>169.1376</td>\n",
       "    </tr>\n",
       "    <tr>\n",
       "      <th>1006</th>\n",
       "      <td>2017-12-29</td>\n",
       "      <td>11.8634</td>\n",
       "      <td>311.35</td>\n",
       "      <td>1046.40</td>\n",
       "      <td>148.6502</td>\n",
       "      <td>167.3086</td>\n",
       "    </tr>\n",
       "  </tbody>\n",
       "</table>\n",
       "</div>"
      ],
      "text/plain": [
       "     Unnamed: 0        F    TSLA     GOOG       IBM      AAPL\n",
       "1002 2017-12-22  11.9489  325.20  1060.12  147.7588  173.0230\n",
       "1003 2017-12-26  11.9679  317.29  1056.74  148.0786  168.6334\n",
       "1004 2017-12-27  11.8729  311.64  1049.37  148.3693  168.6630\n",
       "1005 2017-12-28  11.9489  315.36  1048.14  149.2510  169.1376\n",
       "1006 2017-12-29  11.8634  311.35  1046.40  148.6502  167.3086"
      ]
     },
     "execution_count": 83,
     "metadata": {},
     "output_type": "execute_result"
    }
   ],
   "source": [
    "df.tail()"
   ]
  },
  {
   "cell_type": "markdown",
   "metadata": {},
   "source": [
    "We can set the index of the dataframe as well:"
   ]
  },
  {
   "cell_type": "code",
   "execution_count": 84,
   "metadata": {},
   "outputs": [
    {
     "data": {
      "text/html": [
       "<div>\n",
       "<style scoped>\n",
       "    .dataframe tbody tr th:only-of-type {\n",
       "        vertical-align: middle;\n",
       "    }\n",
       "\n",
       "    .dataframe tbody tr th {\n",
       "        vertical-align: top;\n",
       "    }\n",
       "\n",
       "    .dataframe thead th {\n",
       "        text-align: right;\n",
       "    }\n",
       "</style>\n",
       "<table border=\"1\" class=\"dataframe\">\n",
       "  <thead>\n",
       "    <tr style=\"text-align: right;\">\n",
       "      <th></th>\n",
       "      <th>F</th>\n",
       "      <th>TSLA</th>\n",
       "      <th>GOOG</th>\n",
       "      <th>IBM</th>\n",
       "      <th>AAPL</th>\n",
       "    </tr>\n",
       "    <tr>\n",
       "      <th>Unnamed: 0</th>\n",
       "      <th></th>\n",
       "      <th></th>\n",
       "      <th></th>\n",
       "      <th></th>\n",
       "      <th></th>\n",
       "    </tr>\n",
       "  </thead>\n",
       "  <tbody>\n",
       "    <tr>\n",
       "      <th>2014-01-02</th>\n",
       "      <td>12.0890</td>\n",
       "      <td>150.10</td>\n",
       "      <td>NaN</td>\n",
       "      <td>157.6001</td>\n",
       "      <td>72.7741</td>\n",
       "    </tr>\n",
       "    <tr>\n",
       "      <th>2014-01-03</th>\n",
       "      <td>12.1438</td>\n",
       "      <td>149.56</td>\n",
       "      <td>NaN</td>\n",
       "      <td>158.5430</td>\n",
       "      <td>71.1756</td>\n",
       "    </tr>\n",
       "    <tr>\n",
       "      <th>2014-01-06</th>\n",
       "      <td>12.1986</td>\n",
       "      <td>147.00</td>\n",
       "      <td>NaN</td>\n",
       "      <td>157.9993</td>\n",
       "      <td>71.5637</td>\n",
       "    </tr>\n",
       "    <tr>\n",
       "      <th>2014-01-07</th>\n",
       "      <td>12.0420</td>\n",
       "      <td>149.36</td>\n",
       "      <td>NaN</td>\n",
       "      <td>161.1508</td>\n",
       "      <td>71.0516</td>\n",
       "    </tr>\n",
       "    <tr>\n",
       "      <th>2014-01-08</th>\n",
       "      <td>12.1673</td>\n",
       "      <td>151.28</td>\n",
       "      <td>NaN</td>\n",
       "      <td>159.6728</td>\n",
       "      <td>71.5019</td>\n",
       "    </tr>\n",
       "  </tbody>\n",
       "</table>\n",
       "</div>"
      ],
      "text/plain": [
       "                  F    TSLA  GOOG       IBM     AAPL\n",
       "Unnamed: 0                                          \n",
       "2014-01-02  12.0890  150.10   NaN  157.6001  72.7741\n",
       "2014-01-03  12.1438  149.56   NaN  158.5430  71.1756\n",
       "2014-01-06  12.1986  147.00   NaN  157.9993  71.5637\n",
       "2014-01-07  12.0420  149.36   NaN  161.1508  71.0516\n",
       "2014-01-08  12.1673  151.28   NaN  159.6728  71.5019"
      ]
     },
     "execution_count": 84,
     "metadata": {},
     "output_type": "execute_result"
    }
   ],
   "source": [
    "df = df.set_index('Unnamed: 0')  # also df.set_index('Unnamed: 0', inplace=True)\n",
    "df.head()"
   ]
  },
  {
   "cell_type": "code",
   "execution_count": 85,
   "metadata": {},
   "outputs": [
    {
     "name": "stdout",
     "output_type": "stream",
     "text": [
      "<class 'pandas.core.frame.DataFrame'>\n",
      "DatetimeIndex: 1007 entries, 2014-01-02 to 2017-12-29\n",
      "Data columns (total 5 columns):\n",
      " #   Column  Non-Null Count  Dtype  \n",
      "---  ------  --------------  -----  \n",
      " 0   F       1007 non-null   float64\n",
      " 1   TSLA    1007 non-null   float64\n",
      " 2   GOOG    949 non-null    float64\n",
      " 3   IBM     1007 non-null   float64\n",
      " 4   AAPL    1007 non-null   float64\n",
      "dtypes: float64(5)\n",
      "memory usage: 47.2 KB\n"
     ]
    }
   ],
   "source": [
    "df.info()"
   ]
  },
  {
   "cell_type": "markdown",
   "metadata": {},
   "source": [
    "Its even better if we do it when we read in the frame:"
   ]
  },
  {
   "cell_type": "code",
   "execution_count": 86,
   "metadata": {},
   "outputs": [
    {
     "name": "stdout",
     "output_type": "stream",
     "text": [
      "<class 'pandas.core.frame.DataFrame'>\n",
      "DatetimeIndex: 1007 entries, 2014-01-02 to 2017-12-29\n",
      "Data columns (total 5 columns):\n",
      " #   Column  Non-Null Count  Dtype  \n",
      "---  ------  --------------  -----  \n",
      " 0   F       1007 non-null   float64\n",
      " 1   TSLA    1007 non-null   float64\n",
      " 2   GOOG    949 non-null    float64\n",
      " 3   IBM     1007 non-null   float64\n",
      " 4   AAPL    1007 non-null   float64\n",
      "dtypes: float64(5)\n",
      "memory usage: 47.2 KB\n"
     ]
    }
   ],
   "source": [
    "df = pd.read_csv('./data/closing-prices.csv', index_col=0, parse_dates=[0])\n",
    "df.info()"
   ]
  },
  {
   "cell_type": "code",
   "execution_count": 87,
   "metadata": {},
   "outputs": [
    {
     "data": {
      "text/html": [
       "<div>\n",
       "<style scoped>\n",
       "    .dataframe tbody tr th:only-of-type {\n",
       "        vertical-align: middle;\n",
       "    }\n",
       "\n",
       "    .dataframe tbody tr th {\n",
       "        vertical-align: top;\n",
       "    }\n",
       "\n",
       "    .dataframe thead th {\n",
       "        text-align: right;\n",
       "    }\n",
       "</style>\n",
       "<table border=\"1\" class=\"dataframe\">\n",
       "  <thead>\n",
       "    <tr style=\"text-align: right;\">\n",
       "      <th></th>\n",
       "      <th>F</th>\n",
       "      <th>TSLA</th>\n",
       "      <th>GOOG</th>\n",
       "      <th>IBM</th>\n",
       "      <th>AAPL</th>\n",
       "    </tr>\n",
       "  </thead>\n",
       "  <tbody>\n",
       "    <tr>\n",
       "      <th>2014-01-02</th>\n",
       "      <td>12.0890</td>\n",
       "      <td>150.10</td>\n",
       "      <td>NaN</td>\n",
       "      <td>157.6001</td>\n",
       "      <td>72.7741</td>\n",
       "    </tr>\n",
       "    <tr>\n",
       "      <th>2014-01-03</th>\n",
       "      <td>12.1438</td>\n",
       "      <td>149.56</td>\n",
       "      <td>NaN</td>\n",
       "      <td>158.5430</td>\n",
       "      <td>71.1756</td>\n",
       "    </tr>\n",
       "    <tr>\n",
       "      <th>2014-01-06</th>\n",
       "      <td>12.1986</td>\n",
       "      <td>147.00</td>\n",
       "      <td>NaN</td>\n",
       "      <td>157.9993</td>\n",
       "      <td>71.5637</td>\n",
       "    </tr>\n",
       "    <tr>\n",
       "      <th>2014-01-07</th>\n",
       "      <td>12.0420</td>\n",
       "      <td>149.36</td>\n",
       "      <td>NaN</td>\n",
       "      <td>161.1508</td>\n",
       "      <td>71.0516</td>\n",
       "    </tr>\n",
       "    <tr>\n",
       "      <th>2014-01-08</th>\n",
       "      <td>12.1673</td>\n",
       "      <td>151.28</td>\n",
       "      <td>NaN</td>\n",
       "      <td>159.6728</td>\n",
       "      <td>71.5019</td>\n",
       "    </tr>\n",
       "  </tbody>\n",
       "</table>\n",
       "</div>"
      ],
      "text/plain": [
       "                  F    TSLA  GOOG       IBM     AAPL\n",
       "2014-01-02  12.0890  150.10   NaN  157.6001  72.7741\n",
       "2014-01-03  12.1438  149.56   NaN  158.5430  71.1756\n",
       "2014-01-06  12.1986  147.00   NaN  157.9993  71.5637\n",
       "2014-01-07  12.0420  149.36   NaN  161.1508  71.0516\n",
       "2014-01-08  12.1673  151.28   NaN  159.6728  71.5019"
      ]
     },
     "execution_count": 87,
     "metadata": {},
     "output_type": "execute_result"
    }
   ],
   "source": [
    "df.head()"
   ]
  },
  {
   "cell_type": "code",
   "execution_count": 88,
   "metadata": {},
   "outputs": [],
   "source": [
    "!cp ./data/closing-prices.csv ./data/closing-prices-2.csv\n",
    "!gzip -f ./data/closing-prices-2.csv"
   ]
  },
  {
   "cell_type": "code",
   "execution_count": 89,
   "metadata": {},
   "outputs": [
    {
     "name": "stdout",
     "output_type": "stream",
     "text": [
      "-rw-r--r--  1 rick446  staff    20K Aug 25 13:41 ./data/closing-prices-2.csv.gz\r\n"
     ]
    }
   ],
   "source": [
    "!ls -lh ./data/closing-prices-2.csv.gz"
   ]
  },
  {
   "cell_type": "code",
   "execution_count": 95,
   "metadata": {},
   "outputs": [
    {
     "name": "stdout",
     "output_type": "stream",
     "text": [
      "<class 'pandas.core.frame.DataFrame'>\n",
      "DatetimeIndex: 1007 entries, 2014-01-02 to 2017-12-29\n",
      "Data columns (total 5 columns):\n",
      " #   Column  Non-Null Count  Dtype  \n",
      "---  ------  --------------  -----  \n",
      " 0   F       1007 non-null   float16\n",
      " 1   TSLA    1007 non-null   float16\n",
      " 2   GOOG    949 non-null    float16\n",
      " 3   IBM     1007 non-null   float16\n",
      " 4   AAPL    1007 non-null   float16\n",
      "dtypes: float16(5)\n",
      "memory usage: 17.7 KB\n"
     ]
    }
   ],
   "source": [
    "df = pd.read_csv(\n",
    "    './data/closing-prices-2.csv.gz', \n",
    "    index_col=0, \n",
    "    parse_dates=[0], \n",
    "    dtype=np.float16,\n",
    ")\n",
    "df.info()"
   ]
  },
  {
   "cell_type": "markdown",
   "metadata": {},
   "source": [
    "(If you install s3fs, you can even read CSVs from s3://.....csv.gz urls!)"
   ]
  },
  {
   "cell_type": "markdown",
   "metadata": {},
   "source": [
    "## Reading from external APIs\n",
    "\n",
    "There are some data sources for market data available in the pandas_datareader package:"
   ]
  },
  {
   "cell_type": "code",
   "execution_count": 96,
   "metadata": {},
   "outputs": [
    {
     "name": "stdout",
     "output_type": "stream",
     "text": [
      "Looking in links: /Users/rick446/src/wheelhouse\n",
      "Collecting pandas_datareader\n",
      "  Downloading pandas_datareader-0.9.0-py3-none-any.whl (107 kB)\n",
      "\u001b[K     |████████████████████████████████| 107 kB 3.3 MB/s eta 0:00:01\n",
      "\u001b[?25hCollecting lxml\n",
      "  Downloading lxml-4.5.2-cp38-cp38-macosx_10_9_x86_64.whl (4.5 MB)\n",
      "\u001b[K     |████████████████████████████████| 4.5 MB 4.3 MB/s eta 0:00:01\n",
      "\u001b[?25hRequirement already satisfied: pandas>=0.23 in /Users/rick446/.virtualenvs/py38/lib/python3.8/site-packages (from pandas_datareader) (1.1.0)\n",
      "Processing /Users/rick446/src/wheelhouse/requests-2.24.0-py2.py3-none-any.whl\n",
      "Requirement already satisfied: python-dateutil>=2.7.3 in /Users/rick446/.virtualenvs/py38/lib/python3.8/site-packages (from pandas>=0.23->pandas_datareader) (2.8.1)\n",
      "Requirement already satisfied: pytz>=2017.2 in /Users/rick446/.virtualenvs/py38/lib/python3.8/site-packages (from pandas>=0.23->pandas_datareader) (2020.1)\n",
      "Requirement already satisfied: numpy>=1.15.4 in /Users/rick446/.virtualenvs/py38/lib/python3.8/site-packages (from pandas>=0.23->pandas_datareader) (1.19.1)\n",
      "Processing /Users/rick446/src/wheelhouse/certifi-2020.6.20-py2.py3-none-any.whl\n",
      "Processing /Users/rick446/src/wheelhouse/chardet-3.0.4-py2.py3-none-any.whl\n",
      "Requirement already satisfied: urllib3!=1.25.0,!=1.25.1,<1.26,>=1.21.1 in /Users/rick446/.virtualenvs/py38/lib/python3.8/site-packages (from requests>=2.19.0->pandas_datareader) (1.25.10)\n",
      "Processing /Users/rick446/src/wheelhouse/idna-2.10-py2.py3-none-any.whl\n",
      "Requirement already satisfied: six>=1.5 in /Users/rick446/.virtualenvs/py38/lib/python3.8/site-packages (from python-dateutil>=2.7.3->pandas>=0.23->pandas_datareader) (1.15.0)\n",
      "Installing collected packages: lxml, certifi, chardet, idna, requests, pandas-datareader\n",
      "Successfully installed certifi-2020.6.20 chardet-3.0.4 idna-2.10 lxml-4.5.2 pandas-datareader-0.9.0 requests-2.24.0\n",
      "\u001b[33mWARNING: You are using pip version 20.2.1; however, version 20.2.2 is available.\n",
      "You should consider upgrading via the '/Users/rick446/.virtualenvs/py38/bin/python3.8 -m pip install --upgrade pip' command.\u001b[0m\n"
     ]
    }
   ],
   "source": [
    "!pip install pandas_datareader"
   ]
  },
  {
   "cell_type": "code",
   "execution_count": 97,
   "metadata": {},
   "outputs": [
    {
     "data": {
      "text/html": [
       "<div>\n",
       "<style scoped>\n",
       "    .dataframe tbody tr th:only-of-type {\n",
       "        vertical-align: middle;\n",
       "    }\n",
       "\n",
       "    .dataframe tbody tr th {\n",
       "        vertical-align: top;\n",
       "    }\n",
       "\n",
       "    .dataframe thead tr th {\n",
       "        text-align: left;\n",
       "    }\n",
       "\n",
       "    .dataframe thead tr:last-of-type th {\n",
       "        text-align: right;\n",
       "    }\n",
       "</style>\n",
       "<table border=\"1\" class=\"dataframe\">\n",
       "  <thead>\n",
       "    <tr>\n",
       "      <th>Attributes</th>\n",
       "      <th colspan=\"6\" halign=\"left\">Adj Close</th>\n",
       "      <th colspan=\"4\" halign=\"left\">Close</th>\n",
       "      <th>...</th>\n",
       "      <th colspan=\"4\" halign=\"left\">Open</th>\n",
       "      <th colspan=\"6\" halign=\"left\">Volume</th>\n",
       "    </tr>\n",
       "    <tr>\n",
       "      <th>Symbols</th>\n",
       "      <th>F</th>\n",
       "      <th>TSLA</th>\n",
       "      <th>GOOG</th>\n",
       "      <th>IBM</th>\n",
       "      <th>AAPL</th>\n",
       "      <th>CRM</th>\n",
       "      <th>F</th>\n",
       "      <th>TSLA</th>\n",
       "      <th>GOOG</th>\n",
       "      <th>IBM</th>\n",
       "      <th>...</th>\n",
       "      <th>GOOG</th>\n",
       "      <th>IBM</th>\n",
       "      <th>AAPL</th>\n",
       "      <th>CRM</th>\n",
       "      <th>F</th>\n",
       "      <th>TSLA</th>\n",
       "      <th>GOOG</th>\n",
       "      <th>IBM</th>\n",
       "      <th>AAPL</th>\n",
       "      <th>CRM</th>\n",
       "    </tr>\n",
       "    <tr>\n",
       "      <th>Date</th>\n",
       "      <th></th>\n",
       "      <th></th>\n",
       "      <th></th>\n",
       "      <th></th>\n",
       "      <th></th>\n",
       "      <th></th>\n",
       "      <th></th>\n",
       "      <th></th>\n",
       "      <th></th>\n",
       "      <th></th>\n",
       "      <th></th>\n",
       "      <th></th>\n",
       "      <th></th>\n",
       "      <th></th>\n",
       "      <th></th>\n",
       "      <th></th>\n",
       "      <th></th>\n",
       "      <th></th>\n",
       "      <th></th>\n",
       "      <th></th>\n",
       "      <th></th>\n",
       "    </tr>\n",
       "  </thead>\n",
       "  <tbody>\n",
       "    <tr>\n",
       "      <th>2014-01-02</th>\n",
       "      <td>11.368886</td>\n",
       "      <td>150.100006</td>\n",
       "      <td>554.481689</td>\n",
       "      <td>140.697495</td>\n",
       "      <td>70.620010</td>\n",
       "      <td>54.860001</td>\n",
       "      <td>15.44</td>\n",
       "      <td>150.100006</td>\n",
       "      <td>554.481689</td>\n",
       "      <td>185.529999</td>\n",
       "      <td>...</td>\n",
       "      <td>555.647278</td>\n",
       "      <td>187.210007</td>\n",
       "      <td>79.382858</td>\n",
       "      <td>55.200001</td>\n",
       "      <td>31528500.0</td>\n",
       "      <td>6188400.0</td>\n",
       "      <td>3656400.0</td>\n",
       "      <td>4546500.0</td>\n",
       "      <td>58671200.0</td>\n",
       "      <td>2730200.0</td>\n",
       "    </tr>\n",
       "    <tr>\n",
       "      <th>2014-01-03</th>\n",
       "      <td>11.420427</td>\n",
       "      <td>149.559998</td>\n",
       "      <td>550.436829</td>\n",
       "      <td>141.539261</td>\n",
       "      <td>69.068787</td>\n",
       "      <td>55.119999</td>\n",
       "      <td>15.51</td>\n",
       "      <td>149.559998</td>\n",
       "      <td>550.436829</td>\n",
       "      <td>186.639999</td>\n",
       "      <td>...</td>\n",
       "      <td>555.418152</td>\n",
       "      <td>185.830002</td>\n",
       "      <td>78.980003</td>\n",
       "      <td>54.930000</td>\n",
       "      <td>46122300.0</td>\n",
       "      <td>4695000.0</td>\n",
       "      <td>3345800.0</td>\n",
       "      <td>4063200.0</td>\n",
       "      <td>98116900.0</td>\n",
       "      <td>1968700.0</td>\n",
       "    </tr>\n",
       "    <tr>\n",
       "      <th>2014-01-06</th>\n",
       "      <td>11.471969</td>\n",
       "      <td>147.000000</td>\n",
       "      <td>556.573853</td>\n",
       "      <td>141.053940</td>\n",
       "      <td>69.445427</td>\n",
       "      <td>54.230000</td>\n",
       "      <td>15.58</td>\n",
       "      <td>147.000000</td>\n",
       "      <td>556.573853</td>\n",
       "      <td>186.000000</td>\n",
       "      <td>...</td>\n",
       "      <td>554.426880</td>\n",
       "      <td>187.149994</td>\n",
       "      <td>76.778572</td>\n",
       "      <td>55.200001</td>\n",
       "      <td>42657600.0</td>\n",
       "      <td>5361100.0</td>\n",
       "      <td>3551800.0</td>\n",
       "      <td>4067800.0</td>\n",
       "      <td>103152700.0</td>\n",
       "      <td>2532700.0</td>\n",
       "    </tr>\n",
       "    <tr>\n",
       "      <th>2014-01-07</th>\n",
       "      <td>11.324705</td>\n",
       "      <td>149.360001</td>\n",
       "      <td>567.303589</td>\n",
       "      <td>143.867477</td>\n",
       "      <td>68.948753</td>\n",
       "      <td>54.950001</td>\n",
       "      <td>15.38</td>\n",
       "      <td>149.360001</td>\n",
       "      <td>567.303589</td>\n",
       "      <td>189.710007</td>\n",
       "      <td>...</td>\n",
       "      <td>560.399475</td>\n",
       "      <td>186.389999</td>\n",
       "      <td>77.760002</td>\n",
       "      <td>54.430000</td>\n",
       "      <td>54476300.0</td>\n",
       "      <td>5034100.0</td>\n",
       "      <td>5124300.0</td>\n",
       "      <td>5932300.0</td>\n",
       "      <td>79302300.0</td>\n",
       "      <td>2787200.0</td>\n",
       "    </tr>\n",
       "    <tr>\n",
       "      <th>2014-01-08</th>\n",
       "      <td>11.442515</td>\n",
       "      <td>151.279999</td>\n",
       "      <td>568.484192</td>\n",
       "      <td>142.547913</td>\n",
       "      <td>69.385429</td>\n",
       "      <td>56.939999</td>\n",
       "      <td>15.54</td>\n",
       "      <td>151.279999</td>\n",
       "      <td>568.484192</td>\n",
       "      <td>187.970001</td>\n",
       "      <td>...</td>\n",
       "      <td>570.860291</td>\n",
       "      <td>189.330002</td>\n",
       "      <td>76.972855</td>\n",
       "      <td>55.189999</td>\n",
       "      <td>48448300.0</td>\n",
       "      <td>6163200.0</td>\n",
       "      <td>4501700.0</td>\n",
       "      <td>4603700.0</td>\n",
       "      <td>64632400.0</td>\n",
       "      <td>7036900.0</td>\n",
       "    </tr>\n",
       "  </tbody>\n",
       "</table>\n",
       "<p>5 rows × 36 columns</p>\n",
       "</div>"
      ],
      "text/plain": [
       "Attributes  Adj Close                                                 \\\n",
       "Symbols             F        TSLA        GOOG         IBM       AAPL   \n",
       "Date                                                                   \n",
       "2014-01-02  11.368886  150.100006  554.481689  140.697495  70.620010   \n",
       "2014-01-03  11.420427  149.559998  550.436829  141.539261  69.068787   \n",
       "2014-01-06  11.471969  147.000000  556.573853  141.053940  69.445427   \n",
       "2014-01-07  11.324705  149.360001  567.303589  143.867477  68.948753   \n",
       "2014-01-08  11.442515  151.279999  568.484192  142.547913  69.385429   \n",
       "\n",
       "Attributes             Close                                      ...  \\\n",
       "Symbols           CRM      F        TSLA        GOOG         IBM  ...   \n",
       "Date                                                              ...   \n",
       "2014-01-02  54.860001  15.44  150.100006  554.481689  185.529999  ...   \n",
       "2014-01-03  55.119999  15.51  149.559998  550.436829  186.639999  ...   \n",
       "2014-01-06  54.230000  15.58  147.000000  556.573853  186.000000  ...   \n",
       "2014-01-07  54.950001  15.38  149.360001  567.303589  189.710007  ...   \n",
       "2014-01-08  56.939999  15.54  151.279999  568.484192  187.970001  ...   \n",
       "\n",
       "Attributes        Open                                        Volume  \\\n",
       "Symbols           GOOG         IBM       AAPL        CRM           F   \n",
       "Date                                                                   \n",
       "2014-01-02  555.647278  187.210007  79.382858  55.200001  31528500.0   \n",
       "2014-01-03  555.418152  185.830002  78.980003  54.930000  46122300.0   \n",
       "2014-01-06  554.426880  187.149994  76.778572  55.200001  42657600.0   \n",
       "2014-01-07  560.399475  186.389999  77.760002  54.430000  54476300.0   \n",
       "2014-01-08  570.860291  189.330002  76.972855  55.189999  48448300.0   \n",
       "\n",
       "Attributes                                                           \n",
       "Symbols          TSLA       GOOG        IBM         AAPL        CRM  \n",
       "Date                                                                 \n",
       "2014-01-02  6188400.0  3656400.0  4546500.0   58671200.0  2730200.0  \n",
       "2014-01-03  4695000.0  3345800.0  4063200.0   98116900.0  1968700.0  \n",
       "2014-01-06  5361100.0  3551800.0  4067800.0  103152700.0  2532700.0  \n",
       "2014-01-07  5034100.0  5124300.0  5932300.0   79302300.0  2787200.0  \n",
       "2014-01-08  6163200.0  4501700.0  4603700.0   64632400.0  7036900.0  \n",
       "\n",
       "[5 rows x 36 columns]"
      ]
     },
     "execution_count": 97,
     "metadata": {},
     "output_type": "execute_result"
    }
   ],
   "source": [
    "from datetime import datetime\n",
    "\n",
    "import pandas_datareader.data as web\n",
    "\n",
    "start, end = datetime(2014, 1, 1), datetime(2018, 1, 1)\n",
    "data = web.DataReader(\n",
    "    ['F', 'TSLA', 'GOOG', 'IBM', 'AAPL', 'CRM'], \n",
    "    'yahoo', start, end,\n",
    ")\n",
    "data.head()"
   ]
  },
  {
   "cell_type": "code",
   "execution_count": 98,
   "metadata": {},
   "outputs": [
    {
     "data": {
      "text/html": [
       "<div>\n",
       "<style scoped>\n",
       "    .dataframe tbody tr th:only-of-type {\n",
       "        vertical-align: middle;\n",
       "    }\n",
       "\n",
       "    .dataframe tbody tr th {\n",
       "        vertical-align: top;\n",
       "    }\n",
       "\n",
       "    .dataframe thead th {\n",
       "        text-align: right;\n",
       "    }\n",
       "</style>\n",
       "<table border=\"1\" class=\"dataframe\">\n",
       "  <thead>\n",
       "    <tr style=\"text-align: right;\">\n",
       "      <th>Symbols</th>\n",
       "      <th>F</th>\n",
       "      <th>TSLA</th>\n",
       "      <th>GOOG</th>\n",
       "      <th>IBM</th>\n",
       "      <th>AAPL</th>\n",
       "      <th>CRM</th>\n",
       "    </tr>\n",
       "    <tr>\n",
       "      <th>Date</th>\n",
       "      <th></th>\n",
       "      <th></th>\n",
       "      <th></th>\n",
       "      <th></th>\n",
       "      <th></th>\n",
       "      <th></th>\n",
       "    </tr>\n",
       "  </thead>\n",
       "  <tbody>\n",
       "    <tr>\n",
       "      <th>2014-01-02</th>\n",
       "      <td>15.44</td>\n",
       "      <td>150.100006</td>\n",
       "      <td>554.481689</td>\n",
       "      <td>185.529999</td>\n",
       "      <td>79.018570</td>\n",
       "      <td>54.860001</td>\n",
       "    </tr>\n",
       "    <tr>\n",
       "      <th>2014-01-03</th>\n",
       "      <td>15.51</td>\n",
       "      <td>149.559998</td>\n",
       "      <td>550.436829</td>\n",
       "      <td>186.639999</td>\n",
       "      <td>77.282860</td>\n",
       "      <td>55.119999</td>\n",
       "    </tr>\n",
       "    <tr>\n",
       "      <th>2014-01-06</th>\n",
       "      <td>15.58</td>\n",
       "      <td>147.000000</td>\n",
       "      <td>556.573853</td>\n",
       "      <td>186.000000</td>\n",
       "      <td>77.704285</td>\n",
       "      <td>54.230000</td>\n",
       "    </tr>\n",
       "    <tr>\n",
       "      <th>2014-01-07</th>\n",
       "      <td>15.38</td>\n",
       "      <td>149.360001</td>\n",
       "      <td>567.303589</td>\n",
       "      <td>189.710007</td>\n",
       "      <td>77.148575</td>\n",
       "      <td>54.950001</td>\n",
       "    </tr>\n",
       "    <tr>\n",
       "      <th>2014-01-08</th>\n",
       "      <td>15.54</td>\n",
       "      <td>151.279999</td>\n",
       "      <td>568.484192</td>\n",
       "      <td>187.970001</td>\n",
       "      <td>77.637146</td>\n",
       "      <td>56.939999</td>\n",
       "    </tr>\n",
       "  </tbody>\n",
       "</table>\n",
       "</div>"
      ],
      "text/plain": [
       "Symbols         F        TSLA        GOOG         IBM       AAPL        CRM\n",
       "Date                                                                       \n",
       "2014-01-02  15.44  150.100006  554.481689  185.529999  79.018570  54.860001\n",
       "2014-01-03  15.51  149.559998  550.436829  186.639999  77.282860  55.119999\n",
       "2014-01-06  15.58  147.000000  556.573853  186.000000  77.704285  54.230000\n",
       "2014-01-07  15.38  149.360001  567.303589  189.710007  77.148575  54.950001\n",
       "2014-01-08  15.54  151.279999  568.484192  187.970001  77.637146  56.939999"
      ]
     },
     "execution_count": 98,
     "metadata": {},
     "output_type": "execute_result"
    }
   ],
   "source": [
    "data['Close'].head()"
   ]
  },
  {
   "cell_type": "code",
   "execution_count": 99,
   "metadata": {},
   "outputs": [
    {
     "data": {
      "text/plain": [
       "Date\n",
       "2014-01-02     54.860001\n",
       "2014-01-03     55.119999\n",
       "2014-01-06     54.230000\n",
       "2014-01-07     54.950001\n",
       "2014-01-08     56.939999\n",
       "                 ...    \n",
       "2017-12-22    102.629997\n",
       "2017-12-26    102.540001\n",
       "2017-12-27    102.650002\n",
       "2017-12-28    102.790001\n",
       "2017-12-29    102.230003\n",
       "Name: (Close, CRM), Length: 1007, dtype: float64"
      ]
     },
     "execution_count": 99,
     "metadata": {},
     "output_type": "execute_result"
    }
   ],
   "source": [
    "data.loc[:, ('Close', \"CRM\")]"
   ]
  },
  {
   "cell_type": "code",
   "execution_count": 100,
   "metadata": {
    "scrolled": true
   },
   "outputs": [
    {
     "data": {
      "text/plain": [
       "MultiIndex([('Adj Close',    'F'),\n",
       "            ('Adj Close', 'TSLA'),\n",
       "            ('Adj Close', 'GOOG'),\n",
       "            ('Adj Close',  'IBM'),\n",
       "            ('Adj Close', 'AAPL'),\n",
       "            ('Adj Close',  'CRM'),\n",
       "            (    'Close',    'F'),\n",
       "            (    'Close', 'TSLA'),\n",
       "            (    'Close', 'GOOG'),\n",
       "            (    'Close',  'IBM'),\n",
       "            (    'Close', 'AAPL'),\n",
       "            (    'Close',  'CRM'),\n",
       "            (     'High',    'F'),\n",
       "            (     'High', 'TSLA'),\n",
       "            (     'High', 'GOOG'),\n",
       "            (     'High',  'IBM'),\n",
       "            (     'High', 'AAPL'),\n",
       "            (     'High',  'CRM'),\n",
       "            (      'Low',    'F'),\n",
       "            (      'Low', 'TSLA'),\n",
       "            (      'Low', 'GOOG'),\n",
       "            (      'Low',  'IBM'),\n",
       "            (      'Low', 'AAPL'),\n",
       "            (      'Low',  'CRM'),\n",
       "            (     'Open',    'F'),\n",
       "            (     'Open', 'TSLA'),\n",
       "            (     'Open', 'GOOG'),\n",
       "            (     'Open',  'IBM'),\n",
       "            (     'Open', 'AAPL'),\n",
       "            (     'Open',  'CRM'),\n",
       "            (   'Volume',    'F'),\n",
       "            (   'Volume', 'TSLA'),\n",
       "            (   'Volume', 'GOOG'),\n",
       "            (   'Volume',  'IBM'),\n",
       "            (   'Volume', 'AAPL'),\n",
       "            (   'Volume',  'CRM')],\n",
       "           names=['Attributes', 'Symbols'])"
      ]
     },
     "execution_count": 100,
     "metadata": {},
     "output_type": "execute_result"
    }
   ],
   "source": [
    "data.columns"
   ]
  },
  {
   "cell_type": "code",
   "execution_count": 101,
   "metadata": {},
   "outputs": [
    {
     "data": {
      "text/plain": [
       "FrozenList([['Adj Close', 'Close', 'High', 'Low', 'Open', 'Volume'], ['F', 'TSLA', 'GOOG', 'IBM', 'AAPL', 'CRM']])"
      ]
     },
     "execution_count": 101,
     "metadata": {},
     "output_type": "execute_result"
    }
   ],
   "source": [
    "data.columns.levels"
   ]
  },
  {
   "cell_type": "code",
   "execution_count": 102,
   "metadata": {},
   "outputs": [],
   "source": [
    "dfs = {\n",
    "    attr: data[attr]\n",
    "    for attr in data.columns.levels[0]\n",
    "}"
   ]
  },
  {
   "cell_type": "code",
   "execution_count": 103,
   "metadata": {},
   "outputs": [
    {
     "data": {
      "text/html": [
       "<div>\n",
       "<style scoped>\n",
       "    .dataframe tbody tr th:only-of-type {\n",
       "        vertical-align: middle;\n",
       "    }\n",
       "\n",
       "    .dataframe tbody tr th {\n",
       "        vertical-align: top;\n",
       "    }\n",
       "\n",
       "    .dataframe thead th {\n",
       "        text-align: right;\n",
       "    }\n",
       "</style>\n",
       "<table border=\"1\" class=\"dataframe\">\n",
       "  <thead>\n",
       "    <tr style=\"text-align: right;\">\n",
       "      <th>Symbols</th>\n",
       "      <th>F</th>\n",
       "      <th>TSLA</th>\n",
       "      <th>GOOG</th>\n",
       "      <th>IBM</th>\n",
       "      <th>AAPL</th>\n",
       "      <th>CRM</th>\n",
       "    </tr>\n",
       "    <tr>\n",
       "      <th>Date</th>\n",
       "      <th></th>\n",
       "      <th></th>\n",
       "      <th></th>\n",
       "      <th></th>\n",
       "      <th></th>\n",
       "      <th></th>\n",
       "    </tr>\n",
       "  </thead>\n",
       "  <tbody>\n",
       "    <tr>\n",
       "      <th>2014-01-02</th>\n",
       "      <td>31528500.0</td>\n",
       "      <td>6188400.0</td>\n",
       "      <td>3656400.0</td>\n",
       "      <td>4546500.0</td>\n",
       "      <td>58671200.0</td>\n",
       "      <td>2730200.0</td>\n",
       "    </tr>\n",
       "    <tr>\n",
       "      <th>2014-01-03</th>\n",
       "      <td>46122300.0</td>\n",
       "      <td>4695000.0</td>\n",
       "      <td>3345800.0</td>\n",
       "      <td>4063200.0</td>\n",
       "      <td>98116900.0</td>\n",
       "      <td>1968700.0</td>\n",
       "    </tr>\n",
       "    <tr>\n",
       "      <th>2014-01-06</th>\n",
       "      <td>42657600.0</td>\n",
       "      <td>5361100.0</td>\n",
       "      <td>3551800.0</td>\n",
       "      <td>4067800.0</td>\n",
       "      <td>103152700.0</td>\n",
       "      <td>2532700.0</td>\n",
       "    </tr>\n",
       "    <tr>\n",
       "      <th>2014-01-07</th>\n",
       "      <td>54476300.0</td>\n",
       "      <td>5034100.0</td>\n",
       "      <td>5124300.0</td>\n",
       "      <td>5932300.0</td>\n",
       "      <td>79302300.0</td>\n",
       "      <td>2787200.0</td>\n",
       "    </tr>\n",
       "    <tr>\n",
       "      <th>2014-01-08</th>\n",
       "      <td>48448300.0</td>\n",
       "      <td>6163200.0</td>\n",
       "      <td>4501700.0</td>\n",
       "      <td>4603700.0</td>\n",
       "      <td>64632400.0</td>\n",
       "      <td>7036900.0</td>\n",
       "    </tr>\n",
       "  </tbody>\n",
       "</table>\n",
       "</div>"
      ],
      "text/plain": [
       "Symbols              F       TSLA       GOOG        IBM         AAPL  \\\n",
       "Date                                                                   \n",
       "2014-01-02  31528500.0  6188400.0  3656400.0  4546500.0   58671200.0   \n",
       "2014-01-03  46122300.0  4695000.0  3345800.0  4063200.0   98116900.0   \n",
       "2014-01-06  42657600.0  5361100.0  3551800.0  4067800.0  103152700.0   \n",
       "2014-01-07  54476300.0  5034100.0  5124300.0  5932300.0   79302300.0   \n",
       "2014-01-08  48448300.0  6163200.0  4501700.0  4603700.0   64632400.0   \n",
       "\n",
       "Symbols           CRM  \n",
       "Date                   \n",
       "2014-01-02  2730200.0  \n",
       "2014-01-03  1968700.0  \n",
       "2014-01-06  2532700.0  \n",
       "2014-01-07  2787200.0  \n",
       "2014-01-08  7036900.0  "
      ]
     },
     "execution_count": 103,
     "metadata": {},
     "output_type": "execute_result"
    }
   ],
   "source": [
    "dfs['Volume'].head()"
   ]
  },
  {
   "cell_type": "code",
   "execution_count": 104,
   "metadata": {},
   "outputs": [
    {
     "data": {
      "text/html": [
       "<div>\n",
       "<style scoped>\n",
       "    .dataframe tbody tr th:only-of-type {\n",
       "        vertical-align: middle;\n",
       "    }\n",
       "\n",
       "    .dataframe tbody tr th {\n",
       "        vertical-align: top;\n",
       "    }\n",
       "\n",
       "    .dataframe thead tr th {\n",
       "        text-align: left;\n",
       "    }\n",
       "\n",
       "    .dataframe thead tr:last-of-type th {\n",
       "        text-align: right;\n",
       "    }\n",
       "</style>\n",
       "<table border=\"1\" class=\"dataframe\">\n",
       "  <thead>\n",
       "    <tr>\n",
       "      <th>Symbols</th>\n",
       "      <th>F</th>\n",
       "      <th>TSLA</th>\n",
       "      <th>GOOG</th>\n",
       "      <th>IBM</th>\n",
       "      <th>AAPL</th>\n",
       "      <th>CRM</th>\n",
       "      <th>F</th>\n",
       "      <th>TSLA</th>\n",
       "      <th>GOOG</th>\n",
       "      <th>IBM</th>\n",
       "      <th>...</th>\n",
       "      <th>GOOG</th>\n",
       "      <th>IBM</th>\n",
       "      <th>AAPL</th>\n",
       "      <th>CRM</th>\n",
       "      <th>F</th>\n",
       "      <th>TSLA</th>\n",
       "      <th>GOOG</th>\n",
       "      <th>IBM</th>\n",
       "      <th>AAPL</th>\n",
       "      <th>CRM</th>\n",
       "    </tr>\n",
       "    <tr>\n",
       "      <th>Attributes</th>\n",
       "      <th>Adj Close</th>\n",
       "      <th>Adj Close</th>\n",
       "      <th>Adj Close</th>\n",
       "      <th>Adj Close</th>\n",
       "      <th>Adj Close</th>\n",
       "      <th>Adj Close</th>\n",
       "      <th>Close</th>\n",
       "      <th>Close</th>\n",
       "      <th>Close</th>\n",
       "      <th>Close</th>\n",
       "      <th>...</th>\n",
       "      <th>Open</th>\n",
       "      <th>Open</th>\n",
       "      <th>Open</th>\n",
       "      <th>Open</th>\n",
       "      <th>Volume</th>\n",
       "      <th>Volume</th>\n",
       "      <th>Volume</th>\n",
       "      <th>Volume</th>\n",
       "      <th>Volume</th>\n",
       "      <th>Volume</th>\n",
       "    </tr>\n",
       "    <tr>\n",
       "      <th>Date</th>\n",
       "      <th></th>\n",
       "      <th></th>\n",
       "      <th></th>\n",
       "      <th></th>\n",
       "      <th></th>\n",
       "      <th></th>\n",
       "      <th></th>\n",
       "      <th></th>\n",
       "      <th></th>\n",
       "      <th></th>\n",
       "      <th></th>\n",
       "      <th></th>\n",
       "      <th></th>\n",
       "      <th></th>\n",
       "      <th></th>\n",
       "      <th></th>\n",
       "      <th></th>\n",
       "      <th></th>\n",
       "      <th></th>\n",
       "      <th></th>\n",
       "      <th></th>\n",
       "    </tr>\n",
       "  </thead>\n",
       "  <tbody>\n",
       "    <tr>\n",
       "      <th>2014-01-02</th>\n",
       "      <td>11.368886</td>\n",
       "      <td>150.100006</td>\n",
       "      <td>554.481689</td>\n",
       "      <td>140.697495</td>\n",
       "      <td>70.620010</td>\n",
       "      <td>54.860001</td>\n",
       "      <td>15.44</td>\n",
       "      <td>150.100006</td>\n",
       "      <td>554.481689</td>\n",
       "      <td>185.529999</td>\n",
       "      <td>...</td>\n",
       "      <td>555.647278</td>\n",
       "      <td>187.210007</td>\n",
       "      <td>79.382858</td>\n",
       "      <td>55.200001</td>\n",
       "      <td>31528500.0</td>\n",
       "      <td>6188400.0</td>\n",
       "      <td>3656400.0</td>\n",
       "      <td>4546500.0</td>\n",
       "      <td>58671200.0</td>\n",
       "      <td>2730200.0</td>\n",
       "    </tr>\n",
       "    <tr>\n",
       "      <th>2014-01-03</th>\n",
       "      <td>11.420427</td>\n",
       "      <td>149.559998</td>\n",
       "      <td>550.436829</td>\n",
       "      <td>141.539261</td>\n",
       "      <td>69.068787</td>\n",
       "      <td>55.119999</td>\n",
       "      <td>15.51</td>\n",
       "      <td>149.559998</td>\n",
       "      <td>550.436829</td>\n",
       "      <td>186.639999</td>\n",
       "      <td>...</td>\n",
       "      <td>555.418152</td>\n",
       "      <td>185.830002</td>\n",
       "      <td>78.980003</td>\n",
       "      <td>54.930000</td>\n",
       "      <td>46122300.0</td>\n",
       "      <td>4695000.0</td>\n",
       "      <td>3345800.0</td>\n",
       "      <td>4063200.0</td>\n",
       "      <td>98116900.0</td>\n",
       "      <td>1968700.0</td>\n",
       "    </tr>\n",
       "    <tr>\n",
       "      <th>2014-01-06</th>\n",
       "      <td>11.471969</td>\n",
       "      <td>147.000000</td>\n",
       "      <td>556.573853</td>\n",
       "      <td>141.053940</td>\n",
       "      <td>69.445427</td>\n",
       "      <td>54.230000</td>\n",
       "      <td>15.58</td>\n",
       "      <td>147.000000</td>\n",
       "      <td>556.573853</td>\n",
       "      <td>186.000000</td>\n",
       "      <td>...</td>\n",
       "      <td>554.426880</td>\n",
       "      <td>187.149994</td>\n",
       "      <td>76.778572</td>\n",
       "      <td>55.200001</td>\n",
       "      <td>42657600.0</td>\n",
       "      <td>5361100.0</td>\n",
       "      <td>3551800.0</td>\n",
       "      <td>4067800.0</td>\n",
       "      <td>103152700.0</td>\n",
       "      <td>2532700.0</td>\n",
       "    </tr>\n",
       "    <tr>\n",
       "      <th>2014-01-07</th>\n",
       "      <td>11.324705</td>\n",
       "      <td>149.360001</td>\n",
       "      <td>567.303589</td>\n",
       "      <td>143.867477</td>\n",
       "      <td>68.948753</td>\n",
       "      <td>54.950001</td>\n",
       "      <td>15.38</td>\n",
       "      <td>149.360001</td>\n",
       "      <td>567.303589</td>\n",
       "      <td>189.710007</td>\n",
       "      <td>...</td>\n",
       "      <td>560.399475</td>\n",
       "      <td>186.389999</td>\n",
       "      <td>77.760002</td>\n",
       "      <td>54.430000</td>\n",
       "      <td>54476300.0</td>\n",
       "      <td>5034100.0</td>\n",
       "      <td>5124300.0</td>\n",
       "      <td>5932300.0</td>\n",
       "      <td>79302300.0</td>\n",
       "      <td>2787200.0</td>\n",
       "    </tr>\n",
       "    <tr>\n",
       "      <th>2014-01-08</th>\n",
       "      <td>11.442515</td>\n",
       "      <td>151.279999</td>\n",
       "      <td>568.484192</td>\n",
       "      <td>142.547913</td>\n",
       "      <td>69.385429</td>\n",
       "      <td>56.939999</td>\n",
       "      <td>15.54</td>\n",
       "      <td>151.279999</td>\n",
       "      <td>568.484192</td>\n",
       "      <td>187.970001</td>\n",
       "      <td>...</td>\n",
       "      <td>570.860291</td>\n",
       "      <td>189.330002</td>\n",
       "      <td>76.972855</td>\n",
       "      <td>55.189999</td>\n",
       "      <td>48448300.0</td>\n",
       "      <td>6163200.0</td>\n",
       "      <td>4501700.0</td>\n",
       "      <td>4603700.0</td>\n",
       "      <td>64632400.0</td>\n",
       "      <td>7036900.0</td>\n",
       "    </tr>\n",
       "  </tbody>\n",
       "</table>\n",
       "<p>5 rows × 36 columns</p>\n",
       "</div>"
      ],
      "text/plain": [
       "Symbols             F        TSLA        GOOG         IBM       AAPL  \\\n",
       "Attributes  Adj Close   Adj Close   Adj Close   Adj Close  Adj Close   \n",
       "Date                                                                   \n",
       "2014-01-02  11.368886  150.100006  554.481689  140.697495  70.620010   \n",
       "2014-01-03  11.420427  149.559998  550.436829  141.539261  69.068787   \n",
       "2014-01-06  11.471969  147.000000  556.573853  141.053940  69.445427   \n",
       "2014-01-07  11.324705  149.360001  567.303589  143.867477  68.948753   \n",
       "2014-01-08  11.442515  151.279999  568.484192  142.547913  69.385429   \n",
       "\n",
       "Symbols           CRM      F        TSLA        GOOG         IBM  ...  \\\n",
       "Attributes  Adj Close  Close       Close       Close       Close  ...   \n",
       "Date                                                              ...   \n",
       "2014-01-02  54.860001  15.44  150.100006  554.481689  185.529999  ...   \n",
       "2014-01-03  55.119999  15.51  149.559998  550.436829  186.639999  ...   \n",
       "2014-01-06  54.230000  15.58  147.000000  556.573853  186.000000  ...   \n",
       "2014-01-07  54.950001  15.38  149.360001  567.303589  189.710007  ...   \n",
       "2014-01-08  56.939999  15.54  151.279999  568.484192  187.970001  ...   \n",
       "\n",
       "Symbols           GOOG         IBM       AAPL        CRM           F  \\\n",
       "Attributes        Open        Open       Open       Open      Volume   \n",
       "Date                                                                   \n",
       "2014-01-02  555.647278  187.210007  79.382858  55.200001  31528500.0   \n",
       "2014-01-03  555.418152  185.830002  78.980003  54.930000  46122300.0   \n",
       "2014-01-06  554.426880  187.149994  76.778572  55.200001  42657600.0   \n",
       "2014-01-07  560.399475  186.389999  77.760002  54.430000  54476300.0   \n",
       "2014-01-08  570.860291  189.330002  76.972855  55.189999  48448300.0   \n",
       "\n",
       "Symbols          TSLA       GOOG        IBM         AAPL        CRM  \n",
       "Attributes     Volume     Volume     Volume       Volume     Volume  \n",
       "Date                                                                 \n",
       "2014-01-02  6188400.0  3656400.0  4546500.0   58671200.0  2730200.0  \n",
       "2014-01-03  4695000.0  3345800.0  4063200.0   98116900.0  1968700.0  \n",
       "2014-01-06  5361100.0  3551800.0  4067800.0  103152700.0  2532700.0  \n",
       "2014-01-07  5034100.0  5124300.0  5932300.0   79302300.0  2787200.0  \n",
       "2014-01-08  6163200.0  4501700.0  4603700.0   64632400.0  7036900.0  \n",
       "\n",
       "[5 rows x 36 columns]"
      ]
     },
     "execution_count": 104,
     "metadata": {},
     "output_type": "execute_result"
    }
   ],
   "source": [
    "data.columns = data.columns.swaplevel()\n",
    "data.head()"
   ]
  },
  {
   "cell_type": "code",
   "execution_count": 105,
   "metadata": {},
   "outputs": [
    {
     "data": {
      "text/html": [
       "<div>\n",
       "<style scoped>\n",
       "    .dataframe tbody tr th:only-of-type {\n",
       "        vertical-align: middle;\n",
       "    }\n",
       "\n",
       "    .dataframe tbody tr th {\n",
       "        vertical-align: top;\n",
       "    }\n",
       "\n",
       "    .dataframe thead th {\n",
       "        text-align: right;\n",
       "    }\n",
       "</style>\n",
       "<table border=\"1\" class=\"dataframe\">\n",
       "  <thead>\n",
       "    <tr style=\"text-align: right;\">\n",
       "      <th>Attributes</th>\n",
       "      <th>Adj Close</th>\n",
       "      <th>Close</th>\n",
       "      <th>High</th>\n",
       "      <th>Low</th>\n",
       "      <th>Open</th>\n",
       "      <th>Volume</th>\n",
       "    </tr>\n",
       "    <tr>\n",
       "      <th>Date</th>\n",
       "      <th></th>\n",
       "      <th></th>\n",
       "      <th></th>\n",
       "      <th></th>\n",
       "      <th></th>\n",
       "      <th></th>\n",
       "    </tr>\n",
       "  </thead>\n",
       "  <tbody>\n",
       "    <tr>\n",
       "      <th>2014-01-02</th>\n",
       "      <td>54.860001</td>\n",
       "      <td>54.860001</td>\n",
       "      <td>55.209999</td>\n",
       "      <td>54.410000</td>\n",
       "      <td>55.200001</td>\n",
       "      <td>2730200.0</td>\n",
       "    </tr>\n",
       "    <tr>\n",
       "      <th>2014-01-03</th>\n",
       "      <td>55.119999</td>\n",
       "      <td>55.119999</td>\n",
       "      <td>55.389999</td>\n",
       "      <td>54.520000</td>\n",
       "      <td>54.930000</td>\n",
       "      <td>1968700.0</td>\n",
       "    </tr>\n",
       "    <tr>\n",
       "      <th>2014-01-06</th>\n",
       "      <td>54.230000</td>\n",
       "      <td>54.230000</td>\n",
       "      <td>55.240002</td>\n",
       "      <td>54.029999</td>\n",
       "      <td>55.200001</td>\n",
       "      <td>2532700.0</td>\n",
       "    </tr>\n",
       "    <tr>\n",
       "      <th>2014-01-07</th>\n",
       "      <td>54.950001</td>\n",
       "      <td>54.950001</td>\n",
       "      <td>55.119999</td>\n",
       "      <td>54.290001</td>\n",
       "      <td>54.430000</td>\n",
       "      <td>2787200.0</td>\n",
       "    </tr>\n",
       "    <tr>\n",
       "      <th>2014-01-08</th>\n",
       "      <td>56.939999</td>\n",
       "      <td>56.939999</td>\n",
       "      <td>57.130001</td>\n",
       "      <td>54.759998</td>\n",
       "      <td>55.189999</td>\n",
       "      <td>7036900.0</td>\n",
       "    </tr>\n",
       "  </tbody>\n",
       "</table>\n",
       "</div>"
      ],
      "text/plain": [
       "Attributes  Adj Close      Close       High        Low       Open     Volume\n",
       "Date                                                                        \n",
       "2014-01-02  54.860001  54.860001  55.209999  54.410000  55.200001  2730200.0\n",
       "2014-01-03  55.119999  55.119999  55.389999  54.520000  54.930000  1968700.0\n",
       "2014-01-06  54.230000  54.230000  55.240002  54.029999  55.200001  2532700.0\n",
       "2014-01-07  54.950001  54.950001  55.119999  54.290001  54.430000  2787200.0\n",
       "2014-01-08  56.939999  56.939999  57.130001  54.759998  55.189999  7036900.0"
      ]
     },
     "execution_count": 105,
     "metadata": {},
     "output_type": "execute_result"
    }
   ],
   "source": [
    "data['CRM'].head()"
   ]
  },
  {
   "cell_type": "markdown",
   "metadata": {},
   "source": [
    "## Writing Excel data\n",
    "\n",
    "We can write a multi-page Excel file using an ExcelWriter:"
   ]
  },
  {
   "cell_type": "code",
   "execution_count": 106,
   "metadata": {},
   "outputs": [
    {
     "name": "stdout",
     "output_type": "stream",
     "text": [
      "Looking in links: /Users/rick446/src/wheelhouse\n",
      "Processing /Users/rick446/src/wheelhouse/xlrd-1.2.0-py2.py3-none-any.whl\n",
      "Processing /Users/rick446/src/wheelhouse/xlwt-1.3.0-py2.py3-none-any.whl\n",
      "Collecting openpyxl\n",
      "  Downloading openpyxl-3.0.5-py2.py3-none-any.whl (242 kB)\n",
      "\u001b[K     |████████████████████████████████| 242 kB 2.5 MB/s eta 0:00:01\n",
      "\u001b[?25hProcessing /Users/rick446/src/wheelhouse/et_xmlfile-1.0.1-py3-none-any.whl\n",
      "Processing /Users/rick446/src/wheelhouse/jdcal-1.4.1-py2.py3-none-any.whl\n",
      "Installing collected packages: xlrd, xlwt, et-xmlfile, jdcal, openpyxl\n",
      "Successfully installed et-xmlfile-1.0.1 jdcal-1.4.1 openpyxl-3.0.5 xlrd-1.2.0 xlwt-1.3.0\n",
      "\u001b[33mWARNING: You are using pip version 20.2.1; however, version 20.2.2 is available.\n",
      "You should consider upgrading via the '/Users/rick446/.virtualenvs/py38/bin/python3.8 -m pip install --upgrade pip' command.\u001b[0m\n"
     ]
    }
   ],
   "source": [
    "!pip install xlrd xlwt openpyxl"
   ]
  },
  {
   "cell_type": "markdown",
   "metadata": {},
   "source": [
    "In normal python to write a file you might say:\n",
    "\n",
    "```python\n",
    "with open(filename, 'w') as fp:\n",
    "    fp.write(some_data)\n",
    "```"
   ]
  },
  {
   "cell_type": "code",
   "execution_count": 107,
   "metadata": {},
   "outputs": [],
   "source": [
    "with pd.ExcelWriter('./data/stocks.xlsx') as writer:\n",
    "    for name, sheet in dfs.items():\n",
    "        sheet.to_excel(writer, name)"
   ]
  },
  {
   "cell_type": "code",
   "execution_count": 108,
   "metadata": {},
   "outputs": [],
   "source": [
    "!open data/stocks.xlsx"
   ]
  },
  {
   "cell_type": "markdown",
   "metadata": {},
   "source": [
    "## Reading Excel data\n",
    "\n",
    "We can also read a sheet from an Excel workbook:"
   ]
  },
  {
   "cell_type": "code",
   "execution_count": 109,
   "metadata": {},
   "outputs": [
    {
     "data": {
      "text/html": [
       "<div>\n",
       "<style scoped>\n",
       "    .dataframe tbody tr th:only-of-type {\n",
       "        vertical-align: middle;\n",
       "    }\n",
       "\n",
       "    .dataframe tbody tr th {\n",
       "        vertical-align: top;\n",
       "    }\n",
       "\n",
       "    .dataframe thead th {\n",
       "        text-align: right;\n",
       "    }\n",
       "</style>\n",
       "<table border=\"1\" class=\"dataframe\">\n",
       "  <thead>\n",
       "    <tr style=\"text-align: right;\">\n",
       "      <th></th>\n",
       "      <th>F</th>\n",
       "      <th>TSLA</th>\n",
       "      <th>GOOG</th>\n",
       "      <th>IBM</th>\n",
       "      <th>AAPL</th>\n",
       "      <th>CRM</th>\n",
       "    </tr>\n",
       "    <tr>\n",
       "      <th>Date</th>\n",
       "      <th></th>\n",
       "      <th></th>\n",
       "      <th></th>\n",
       "      <th></th>\n",
       "      <th></th>\n",
       "      <th></th>\n",
       "    </tr>\n",
       "  </thead>\n",
       "  <tbody>\n",
       "    <tr>\n",
       "      <th>2014-01-02</th>\n",
       "      <td>15.44</td>\n",
       "      <td>150.100006</td>\n",
       "      <td>554.481689</td>\n",
       "      <td>185.529999</td>\n",
       "      <td>79.018570</td>\n",
       "      <td>54.860001</td>\n",
       "    </tr>\n",
       "    <tr>\n",
       "      <th>2014-01-03</th>\n",
       "      <td>15.51</td>\n",
       "      <td>149.559998</td>\n",
       "      <td>550.436829</td>\n",
       "      <td>186.639999</td>\n",
       "      <td>77.282860</td>\n",
       "      <td>55.119999</td>\n",
       "    </tr>\n",
       "    <tr>\n",
       "      <th>2014-01-06</th>\n",
       "      <td>15.58</td>\n",
       "      <td>147.000000</td>\n",
       "      <td>556.573853</td>\n",
       "      <td>186.000000</td>\n",
       "      <td>77.704285</td>\n",
       "      <td>54.230000</td>\n",
       "    </tr>\n",
       "    <tr>\n",
       "      <th>2014-01-07</th>\n",
       "      <td>15.38</td>\n",
       "      <td>149.360001</td>\n",
       "      <td>567.303589</td>\n",
       "      <td>189.710007</td>\n",
       "      <td>77.148575</td>\n",
       "      <td>54.950001</td>\n",
       "    </tr>\n",
       "    <tr>\n",
       "      <th>2014-01-08</th>\n",
       "      <td>15.54</td>\n",
       "      <td>151.279999</td>\n",
       "      <td>568.484192</td>\n",
       "      <td>187.970001</td>\n",
       "      <td>77.637146</td>\n",
       "      <td>56.939999</td>\n",
       "    </tr>\n",
       "  </tbody>\n",
       "</table>\n",
       "</div>"
      ],
      "text/plain": [
       "                F        TSLA        GOOG         IBM       AAPL        CRM\n",
       "Date                                                                       \n",
       "2014-01-02  15.44  150.100006  554.481689  185.529999  79.018570  54.860001\n",
       "2014-01-03  15.51  149.559998  550.436829  186.639999  77.282860  55.119999\n",
       "2014-01-06  15.58  147.000000  556.573853  186.000000  77.704285  54.230000\n",
       "2014-01-07  15.38  149.360001  567.303589  189.710007  77.148575  54.950001\n",
       "2014-01-08  15.54  151.279999  568.484192  187.970001  77.637146  56.939999"
      ]
     },
     "execution_count": 109,
     "metadata": {},
     "output_type": "execute_result"
    }
   ],
   "source": [
    "closing = pd.read_excel('./data/stocks.xlsx', 'Close', index_col='Date')\n",
    "closing.head()"
   ]
  },
  {
   "cell_type": "code",
   "execution_count": 110,
   "metadata": {},
   "outputs": [
    {
     "name": "stdout",
     "output_type": "stream",
     "text": [
      "<class 'pandas.core.frame.DataFrame'>\n",
      "DatetimeIndex: 1007 entries, 2014-01-02 to 2017-12-29\n",
      "Data columns (total 6 columns):\n",
      " #   Column  Non-Null Count  Dtype  \n",
      "---  ------  --------------  -----  \n",
      " 0   F       1007 non-null   float64\n",
      " 1   TSLA    1007 non-null   float64\n",
      " 2   GOOG    1007 non-null   float64\n",
      " 3   IBM     1007 non-null   float64\n",
      " 4   AAPL    1007 non-null   float64\n",
      " 5   CRM     1007 non-null   float64\n",
      "dtypes: float64(6)\n",
      "memory usage: 55.1 KB\n"
     ]
    }
   ],
   "source": [
    "closing.info()"
   ]
  },
  {
   "cell_type": "markdown",
   "metadata": {},
   "source": [
    "## Data from SQL"
   ]
  },
  {
   "cell_type": "code",
   "execution_count": 111,
   "metadata": {},
   "outputs": [],
   "source": [
    "import pandas as pd\n",
    "import sqlite3\n",
    "con = sqlite3.connect('./data/real-estate.db')"
   ]
  },
  {
   "cell_type": "code",
   "execution_count": 112,
   "metadata": {},
   "outputs": [
    {
     "data": {
      "text/html": [
       "<div>\n",
       "<style scoped>\n",
       "    .dataframe tbody tr th:only-of-type {\n",
       "        vertical-align: middle;\n",
       "    }\n",
       "\n",
       "    .dataframe tbody tr th {\n",
       "        vertical-align: top;\n",
       "    }\n",
       "\n",
       "    .dataframe thead th {\n",
       "        text-align: right;\n",
       "    }\n",
       "</style>\n",
       "<table border=\"1\" class=\"dataframe\">\n",
       "  <thead>\n",
       "    <tr style=\"text-align: right;\">\n",
       "      <th></th>\n",
       "      <th>street</th>\n",
       "      <th>city</th>\n",
       "      <th>zip</th>\n",
       "      <th>state</th>\n",
       "      <th>beds</th>\n",
       "      <th>baths</th>\n",
       "      <th>sq__ft</th>\n",
       "      <th>type</th>\n",
       "      <th>sale_date</th>\n",
       "      <th>price</th>\n",
       "      <th>latitude</th>\n",
       "      <th>longitude</th>\n",
       "    </tr>\n",
       "    <tr>\n",
       "      <th>index</th>\n",
       "      <th></th>\n",
       "      <th></th>\n",
       "      <th></th>\n",
       "      <th></th>\n",
       "      <th></th>\n",
       "      <th></th>\n",
       "      <th></th>\n",
       "      <th></th>\n",
       "      <th></th>\n",
       "      <th></th>\n",
       "      <th></th>\n",
       "      <th></th>\n",
       "    </tr>\n",
       "  </thead>\n",
       "  <tbody>\n",
       "    <tr>\n",
       "      <th>0</th>\n",
       "      <td>3526 HIGH ST</td>\n",
       "      <td>SACRAMENTO</td>\n",
       "      <td>95838</td>\n",
       "      <td>CA</td>\n",
       "      <td>2</td>\n",
       "      <td>1</td>\n",
       "      <td>836</td>\n",
       "      <td>Residential</td>\n",
       "      <td>2008-05-21 00:00:00-04:00</td>\n",
       "      <td>59222</td>\n",
       "      <td>38.631913</td>\n",
       "      <td>-121.434879</td>\n",
       "    </tr>\n",
       "    <tr>\n",
       "      <th>1</th>\n",
       "      <td>51 OMAHA CT</td>\n",
       "      <td>SACRAMENTO</td>\n",
       "      <td>95823</td>\n",
       "      <td>CA</td>\n",
       "      <td>3</td>\n",
       "      <td>1</td>\n",
       "      <td>1167</td>\n",
       "      <td>Residential</td>\n",
       "      <td>2008-05-21 00:00:00-04:00</td>\n",
       "      <td>68212</td>\n",
       "      <td>38.478902</td>\n",
       "      <td>-121.431028</td>\n",
       "    </tr>\n",
       "    <tr>\n",
       "      <th>2</th>\n",
       "      <td>2796 BRANCH ST</td>\n",
       "      <td>SACRAMENTO</td>\n",
       "      <td>95815</td>\n",
       "      <td>CA</td>\n",
       "      <td>2</td>\n",
       "      <td>1</td>\n",
       "      <td>796</td>\n",
       "      <td>Residential</td>\n",
       "      <td>2008-05-21 00:00:00-04:00</td>\n",
       "      <td>68880</td>\n",
       "      <td>38.618305</td>\n",
       "      <td>-121.443839</td>\n",
       "    </tr>\n",
       "    <tr>\n",
       "      <th>3</th>\n",
       "      <td>2805 JANETTE WAY</td>\n",
       "      <td>SACRAMENTO</td>\n",
       "      <td>95815</td>\n",
       "      <td>CA</td>\n",
       "      <td>2</td>\n",
       "      <td>1</td>\n",
       "      <td>852</td>\n",
       "      <td>Residential</td>\n",
       "      <td>2008-05-21 00:00:00-04:00</td>\n",
       "      <td>69307</td>\n",
       "      <td>38.616835</td>\n",
       "      <td>-121.439146</td>\n",
       "    </tr>\n",
       "    <tr>\n",
       "      <th>4</th>\n",
       "      <td>6001 MCMAHON DR</td>\n",
       "      <td>SACRAMENTO</td>\n",
       "      <td>95824</td>\n",
       "      <td>CA</td>\n",
       "      <td>2</td>\n",
       "      <td>1</td>\n",
       "      <td>797</td>\n",
       "      <td>Residential</td>\n",
       "      <td>2008-05-21 00:00:00-04:00</td>\n",
       "      <td>81900</td>\n",
       "      <td>38.519470</td>\n",
       "      <td>-121.435768</td>\n",
       "    </tr>\n",
       "  </tbody>\n",
       "</table>\n",
       "</div>"
      ],
      "text/plain": [
       "                 street        city    zip state  beds  baths  sq__ft  \\\n",
       "index                                                                   \n",
       "0          3526 HIGH ST  SACRAMENTO  95838    CA     2      1     836   \n",
       "1           51 OMAHA CT  SACRAMENTO  95823    CA     3      1    1167   \n",
       "2        2796 BRANCH ST  SACRAMENTO  95815    CA     2      1     796   \n",
       "3      2805 JANETTE WAY  SACRAMENTO  95815    CA     2      1     852   \n",
       "4       6001 MCMAHON DR  SACRAMENTO  95824    CA     2      1     797   \n",
       "\n",
       "              type                 sale_date  price   latitude   longitude  \n",
       "index                                                                       \n",
       "0      Residential 2008-05-21 00:00:00-04:00  59222  38.631913 -121.434879  \n",
       "1      Residential 2008-05-21 00:00:00-04:00  68212  38.478902 -121.431028  \n",
       "2      Residential 2008-05-21 00:00:00-04:00  68880  38.618305 -121.443839  \n",
       "3      Residential 2008-05-21 00:00:00-04:00  69307  38.616835 -121.439146  \n",
       "4      Residential 2008-05-21 00:00:00-04:00  81900  38.519470 -121.435768  "
      ]
     },
     "execution_count": 112,
     "metadata": {},
     "output_type": "execute_result"
    }
   ],
   "source": [
    "transactions = pd.read_sql(\n",
    "    'SELECT * FROM transactions', con, \n",
    "    index_col='index', \n",
    "    parse_dates=['sale_date'],\n",
    ")\n",
    "transactions.head()"
   ]
  },
  {
   "cell_type": "markdown",
   "metadata": {},
   "source": [
    "We can even build a quick little bulk load function in a couple of lines of pandas:"
   ]
  },
  {
   "cell_type": "code",
   "execution_count": 113,
   "metadata": {},
   "outputs": [],
   "source": [
    "stock = pd.read_csv('./data/closing-prices.csv', index_col=[0], parse_dates=True)\n",
    "stock.to_sql('stock', con, if_exists='replace')"
   ]
  },
  {
   "cell_type": "code",
   "execution_count": 114,
   "metadata": {},
   "outputs": [
    {
     "name": "stdout",
     "output_type": "stream",
     "text": [
      "('2014-01-02 00:00:00', 12.089, 150.1, None, 157.6001, 72.7741)\n",
      "('2014-01-03 00:00:00', 12.1438, 149.56, None, 158.543, 71.1756)\n",
      "('2014-01-06 00:00:00', 12.1986, 147.0, None, 157.9993, 71.5637)\n",
      "('2014-01-07 00:00:00', 12.042, 149.36, None, 161.1508, 71.0516)\n",
      "('2014-01-08 00:00:00', 12.1673, 151.28, None, 159.6728, 71.5019)\n"
     ]
    }
   ],
   "source": [
    "for row in con.execute('select * from stock limit 5'):\n",
    "    print(row)"
   ]
  },
  {
   "cell_type": "code",
   "execution_count": 115,
   "metadata": {},
   "outputs": [
    {
     "data": {
      "text/plain": [
       "[(1007,)]"
      ]
     },
     "execution_count": 115,
     "metadata": {},
     "output_type": "execute_result"
    }
   ],
   "source": [
    "con.execute('select count(*) from stock').fetchall()"
   ]
  },
  {
   "cell_type": "markdown",
   "metadata": {},
   "source": [
    "(for non-sqlite3 databases, you must use a sqlalchemy engine object and the `sqlalchemy.create_engine` function)"
   ]
  },
  {
   "cell_type": "markdown",
   "metadata": {},
   "source": [
    "## Data from HTML"
   ]
  },
  {
   "cell_type": "code",
   "execution_count": 116,
   "metadata": {},
   "outputs": [
    {
     "name": "stdout",
     "output_type": "stream",
     "text": [
      "Looking in links: /Users/rick446/src/wheelhouse\n",
      "Collecting html5lib\n",
      "  Downloading html5lib-1.1-py2.py3-none-any.whl (112 kB)\n",
      "\u001b[K     |████████████████████████████████| 112 kB 3.2 MB/s eta 0:00:01\n",
      "\u001b[?25hRequirement already satisfied: webencodings in /Users/rick446/.virtualenvs/py38/lib/python3.8/site-packages (from html5lib) (0.5.1)\n",
      "Requirement already satisfied: six>=1.9 in /Users/rick446/.virtualenvs/py38/lib/python3.8/site-packages (from html5lib) (1.15.0)\n",
      "Installing collected packages: html5lib\n",
      "Successfully installed html5lib-1.1\n",
      "\u001b[33mWARNING: You are using pip version 20.2.1; however, version 20.2.2 is available.\n",
      "You should consider upgrading via the '/Users/rick446/.virtualenvs/py38/bin/python3.8 -m pip install --upgrade pip' command.\u001b[0m\n"
     ]
    }
   ],
   "source": [
    "!pip install html5lib"
   ]
  },
  {
   "cell_type": "code",
   "execution_count": 117,
   "metadata": {},
   "outputs": [],
   "source": [
    "tables = pd.read_html(\n",
    "    'https://en.wikipedia.org/wiki/Python_(genus)',\n",
    ")"
   ]
  },
  {
   "cell_type": "code",
   "execution_count": 118,
   "metadata": {},
   "outputs": [
    {
     "data": {
      "text/plain": [
       "7"
      ]
     },
     "execution_count": 118,
     "metadata": {},
     "output_type": "execute_result"
    }
   ],
   "source": [
    "len(tables)"
   ]
  },
  {
   "cell_type": "code",
   "execution_count": 119,
   "metadata": {},
   "outputs": [
    {
     "data": {
      "text/html": [
       "<div>\n",
       "<style scoped>\n",
       "    .dataframe tbody tr th:only-of-type {\n",
       "        vertical-align: middle;\n",
       "    }\n",
       "\n",
       "    .dataframe tbody tr th {\n",
       "        vertical-align: top;\n",
       "    }\n",
       "\n",
       "    .dataframe thead th {\n",
       "        text-align: right;\n",
       "    }\n",
       "</style>\n",
       "<table border=\"1\" class=\"dataframe\">\n",
       "  <thead>\n",
       "    <tr style=\"text-align: right;\">\n",
       "      <th></th>\n",
       "      <th>Python</th>\n",
       "      <th>Python.1</th>\n",
       "    </tr>\n",
       "  </thead>\n",
       "  <tbody>\n",
       "    <tr>\n",
       "      <th>0</th>\n",
       "      <td>NaN</td>\n",
       "      <td>NaN</td>\n",
       "    </tr>\n",
       "    <tr>\n",
       "      <th>1</th>\n",
       "      <td>Burmese python (Python bivittatus)</td>\n",
       "      <td>Burmese python (Python bivittatus)</td>\n",
       "    </tr>\n",
       "    <tr>\n",
       "      <th>2</th>\n",
       "      <td>Scientific classification</td>\n",
       "      <td>Scientific classification</td>\n",
       "    </tr>\n",
       "    <tr>\n",
       "      <th>3</th>\n",
       "      <td>Kingdom:</td>\n",
       "      <td>Animalia</td>\n",
       "    </tr>\n",
       "    <tr>\n",
       "      <th>4</th>\n",
       "      <td>Phylum:</td>\n",
       "      <td>Chordata</td>\n",
       "    </tr>\n",
       "    <tr>\n",
       "      <th>5</th>\n",
       "      <td>Class:</td>\n",
       "      <td>Reptilia</td>\n",
       "    </tr>\n",
       "    <tr>\n",
       "      <th>6</th>\n",
       "      <td>Order:</td>\n",
       "      <td>Squamata</td>\n",
       "    </tr>\n",
       "    <tr>\n",
       "      <th>7</th>\n",
       "      <td>Suborder:</td>\n",
       "      <td>Serpentes</td>\n",
       "    </tr>\n",
       "    <tr>\n",
       "      <th>8</th>\n",
       "      <td>Family:</td>\n",
       "      <td>Pythonidae</td>\n",
       "    </tr>\n",
       "    <tr>\n",
       "      <th>9</th>\n",
       "      <td>Genus:</td>\n",
       "      <td>PythonDaudin, 1803</td>\n",
       "    </tr>\n",
       "    <tr>\n",
       "      <th>10</th>\n",
       "      <td>Synonyms</td>\n",
       "      <td>Synonyms</td>\n",
       "    </tr>\n",
       "    <tr>\n",
       "      <th>11</th>\n",
       "      <td>List Python Daudin, 1803Constrictor Wagler, 18...</td>\n",
       "      <td>List Python Daudin, 1803Constrictor Wagler, 18...</td>\n",
       "    </tr>\n",
       "  </tbody>\n",
       "</table>\n",
       "</div>"
      ],
      "text/plain": [
       "                                               Python  \\\n",
       "0                                                 NaN   \n",
       "1                  Burmese python (Python bivittatus)   \n",
       "2                           Scientific classification   \n",
       "3                                            Kingdom:   \n",
       "4                                             Phylum:   \n",
       "5                                              Class:   \n",
       "6                                              Order:   \n",
       "7                                           Suborder:   \n",
       "8                                             Family:   \n",
       "9                                              Genus:   \n",
       "10                                           Synonyms   \n",
       "11  List Python Daudin, 1803Constrictor Wagler, 18...   \n",
       "\n",
       "                                             Python.1  \n",
       "0                                                 NaN  \n",
       "1                  Burmese python (Python bivittatus)  \n",
       "2                           Scientific classification  \n",
       "3                                            Animalia  \n",
       "4                                            Chordata  \n",
       "5                                            Reptilia  \n",
       "6                                            Squamata  \n",
       "7                                           Serpentes  \n",
       "8                                          Pythonidae  \n",
       "9                                  PythonDaudin, 1803  \n",
       "10                                           Synonyms  \n",
       "11  List Python Daudin, 1803Constrictor Wagler, 18...  "
      ]
     },
     "execution_count": 119,
     "metadata": {},
     "output_type": "execute_result"
    }
   ],
   "source": [
    "tables[0]"
   ]
  },
  {
   "cell_type": "code",
   "execution_count": 120,
   "metadata": {},
   "outputs": [
    {
     "data": {
      "text/plain": [
       "2"
      ]
     },
     "execution_count": 120,
     "metadata": {},
     "output_type": "execute_result"
    }
   ],
   "source": [
    "tables = pd.read_html(\n",
    "    'https://en.wikipedia.org/wiki/List_of_United_States_cities_by_population',\n",
    "    match='New York'\n",
    ")\n",
    "len(tables)"
   ]
  },
  {
   "cell_type": "code",
   "execution_count": 121,
   "metadata": {},
   "outputs": [
    {
     "data": {
      "text/html": [
       "<div>\n",
       "<style scoped>\n",
       "    .dataframe tbody tr th:only-of-type {\n",
       "        vertical-align: middle;\n",
       "    }\n",
       "\n",
       "    .dataframe tbody tr th {\n",
       "        vertical-align: top;\n",
       "    }\n",
       "\n",
       "    .dataframe thead th {\n",
       "        text-align: right;\n",
       "    }\n",
       "</style>\n",
       "<table border=\"1\" class=\"dataframe\">\n",
       "  <thead>\n",
       "    <tr style=\"text-align: right;\">\n",
       "      <th></th>\n",
       "      <th>2019rank</th>\n",
       "      <th>City</th>\n",
       "      <th>State[c]</th>\n",
       "      <th>2019estimate</th>\n",
       "      <th>2010Census</th>\n",
       "      <th>Change</th>\n",
       "      <th>2016 land area</th>\n",
       "      <th>2016 land area.1</th>\n",
       "      <th>2016 population density</th>\n",
       "      <th>2016 population density.1</th>\n",
       "      <th>Location</th>\n",
       "    </tr>\n",
       "  </thead>\n",
       "  <tbody>\n",
       "    <tr>\n",
       "      <th>0</th>\n",
       "      <td>1</td>\n",
       "      <td>New York[d]</td>\n",
       "      <td>New York</td>\n",
       "      <td>8336817</td>\n",
       "      <td>8175133</td>\n",
       "      <td>+1.98%</td>\n",
       "      <td>301.5 sq mi</td>\n",
       "      <td>780.9 km2</td>\n",
       "      <td>28,317/sq mi</td>\n",
       "      <td>10,933/km2</td>\n",
       "      <td>40°39′49″N 73°56′19″W﻿ / ﻿40.6635°N 73.9387°W</td>\n",
       "    </tr>\n",
       "    <tr>\n",
       "      <th>1</th>\n",
       "      <td>2</td>\n",
       "      <td>Los Angeles</td>\n",
       "      <td>California</td>\n",
       "      <td>3979576</td>\n",
       "      <td>3792621</td>\n",
       "      <td>+4.93%</td>\n",
       "      <td>468.7 sq mi</td>\n",
       "      <td>1,213.9 km2</td>\n",
       "      <td>8,484/sq mi</td>\n",
       "      <td>3,276/km2</td>\n",
       "      <td>34°01′10″N 118°24′39″W﻿ / ﻿34.0194°N 118.4108°W</td>\n",
       "    </tr>\n",
       "    <tr>\n",
       "      <th>2</th>\n",
       "      <td>3</td>\n",
       "      <td>Chicago</td>\n",
       "      <td>Illinois</td>\n",
       "      <td>2693976</td>\n",
       "      <td>2695598</td>\n",
       "      <td>−0.06%</td>\n",
       "      <td>227.3 sq mi</td>\n",
       "      <td>588.7 km2</td>\n",
       "      <td>11,900/sq mi</td>\n",
       "      <td>4,600/km2</td>\n",
       "      <td>41°50′15″N 87°40′54″W﻿ / ﻿41.8376°N 87.6818°W</td>\n",
       "    </tr>\n",
       "    <tr>\n",
       "      <th>3</th>\n",
       "      <td>4</td>\n",
       "      <td>Houston[3]</td>\n",
       "      <td>Texas</td>\n",
       "      <td>2320268</td>\n",
       "      <td>2100263</td>\n",
       "      <td>+10.48%</td>\n",
       "      <td>637.5 sq mi</td>\n",
       "      <td>1,651.1 km2</td>\n",
       "      <td>3,613/sq mi</td>\n",
       "      <td>1,395/km2</td>\n",
       "      <td>29°47′12″N 95°23′27″W﻿ / ﻿29.7866°N 95.3909°W</td>\n",
       "    </tr>\n",
       "    <tr>\n",
       "      <th>4</th>\n",
       "      <td>5</td>\n",
       "      <td>Phoenix</td>\n",
       "      <td>Arizona</td>\n",
       "      <td>1680992</td>\n",
       "      <td>1445632</td>\n",
       "      <td>+16.28%</td>\n",
       "      <td>517.6 sq mi</td>\n",
       "      <td>1,340.6 km2</td>\n",
       "      <td>3,120/sq mi</td>\n",
       "      <td>1,200/km2</td>\n",
       "      <td>33°34′20″N 112°05′24″W﻿ / ﻿33.5722°N 112.0901°W</td>\n",
       "    </tr>\n",
       "    <tr>\n",
       "      <th>...</th>\n",
       "      <td>...</td>\n",
       "      <td>...</td>\n",
       "      <td>...</td>\n",
       "      <td>...</td>\n",
       "      <td>...</td>\n",
       "      <td>...</td>\n",
       "      <td>...</td>\n",
       "      <td>...</td>\n",
       "      <td>...</td>\n",
       "      <td>...</td>\n",
       "      <td>...</td>\n",
       "    </tr>\n",
       "    <tr>\n",
       "      <th>312</th>\n",
       "      <td>313</td>\n",
       "      <td>San Angelo</td>\n",
       "      <td>Texas</td>\n",
       "      <td>101004</td>\n",
       "      <td>93200</td>\n",
       "      <td>+8.37%</td>\n",
       "      <td>59.9 sq mi</td>\n",
       "      <td>155.1 km2</td>\n",
       "      <td>1,681/sq mi</td>\n",
       "      <td>649/km2</td>\n",
       "      <td>31°26′28″N 100°27′02″W﻿ / ﻿31.4411°N 100.4505°W</td>\n",
       "    </tr>\n",
       "    <tr>\n",
       "      <th>313</th>\n",
       "      <td>314</td>\n",
       "      <td>Vacaville</td>\n",
       "      <td>California</td>\n",
       "      <td>100670</td>\n",
       "      <td>92428</td>\n",
       "      <td>+8.92%</td>\n",
       "      <td>29.0 sq mi</td>\n",
       "      <td>75.1 km2</td>\n",
       "      <td>3,449/sq mi</td>\n",
       "      <td>1,332/km2</td>\n",
       "      <td>38°21′14″N 121°58′22″W﻿ / ﻿38.3539°N 121.9728°W</td>\n",
       "    </tr>\n",
       "    <tr>\n",
       "      <th>314</th>\n",
       "      <td>315</td>\n",
       "      <td>Clinton[ae]</td>\n",
       "      <td>Michigan</td>\n",
       "      <td>100471</td>\n",
       "      <td>96796</td>\n",
       "      <td>+3.80%</td>\n",
       "      <td>28.1 sq mi</td>\n",
       "      <td>72.8 km2</td>\n",
       "      <td>3,573/sq mi</td>\n",
       "      <td>1,380/km2</td>\n",
       "      <td>42°35′25″N 82°55′01″W﻿ / ﻿42.5903°N 82.9170°W</td>\n",
       "    </tr>\n",
       "    <tr>\n",
       "      <th>315</th>\n",
       "      <td>316</td>\n",
       "      <td>Bend</td>\n",
       "      <td>Oregon</td>\n",
       "      <td>100421</td>\n",
       "      <td>76639</td>\n",
       "      <td>+31.03%</td>\n",
       "      <td>33.1 sq mi</td>\n",
       "      <td>85.7 km2</td>\n",
       "      <td>3,034/sq mi</td>\n",
       "      <td>1,171/km2</td>\n",
       "      <td>44°03′00″N 121°18′00″W﻿ / ﻿44.0500°N 121.3000°W</td>\n",
       "    </tr>\n",
       "    <tr>\n",
       "      <th>316</th>\n",
       "      <td>317</td>\n",
       "      <td>Woodbridge[ad]</td>\n",
       "      <td>New Jersey</td>\n",
       "      <td>100145</td>\n",
       "      <td>99585</td>\n",
       "      <td>+0.56%</td>\n",
       "      <td>23.3 sq mi</td>\n",
       "      <td>60.3 km2</td>\n",
       "      <td>4,351/sq mi</td>\n",
       "      <td>1,680/km2</td>\n",
       "      <td>40°33′39″N 74°17′34″W﻿ / ﻿40.5607°N 74.2927°W</td>\n",
       "    </tr>\n",
       "  </tbody>\n",
       "</table>\n",
       "<p>317 rows × 11 columns</p>\n",
       "</div>"
      ],
      "text/plain": [
       "     2019rank            City    State[c]  2019estimate  2010Census   Change  \\\n",
       "0           1     New York[d]    New York       8336817     8175133   +1.98%   \n",
       "1           2     Los Angeles  California       3979576     3792621   +4.93%   \n",
       "2           3         Chicago    Illinois       2693976     2695598   −0.06%   \n",
       "3           4      Houston[3]       Texas       2320268     2100263  +10.48%   \n",
       "4           5         Phoenix     Arizona       1680992     1445632  +16.28%   \n",
       "..        ...             ...         ...           ...         ...      ...   \n",
       "312       313      San Angelo       Texas        101004       93200   +8.37%   \n",
       "313       314       Vacaville  California        100670       92428   +8.92%   \n",
       "314       315     Clinton[ae]    Michigan        100471       96796   +3.80%   \n",
       "315       316            Bend      Oregon        100421       76639  +31.03%   \n",
       "316       317  Woodbridge[ad]  New Jersey        100145       99585   +0.56%   \n",
       "\n",
       "    2016 land area 2016 land area.1 2016 population density  \\\n",
       "0      301.5 sq mi        780.9 km2            28,317/sq mi   \n",
       "1      468.7 sq mi      1,213.9 km2             8,484/sq mi   \n",
       "2      227.3 sq mi        588.7 km2            11,900/sq mi   \n",
       "3      637.5 sq mi      1,651.1 km2             3,613/sq mi   \n",
       "4      517.6 sq mi      1,340.6 km2             3,120/sq mi   \n",
       "..             ...              ...                     ...   \n",
       "312     59.9 sq mi        155.1 km2             1,681/sq mi   \n",
       "313     29.0 sq mi         75.1 km2             3,449/sq mi   \n",
       "314     28.1 sq mi         72.8 km2             3,573/sq mi   \n",
       "315     33.1 sq mi         85.7 km2             3,034/sq mi   \n",
       "316     23.3 sq mi         60.3 km2             4,351/sq mi   \n",
       "\n",
       "    2016 population density.1                                         Location  \n",
       "0                  10,933/km2    40°39′49″N 73°56′19″W﻿ / ﻿40.6635°N 73.9387°W  \n",
       "1                   3,276/km2  34°01′10″N 118°24′39″W﻿ / ﻿34.0194°N 118.4108°W  \n",
       "2                   4,600/km2    41°50′15″N 87°40′54″W﻿ / ﻿41.8376°N 87.6818°W  \n",
       "3                   1,395/km2    29°47′12″N 95°23′27″W﻿ / ﻿29.7866°N 95.3909°W  \n",
       "4                   1,200/km2  33°34′20″N 112°05′24″W﻿ / ﻿33.5722°N 112.0901°W  \n",
       "..                        ...                                              ...  \n",
       "312                   649/km2  31°26′28″N 100°27′02″W﻿ / ﻿31.4411°N 100.4505°W  \n",
       "313                 1,332/km2  38°21′14″N 121°58′22″W﻿ / ﻿38.3539°N 121.9728°W  \n",
       "314                 1,380/km2    42°35′25″N 82°55′01″W﻿ / ﻿42.5903°N 82.9170°W  \n",
       "315                 1,171/km2  44°03′00″N 121°18′00″W﻿ / ﻿44.0500°N 121.3000°W  \n",
       "316                 1,680/km2    40°33′39″N 74°17′34″W﻿ / ﻿40.5607°N 74.2927°W  \n",
       "\n",
       "[317 rows x 11 columns]"
      ]
     },
     "execution_count": 121,
     "metadata": {},
     "output_type": "execute_result"
    }
   ],
   "source": [
    "tables[0]"
   ]
  },
  {
   "cell_type": "code",
   "execution_count": 122,
   "metadata": {},
   "outputs": [
    {
     "data": {
      "text/html": [
       "<div>\n",
       "<style scoped>\n",
       "    .dataframe tbody tr th:only-of-type {\n",
       "        vertical-align: middle;\n",
       "    }\n",
       "\n",
       "    .dataframe tbody tr th {\n",
       "        vertical-align: top;\n",
       "    }\n",
       "\n",
       "    .dataframe thead th {\n",
       "        text-align: right;\n",
       "    }\n",
       "</style>\n",
       "<table border=\"1\" class=\"dataframe\">\n",
       "  <thead>\n",
       "    <tr style=\"text-align: right;\">\n",
       "      <th></th>\n",
       "      <th>City</th>\n",
       "      <th>State</th>\n",
       "      <th>2019 estimated population</th>\n",
       "      <th>Peak population (year)</th>\n",
       "      <th>Numeric decline from peak population</th>\n",
       "      <th>Percent decline from peak population</th>\n",
       "      <th>Notes</th>\n",
       "    </tr>\n",
       "  </thead>\n",
       "  <tbody>\n",
       "    <tr>\n",
       "      <th>0</th>\n",
       "      <td>Albany</td>\n",
       "      <td>New York</td>\n",
       "      <td>96460</td>\n",
       "      <td>134,995 (1950)</td>\n",
       "      <td>−38,535</td>\n",
       "      <td>−28.55%</td>\n",
       "      <td>2.30% from 2000 to 2010</td>\n",
       "    </tr>\n",
       "    <tr>\n",
       "      <th>1</th>\n",
       "      <td>Allegheny</td>\n",
       "      <td>Pennsylvania</td>\n",
       "      <td>N/A[af]</td>\n",
       "      <td>129,896 (1900)</td>\n",
       "      <td>–</td>\n",
       "      <td>–</td>\n",
       "      <td>annexed by Pittsburgh in 1907</td>\n",
       "    </tr>\n",
       "    <tr>\n",
       "      <th>2</th>\n",
       "      <td>Brooklyn</td>\n",
       "      <td>New York</td>\n",
       "      <td>N/A[ag]</td>\n",
       "      <td>806,343 (1890)</td>\n",
       "      <td>–</td>\n",
       "      <td>–</td>\n",
       "      <td>consolidated with New York City in 1898</td>\n",
       "    </tr>\n",
       "    <tr>\n",
       "      <th>3</th>\n",
       "      <td>Camden</td>\n",
       "      <td>New Jersey</td>\n",
       "      <td>73562</td>\n",
       "      <td>124,555 (1950)</td>\n",
       "      <td>−50,993</td>\n",
       "      <td>−40.94%</td>\n",
       "      <td>NaN</td>\n",
       "    </tr>\n",
       "    <tr>\n",
       "      <th>4</th>\n",
       "      <td>Canton</td>\n",
       "      <td>Ohio</td>\n",
       "      <td>70447</td>\n",
       "      <td>116,912 (1950)</td>\n",
       "      <td>−46,465</td>\n",
       "      <td>−39.74%</td>\n",
       "      <td>NaN</td>\n",
       "    </tr>\n",
       "  </tbody>\n",
       "</table>\n",
       "</div>"
      ],
      "text/plain": [
       "        City         State 2019 estimated population Peak population (year)  \\\n",
       "0     Albany      New York                     96460         134,995 (1950)   \n",
       "1  Allegheny  Pennsylvania                   N/A[af]         129,896 (1900)   \n",
       "2   Brooklyn      New York                   N/A[ag]         806,343 (1890)   \n",
       "3     Camden    New Jersey                     73562         124,555 (1950)   \n",
       "4     Canton          Ohio                     70447         116,912 (1950)   \n",
       "\n",
       "  Numeric decline from peak population Percent decline from peak population  \\\n",
       "0                              −38,535                              −28.55%   \n",
       "1                                    –                                    –   \n",
       "2                                    –                                    –   \n",
       "3                              −50,993                              −40.94%   \n",
       "4                              −46,465                              −39.74%   \n",
       "\n",
       "                                     Notes  \n",
       "0                  2.30% from 2000 to 2010  \n",
       "1            annexed by Pittsburgh in 1907  \n",
       "2  consolidated with New York City in 1898  \n",
       "3                                      NaN  \n",
       "4                                      NaN  "
      ]
     },
     "execution_count": 122,
     "metadata": {},
     "output_type": "execute_result"
    }
   ],
   "source": [
    "tables[1].head()"
   ]
  },
  {
   "cell_type": "markdown",
   "metadata": {},
   "source": [
    "## Data from JSON APIs"
   ]
  },
  {
   "cell_type": "code",
   "execution_count": 123,
   "metadata": {},
   "outputs": [
    {
     "name": "stdout",
     "output_type": "stream",
     "text": [
      "Looking in links: /Users/rick446/src/wheelhouse\n",
      "Requirement already satisfied: requests in /Users/rick446/.virtualenvs/py38/lib/python3.8/site-packages (2.24.0)\n",
      "Requirement already satisfied: urllib3!=1.25.0,!=1.25.1,<1.26,>=1.21.1 in /Users/rick446/.virtualenvs/py38/lib/python3.8/site-packages (from requests) (1.25.10)\n",
      "Requirement already satisfied: certifi>=2017.4.17 in /Users/rick446/.virtualenvs/py38/lib/python3.8/site-packages (from requests) (2020.6.20)\n",
      "Requirement already satisfied: chardet<4,>=3.0.2 in /Users/rick446/.virtualenvs/py38/lib/python3.8/site-packages (from requests) (3.0.4)\n",
      "Requirement already satisfied: idna<3,>=2.5 in /Users/rick446/.virtualenvs/py38/lib/python3.8/site-packages (from requests) (2.10)\n",
      "\u001b[33mWARNING: You are using pip version 20.2.1; however, version 20.2.2 is available.\n",
      "You should consider upgrading via the '/Users/rick446/.virtualenvs/py38/bin/python3.8 -m pip install --upgrade pip' command.\u001b[0m\n"
     ]
    }
   ],
   "source": [
    "!pip install requests"
   ]
  },
  {
   "cell_type": "code",
   "execution_count": 124,
   "metadata": {},
   "outputs": [],
   "source": [
    "import requests\n",
    "\n",
    "# I don't have any idea who's API key this is, but they're free, so....\n",
    "APPID = '10d4440bbaa8581bb8da9bd1fbea5617'   \n",
    "UNITS = 'imperial'\n",
    "city = 'San Francisco'\n",
    "resp = requests.get(\n",
    "    'http://api.openweathermap.org/data/2.5/forecast', \n",
    "    params={\n",
    "        'q': city,\n",
    "        'units': UNITS,\n",
    "        'appid': APPID,\n",
    "    }\n",
    ")\n",
    "data = resp.json()"
   ]
  },
  {
   "cell_type": "code",
   "execution_count": 125,
   "metadata": {
    "scrolled": true
   },
   "outputs": [
    {
     "data": {
      "text/plain": [
       "{'cod': '200',\n",
       " 'message': 0,\n",
       " 'cnt': 40,\n",
       " 'list': [{'dt': 1598389200,\n",
       "   'main': {'temp': 65.21,\n",
       "    'feels_like': 61.11,\n",
       "    'temp_min': 65.21,\n",
       "    'temp_max': 68.11,\n",
       "    'pressure': 1012,\n",
       "    'sea_level': 1011,\n",
       "    'grnd_level': 1010,\n",
       "    'humidity': 75,\n",
       "    'temp_kf': -1.61},\n",
       "   'weather': [{'id': 803,\n",
       "     'main': 'Clouds',\n",
       "     'description': 'broken clouds',\n",
       "     'icon': '04d'}],\n",
       "   'clouds': {'all': 51},\n",
       "   'wind': {'speed': 11.25, 'deg': 253},\n",
       "   'visibility': 10000,\n",
       "   'pop': 0,\n",
       "   'sys': {'pod': 'd'},\n",
       "   'dt_txt': '2020-08-25 21:00:00'},\n",
       "  {'dt': 1598400000,\n",
       "   'main': {'temp': 64.58,\n",
       "    'feels_like': 60.44,\n",
       "    'temp_min': 64.58,\n",
       "    'temp_max': 65.16,\n",
       "    'pressure': 1010,\n",
       "    'sea_level': 1010,\n",
       "    'grnd_level': 1008,\n",
       "    'humidity': 77,\n",
       "    'temp_kf': -0.32},\n",
       "   'weather': [{'id': 802,\n",
       "     'main': 'Clouds',\n",
       "     'description': 'scattered clouds',\n",
       "     'icon': '03d'}],\n",
       "   'clouds': {'all': 26},\n",
       "   'wind': {'speed': 11.39, 'deg': 263},\n",
       "   'visibility': 10000,\n",
       "   'pop': 0,\n",
       "   'sys': {'pod': 'd'},\n",
       "   'dt_txt': '2020-08-26 00:00:00'},\n",
       "  {'dt': 1598410800,\n",
       "   'main': {'temp': 62.42,\n",
       "    'feels_like': 59.85,\n",
       "    'temp_min': 62.42,\n",
       "    'temp_max': 62.42,\n",
       "    'pressure': 1010,\n",
       "    'sea_level': 1010,\n",
       "    'grnd_level': 1008,\n",
       "    'humidity': 79,\n",
       "    'temp_kf': 0},\n",
       "   'weather': [{'id': 800,\n",
       "     'main': 'Clear',\n",
       "     'description': 'clear sky',\n",
       "     'icon': '01n'}],\n",
       "   'clouds': {'all': 6},\n",
       "   'wind': {'speed': 7.81, 'deg': 257},\n",
       "   'visibility': 10000,\n",
       "   'pop': 0,\n",
       "   'sys': {'pod': 'n'},\n",
       "   'dt_txt': '2020-08-26 03:00:00'},\n",
       "  {'dt': 1598421600,\n",
       "   'main': {'temp': 61.41,\n",
       "    'feels_like': 58.37,\n",
       "    'temp_min': 61.41,\n",
       "    'temp_max': 61.41,\n",
       "    'pressure': 1011,\n",
       "    'sea_level': 1011,\n",
       "    'grnd_level': 1009,\n",
       "    'humidity': 77,\n",
       "    'temp_kf': 0},\n",
       "   'weather': [{'id': 800,\n",
       "     'main': 'Clear',\n",
       "     'description': 'clear sky',\n",
       "     'icon': '01n'}],\n",
       "   'clouds': {'all': 1},\n",
       "   'wind': {'speed': 7.67, 'deg': 243},\n",
       "   'visibility': 10000,\n",
       "   'pop': 0,\n",
       "   'sys': {'pod': 'n'},\n",
       "   'dt_txt': '2020-08-26 06:00:00'},\n",
       "  {'dt': 1598432400,\n",
       "   'main': {'temp': 59.14,\n",
       "    'feels_like': 56.32,\n",
       "    'temp_min': 59.14,\n",
       "    'temp_max': 59.14,\n",
       "    'pressure': 1010,\n",
       "    'sea_level': 1010,\n",
       "    'grnd_level': 1009,\n",
       "    'humidity': 82,\n",
       "    'temp_kf': 0},\n",
       "   'weather': [{'id': 800,\n",
       "     'main': 'Clear',\n",
       "     'description': 'clear sky',\n",
       "     'icon': '01n'}],\n",
       "   'clouds': {'all': 0},\n",
       "   'wind': {'speed': 7.02, 'deg': 235},\n",
       "   'visibility': 10000,\n",
       "   'pop': 0,\n",
       "   'sys': {'pod': 'n'},\n",
       "   'dt_txt': '2020-08-26 09:00:00'},\n",
       "  {'dt': 1598443200,\n",
       "   'main': {'temp': 58.17,\n",
       "    'feels_like': 55.71,\n",
       "    'temp_min': 58.17,\n",
       "    'temp_max': 58.17,\n",
       "    'pressure': 1010,\n",
       "    'sea_level': 1010,\n",
       "    'grnd_level': 1009,\n",
       "    'humidity': 84,\n",
       "    'temp_kf': 0},\n",
       "   'weather': [{'id': 800,\n",
       "     'main': 'Clear',\n",
       "     'description': 'clear sky',\n",
       "     'icon': '01n'}],\n",
       "   'clouds': {'all': 0},\n",
       "   'wind': {'speed': 6.22, 'deg': 229},\n",
       "   'visibility': 10000,\n",
       "   'pop': 0,\n",
       "   'sys': {'pod': 'n'},\n",
       "   'dt_txt': '2020-08-26 12:00:00'},\n",
       "  {'dt': 1598454000,\n",
       "   'main': {'temp': 59.36,\n",
       "    'feels_like': 57.25,\n",
       "    'temp_min': 59.36,\n",
       "    'temp_max': 59.36,\n",
       "    'pressure': 1011,\n",
       "    'sea_level': 1011,\n",
       "    'grnd_level': 1010,\n",
       "    'humidity': 80,\n",
       "    'temp_kf': 0},\n",
       "   'weather': [{'id': 800,\n",
       "     'main': 'Clear',\n",
       "     'description': 'clear sky',\n",
       "     'icon': '01d'}],\n",
       "   'clouds': {'all': 0},\n",
       "   'wind': {'speed': 5.5, 'deg': 222},\n",
       "   'visibility': 10000,\n",
       "   'pop': 0,\n",
       "   'sys': {'pod': 'd'},\n",
       "   'dt_txt': '2020-08-26 15:00:00'},\n",
       "  {'dt': 1598464800,\n",
       "   'main': {'temp': 64.4,\n",
       "    'feels_like': 60.76,\n",
       "    'temp_min': 64.4,\n",
       "    'temp_max': 64.4,\n",
       "    'pressure': 1011,\n",
       "    'sea_level': 1011,\n",
       "    'grnd_level': 1010,\n",
       "    'humidity': 64,\n",
       "    'temp_kf': 0},\n",
       "   'weather': [{'id': 800,\n",
       "     'main': 'Clear',\n",
       "     'description': 'clear sky',\n",
       "     'icon': '01d'}],\n",
       "   'clouds': {'all': 1},\n",
       "   'wind': {'speed': 7.56, 'deg': 236},\n",
       "   'visibility': 10000,\n",
       "   'pop': 0,\n",
       "   'sys': {'pod': 'd'},\n",
       "   'dt_txt': '2020-08-26 18:00:00'},\n",
       "  {'dt': 1598475600,\n",
       "   'main': {'temp': 64.8,\n",
       "    'feels_like': 58.75,\n",
       "    'temp_min': 64.8,\n",
       "    'temp_max': 64.8,\n",
       "    'pressure': 1010,\n",
       "    'sea_level': 1010,\n",
       "    'grnd_level': 1009,\n",
       "    'humidity': 63,\n",
       "    'temp_kf': 0},\n",
       "   'weather': [{'id': 800,\n",
       "     'main': 'Clear',\n",
       "     'description': 'clear sky',\n",
       "     'icon': '01d'}],\n",
       "   'clouds': {'all': 1},\n",
       "   'wind': {'speed': 11.81, 'deg': 253},\n",
       "   'visibility': 10000,\n",
       "   'pop': 0,\n",
       "   'sys': {'pod': 'd'},\n",
       "   'dt_txt': '2020-08-26 21:00:00'},\n",
       "  {'dt': 1598486400,\n",
       "   'main': {'temp': 61.9,\n",
       "    'feels_like': 54.93,\n",
       "    'temp_min': 61.9,\n",
       "    'temp_max': 61.9,\n",
       "    'pressure': 1009,\n",
       "    'sea_level': 1009,\n",
       "    'grnd_level': 1007,\n",
       "    'humidity': 71,\n",
       "    'temp_kf': 0},\n",
       "   'weather': [{'id': 800,\n",
       "     'main': 'Clear',\n",
       "     'description': 'clear sky',\n",
       "     'icon': '01d'}],\n",
       "   'clouds': {'all': 4},\n",
       "   'wind': {'speed': 13.71, 'deg': 262},\n",
       "   'visibility': 10000,\n",
       "   'pop': 0,\n",
       "   'sys': {'pod': 'd'},\n",
       "   'dt_txt': '2020-08-27 00:00:00'},\n",
       "  {'dt': 1598497200,\n",
       "   'main': {'temp': 57.47,\n",
       "    'feels_like': 52.03,\n",
       "    'temp_min': 57.47,\n",
       "    'temp_max': 57.47,\n",
       "    'pressure': 1009,\n",
       "    'sea_level': 1009,\n",
       "    'grnd_level': 1007,\n",
       "    'humidity': 85,\n",
       "    'temp_kf': 0},\n",
       "   'weather': [{'id': 800,\n",
       "     'main': 'Clear',\n",
       "     'description': 'clear sky',\n",
       "     'icon': '01n'}],\n",
       "   'clouds': {'all': 6},\n",
       "   'wind': {'speed': 11.32, 'deg': 259},\n",
       "   'visibility': 10000,\n",
       "   'pop': 0,\n",
       "   'sys': {'pod': 'n'},\n",
       "   'dt_txt': '2020-08-27 03:00:00'},\n",
       "  {'dt': 1598508000,\n",
       "   'main': {'temp': 56.95,\n",
       "    'feels_like': 52.18,\n",
       "    'temp_min': 56.95,\n",
       "    'temp_max': 56.95,\n",
       "    'pressure': 1010,\n",
       "    'sea_level': 1010,\n",
       "    'grnd_level': 1008,\n",
       "    'humidity': 87,\n",
       "    'temp_kf': 0},\n",
       "   'weather': [{'id': 801,\n",
       "     'main': 'Clouds',\n",
       "     'description': 'few clouds',\n",
       "     'icon': '02n'}],\n",
       "   'clouds': {'all': 16},\n",
       "   'wind': {'speed': 10.18, 'deg': 247},\n",
       "   'visibility': 10000,\n",
       "   'pop': 0,\n",
       "   'sys': {'pod': 'n'},\n",
       "   'dt_txt': '2020-08-27 06:00:00'},\n",
       "  {'dt': 1598518800,\n",
       "   'main': {'temp': 57.09,\n",
       "    'feels_like': 52.92,\n",
       "    'temp_min': 57.09,\n",
       "    'temp_max': 57.09,\n",
       "    'pressure': 1009,\n",
       "    'sea_level': 1009,\n",
       "    'grnd_level': 1008,\n",
       "    'humidity': 87,\n",
       "    'temp_kf': 0},\n",
       "   'weather': [{'id': 802,\n",
       "     'main': 'Clouds',\n",
       "     'description': 'scattered clouds',\n",
       "     'icon': '03n'}],\n",
       "   'clouds': {'all': 41},\n",
       "   'wind': {'speed': 9.22, 'deg': 225},\n",
       "   'visibility': 10000,\n",
       "   'pop': 0,\n",
       "   'sys': {'pod': 'n'},\n",
       "   'dt_txt': '2020-08-27 09:00:00'},\n",
       "  {'dt': 1598529600,\n",
       "   'main': {'temp': 56.19,\n",
       "    'feels_like': 53.37,\n",
       "    'temp_min': 56.19,\n",
       "    'temp_max': 56.19,\n",
       "    'pressure': 1008,\n",
       "    'sea_level': 1008,\n",
       "    'grnd_level': 1007,\n",
       "    'humidity': 89,\n",
       "    'temp_kf': 0},\n",
       "   'weather': [{'id': 803,\n",
       "     'main': 'Clouds',\n",
       "     'description': 'broken clouds',\n",
       "     'icon': '04n'}],\n",
       "   'clouds': {'all': 57},\n",
       "   'wind': {'speed': 6.69, 'deg': 210},\n",
       "   'visibility': 10000,\n",
       "   'pop': 0,\n",
       "   'sys': {'pod': 'n'},\n",
       "   'dt_txt': '2020-08-27 12:00:00'},\n",
       "  {'dt': 1598540400,\n",
       "   'main': {'temp': 57.36,\n",
       "    'feels_like': 55.15,\n",
       "    'temp_min': 57.36,\n",
       "    'temp_max': 57.36,\n",
       "    'pressure': 1009,\n",
       "    'sea_level': 1009,\n",
       "    'grnd_level': 1008,\n",
       "    'humidity': 85,\n",
       "    'temp_kf': 0},\n",
       "   'weather': [{'id': 803,\n",
       "     'main': 'Clouds',\n",
       "     'description': 'broken clouds',\n",
       "     'icon': '04d'}],\n",
       "   'clouds': {'all': 61},\n",
       "   'wind': {'speed': 5.53, 'deg': 203},\n",
       "   'visibility': 10000,\n",
       "   'pop': 0,\n",
       "   'sys': {'pod': 'd'},\n",
       "   'dt_txt': '2020-08-27 15:00:00'},\n",
       "  {'dt': 1598551200,\n",
       "   'main': {'temp': 63.66,\n",
       "    'feels_like': 61.39,\n",
       "    'temp_min': 63.66,\n",
       "    'temp_max': 63.66,\n",
       "    'pressure': 1009,\n",
       "    'sea_level': 1009,\n",
       "    'grnd_level': 1007,\n",
       "    'humidity': 67,\n",
       "    'temp_kf': 0},\n",
       "   'weather': [{'id': 802,\n",
       "     'main': 'Clouds',\n",
       "     'description': 'scattered clouds',\n",
       "     'icon': '03d'}],\n",
       "   'clouds': {'all': 50},\n",
       "   'wind': {'speed': 5.41, 'deg': 230},\n",
       "   'visibility': 10000,\n",
       "   'pop': 0,\n",
       "   'sys': {'pod': 'd'},\n",
       "   'dt_txt': '2020-08-27 18:00:00'},\n",
       "  {'dt': 1598562000,\n",
       "   'main': {'temp': 66.61,\n",
       "    'feels_like': 63.14,\n",
       "    'temp_min': 66.61,\n",
       "    'temp_max': 66.61,\n",
       "    'pressure': 1007,\n",
       "    'sea_level': 1007,\n",
       "    'grnd_level': 1006,\n",
       "    'humidity': 61,\n",
       "    'temp_kf': 0},\n",
       "   'weather': [{'id': 801,\n",
       "     'main': 'Clouds',\n",
       "     'description': 'few clouds',\n",
       "     'icon': '02d'}],\n",
       "   'clouds': {'all': 17},\n",
       "   'wind': {'speed': 7.7, 'deg': 252},\n",
       "   'visibility': 10000,\n",
       "   'pop': 0,\n",
       "   'sys': {'pod': 'd'},\n",
       "   'dt_txt': '2020-08-27 21:00:00'},\n",
       "  {'dt': 1598572800,\n",
       "   'main': {'temp': 66.79,\n",
       "    'feels_like': 62.74,\n",
       "    'temp_min': 66.79,\n",
       "    'temp_max': 66.79,\n",
       "    'pressure': 1006,\n",
       "    'sea_level': 1006,\n",
       "    'grnd_level': 1005,\n",
       "    'humidity': 60,\n",
       "    'temp_kf': 0},\n",
       "   'weather': [{'id': 801,\n",
       "     'main': 'Clouds',\n",
       "     'description': 'few clouds',\n",
       "     'icon': '02d'}],\n",
       "   'clouds': {'all': 12},\n",
       "   'wind': {'speed': 8.57, 'deg': 261},\n",
       "   'visibility': 10000,\n",
       "   'pop': 0,\n",
       "   'sys': {'pod': 'd'},\n",
       "   'dt_txt': '2020-08-28 00:00:00'},\n",
       "  {'dt': 1598583600,\n",
       "   'main': {'temp': 61.99,\n",
       "    'feels_like': 59.07,\n",
       "    'temp_min': 61.99,\n",
       "    'temp_max': 61.99,\n",
       "    'pressure': 1006,\n",
       "    'sea_level': 1006,\n",
       "    'grnd_level': 1005,\n",
       "    'humidity': 71,\n",
       "    'temp_kf': 0},\n",
       "   'weather': [{'id': 800,\n",
       "     'main': 'Clear',\n",
       "     'description': 'clear sky',\n",
       "     'icon': '01n'}],\n",
       "   'clouds': {'all': 0},\n",
       "   'wind': {'speed': 6.55, 'deg': 268},\n",
       "   'visibility': 10000,\n",
       "   'pop': 0,\n",
       "   'sys': {'pod': 'n'},\n",
       "   'dt_txt': '2020-08-28 03:00:00'},\n",
       "  {'dt': 1598594400,\n",
       "   'main': {'temp': 61.32,\n",
       "    'feels_like': 59.16,\n",
       "    'temp_min': 61.32,\n",
       "    'temp_max': 61.32,\n",
       "    'pressure': 1007,\n",
       "    'sea_level': 1007,\n",
       "    'grnd_level': 1006,\n",
       "    'humidity': 69,\n",
       "    'temp_kf': 0},\n",
       "   'weather': [{'id': 800,\n",
       "     'main': 'Clear',\n",
       "     'description': 'clear sky',\n",
       "     'icon': '01n'}],\n",
       "   'clouds': {'all': 0},\n",
       "   'wind': {'speed': 4.5, 'deg': 220},\n",
       "   'visibility': 10000,\n",
       "   'pop': 0,\n",
       "   'sys': {'pod': 'n'},\n",
       "   'dt_txt': '2020-08-28 06:00:00'},\n",
       "  {'dt': 1598605200,\n",
       "   'main': {'temp': 60.13,\n",
       "    'feels_like': 58.19,\n",
       "    'temp_min': 60.13,\n",
       "    'temp_max': 60.13,\n",
       "    'pressure': 1006,\n",
       "    'sea_level': 1006,\n",
       "    'grnd_level': 1005,\n",
       "    'humidity': 73,\n",
       "    'temp_kf': 0},\n",
       "   'weather': [{'id': 800,\n",
       "     'main': 'Clear',\n",
       "     'description': 'clear sky',\n",
       "     'icon': '01n'}],\n",
       "   'clouds': {'all': 0},\n",
       "   'wind': {'speed': 4.32, 'deg': 246},\n",
       "   'visibility': 10000,\n",
       "   'pop': 0,\n",
       "   'sys': {'pod': 'n'},\n",
       "   'dt_txt': '2020-08-28 09:00:00'},\n",
       "  {'dt': 1598616000,\n",
       "   'main': {'temp': 59.68,\n",
       "    'feels_like': 58.1,\n",
       "    'temp_min': 59.68,\n",
       "    'temp_max': 59.68,\n",
       "    'pressure': 1006,\n",
       "    'sea_level': 1006,\n",
       "    'grnd_level': 1005,\n",
       "    'humidity': 74,\n",
       "    'temp_kf': 0},\n",
       "   'weather': [{'id': 800,\n",
       "     'main': 'Clear',\n",
       "     'description': 'clear sky',\n",
       "     'icon': '01n'}],\n",
       "   'clouds': {'all': 0},\n",
       "   'wind': {'speed': 3.65, 'deg': 233},\n",
       "   'visibility': 10000,\n",
       "   'pop': 0,\n",
       "   'sys': {'pod': 'n'},\n",
       "   'dt_txt': '2020-08-28 12:00:00'},\n",
       "  {'dt': 1598626800,\n",
       "   'main': {'temp': 61.77,\n",
       "    'feels_like': 60.73,\n",
       "    'temp_min': 61.77,\n",
       "    'temp_max': 61.77,\n",
       "    'pressure': 1008,\n",
       "    'sea_level': 1008,\n",
       "    'grnd_level': 1007,\n",
       "    'humidity': 69,\n",
       "    'temp_kf': 0},\n",
       "   'weather': [{'id': 800,\n",
       "     'main': 'Clear',\n",
       "     'description': 'clear sky',\n",
       "     'icon': '01d'}],\n",
       "   'clouds': {'all': 0},\n",
       "   'wind': {'speed': 2.73, 'deg': 222},\n",
       "   'visibility': 10000,\n",
       "   'pop': 0,\n",
       "   'sys': {'pod': 'd'},\n",
       "   'dt_txt': '2020-08-28 15:00:00'},\n",
       "  {'dt': 1598637600,\n",
       "   'main': {'temp': 68.99,\n",
       "    'feels_like': 66.7,\n",
       "    'temp_min': 68.99,\n",
       "    'temp_max': 68.99,\n",
       "    'pressure': 1008,\n",
       "    'sea_level': 1008,\n",
       "    'grnd_level': 1007,\n",
       "    'humidity': 53,\n",
       "    'temp_kf': 0},\n",
       "   'weather': [{'id': 800,\n",
       "     'main': 'Clear',\n",
       "     'description': 'clear sky',\n",
       "     'icon': '01d'}],\n",
       "   'clouds': {'all': 0},\n",
       "   'wind': {'speed': 4.76, 'deg': 235},\n",
       "   'visibility': 10000,\n",
       "   'pop': 0,\n",
       "   'sys': {'pod': 'd'},\n",
       "   'dt_txt': '2020-08-28 18:00:00'},\n",
       "  {'dt': 1598648400,\n",
       "   'main': {'temp': 72,\n",
       "    'feels_like': 67.62,\n",
       "    'temp_min': 72,\n",
       "    'temp_max': 72,\n",
       "    'pressure': 1007,\n",
       "    'sea_level': 1007,\n",
       "    'grnd_level': 1006,\n",
       "    'humidity': 49,\n",
       "    'temp_kf': 0},\n",
       "   'weather': [{'id': 800,\n",
       "     'main': 'Clear',\n",
       "     'description': 'clear sky',\n",
       "     'icon': '01d'}],\n",
       "   'clouds': {'all': 0},\n",
       "   'wind': {'speed': 8.79, 'deg': 255},\n",
       "   'visibility': 10000,\n",
       "   'pop': 0,\n",
       "   'sys': {'pod': 'd'},\n",
       "   'dt_txt': '2020-08-28 21:00:00'},\n",
       "  {'dt': 1598659200,\n",
       "   'main': {'temp': 67.96,\n",
       "    'feels_like': 61.86,\n",
       "    'temp_min': 67.96,\n",
       "    'temp_max': 67.96,\n",
       "    'pressure': 1006,\n",
       "    'sea_level': 1006,\n",
       "    'grnd_level': 1005,\n",
       "    'humidity': 56,\n",
       "    'temp_kf': 0},\n",
       "   'weather': [{'id': 800,\n",
       "     'main': 'Clear',\n",
       "     'description': 'clear sky',\n",
       "     'icon': '01d'}],\n",
       "   'clouds': {'all': 0},\n",
       "   'wind': {'speed': 11.81, 'deg': 256},\n",
       "   'visibility': 10000,\n",
       "   'pop': 0,\n",
       "   'sys': {'pod': 'd'},\n",
       "   'dt_txt': '2020-08-29 00:00:00'},\n",
       "  {'dt': 1598670000,\n",
       "   'main': {'temp': 63.91,\n",
       "    'feels_like': 60.94,\n",
       "    'temp_min': 63.91,\n",
       "    'temp_max': 63.91,\n",
       "    'pressure': 1007,\n",
       "    'sea_level': 1007,\n",
       "    'grnd_level': 1006,\n",
       "    'humidity': 66,\n",
       "    'temp_kf': 0},\n",
       "   'weather': [{'id': 800,\n",
       "     'main': 'Clear',\n",
       "     'description': 'clear sky',\n",
       "     'icon': '01n'}],\n",
       "   'clouds': {'all': 0},\n",
       "   'wind': {'speed': 6.58, 'deg': 250},\n",
       "   'visibility': 10000,\n",
       "   'pop': 0,\n",
       "   'sys': {'pod': 'n'},\n",
       "   'dt_txt': '2020-08-29 03:00:00'},\n",
       "  {'dt': 1598680800,\n",
       "   'main': {'temp': 62.46,\n",
       "    'feels_like': 59.88,\n",
       "    'temp_min': 62.46,\n",
       "    'temp_max': 62.46,\n",
       "    'pressure': 1008,\n",
       "    'sea_level': 1008,\n",
       "    'grnd_level': 1007,\n",
       "    'humidity': 71,\n",
       "    'temp_kf': 0},\n",
       "   'weather': [{'id': 800,\n",
       "     'main': 'Clear',\n",
       "     'description': 'clear sky',\n",
       "     'icon': '01n'}],\n",
       "   'clouds': {'all': 0},\n",
       "   'wind': {'speed': 6.2, 'deg': 238},\n",
       "   'visibility': 10000,\n",
       "   'pop': 0,\n",
       "   'sys': {'pod': 'n'},\n",
       "   'dt_txt': '2020-08-29 06:00:00'},\n",
       "  {'dt': 1598691600,\n",
       "   'main': {'temp': 61.16,\n",
       "    'feels_like': 58.55,\n",
       "    'temp_min': 61.16,\n",
       "    'temp_max': 61.16,\n",
       "    'pressure': 1007,\n",
       "    'sea_level': 1007,\n",
       "    'grnd_level': 1006,\n",
       "    'humidity': 76,\n",
       "    'temp_kf': 0},\n",
       "   'weather': [{'id': 800,\n",
       "     'main': 'Clear',\n",
       "     'description': 'clear sky',\n",
       "     'icon': '01n'}],\n",
       "   'clouds': {'all': 0},\n",
       "   'wind': {'speed': 6.58, 'deg': 236},\n",
       "   'visibility': 10000,\n",
       "   'pop': 0,\n",
       "   'sys': {'pod': 'n'},\n",
       "   'dt_txt': '2020-08-29 09:00:00'},\n",
       "  {'dt': 1598702400,\n",
       "   'main': {'temp': 59.81,\n",
       "    'feels_like': 57.99,\n",
       "    'temp_min': 59.81,\n",
       "    'temp_max': 59.81,\n",
       "    'pressure': 1008,\n",
       "    'sea_level': 1008,\n",
       "    'grnd_level': 1006,\n",
       "    'humidity': 81,\n",
       "    'temp_kf': 0},\n",
       "   'weather': [{'id': 800,\n",
       "     'main': 'Clear',\n",
       "     'description': 'clear sky',\n",
       "     'icon': '01n'}],\n",
       "   'clouds': {'all': 0},\n",
       "   'wind': {'speed': 5.41, 'deg': 228},\n",
       "   'visibility': 10000,\n",
       "   'pop': 0,\n",
       "   'sys': {'pod': 'n'},\n",
       "   'dt_txt': '2020-08-29 12:00:00'},\n",
       "  {'dt': 1598713200,\n",
       "   'main': {'temp': 61.21,\n",
       "    'feels_like': 60.13,\n",
       "    'temp_min': 61.21,\n",
       "    'temp_max': 61.21,\n",
       "    'pressure': 1009,\n",
       "    'sea_level': 1009,\n",
       "    'grnd_level': 1007,\n",
       "    'humidity': 77,\n",
       "    'temp_kf': 0},\n",
       "   'weather': [{'id': 800,\n",
       "     'main': 'Clear',\n",
       "     'description': 'clear sky',\n",
       "     'icon': '01d'}],\n",
       "   'clouds': {'all': 0},\n",
       "   'wind': {'speed': 4.07, 'deg': 240},\n",
       "   'visibility': 10000,\n",
       "   'pop': 0,\n",
       "   'sys': {'pod': 'd'},\n",
       "   'dt_txt': '2020-08-29 15:00:00'},\n",
       "  {'dt': 1598724000,\n",
       "   'main': {'temp': 66.76,\n",
       "    'feels_like': 63.77,\n",
       "    'temp_min': 66.76,\n",
       "    'temp_max': 66.76,\n",
       "    'pressure': 1009,\n",
       "    'sea_level': 1009,\n",
       "    'grnd_level': 1007,\n",
       "    'humidity': 60,\n",
       "    'temp_kf': 0},\n",
       "   'weather': [{'id': 800,\n",
       "     'main': 'Clear',\n",
       "     'description': 'clear sky',\n",
       "     'icon': '01d'}],\n",
       "   'clouds': {'all': 0},\n",
       "   'wind': {'speed': 6.67, 'deg': 248},\n",
       "   'visibility': 10000,\n",
       "   'pop': 0,\n",
       "   'sys': {'pod': 'd'},\n",
       "   'dt_txt': '2020-08-29 18:00:00'},\n",
       "  {'dt': 1598734800,\n",
       "   'main': {'temp': 68.56,\n",
       "    'feels_like': 63.27,\n",
       "    'temp_min': 68.56,\n",
       "    'temp_max': 68.56,\n",
       "    'pressure': 1007,\n",
       "    'sea_level': 1007,\n",
       "    'grnd_level': 1006,\n",
       "    'humidity': 57,\n",
       "    'temp_kf': 0},\n",
       "   'weather': [{'id': 800,\n",
       "     'main': 'Clear',\n",
       "     'description': 'clear sky',\n",
       "     'icon': '01d'}],\n",
       "   'clouds': {'all': 0},\n",
       "   'wind': {'speed': 10.92, 'deg': 256},\n",
       "   'visibility': 10000,\n",
       "   'pop': 0,\n",
       "   'sys': {'pod': 'd'},\n",
       "   'dt_txt': '2020-08-29 21:00:00'},\n",
       "  {'dt': 1598745600,\n",
       "   'main': {'temp': 66.83,\n",
       "    'feels_like': 60.51,\n",
       "    'temp_min': 66.83,\n",
       "    'temp_max': 66.83,\n",
       "    'pressure': 1006,\n",
       "    'sea_level': 1006,\n",
       "    'grnd_level': 1005,\n",
       "    'humidity': 59,\n",
       "    'temp_kf': 0},\n",
       "   'weather': [{'id': 800,\n",
       "     'main': 'Clear',\n",
       "     'description': 'clear sky',\n",
       "     'icon': '01d'}],\n",
       "   'clouds': {'all': 0},\n",
       "   'wind': {'speed': 12.37, 'deg': 255},\n",
       "   'visibility': 10000,\n",
       "   'pop': 0,\n",
       "   'sys': {'pod': 'd'},\n",
       "   'dt_txt': '2020-08-30 00:00:00'},\n",
       "  {'dt': 1598756400,\n",
       "   'main': {'temp': 62.31,\n",
       "    'feels_like': 58.96,\n",
       "    'temp_min': 62.31,\n",
       "    'temp_max': 62.31,\n",
       "    'pressure': 1007,\n",
       "    'sea_level': 1007,\n",
       "    'grnd_level': 1005,\n",
       "    'humidity': 69,\n",
       "    'temp_kf': 0},\n",
       "   'weather': [{'id': 800,\n",
       "     'main': 'Clear',\n",
       "     'description': 'clear sky',\n",
       "     'icon': '01n'}],\n",
       "   'clouds': {'all': 0},\n",
       "   'wind': {'speed': 7.09, 'deg': 251},\n",
       "   'visibility': 10000,\n",
       "   'pop': 0,\n",
       "   'sys': {'pod': 'n'},\n",
       "   'dt_txt': '2020-08-30 03:00:00'},\n",
       "  {'dt': 1598767200,\n",
       "   'main': {'temp': 60.57,\n",
       "    'feels_like': 57.38,\n",
       "    'temp_min': 60.57,\n",
       "    'temp_max': 60.57,\n",
       "    'pressure': 1007,\n",
       "    'sea_level': 1007,\n",
       "    'grnd_level': 1006,\n",
       "    'humidity': 73,\n",
       "    'temp_kf': 0},\n",
       "   'weather': [{'id': 800,\n",
       "     'main': 'Clear',\n",
       "     'description': 'clear sky',\n",
       "     'icon': '01n'}],\n",
       "   'clouds': {'all': 0},\n",
       "   'wind': {'speed': 6.73, 'deg': 239},\n",
       "   'visibility': 10000,\n",
       "   'pop': 0,\n",
       "   'sys': {'pod': 'n'},\n",
       "   'dt_txt': '2020-08-30 06:00:00'},\n",
       "  {'dt': 1598778000,\n",
       "   'main': {'temp': 58.78,\n",
       "    'feels_like': 55.92,\n",
       "    'temp_min': 58.78,\n",
       "    'temp_max': 58.78,\n",
       "    'pressure': 1006,\n",
       "    'sea_level': 1006,\n",
       "    'grnd_level': 1005,\n",
       "    'humidity': 80,\n",
       "    'temp_kf': 0},\n",
       "   'weather': [{'id': 800,\n",
       "     'main': 'Clear',\n",
       "     'description': 'clear sky',\n",
       "     'icon': '01n'}],\n",
       "   'clouds': {'all': 0},\n",
       "   'wind': {'speed': 6.55, 'deg': 235},\n",
       "   'visibility': 10000,\n",
       "   'pop': 0,\n",
       "   'sys': {'pod': 'n'},\n",
       "   'dt_txt': '2020-08-30 09:00:00'},\n",
       "  {'dt': 1598788800,\n",
       "   'main': {'temp': 58.14,\n",
       "    'feels_like': 56.16,\n",
       "    'temp_min': 58.14,\n",
       "    'temp_max': 58.14,\n",
       "    'pressure': 1006,\n",
       "    'sea_level': 1006,\n",
       "    'grnd_level': 1005,\n",
       "    'humidity': 82,\n",
       "    'temp_kf': 0},\n",
       "   'weather': [{'id': 800,\n",
       "     'main': 'Clear',\n",
       "     'description': 'clear sky',\n",
       "     'icon': '01n'}],\n",
       "   'clouds': {'all': 0},\n",
       "   'wind': {'speed': 4.99, 'deg': 227},\n",
       "   'visibility': 10000,\n",
       "   'pop': 0,\n",
       "   'sys': {'pod': 'n'},\n",
       "   'dt_txt': '2020-08-30 12:00:00'},\n",
       "  {'dt': 1598799600,\n",
       "   'main': {'temp': 59.9,\n",
       "    'feels_like': 58.17,\n",
       "    'temp_min': 59.9,\n",
       "    'temp_max': 59.9,\n",
       "    'pressure': 1007,\n",
       "    'sea_level': 1007,\n",
       "    'grnd_level': 1006,\n",
       "    'humidity': 77,\n",
       "    'temp_kf': 0},\n",
       "   'weather': [{'id': 800,\n",
       "     'main': 'Clear',\n",
       "     'description': 'clear sky',\n",
       "     'icon': '01d'}],\n",
       "   'clouds': {'all': 0},\n",
       "   'wind': {'speed': 4.56, 'deg': 227},\n",
       "   'visibility': 10000,\n",
       "   'pop': 0,\n",
       "   'sys': {'pod': 'd'},\n",
       "   'dt_txt': '2020-08-30 15:00:00'},\n",
       "  {'dt': 1598810400,\n",
       "   'main': {'temp': 66.42,\n",
       "    'feels_like': 62.91,\n",
       "    'temp_min': 66.42,\n",
       "    'temp_max': 66.42,\n",
       "    'pressure': 1007,\n",
       "    'sea_level': 1007,\n",
       "    'grnd_level': 1006,\n",
       "    'humidity': 57,\n",
       "    'temp_kf': 0},\n",
       "   'weather': [{'id': 800,\n",
       "     'main': 'Clear',\n",
       "     'description': 'clear sky',\n",
       "     'icon': '01d'}],\n",
       "   'clouds': {'all': 0},\n",
       "   'wind': {'speed': 6.73, 'deg': 239},\n",
       "   'visibility': 10000,\n",
       "   'pop': 0,\n",
       "   'sys': {'pod': 'd'},\n",
       "   'dt_txt': '2020-08-30 18:00:00'}],\n",
       " 'city': {'id': 5391959,\n",
       "  'name': 'San Francisco',\n",
       "  'coord': {'lat': 37.7749, 'lon': -122.4194},\n",
       "  'country': 'US',\n",
       "  'population': 805235,\n",
       "  'timezone': -25200,\n",
       "  'sunrise': 1598362470,\n",
       "  'sunset': 1598410146}}"
      ]
     },
     "execution_count": 125,
     "metadata": {},
     "output_type": "execute_result"
    }
   ],
   "source": [
    "data"
   ]
  },
  {
   "cell_type": "code",
   "execution_count": 126,
   "metadata": {},
   "outputs": [
    {
     "data": {
      "text/plain": [
       "{'dt': 1598389200,\n",
       " 'main': {'temp': 65.21,\n",
       "  'feels_like': 61.11,\n",
       "  'temp_min': 65.21,\n",
       "  'temp_max': 68.11,\n",
       "  'pressure': 1012,\n",
       "  'sea_level': 1011,\n",
       "  'grnd_level': 1010,\n",
       "  'humidity': 75,\n",
       "  'temp_kf': -1.61},\n",
       " 'weather': [{'id': 803,\n",
       "   'main': 'Clouds',\n",
       "   'description': 'broken clouds',\n",
       "   'icon': '04d'}],\n",
       " 'clouds': {'all': 51},\n",
       " 'wind': {'speed': 11.25, 'deg': 253},\n",
       " 'visibility': 10000,\n",
       " 'pop': 0,\n",
       " 'sys': {'pod': 'd'},\n",
       " 'dt_txt': '2020-08-25 21:00:00'}"
      ]
     },
     "execution_count": 126,
     "metadata": {},
     "output_type": "execute_result"
    }
   ],
   "source": [
    "data['list'][0]"
   ]
  },
  {
   "cell_type": "code",
   "execution_count": 127,
   "metadata": {},
   "outputs": [
    {
     "data": {
      "text/plain": [
       "{'date': '2020-08-25 21:00:00',\n",
       " 'temp': 65.21,\n",
       " 'feels_like': 61.11,\n",
       " 'temp_min': 65.21,\n",
       " 'temp_max': 68.11,\n",
       " 'pressure': 1012,\n",
       " 'sea_level': 1011,\n",
       " 'grnd_level': 1010,\n",
       " 'humidity': 75,\n",
       " 'temp_kf': -1.61,\n",
       " 'id': 803,\n",
       " 'main': 'Clouds',\n",
       " 'description': 'broken clouds',\n",
       " 'icon': '04d'}"
      ]
     },
     "execution_count": 127,
     "metadata": {},
     "output_type": "execute_result"
    }
   ],
   "source": [
    "row = data['list'][0]\n",
    "{\n",
    "    'date': row['dt_txt'], \n",
    "    **row['main'], \n",
    "    **row['weather'][0]\n",
    "} "
   ]
  },
  {
   "cell_type": "code",
   "execution_count": 128,
   "metadata": {},
   "outputs": [],
   "source": [
    "# Python magic to build a list of dicts\n",
    "\n",
    "raw_data = [\n",
    "    {\n",
    "        'date': row['dt_txt'], \n",
    "        **row['main'], \n",
    "        **row['weather'][0]\n",
    "    } \n",
    "    for row in data['list']\n",
    "]"
   ]
  },
  {
   "cell_type": "code",
   "execution_count": 129,
   "metadata": {},
   "outputs": [
    {
     "data": {
      "text/plain": [
       "{'date': '2020-08-25 21:00:00',\n",
       " 'temp': 65.21,\n",
       " 'feels_like': 61.11,\n",
       " 'temp_min': 65.21,\n",
       " 'temp_max': 68.11,\n",
       " 'pressure': 1012,\n",
       " 'sea_level': 1011,\n",
       " 'grnd_level': 1010,\n",
       " 'humidity': 75,\n",
       " 'temp_kf': -1.61,\n",
       " 'id': 803,\n",
       " 'main': 'Clouds',\n",
       " 'description': 'broken clouds',\n",
       " 'icon': '04d'}"
      ]
     },
     "execution_count": 129,
     "metadata": {},
     "output_type": "execute_result"
    }
   ],
   "source": [
    "raw_data[0]"
   ]
  },
  {
   "cell_type": "code",
   "execution_count": 130,
   "metadata": {},
   "outputs": [
    {
     "data": {
      "text/html": [
       "<div>\n",
       "<style scoped>\n",
       "    .dataframe tbody tr th:only-of-type {\n",
       "        vertical-align: middle;\n",
       "    }\n",
       "\n",
       "    .dataframe tbody tr th {\n",
       "        vertical-align: top;\n",
       "    }\n",
       "\n",
       "    .dataframe thead th {\n",
       "        text-align: right;\n",
       "    }\n",
       "</style>\n",
       "<table border=\"1\" class=\"dataframe\">\n",
       "  <thead>\n",
       "    <tr style=\"text-align: right;\">\n",
       "      <th></th>\n",
       "      <th>date</th>\n",
       "      <th>temp</th>\n",
       "      <th>feels_like</th>\n",
       "      <th>temp_min</th>\n",
       "      <th>temp_max</th>\n",
       "      <th>pressure</th>\n",
       "      <th>sea_level</th>\n",
       "      <th>grnd_level</th>\n",
       "      <th>humidity</th>\n",
       "      <th>temp_kf</th>\n",
       "      <th>id</th>\n",
       "      <th>main</th>\n",
       "      <th>description</th>\n",
       "      <th>icon</th>\n",
       "    </tr>\n",
       "  </thead>\n",
       "  <tbody>\n",
       "    <tr>\n",
       "      <th>0</th>\n",
       "      <td>2020-08-25 21:00:00</td>\n",
       "      <td>65.21</td>\n",
       "      <td>61.11</td>\n",
       "      <td>65.21</td>\n",
       "      <td>68.11</td>\n",
       "      <td>1012</td>\n",
       "      <td>1011</td>\n",
       "      <td>1010</td>\n",
       "      <td>75</td>\n",
       "      <td>-1.61</td>\n",
       "      <td>803</td>\n",
       "      <td>Clouds</td>\n",
       "      <td>broken clouds</td>\n",
       "      <td>04d</td>\n",
       "    </tr>\n",
       "    <tr>\n",
       "      <th>1</th>\n",
       "      <td>2020-08-26 00:00:00</td>\n",
       "      <td>64.58</td>\n",
       "      <td>60.44</td>\n",
       "      <td>64.58</td>\n",
       "      <td>65.16</td>\n",
       "      <td>1010</td>\n",
       "      <td>1010</td>\n",
       "      <td>1008</td>\n",
       "      <td>77</td>\n",
       "      <td>-0.32</td>\n",
       "      <td>802</td>\n",
       "      <td>Clouds</td>\n",
       "      <td>scattered clouds</td>\n",
       "      <td>03d</td>\n",
       "    </tr>\n",
       "    <tr>\n",
       "      <th>2</th>\n",
       "      <td>2020-08-26 03:00:00</td>\n",
       "      <td>62.42</td>\n",
       "      <td>59.85</td>\n",
       "      <td>62.42</td>\n",
       "      <td>62.42</td>\n",
       "      <td>1010</td>\n",
       "      <td>1010</td>\n",
       "      <td>1008</td>\n",
       "      <td>79</td>\n",
       "      <td>0.00</td>\n",
       "      <td>800</td>\n",
       "      <td>Clear</td>\n",
       "      <td>clear sky</td>\n",
       "      <td>01n</td>\n",
       "    </tr>\n",
       "    <tr>\n",
       "      <th>3</th>\n",
       "      <td>2020-08-26 06:00:00</td>\n",
       "      <td>61.41</td>\n",
       "      <td>58.37</td>\n",
       "      <td>61.41</td>\n",
       "      <td>61.41</td>\n",
       "      <td>1011</td>\n",
       "      <td>1011</td>\n",
       "      <td>1009</td>\n",
       "      <td>77</td>\n",
       "      <td>0.00</td>\n",
       "      <td>800</td>\n",
       "      <td>Clear</td>\n",
       "      <td>clear sky</td>\n",
       "      <td>01n</td>\n",
       "    </tr>\n",
       "    <tr>\n",
       "      <th>4</th>\n",
       "      <td>2020-08-26 09:00:00</td>\n",
       "      <td>59.14</td>\n",
       "      <td>56.32</td>\n",
       "      <td>59.14</td>\n",
       "      <td>59.14</td>\n",
       "      <td>1010</td>\n",
       "      <td>1010</td>\n",
       "      <td>1009</td>\n",
       "      <td>82</td>\n",
       "      <td>0.00</td>\n",
       "      <td>800</td>\n",
       "      <td>Clear</td>\n",
       "      <td>clear sky</td>\n",
       "      <td>01n</td>\n",
       "    </tr>\n",
       "  </tbody>\n",
       "</table>\n",
       "</div>"
      ],
      "text/plain": [
       "                  date   temp  feels_like  temp_min  temp_max  pressure  \\\n",
       "0  2020-08-25 21:00:00  65.21       61.11     65.21     68.11      1012   \n",
       "1  2020-08-26 00:00:00  64.58       60.44     64.58     65.16      1010   \n",
       "2  2020-08-26 03:00:00  62.42       59.85     62.42     62.42      1010   \n",
       "3  2020-08-26 06:00:00  61.41       58.37     61.41     61.41      1011   \n",
       "4  2020-08-26 09:00:00  59.14       56.32     59.14     59.14      1010   \n",
       "\n",
       "   sea_level  grnd_level  humidity  temp_kf   id    main       description  \\\n",
       "0       1011        1010        75    -1.61  803  Clouds     broken clouds   \n",
       "1       1010        1008        77    -0.32  802  Clouds  scattered clouds   \n",
       "2       1010        1008        79     0.00  800   Clear         clear sky   \n",
       "3       1011        1009        77     0.00  800   Clear         clear sky   \n",
       "4       1010        1009        82     0.00  800   Clear         clear sky   \n",
       "\n",
       "  icon  \n",
       "0  04d  \n",
       "1  03d  \n",
       "2  01n  \n",
       "3  01n  \n",
       "4  01n  "
      ]
     },
     "execution_count": 130,
     "metadata": {},
     "output_type": "execute_result"
    }
   ],
   "source": [
    "weather = pd.DataFrame.from_dict(raw_data)\n",
    "weather.head()"
   ]
  },
  {
   "cell_type": "code",
   "execution_count": 131,
   "metadata": {},
   "outputs": [
    {
     "data": {
      "text/html": [
       "<div>\n",
       "<style scoped>\n",
       "    .dataframe tbody tr th:only-of-type {\n",
       "        vertical-align: middle;\n",
       "    }\n",
       "\n",
       "    .dataframe tbody tr th {\n",
       "        vertical-align: top;\n",
       "    }\n",
       "\n",
       "    .dataframe thead th {\n",
       "        text-align: right;\n",
       "    }\n",
       "</style>\n",
       "<table border=\"1\" class=\"dataframe\">\n",
       "  <thead>\n",
       "    <tr style=\"text-align: right;\">\n",
       "      <th></th>\n",
       "      <th>temp</th>\n",
       "      <th>feels_like</th>\n",
       "      <th>temp_min</th>\n",
       "      <th>temp_max</th>\n",
       "      <th>pressure</th>\n",
       "      <th>sea_level</th>\n",
       "      <th>grnd_level</th>\n",
       "      <th>humidity</th>\n",
       "      <th>temp_kf</th>\n",
       "      <th>id</th>\n",
       "      <th>main</th>\n",
       "      <th>description</th>\n",
       "      <th>icon</th>\n",
       "    </tr>\n",
       "    <tr>\n",
       "      <th>date</th>\n",
       "      <th></th>\n",
       "      <th></th>\n",
       "      <th></th>\n",
       "      <th></th>\n",
       "      <th></th>\n",
       "      <th></th>\n",
       "      <th></th>\n",
       "      <th></th>\n",
       "      <th></th>\n",
       "      <th></th>\n",
       "      <th></th>\n",
       "      <th></th>\n",
       "      <th></th>\n",
       "    </tr>\n",
       "  </thead>\n",
       "  <tbody>\n",
       "    <tr>\n",
       "      <th>2020-08-25 21:00:00</th>\n",
       "      <td>65.21</td>\n",
       "      <td>61.11</td>\n",
       "      <td>65.21</td>\n",
       "      <td>68.11</td>\n",
       "      <td>1012</td>\n",
       "      <td>1011</td>\n",
       "      <td>1010</td>\n",
       "      <td>75</td>\n",
       "      <td>-1.61</td>\n",
       "      <td>803</td>\n",
       "      <td>Clouds</td>\n",
       "      <td>broken clouds</td>\n",
       "      <td>04d</td>\n",
       "    </tr>\n",
       "    <tr>\n",
       "      <th>2020-08-26 00:00:00</th>\n",
       "      <td>64.58</td>\n",
       "      <td>60.44</td>\n",
       "      <td>64.58</td>\n",
       "      <td>65.16</td>\n",
       "      <td>1010</td>\n",
       "      <td>1010</td>\n",
       "      <td>1008</td>\n",
       "      <td>77</td>\n",
       "      <td>-0.32</td>\n",
       "      <td>802</td>\n",
       "      <td>Clouds</td>\n",
       "      <td>scattered clouds</td>\n",
       "      <td>03d</td>\n",
       "    </tr>\n",
       "    <tr>\n",
       "      <th>2020-08-26 03:00:00</th>\n",
       "      <td>62.42</td>\n",
       "      <td>59.85</td>\n",
       "      <td>62.42</td>\n",
       "      <td>62.42</td>\n",
       "      <td>1010</td>\n",
       "      <td>1010</td>\n",
       "      <td>1008</td>\n",
       "      <td>79</td>\n",
       "      <td>0.00</td>\n",
       "      <td>800</td>\n",
       "      <td>Clear</td>\n",
       "      <td>clear sky</td>\n",
       "      <td>01n</td>\n",
       "    </tr>\n",
       "    <tr>\n",
       "      <th>2020-08-26 06:00:00</th>\n",
       "      <td>61.41</td>\n",
       "      <td>58.37</td>\n",
       "      <td>61.41</td>\n",
       "      <td>61.41</td>\n",
       "      <td>1011</td>\n",
       "      <td>1011</td>\n",
       "      <td>1009</td>\n",
       "      <td>77</td>\n",
       "      <td>0.00</td>\n",
       "      <td>800</td>\n",
       "      <td>Clear</td>\n",
       "      <td>clear sky</td>\n",
       "      <td>01n</td>\n",
       "    </tr>\n",
       "    <tr>\n",
       "      <th>2020-08-26 09:00:00</th>\n",
       "      <td>59.14</td>\n",
       "      <td>56.32</td>\n",
       "      <td>59.14</td>\n",
       "      <td>59.14</td>\n",
       "      <td>1010</td>\n",
       "      <td>1010</td>\n",
       "      <td>1009</td>\n",
       "      <td>82</td>\n",
       "      <td>0.00</td>\n",
       "      <td>800</td>\n",
       "      <td>Clear</td>\n",
       "      <td>clear sky</td>\n",
       "      <td>01n</td>\n",
       "    </tr>\n",
       "  </tbody>\n",
       "</table>\n",
       "</div>"
      ],
      "text/plain": [
       "                      temp  feels_like  temp_min  temp_max  pressure  \\\n",
       "date                                                                   \n",
       "2020-08-25 21:00:00  65.21       61.11     65.21     68.11      1012   \n",
       "2020-08-26 00:00:00  64.58       60.44     64.58     65.16      1010   \n",
       "2020-08-26 03:00:00  62.42       59.85     62.42     62.42      1010   \n",
       "2020-08-26 06:00:00  61.41       58.37     61.41     61.41      1011   \n",
       "2020-08-26 09:00:00  59.14       56.32     59.14     59.14      1010   \n",
       "\n",
       "                     sea_level  grnd_level  humidity  temp_kf   id    main  \\\n",
       "date                                                                         \n",
       "2020-08-25 21:00:00       1011        1010        75    -1.61  803  Clouds   \n",
       "2020-08-26 00:00:00       1010        1008        77    -0.32  802  Clouds   \n",
       "2020-08-26 03:00:00       1010        1008        79     0.00  800   Clear   \n",
       "2020-08-26 06:00:00       1011        1009        77     0.00  800   Clear   \n",
       "2020-08-26 09:00:00       1010        1009        82     0.00  800   Clear   \n",
       "\n",
       "                          description icon  \n",
       "date                                        \n",
       "2020-08-25 21:00:00     broken clouds  04d  \n",
       "2020-08-26 00:00:00  scattered clouds  03d  \n",
       "2020-08-26 03:00:00         clear sky  01n  \n",
       "2020-08-26 06:00:00         clear sky  01n  \n",
       "2020-08-26 09:00:00         clear sky  01n  "
      ]
     },
     "execution_count": 131,
     "metadata": {},
     "output_type": "execute_result"
    }
   ],
   "source": [
    "weather['date'] = pd.to_datetime(weather['date'])\n",
    "weather.set_index('date', inplace=True)\n",
    "weather.head()"
   ]
  },
  {
   "cell_type": "code",
   "execution_count": 132,
   "metadata": {},
   "outputs": [
    {
     "name": "stdout",
     "output_type": "stream",
     "text": [
      "<class 'pandas.core.frame.DataFrame'>\n",
      "DatetimeIndex: 40 entries, 2020-08-25 21:00:00 to 2020-08-30 18:00:00\n",
      "Data columns (total 13 columns):\n",
      " #   Column       Non-Null Count  Dtype  \n",
      "---  ------       --------------  -----  \n",
      " 0   temp         40 non-null     float64\n",
      " 1   feels_like   40 non-null     float64\n",
      " 2   temp_min     40 non-null     float64\n",
      " 3   temp_max     40 non-null     float64\n",
      " 4   pressure     40 non-null     int64  \n",
      " 5   sea_level    40 non-null     int64  \n",
      " 6   grnd_level   40 non-null     int64  \n",
      " 7   humidity     40 non-null     int64  \n",
      " 8   temp_kf      40 non-null     float64\n",
      " 9   id           40 non-null     int64  \n",
      " 10  main         40 non-null     object \n",
      " 11  description  40 non-null     object \n",
      " 12  icon         40 non-null     object \n",
      "dtypes: float64(5), int64(5), object(3)\n",
      "memory usage: 4.4+ KB\n"
     ]
    }
   ],
   "source": [
    "weather.info()"
   ]
  },
  {
   "cell_type": "markdown",
   "metadata": {},
   "source": [
    "## Writing csv data"
   ]
  },
  {
   "cell_type": "code",
   "execution_count": 133,
   "metadata": {},
   "outputs": [],
   "source": [
    "weather.to_csv('./data/weather.csv')"
   ]
  },
  {
   "cell_type": "code",
   "execution_count": 134,
   "metadata": {},
   "outputs": [
    {
     "name": "stdout",
     "output_type": "stream",
     "text": [
      "date,temp,feels_like,temp_min,temp_max,pressure,sea_level,grnd_level,humidity,temp_kf,id,main,description,icon\r\n",
      "2020-08-25 21:00:00,65.21,61.11,65.21,68.11,1012,1011,1010,75,-1.61,803,Clouds,broken clouds,04d\r\n",
      "2020-08-26 00:00:00,64.58,60.44,64.58,65.16,1010,1010,1008,77,-0.32,802,Clouds,scattered clouds,03d\r\n",
      "2020-08-26 03:00:00,62.42,59.85,62.42,62.42,1010,1010,1008,79,0.0,800,Clear,clear sky,01n\r\n",
      "2020-08-26 06:00:00,61.41,58.37,61.41,61.41,1011,1011,1009,77,0.0,800,Clear,clear sky,01n\r\n",
      "2020-08-26 09:00:00,59.14,56.32,59.14,59.14,1010,1010,1009,82,0.0,800,Clear,clear sky,01n\r\n",
      "2020-08-26 12:00:00,58.17,55.71,58.17,58.17,1010,1010,1009,84,0.0,800,Clear,clear sky,01n\r\n",
      "2020-08-26 15:00:00,59.36,57.25,59.36,59.36,1011,1011,1010,80,0.0,800,Clear,clear sky,01d\r\n",
      "2020-08-26 18:00:00,64.4,60.76,64.4,64.4,1011,1011,1010,64,0.0,800,Clear,clear sky,01d\r\n",
      "2020-08-26 21:00:00,64.8,58.75,64.8,64.8,1010,1010,1009,63,0.0,800,Clear,clear sky,01d\r\n"
     ]
    }
   ],
   "source": [
    "!head data/weather.csv"
   ]
  },
  {
   "cell_type": "markdown",
   "metadata": {},
   "source": [
    "JSON lines?"
   ]
  },
  {
   "cell_type": "code",
   "execution_count": 135,
   "metadata": {},
   "outputs": [
    {
     "data": {
      "text/html": [
       "<div>\n",
       "<style scoped>\n",
       "    .dataframe tbody tr th:only-of-type {\n",
       "        vertical-align: middle;\n",
       "    }\n",
       "\n",
       "    .dataframe tbody tr th {\n",
       "        vertical-align: top;\n",
       "    }\n",
       "\n",
       "    .dataframe thead th {\n",
       "        text-align: right;\n",
       "    }\n",
       "</style>\n",
       "<table border=\"1\" class=\"dataframe\">\n",
       "  <thead>\n",
       "    <tr style=\"text-align: right;\">\n",
       "      <th></th>\n",
       "      <th>temp</th>\n",
       "      <th>feels_like</th>\n",
       "      <th>temp_min</th>\n",
       "      <th>temp_max</th>\n",
       "      <th>pressure</th>\n",
       "      <th>sea_level</th>\n",
       "      <th>grnd_level</th>\n",
       "      <th>humidity</th>\n",
       "      <th>temp_kf</th>\n",
       "      <th>id</th>\n",
       "      <th>main</th>\n",
       "      <th>description</th>\n",
       "      <th>icon</th>\n",
       "    </tr>\n",
       "    <tr>\n",
       "      <th>date</th>\n",
       "      <th></th>\n",
       "      <th></th>\n",
       "      <th></th>\n",
       "      <th></th>\n",
       "      <th></th>\n",
       "      <th></th>\n",
       "      <th></th>\n",
       "      <th></th>\n",
       "      <th></th>\n",
       "      <th></th>\n",
       "      <th></th>\n",
       "      <th></th>\n",
       "      <th></th>\n",
       "    </tr>\n",
       "  </thead>\n",
       "  <tbody>\n",
       "    <tr>\n",
       "      <th>2020-08-25 21:00:00</th>\n",
       "      <td>65.21</td>\n",
       "      <td>61.11</td>\n",
       "      <td>65.21</td>\n",
       "      <td>68.11</td>\n",
       "      <td>1012</td>\n",
       "      <td>1011</td>\n",
       "      <td>1010</td>\n",
       "      <td>75</td>\n",
       "      <td>-1.61</td>\n",
       "      <td>803</td>\n",
       "      <td>Clouds</td>\n",
       "      <td>broken clouds</td>\n",
       "      <td>04d</td>\n",
       "    </tr>\n",
       "    <tr>\n",
       "      <th>2020-08-26 00:00:00</th>\n",
       "      <td>64.58</td>\n",
       "      <td>60.44</td>\n",
       "      <td>64.58</td>\n",
       "      <td>65.16</td>\n",
       "      <td>1010</td>\n",
       "      <td>1010</td>\n",
       "      <td>1008</td>\n",
       "      <td>77</td>\n",
       "      <td>-0.32</td>\n",
       "      <td>802</td>\n",
       "      <td>Clouds</td>\n",
       "      <td>scattered clouds</td>\n",
       "      <td>03d</td>\n",
       "    </tr>\n",
       "    <tr>\n",
       "      <th>2020-08-26 03:00:00</th>\n",
       "      <td>62.42</td>\n",
       "      <td>59.85</td>\n",
       "      <td>62.42</td>\n",
       "      <td>62.42</td>\n",
       "      <td>1010</td>\n",
       "      <td>1010</td>\n",
       "      <td>1008</td>\n",
       "      <td>79</td>\n",
       "      <td>0.00</td>\n",
       "      <td>800</td>\n",
       "      <td>Clear</td>\n",
       "      <td>clear sky</td>\n",
       "      <td>01n</td>\n",
       "    </tr>\n",
       "    <tr>\n",
       "      <th>2020-08-26 06:00:00</th>\n",
       "      <td>61.41</td>\n",
       "      <td>58.37</td>\n",
       "      <td>61.41</td>\n",
       "      <td>61.41</td>\n",
       "      <td>1011</td>\n",
       "      <td>1011</td>\n",
       "      <td>1009</td>\n",
       "      <td>77</td>\n",
       "      <td>0.00</td>\n",
       "      <td>800</td>\n",
       "      <td>Clear</td>\n",
       "      <td>clear sky</td>\n",
       "      <td>01n</td>\n",
       "    </tr>\n",
       "    <tr>\n",
       "      <th>2020-08-26 09:00:00</th>\n",
       "      <td>59.14</td>\n",
       "      <td>56.32</td>\n",
       "      <td>59.14</td>\n",
       "      <td>59.14</td>\n",
       "      <td>1010</td>\n",
       "      <td>1010</td>\n",
       "      <td>1009</td>\n",
       "      <td>82</td>\n",
       "      <td>0.00</td>\n",
       "      <td>800</td>\n",
       "      <td>Clear</td>\n",
       "      <td>clear sky</td>\n",
       "      <td>01n</td>\n",
       "    </tr>\n",
       "  </tbody>\n",
       "</table>\n",
       "</div>"
      ],
      "text/plain": [
       "                      temp  feels_like  temp_min  temp_max  pressure  \\\n",
       "date                                                                   \n",
       "2020-08-25 21:00:00  65.21       61.11     65.21     68.11      1012   \n",
       "2020-08-26 00:00:00  64.58       60.44     64.58     65.16      1010   \n",
       "2020-08-26 03:00:00  62.42       59.85     62.42     62.42      1010   \n",
       "2020-08-26 06:00:00  61.41       58.37     61.41     61.41      1011   \n",
       "2020-08-26 09:00:00  59.14       56.32     59.14     59.14      1010   \n",
       "\n",
       "                     sea_level  grnd_level  humidity  temp_kf   id    main  \\\n",
       "date                                                                         \n",
       "2020-08-25 21:00:00       1011        1010        75    -1.61  803  Clouds   \n",
       "2020-08-26 00:00:00       1010        1008        77    -0.32  802  Clouds   \n",
       "2020-08-26 03:00:00       1010        1008        79     0.00  800   Clear   \n",
       "2020-08-26 06:00:00       1011        1009        77     0.00  800   Clear   \n",
       "2020-08-26 09:00:00       1010        1009        82     0.00  800   Clear   \n",
       "\n",
       "                          description icon  \n",
       "date                                        \n",
       "2020-08-25 21:00:00     broken clouds  04d  \n",
       "2020-08-26 00:00:00  scattered clouds  03d  \n",
       "2020-08-26 03:00:00         clear sky  01n  \n",
       "2020-08-26 06:00:00         clear sky  01n  \n",
       "2020-08-26 09:00:00         clear sky  01n  "
      ]
     },
     "execution_count": 135,
     "metadata": {},
     "output_type": "execute_result"
    }
   ],
   "source": [
    "weather.head()"
   ]
  },
  {
   "cell_type": "code",
   "execution_count": 136,
   "metadata": {},
   "outputs": [],
   "source": [
    "weather.to_json('./data/weather.jsonlines', orient='records', lines=True)"
   ]
  },
  {
   "cell_type": "code",
   "execution_count": 137,
   "metadata": {},
   "outputs": [
    {
     "name": "stdout",
     "output_type": "stream",
     "text": [
      "{\"temp\":65.21,\"feels_like\":61.11,\"temp_min\":65.21,\"temp_max\":68.11,\"pressure\":1012,\"sea_level\":1011,\"grnd_level\":1010,\"humidity\":75,\"temp_kf\":-1.61,\"id\":803,\"main\":\"Clouds\",\"description\":\"broken clouds\",\"icon\":\"04d\"}\r\n",
      "{\"temp\":64.58,\"feels_like\":60.44,\"temp_min\":64.58,\"temp_max\":65.16,\"pressure\":1010,\"sea_level\":1010,\"grnd_level\":1008,\"humidity\":77,\"temp_kf\":-0.32,\"id\":802,\"main\":\"Clouds\",\"description\":\"scattered clouds\",\"icon\":\"03d\"}\r\n",
      "{\"temp\":62.42,\"feels_like\":59.85,\"temp_min\":62.42,\"temp_max\":62.42,\"pressure\":1010,\"sea_level\":1010,\"grnd_level\":1008,\"humidity\":79,\"temp_kf\":0.0,\"id\":800,\"main\":\"Clear\",\"description\":\"clear sky\",\"icon\":\"01n\"}\r\n",
      "{\"temp\":61.41,\"feels_like\":58.37,\"temp_min\":61.41,\"temp_max\":61.41,\"pressure\":1011,\"sea_level\":1011,\"grnd_level\":1009,\"humidity\":77,\"temp_kf\":0.0,\"id\":800,\"main\":\"Clear\",\"description\":\"clear sky\",\"icon\":\"01n\"}\r\n",
      "{\"temp\":59.14,\"feels_like\":56.32,\"temp_min\":59.14,\"temp_max\":59.14,\"pressure\":1010,\"sea_level\":1010,\"grnd_level\":1009,\"humidity\":82,\"temp_kf\":0.0,\"id\":800,\"main\":\"Clear\",\"description\":\"clear sky\",\"icon\":\"01n\"}\r\n",
      "{\"temp\":58.17,\"feels_like\":55.71,\"temp_min\":58.17,\"temp_max\":58.17,\"pressure\":1010,\"sea_level\":1010,\"grnd_level\":1009,\"humidity\":84,\"temp_kf\":0.0,\"id\":800,\"main\":\"Clear\",\"description\":\"clear sky\",\"icon\":\"01n\"}\r\n",
      "{\"temp\":59.36,\"feels_like\":57.25,\"temp_min\":59.36,\"temp_max\":59.36,\"pressure\":1011,\"sea_level\":1011,\"grnd_level\":1010,\"humidity\":80,\"temp_kf\":0.0,\"id\":800,\"main\":\"Clear\",\"description\":\"clear sky\",\"icon\":\"01d\"}\r\n",
      "{\"temp\":64.4,\"feels_like\":60.76,\"temp_min\":64.4,\"temp_max\":64.4,\"pressure\":1011,\"sea_level\":1011,\"grnd_level\":1010,\"humidity\":64,\"temp_kf\":0.0,\"id\":800,\"main\":\"Clear\",\"description\":\"clear sky\",\"icon\":\"01d\"}\r\n",
      "{\"temp\":64.8,\"feels_like\":58.75,\"temp_min\":64.8,\"temp_max\":64.8,\"pressure\":1010,\"sea_level\":1010,\"grnd_level\":1009,\"humidity\":63,\"temp_kf\":0.0,\"id\":800,\"main\":\"Clear\",\"description\":\"clear sky\",\"icon\":\"01d\"}\r\n",
      "{\"temp\":61.9,\"feels_like\":54.93,\"temp_min\":61.9,\"temp_max\":61.9,\"pressure\":1009,\"sea_level\":1009,\"grnd_level\":1007,\"humidity\":71,\"temp_kf\":0.0,\"id\":800,\"main\":\"Clear\",\"description\":\"clear sky\",\"icon\":\"01d\"}\r\n",
      "{\"temp\":57.47,\"feels_like\":52.03,\"temp_min\":57.47,\"temp_max\":57.47,\"pressure\":1009,\"sea_level\":1009,\"grnd_level\":1007,\"humidity\":85,\"temp_kf\":0.0,\"id\":800,\"main\":\"Clear\",\"description\":\"clear sky\",\"icon\":\"01n\"}\r\n",
      "{\"temp\":56.95,\"feels_like\":52.18,\"temp_min\":56.95,\"temp_max\":56.95,\"pressure\":1010,\"sea_level\":1010,\"grnd_level\":1008,\"humidity\":87,\"temp_kf\":0.0,\"id\":801,\"main\":\"Clouds\",\"description\":\"few clouds\",\"icon\":\"02n\"}\r\n",
      "{\"temp\":57.09,\"feels_like\":52.92,\"temp_min\":57.09,\"temp_max\":57.09,\"pressure\":1009,\"sea_level\":1009,\"grnd_level\":1008,\"humidity\":87,\"temp_kf\":0.0,\"id\":802,\"main\":\"Clouds\",\"description\":\"scattered clouds\",\"icon\":\"03n\"}\r\n",
      "{\"temp\":56.19,\"feels_like\":53.37,\"temp_min\":56.19,\"temp_max\":56.19,\"pressure\":1008,\"sea_level\":1008,\"grnd_level\":1007,\"humidity\":89,\"temp_kf\":0.0,\"id\":803,\"main\":\"Clouds\",\"description\":\"broken clouds\",\"icon\":\"04n\"}\r\n",
      "{\"temp\":57.36,\"feels_like\":55.15,\"temp_min\":57.36,\"temp_max\":57.36,\"pressure\":1009,\"sea_level\":1009,\"grnd_level\":1008,\"humidity\":85,\"temp_kf\":0.0,\"id\":803,\"main\":\"Clouds\",\"description\":\"broken clouds\",\"icon\":\"04d\"}\r\n",
      "{\"temp\":63.66,\"feels_like\":61.39,\"temp_min\":63.66,\"temp_max\":63.66,\"pressure\":1009,\"sea_level\":1009,\"grnd_level\":1007,\"humidity\":67,\"temp_kf\":0.0,\"id\":802,\"main\":\"Clouds\",\"description\":\"scattered clouds\",\"icon\":\"03d\"}\r\n",
      "{\"temp\":66.61,\"feels_like\":63.14,\"temp_min\":66.61,\"temp_max\":66.61,\"pressure\":1007,\"sea_level\":1007,\"grnd_level\":1006,\"humidity\":61,\"temp_kf\":0.0,\"id\":801,\"main\":\"Clouds\",\"description\":\"few clouds\",\"icon\":\"02d\"}\r\n",
      "{\"temp\":66.79,\"feels_like\":62.74,\"temp_min\":66.79,\"temp_max\":66.79,\"pressure\":1006,\"sea_level\":1006,\"grnd_level\":1005,\"humidity\":60,\"temp_kf\":0.0,\"id\":801,\"main\":\"Clouds\",\"description\":\"few clouds\",\"icon\":\"02d\"}\r\n",
      "{\"temp\":61.99,\"feels_like\":59.07,\"temp_min\":61.99,\"temp_max\":61.99,\"pressure\":1006,\"sea_level\":1006,\"grnd_level\":1005,\"humidity\":71,\"temp_kf\":0.0,\"id\":800,\"main\":\"Clear\",\"description\":\"clear sky\",\"icon\":\"01n\"}\r\n",
      "{\"temp\":61.32,\"feels_like\":59.16,\"temp_min\":61.32,\"temp_max\":61.32,\"pressure\":1007,\"sea_level\":1007,\"grnd_level\":1006,\"humidity\":69,\"temp_kf\":0.0,\"id\":800,\"main\":\"Clear\",\"description\":\"clear sky\",\"icon\":\"01n\"}\r\n",
      "{\"temp\":60.13,\"feels_like\":58.19,\"temp_min\":60.13,\"temp_max\":60.13,\"pressure\":1006,\"sea_level\":1006,\"grnd_level\":1005,\"humidity\":73,\"temp_kf\":0.0,\"id\":800,\"main\":\"Clear\",\"description\":\"clear sky\",\"icon\":\"01n\"}\r\n",
      "{\"temp\":59.68,\"feels_like\":58.1,\"temp_min\":59.68,\"temp_max\":59.68,\"pressure\":1006,\"sea_level\":1006,\"grnd_level\":1005,\"humidity\":74,\"temp_kf\":0.0,\"id\":800,\"main\":\"Clear\",\"description\":\"clear sky\",\"icon\":\"01n\"}\r\n",
      "{\"temp\":61.77,\"feels_like\":60.73,\"temp_min\":61.77,\"temp_max\":61.77,\"pressure\":1008,\"sea_level\":1008,\"grnd_level\":1007,\"humidity\":69,\"temp_kf\":0.0,\"id\":800,\"main\":\"Clear\",\"description\":\"clear sky\",\"icon\":\"01d\"}\r\n",
      "{\"temp\":68.99,\"feels_like\":66.7,\"temp_min\":68.99,\"temp_max\":68.99,\"pressure\":1008,\"sea_level\":1008,\"grnd_level\":1007,\"humidity\":53,\"temp_kf\":0.0,\"id\":800,\"main\":\"Clear\",\"description\":\"clear sky\",\"icon\":\"01d\"}\r\n",
      "{\"temp\":72.0,\"feels_like\":67.62,\"temp_min\":72.0,\"temp_max\":72.0,\"pressure\":1007,\"sea_level\":1007,\"grnd_level\":1006,\"humidity\":49,\"temp_kf\":0.0,\"id\":800,\"main\":\"Clear\",\"description\":\"clear sky\",\"icon\":\"01d\"}\r\n",
      "{\"temp\":67.96,\"feels_like\":61.86,\"temp_min\":67.96,\"temp_max\":67.96,\"pressure\":1006,\"sea_level\":1006,\"grnd_level\":1005,\"humidity\":56,\"temp_kf\":0.0,\"id\":800,\"main\":\"Clear\",\"description\":\"clear sky\",\"icon\":\"01d\"}\r\n",
      "{\"temp\":63.91,\"feels_like\":60.94,\"temp_min\":63.91,\"temp_max\":63.91,\"pressure\":1007,\"sea_level\":1007,\"grnd_level\":1006,\"humidity\":66,\"temp_kf\":0.0,\"id\":800,\"main\":\"Clear\",\"description\":\"clear sky\",\"icon\":\"01n\"}\r\n",
      "{\"temp\":62.46,\"feels_like\":59.88,\"temp_min\":62.46,\"temp_max\":62.46,\"pressure\":1008,\"sea_level\":1008,\"grnd_level\":1007,\"humidity\":71,\"temp_kf\":0.0,\"id\":800,\"main\":\"Clear\",\"description\":\"clear sky\",\"icon\":\"01n\"}\r\n",
      "{\"temp\":61.16,\"feels_like\":58.55,\"temp_min\":61.16,\"temp_max\":61.16,\"pressure\":1007,\"sea_level\":1007,\"grnd_level\":1006,\"humidity\":76,\"temp_kf\":0.0,\"id\":800,\"main\":\"Clear\",\"description\":\"clear sky\",\"icon\":\"01n\"}\r\n",
      "{\"temp\":59.81,\"feels_like\":57.99,\"temp_min\":59.81,\"temp_max\":59.81,\"pressure\":1008,\"sea_level\":1008,\"grnd_level\":1006,\"humidity\":81,\"temp_kf\":0.0,\"id\":800,\"main\":\"Clear\",\"description\":\"clear sky\",\"icon\":\"01n\"}\r\n",
      "{\"temp\":61.21,\"feels_like\":60.13,\"temp_min\":61.21,\"temp_max\":61.21,\"pressure\":1009,\"sea_level\":1009,\"grnd_level\":1007,\"humidity\":77,\"temp_kf\":0.0,\"id\":800,\"main\":\"Clear\",\"description\":\"clear sky\",\"icon\":\"01d\"}\r\n",
      "{\"temp\":66.76,\"feels_like\":63.77,\"temp_min\":66.76,\"temp_max\":66.76,\"pressure\":1009,\"sea_level\":1009,\"grnd_level\":1007,\"humidity\":60,\"temp_kf\":0.0,\"id\":800,\"main\":\"Clear\",\"description\":\"clear sky\",\"icon\":\"01d\"}\r\n",
      "{\"temp\":68.56,\"feels_like\":63.27,\"temp_min\":68.56,\"temp_max\":68.56,\"pressure\":1007,\"sea_level\":1007,\"grnd_level\":1006,\"humidity\":57,\"temp_kf\":0.0,\"id\":800,\"main\":\"Clear\",\"description\":\"clear sky\",\"icon\":\"01d\"}\r\n",
      "{\"temp\":66.83,\"feels_like\":60.51,\"temp_min\":66.83,\"temp_max\":66.83,\"pressure\":1006,\"sea_level\":1006,\"grnd_level\":1005,\"humidity\":59,\"temp_kf\":0.0,\"id\":800,\"main\":\"Clear\",\"description\":\"clear sky\",\"icon\":\"01d\"}\r\n",
      "{\"temp\":62.31,\"feels_like\":58.96,\"temp_min\":62.31,\"temp_max\":62.31,\"pressure\":1007,\"sea_level\":1007,\"grnd_level\":1005,\"humidity\":69,\"temp_kf\":0.0,\"id\":800,\"main\":\"Clear\",\"description\":\"clear sky\",\"icon\":\"01n\"}\r\n",
      "{\"temp\":60.57,\"feels_like\":57.38,\"temp_min\":60.57,\"temp_max\":60.57,\"pressure\":1007,\"sea_level\":1007,\"grnd_level\":1006,\"humidity\":73,\"temp_kf\":0.0,\"id\":800,\"main\":\"Clear\",\"description\":\"clear sky\",\"icon\":\"01n\"}\r\n",
      "{\"temp\":58.78,\"feels_like\":55.92,\"temp_min\":58.78,\"temp_max\":58.78,\"pressure\":1006,\"sea_level\":1006,\"grnd_level\":1005,\"humidity\":80,\"temp_kf\":0.0,\"id\":800,\"main\":\"Clear\",\"description\":\"clear sky\",\"icon\":\"01n\"}\r\n",
      "{\"temp\":58.14,\"feels_like\":56.16,\"temp_min\":58.14,\"temp_max\":58.14,\"pressure\":1006,\"sea_level\":1006,\"grnd_level\":1005,\"humidity\":82,\"temp_kf\":0.0,\"id\":800,\"main\":\"Clear\",\"description\":\"clear sky\",\"icon\":\"01n\"}\r\n",
      "{\"temp\":59.9,\"feels_like\":58.17,\"temp_min\":59.9,\"temp_max\":59.9,\"pressure\":1007,\"sea_level\":1007,\"grnd_level\":1006,\"humidity\":77,\"temp_kf\":0.0,\"id\":800,\"main\":\"Clear\",\"description\":\"clear sky\",\"icon\":\"01d\"}\r\n",
      "{\"temp\":66.42,\"feels_like\":62.91,\"temp_min\":66.42,\"temp_max\":66.42,\"pressure\":1007,\"sea_level\":1007,\"grnd_level\":1006,\"humidity\":57,\"temp_kf\":0.0,\"id\":800,\"main\":\"Clear\",\"description\":\"clear sky\",\"icon\":\"01d\"}"
     ]
    }
   ],
   "source": [
    "!cat data/weather.jsonlines"
   ]
  },
  {
   "cell_type": "code",
   "execution_count": 138,
   "metadata": {
    "scrolled": true
   },
   "outputs": [],
   "source": [
    "df = pd.read_json('./data/weather.jsonlines', lines=True)"
   ]
  },
  {
   "cell_type": "code",
   "execution_count": 139,
   "metadata": {},
   "outputs": [
    {
     "name": "stdout",
     "output_type": "stream",
     "text": [
      "<class 'pandas.core.frame.DataFrame'>\n",
      "RangeIndex: 40 entries, 0 to 39\n",
      "Data columns (total 13 columns):\n",
      " #   Column       Non-Null Count  Dtype  \n",
      "---  ------       --------------  -----  \n",
      " 0   temp         40 non-null     float64\n",
      " 1   feels_like   40 non-null     float64\n",
      " 2   temp_min     40 non-null     float64\n",
      " 3   temp_max     40 non-null     float64\n",
      " 4   pressure     40 non-null     int64  \n",
      " 5   sea_level    40 non-null     int64  \n",
      " 6   grnd_level   40 non-null     int64  \n",
      " 7   humidity     40 non-null     int64  \n",
      " 8   temp_kf      40 non-null     float64\n",
      " 9   id           40 non-null     int64  \n",
      " 10  main         40 non-null     object \n",
      " 11  description  40 non-null     object \n",
      " 12  icon         40 non-null     object \n",
      "dtypes: float64(5), int64(5), object(3)\n",
      "memory usage: 4.2+ KB\n"
     ]
    }
   ],
   "source": [
    "df.info()"
   ]
  },
  {
   "cell_type": "code",
   "execution_count": 140,
   "metadata": {},
   "outputs": [
    {
     "name": "stdout",
     "output_type": "stream",
     "text": [
      "<class 'pandas.core.frame.DataFrame'>\n",
      "DatetimeIndex: 40 entries, 2020-08-25 21:00:00 to 2020-08-30 18:00:00\n",
      "Data columns (total 13 columns):\n",
      " #   Column       Non-Null Count  Dtype  \n",
      "---  ------       --------------  -----  \n",
      " 0   temp         40 non-null     float64\n",
      " 1   feels_like   40 non-null     float64\n",
      " 2   temp_min     40 non-null     float64\n",
      " 3   temp_max     40 non-null     float64\n",
      " 4   pressure     40 non-null     int64  \n",
      " 5   sea_level    40 non-null     int64  \n",
      " 6   grnd_level   40 non-null     int64  \n",
      " 7   humidity     40 non-null     int64  \n",
      " 8   temp_kf      40 non-null     float64\n",
      " 9   id           40 non-null     int64  \n",
      " 10  main         40 non-null     object \n",
      " 11  description  40 non-null     object \n",
      " 12  icon         40 non-null     object \n",
      "dtypes: float64(5), int64(5), object(3)\n",
      "memory usage: 5.6+ KB\n"
     ]
    }
   ],
   "source": [
    "weather.info()"
   ]
  },
  {
   "cell_type": "markdown",
   "metadata": {},
   "source": [
    "Open the [Pandas IO Lab][pandas-io-lab]\n",
    "\n",
    "[pandas-io-lab]: ./pandas-io-lab.ipynb"
   ]
  }
 ],
 "metadata": {
  "kernelspec": {
   "display_name": "Python 3",
   "language": "python",
   "name": "python3"
  },
  "language_info": {
   "codemirror_mode": {
    "name": "ipython",
    "version": 3
   },
   "file_extension": ".py",
   "mimetype": "text/x-python",
   "name": "python",
   "nbconvert_exporter": "python",
   "pygments_lexer": "ipython3",
   "version": "3.8.5"
  }
 },
 "nbformat": 4,
 "nbformat_minor": 2
}
